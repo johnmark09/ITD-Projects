{
 "cells": [
  {
   "cell_type": "code",
   "execution_count": 19,
   "id": "e021e2d5-a91e-4a1b-b5cc-c8c1650b3290",
   "metadata": {},
   "outputs": [],
   "source": [
    "import seaborn as sns\n",
    "import numpy as np\n",
    "import pandas as pd\n",
    "import matplotlib.pyplot as plt \n",
    "import warnings\n",
    "warnings.filterwarnings('ignore')"
   ]
  },
  {
   "cell_type": "code",
   "execution_count": 20,
   "id": "7c450fed-31df-4c20-b289-ca165f5d8ee5",
   "metadata": {},
   "outputs": [],
   "source": [
    "crimes_df = pd.read_csv('datasets//Chicago_Crimes.csv')"
   ]
  },
  {
   "cell_type": "code",
   "execution_count": 21,
   "id": "eeb0785d-7f87-4eaf-8456-0534d5115c19",
   "metadata": {},
   "outputs": [],
   "source": [
    "crimes_df['Date'] = pd.to_datetime(crimes['Date'], dayfirst = True, errors = 'coerce')"
   ]
  },
  {
   "cell_type": "code",
   "execution_count": 22,
   "id": "211e4b96-313c-44ac-ba13-c60b87a47100",
   "metadata": {},
   "outputs": [],
   "source": [
    "crimes_df['Year'] = crimes['Date'].dt.year"
   ]
  },
  {
   "cell_type": "markdown",
   "id": "5dd1c8c3-67a3-4c64-9097-627bcfa65342",
   "metadata": {},
   "source": [
    "<h1 style=\"background-color: blue; padding: 10px; border-radius: 15px; color:white;\"> MOTORCYCLE THEFT </h1>\n",
    "<h3 style=\"background-color: blue; padding: 10px; border-radius: 15px; color:white;\"> 2004 - 2025 </h3>\n",
    "<hr>"
   ]
  },
  {
   "cell_type": "code",
   "execution_count": 23,
   "id": "aa9d8c6a-2506-4b67-93bb-4f6db885d338",
   "metadata": {},
   "outputs": [
    {
     "data": {
      "text/plain": [
       "array(['THEFT', 'OTHER OFFENSE', 'MOTOR VEHICLE THEFT',\n",
       "       'WEAPONS VIOLATION', 'BATTERY', 'ASSAULT',\n",
       "       'CRIMINAL SEXUAL ASSAULT', 'CRIMINAL TRESPASS', 'CRIMINAL DAMAGE',\n",
       "       'DECEPTIVE PRACTICE', 'SEX OFFENSE', 'ROBBERY', 'NARCOTICS',\n",
       "       'HOMICIDE', 'INTERFERENCE WITH PUBLIC OFFICER', 'BURGLARY',\n",
       "       'ARSON', 'OFFENSE INVOLVING CHILDREN', 'INTIMIDATION',\n",
       "       'PUBLIC PEACE VIOLATION', 'CONCEALED CARRY LICENSE VIOLATION',\n",
       "       'KIDNAPPING', 'STALKING', 'LIQUOR LAW VIOLATION', 'PROSTITUTION',\n",
       "       'GAMBLING', 'OBSCENITY', 'PUBLIC INDECENCY', 'HUMAN TRAFFICKING',\n",
       "       'OTHER NARCOTIC VIOLATION', 'NON-CRIMINAL'], dtype=object)"
      ]
     },
     "execution_count": 23,
     "metadata": {},
     "output_type": "execute_result"
    }
   ],
   "source": [
    "crimes_df['Primary Type'].unique()"
   ]
  },
  {
   "cell_type": "code",
   "execution_count": 24,
   "id": "38954382-8281-4275-a348-0dc8bf4808d8",
   "metadata": {},
   "outputs": [],
   "source": [
    "m_theft = crimes_df[crimes_df['Primary Type'] == 'MOTOR VEHICLE THEFT']"
   ]
  },
  {
   "cell_type": "code",
   "execution_count": 25,
   "id": "5515622e-94b4-401c-888a-0c2d906bbb1c",
   "metadata": {},
   "outputs": [
    {
     "data": {
      "text/plain": [
       "Index(['ID', 'Case Number', 'Date', 'Block', 'IUCR', 'Primary Type',\n",
       "       'Description', 'Location Description', 'Arrest', 'Domestic', 'Beat',\n",
       "       'District', 'Ward', 'Community Area', 'FBI Code', 'X Coordinate',\n",
       "       'Y Coordinate', 'Year', 'Updated On', 'Latitude', 'Longitude',\n",
       "       'Location'],\n",
       "      dtype='object')"
      ]
     },
     "execution_count": 25,
     "metadata": {},
     "output_type": "execute_result"
    }
   ],
   "source": [
    "m_theft.columns"
   ]
  },
  {
   "cell_type": "code",
   "execution_count": 26,
   "id": "67a4c36e-0c8b-41ad-b6c9-58322c0799a4",
   "metadata": {},
   "outputs": [
    {
     "data": {
      "text/html": [
       "<div style=\"width:100%;\"><div style=\"position:relative;width:100%;height:0;padding-bottom:60%;\"><span style=\"color:#565656\">Make this Notebook Trusted to load map: File -> Trust Notebook</span><iframe srcdoc=\"&lt;!DOCTYPE html&gt;\n",
       "&lt;html&gt;\n",
       "&lt;head&gt;\n",
       "    \n",
       "    &lt;meta http-equiv=&quot;content-type&quot; content=&quot;text/html; charset=UTF-8&quot; /&gt;\n",
       "    \n",
       "        &lt;script&gt;\n",
       "            L_NO_TOUCH = false;\n",
       "            L_DISABLE_3D = false;\n",
       "        &lt;/script&gt;\n",
       "    \n",
       "    &lt;style&gt;html, body {width: 100%;height: 100%;margin: 0;padding: 0;}&lt;/style&gt;\n",
       "    &lt;style&gt;#map {position:absolute;top:0;bottom:0;right:0;left:0;}&lt;/style&gt;\n",
       "    &lt;script src=&quot;https://cdn.jsdelivr.net/npm/leaflet@1.9.3/dist/leaflet.js&quot;&gt;&lt;/script&gt;\n",
       "    &lt;script src=&quot;https://code.jquery.com/jquery-3.7.1.min.js&quot;&gt;&lt;/script&gt;\n",
       "    &lt;script src=&quot;https://cdn.jsdelivr.net/npm/bootstrap@5.2.2/dist/js/bootstrap.bundle.min.js&quot;&gt;&lt;/script&gt;\n",
       "    &lt;script src=&quot;https://cdnjs.cloudflare.com/ajax/libs/Leaflet.awesome-markers/2.0.2/leaflet.awesome-markers.js&quot;&gt;&lt;/script&gt;\n",
       "    &lt;link rel=&quot;stylesheet&quot; href=&quot;https://cdn.jsdelivr.net/npm/leaflet@1.9.3/dist/leaflet.css&quot;/&gt;\n",
       "    &lt;link rel=&quot;stylesheet&quot; href=&quot;https://cdn.jsdelivr.net/npm/bootstrap@5.2.2/dist/css/bootstrap.min.css&quot;/&gt;\n",
       "    &lt;link rel=&quot;stylesheet&quot; href=&quot;https://netdna.bootstrapcdn.com/bootstrap/3.0.0/css/bootstrap-glyphicons.css&quot;/&gt;\n",
       "    &lt;link rel=&quot;stylesheet&quot; href=&quot;https://cdn.jsdelivr.net/npm/@fortawesome/fontawesome-free@6.2.0/css/all.min.css&quot;/&gt;\n",
       "    &lt;link rel=&quot;stylesheet&quot; href=&quot;https://cdnjs.cloudflare.com/ajax/libs/Leaflet.awesome-markers/2.0.2/leaflet.awesome-markers.css&quot;/&gt;\n",
       "    &lt;link rel=&quot;stylesheet&quot; href=&quot;https://cdn.jsdelivr.net/gh/python-visualization/folium/folium/templates/leaflet.awesome.rotate.min.css&quot;/&gt;\n",
       "    \n",
       "            &lt;meta name=&quot;viewport&quot; content=&quot;width=device-width,\n",
       "                initial-scale=1.0, maximum-scale=1.0, user-scalable=no&quot; /&gt;\n",
       "            &lt;style&gt;\n",
       "                #map_284a91afada87bdff01e7011549653e9 {\n",
       "                    position: relative;\n",
       "                    width: 100.0%;\n",
       "                    height: 100.0%;\n",
       "                    left: 0.0%;\n",
       "                    top: 0.0%;\n",
       "                }\n",
       "                .leaflet-container { font-size: 1rem; }\n",
       "            &lt;/style&gt;\n",
       "        \n",
       "&lt;/head&gt;\n",
       "&lt;body&gt;\n",
       "    \n",
       "    \n",
       "            &lt;div class=&quot;folium-map&quot; id=&quot;map_284a91afada87bdff01e7011549653e9&quot; &gt;&lt;/div&gt;\n",
       "        \n",
       "&lt;/body&gt;\n",
       "&lt;script&gt;\n",
       "    \n",
       "    \n",
       "            var map_284a91afada87bdff01e7011549653e9 = L.map(\n",
       "                &quot;map_284a91afada87bdff01e7011549653e9&quot;,\n",
       "                {\n",
       "                    center: [30.0, 40.0],\n",
       "                    crs: L.CRS.EPSG3857,\n",
       "                    ...{\n",
       "  &quot;zoom&quot;: 4,\n",
       "  &quot;zoomControl&quot;: true,\n",
       "  &quot;preferCanvas&quot;: false,\n",
       "}\n",
       "\n",
       "                }\n",
       "            );\n",
       "\n",
       "            \n",
       "\n",
       "        \n",
       "    \n",
       "            var tile_layer_0a52004c0fdec502c827c1c2243743cd = L.tileLayer(\n",
       "                &quot;https://tile.openstreetmap.org/{z}/{x}/{y}.png&quot;,\n",
       "                {\n",
       "  &quot;minZoom&quot;: 0,\n",
       "  &quot;maxZoom&quot;: 19,\n",
       "  &quot;maxNativeZoom&quot;: 19,\n",
       "  &quot;noWrap&quot;: false,\n",
       "  &quot;attribution&quot;: &quot;\\u0026copy; \\u003ca href=\\&quot;https://www.openstreetmap.org/copyright\\&quot;\\u003eOpenStreetMap\\u003c/a\\u003e contributors&quot;,\n",
       "  &quot;subdomains&quot;: &quot;abc&quot;,\n",
       "  &quot;detectRetina&quot;: false,\n",
       "  &quot;tms&quot;: false,\n",
       "  &quot;opacity&quot;: 1,\n",
       "}\n",
       "\n",
       "            );\n",
       "        \n",
       "    \n",
       "            tile_layer_0a52004c0fdec502c827c1c2243743cd.addTo(map_284a91afada87bdff01e7011549653e9);\n",
       "        \n",
       "    \n",
       "            tile_layer_0a52004c0fdec502c827c1c2243743cd.addTo(map_284a91afada87bdff01e7011549653e9);\n",
       "        \n",
       "&lt;/script&gt;\n",
       "&lt;/html&gt;\" style=\"position:absolute;width:100%;height:100%;left:0;top:0;border:none !important;\" allowfullscreen webkitallowfullscreen mozallowfullscreen></iframe></div></div>"
      ],
      "text/plain": [
       "<folium.folium.Map at 0x1cb665b3ce0>"
      ]
     },
     "execution_count": 26,
     "metadata": {},
     "output_type": "execute_result"
    }
   ],
   "source": [
    "import folium\n",
    "from folium.plugins import HeatMap\n",
    "# Aggregate incidents by location\n",
    "aggregated_df = m_theft.groupby(['Latitude', 'Longitude']).size().reset_index(name='incident_count')\n",
    "\n",
    "# # Normalize weights (optional)\n",
    "aggregated_df['normalized_weight'] = (aggregated_df['incident_count'] - aggregated_df['incident_count'].min()) / \\\n",
    "                                     (aggregated_df['incident_count'].max() - aggregated_df['incident_count'].min())\n",
    "\n",
    "# # Prepare heat_data\n",
    "heat_data = aggregated_df[['Latitude', 'Longitude', 'normalized_weight']].values.tolist()\n",
    "\n",
    "# # Create a base map\n",
    "mapp = folium.Map(location=[30, 40], zoom_start=4)\n",
    "\n",
    "# # Add heatmap layer\n",
    "HeatMap(heat_data).add_to(m)\n",
    "\n",
    "# # Save or display the map\n",
    "mapp.save('terrorism_heatmap.html')\n",
    "mapp"
   ]
  },
  {
   "cell_type": "code",
   "execution_count": 27,
   "id": "b029d320-9109-4d92-ba99-25ad91c1b77d",
   "metadata": {},
   "outputs": [
    {
     "data": {
      "text/html": [
       "<div>\n",
       "<style scoped>\n",
       "    .dataframe tbody tr th:only-of-type {\n",
       "        vertical-align: middle;\n",
       "    }\n",
       "\n",
       "    .dataframe tbody tr th {\n",
       "        vertical-align: top;\n",
       "    }\n",
       "\n",
       "    .dataframe thead th {\n",
       "        text-align: right;\n",
       "    }\n",
       "</style>\n",
       "<table border=\"1\" class=\"dataframe\">\n",
       "  <thead>\n",
       "    <tr style=\"text-align: right;\">\n",
       "      <th></th>\n",
       "      <th>Latitude</th>\n",
       "      <th>Longitude</th>\n",
       "      <th>incident_count</th>\n",
       "      <th>normalized_weight</th>\n",
       "    </tr>\n",
       "  </thead>\n",
       "  <tbody>\n",
       "    <tr>\n",
       "      <th>0</th>\n",
       "      <td>41.644590</td>\n",
       "      <td>-87.615880</td>\n",
       "      <td>2</td>\n",
       "      <td>0.025641</td>\n",
       "    </tr>\n",
       "    <tr>\n",
       "      <th>1</th>\n",
       "      <td>41.644782</td>\n",
       "      <td>-87.541164</td>\n",
       "      <td>1</td>\n",
       "      <td>0.000000</td>\n",
       "    </tr>\n",
       "    <tr>\n",
       "      <th>2</th>\n",
       "      <td>41.645732</td>\n",
       "      <td>-87.542389</td>\n",
       "      <td>1</td>\n",
       "      <td>0.000000</td>\n",
       "    </tr>\n",
       "    <tr>\n",
       "      <th>3</th>\n",
       "      <td>41.645796</td>\n",
       "      <td>-87.542472</td>\n",
       "      <td>5</td>\n",
       "      <td>0.102564</td>\n",
       "    </tr>\n",
       "    <tr>\n",
       "      <th>4</th>\n",
       "      <td>41.646066</td>\n",
       "      <td>-87.616354</td>\n",
       "      <td>1</td>\n",
       "      <td>0.000000</td>\n",
       "    </tr>\n",
       "    <tr>\n",
       "      <th>...</th>\n",
       "      <td>...</td>\n",
       "      <td>...</td>\n",
       "      <td>...</td>\n",
       "      <td>...</td>\n",
       "    </tr>\n",
       "    <tr>\n",
       "      <th>17335</th>\n",
       "      <td>42.022257</td>\n",
       "      <td>-87.669466</td>\n",
       "      <td>1</td>\n",
       "      <td>0.000000</td>\n",
       "    </tr>\n",
       "    <tr>\n",
       "      <th>17336</th>\n",
       "      <td>42.022521</td>\n",
       "      <td>-87.671488</td>\n",
       "      <td>1</td>\n",
       "      <td>0.000000</td>\n",
       "    </tr>\n",
       "    <tr>\n",
       "      <th>17337</th>\n",
       "      <td>42.022525</td>\n",
       "      <td>-87.672272</td>\n",
       "      <td>1</td>\n",
       "      <td>0.000000</td>\n",
       "    </tr>\n",
       "    <tr>\n",
       "      <th>17338</th>\n",
       "      <td>42.022526</td>\n",
       "      <td>-87.672401</td>\n",
       "      <td>1</td>\n",
       "      <td>0.000000</td>\n",
       "    </tr>\n",
       "    <tr>\n",
       "      <th>17339</th>\n",
       "      <td>42.022534</td>\n",
       "      <td>-87.673788</td>\n",
       "      <td>1</td>\n",
       "      <td>0.000000</td>\n",
       "    </tr>\n",
       "  </tbody>\n",
       "</table>\n",
       "<p>17340 rows × 4 columns</p>\n",
       "</div>"
      ],
      "text/plain": [
       "        Latitude  Longitude  incident_count  normalized_weight\n",
       "0      41.644590 -87.615880               2           0.025641\n",
       "1      41.644782 -87.541164               1           0.000000\n",
       "2      41.645732 -87.542389               1           0.000000\n",
       "3      41.645796 -87.542472               5           0.102564\n",
       "4      41.646066 -87.616354               1           0.000000\n",
       "...          ...        ...             ...                ...\n",
       "17335  42.022257 -87.669466               1           0.000000\n",
       "17336  42.022521 -87.671488               1           0.000000\n",
       "17337  42.022525 -87.672272               1           0.000000\n",
       "17338  42.022526 -87.672401               1           0.000000\n",
       "17339  42.022534 -87.673788               1           0.000000\n",
       "\n",
       "[17340 rows x 4 columns]"
      ]
     },
     "execution_count": 27,
     "metadata": {},
     "output_type": "execute_result"
    }
   ],
   "source": [
    "aggregated_df"
   ]
  },
  {
   "cell_type": "markdown",
   "id": "70e89157-d5e1-4197-9121-b03757ee604b",
   "metadata": {},
   "source": [
    "<h1 style=\"background-color: green; padding: 10px; border-radius: 15px; color:white;\">Analysis 1:Drug Arrests in Apartments (2024)</h1>"
   ]
  },
  {
   "cell_type": "code",
   "execution_count": 28,
   "id": "9ff96186-379d-4f52-a5fc-db044afe54e6",
   "metadata": {},
   "outputs": [],
   "source": [
    "import folium\n",
    "from folium.plugins import HeatMap\n",
    "# FILTERING\n",
    "filter1 = crimes[crimes_df['Primary Type'] == 'NARCOTICS']\n",
    "filter2 = filter1[filter1['Arrest'] == True]\n",
    "filter3 = filter2[filter2['Year'] == 2024]\n",
    "filter4 = filter3[filter3['Location Description'] == 'APARTMENT']"
   ]
  },
  {
   "cell_type": "code",
   "execution_count": 29,
   "id": "b9969ac5-9707-4a3d-85dc-1b0387a3c52e",
   "metadata": {},
   "outputs": [],
   "source": [
    "drug_arrested = filter4.groupby(['Longitude', 'Latitude']).size().reset_index(name='Drug Arrests')"
   ]
  },
  {
   "cell_type": "code",
   "execution_count": 30,
   "id": "ba02cdd2-923f-4480-a11a-c7e1258d2230",
   "metadata": {},
   "outputs": [
    {
     "data": {
      "text/html": [
       "<div style=\"width:100%;\"><div style=\"position:relative;width:100%;height:0;padding-bottom:60%;\"><span style=\"color:#565656\">Make this Notebook Trusted to load map: File -> Trust Notebook</span><iframe srcdoc=\"&lt;!DOCTYPE html&gt;\n",
       "&lt;html&gt;\n",
       "&lt;head&gt;\n",
       "    \n",
       "    &lt;meta http-equiv=&quot;content-type&quot; content=&quot;text/html; charset=UTF-8&quot; /&gt;\n",
       "    \n",
       "        &lt;script&gt;\n",
       "            L_NO_TOUCH = false;\n",
       "            L_DISABLE_3D = false;\n",
       "        &lt;/script&gt;\n",
       "    \n",
       "    &lt;style&gt;html, body {width: 100%;height: 100%;margin: 0;padding: 0;}&lt;/style&gt;\n",
       "    &lt;style&gt;#map {position:absolute;top:0;bottom:0;right:0;left:0;}&lt;/style&gt;\n",
       "    &lt;script src=&quot;https://cdn.jsdelivr.net/npm/leaflet@1.9.3/dist/leaflet.js&quot;&gt;&lt;/script&gt;\n",
       "    &lt;script src=&quot;https://code.jquery.com/jquery-3.7.1.min.js&quot;&gt;&lt;/script&gt;\n",
       "    &lt;script src=&quot;https://cdn.jsdelivr.net/npm/bootstrap@5.2.2/dist/js/bootstrap.bundle.min.js&quot;&gt;&lt;/script&gt;\n",
       "    &lt;script src=&quot;https://cdnjs.cloudflare.com/ajax/libs/Leaflet.awesome-markers/2.0.2/leaflet.awesome-markers.js&quot;&gt;&lt;/script&gt;\n",
       "    &lt;link rel=&quot;stylesheet&quot; href=&quot;https://cdn.jsdelivr.net/npm/leaflet@1.9.3/dist/leaflet.css&quot;/&gt;\n",
       "    &lt;link rel=&quot;stylesheet&quot; href=&quot;https://cdn.jsdelivr.net/npm/bootstrap@5.2.2/dist/css/bootstrap.min.css&quot;/&gt;\n",
       "    &lt;link rel=&quot;stylesheet&quot; href=&quot;https://netdna.bootstrapcdn.com/bootstrap/3.0.0/css/bootstrap-glyphicons.css&quot;/&gt;\n",
       "    &lt;link rel=&quot;stylesheet&quot; href=&quot;https://cdn.jsdelivr.net/npm/@fortawesome/fontawesome-free@6.2.0/css/all.min.css&quot;/&gt;\n",
       "    &lt;link rel=&quot;stylesheet&quot; href=&quot;https://cdnjs.cloudflare.com/ajax/libs/Leaflet.awesome-markers/2.0.2/leaflet.awesome-markers.css&quot;/&gt;\n",
       "    &lt;link rel=&quot;stylesheet&quot; href=&quot;https://cdn.jsdelivr.net/gh/python-visualization/folium/folium/templates/leaflet.awesome.rotate.min.css&quot;/&gt;\n",
       "    \n",
       "            &lt;meta name=&quot;viewport&quot; content=&quot;width=device-width,\n",
       "                initial-scale=1.0, maximum-scale=1.0, user-scalable=no&quot; /&gt;\n",
       "            &lt;style&gt;\n",
       "                #map_bdb3ff80c1093914c1baff64725f3632 {\n",
       "                    position: relative;\n",
       "                    width: 100.0%;\n",
       "                    height: 100.0%;\n",
       "                    left: 0.0%;\n",
       "                    top: 0.0%;\n",
       "                }\n",
       "                .leaflet-container { font-size: 1rem; }\n",
       "            &lt;/style&gt;\n",
       "        \n",
       "    &lt;script src=&quot;https://cdn.jsdelivr.net/gh/python-visualization/folium@main/folium/templates/leaflet_heat.min.js&quot;&gt;&lt;/script&gt;\n",
       "&lt;/head&gt;\n",
       "&lt;body&gt;\n",
       "    \n",
       "    \n",
       "            &lt;div class=&quot;folium-map&quot; id=&quot;map_bdb3ff80c1093914c1baff64725f3632&quot; &gt;&lt;/div&gt;\n",
       "        \n",
       "&lt;/body&gt;\n",
       "&lt;script&gt;\n",
       "    \n",
       "    \n",
       "            var map_bdb3ff80c1093914c1baff64725f3632 = L.map(\n",
       "                &quot;map_bdb3ff80c1093914c1baff64725f3632&quot;,\n",
       "                {\n",
       "                    center: [41.8781, -87.6298],\n",
       "                    crs: L.CRS.EPSG3857,\n",
       "                    ...{\n",
       "  &quot;zoom&quot;: 4,\n",
       "  &quot;zoomControl&quot;: true,\n",
       "  &quot;preferCanvas&quot;: false,\n",
       "}\n",
       "\n",
       "                }\n",
       "            );\n",
       "\n",
       "            \n",
       "\n",
       "        \n",
       "    \n",
       "            var tile_layer_cf355bef36e047d272a606f9cae51193 = L.tileLayer(\n",
       "                &quot;https://tile.openstreetmap.org/{z}/{x}/{y}.png&quot;,\n",
       "                {\n",
       "  &quot;minZoom&quot;: 0,\n",
       "  &quot;maxZoom&quot;: 19,\n",
       "  &quot;maxNativeZoom&quot;: 19,\n",
       "  &quot;noWrap&quot;: false,\n",
       "  &quot;attribution&quot;: &quot;\\u0026copy; \\u003ca href=\\&quot;https://www.openstreetmap.org/copyright\\&quot;\\u003eOpenStreetMap\\u003c/a\\u003e contributors&quot;,\n",
       "  &quot;subdomains&quot;: &quot;abc&quot;,\n",
       "  &quot;detectRetina&quot;: false,\n",
       "  &quot;tms&quot;: false,\n",
       "  &quot;opacity&quot;: 1,\n",
       "}\n",
       "\n",
       "            );\n",
       "        \n",
       "    \n",
       "            tile_layer_cf355bef36e047d272a606f9cae51193.addTo(map_bdb3ff80c1093914c1baff64725f3632);\n",
       "        \n",
       "    \n",
       "            var heat_map_bc8593b27f76522c68831d7efbbae7b1 = L.heatLayer(\n",
       "                [[41.967612061, -87.778086234, 1.0], [41.967619813, -87.777986884, 1.0], [41.890203035, -87.765215951, 1.0], [41.890074025, -87.765209749, 1.0], [41.954199094, -87.758170244, 1.0], [41.905276989, -87.750939203, 1.0], [41.870475027, -87.74352294, 2.0], [41.812306287, -87.74328289, 1.0], [41.876326909, -87.742676011, 2.0], [41.962843954, -87.721651301, 1.0], [41.902388195, -87.718985073, 1.0], [41.955634631, -87.715959282, 1.0], [41.875889809, -87.710837717, 1.0], [41.875911762, -87.710837503, 1.0], [41.894538914, -87.710186524, 1.0], [41.872742583, -87.709399586, 1.0], [41.892552538, -87.705232851, 1.0], [41.877005624, -87.688751329, 1.0], [41.78012899, -87.68611105, 1.0], [41.893159862, -87.677886276, 1.0], [41.753952352, -87.666649653, 1.0], [42.014216031, -87.664229139, 1.0], [41.788376004, -87.663209288, 2.0], [41.754027474, -87.661173523, 1.0], [41.83379249, -87.652255827, 1.0], [41.798808616, -87.651353784, 1.0], [41.888383414, -87.647559323, 1.0], [41.877613062, -87.647233851, 2.0], [41.954607083, -87.647107189, 1.0], [41.747861373, -87.646385455, 1.0], [41.746281377, -87.645130733, 1.0], [41.939590495, -87.638395559, 1.0], [41.828988193, -87.626516192, 1.0], [41.864958112, -87.625775047, 1.0], [41.863567228, -87.624068617, 1.0], [41.801513039, -87.617733588, 1.0], [41.774443027, -87.604576499, 1.0], [41.774507187, -87.602148844, 1.0], [41.750541016, -87.599100677, 1.0], [41.772385688, -87.590148678, 1.0], [41.803181616, -87.585432024, 1.0], [41.760108044, -87.56639671, 1.0], [41.752958355, -87.565045217, 1.0]],\n",
       "                {\n",
       "  &quot;minOpacity&quot;: 0.5,\n",
       "  &quot;maxZoom&quot;: 18,\n",
       "  &quot;radius&quot;: 25,\n",
       "  &quot;blur&quot;: 15,\n",
       "}\n",
       "            );\n",
       "        \n",
       "    \n",
       "            heat_map_bc8593b27f76522c68831d7efbbae7b1.addTo(map_bdb3ff80c1093914c1baff64725f3632);\n",
       "        \n",
       "&lt;/script&gt;\n",
       "&lt;/html&gt;\" style=\"position:absolute;width:100%;height:100%;left:0;top:0;border:none !important;\" allowfullscreen webkitallowfullscreen mozallowfullscreen></iframe></div></div>"
      ],
      "text/plain": [
       "<folium.folium.Map at 0x1cb66d82450>"
      ]
     },
     "execution_count": 30,
     "metadata": {},
     "output_type": "execute_result"
    }
   ],
   "source": [
    "# VISUALIZATION\n",
    "heat_df = drug_arrested[['Latitude', 'Longitude', 'Drug Arrests']].values.tolist()\n",
    "map1 = folium.Map(location=[41.8781, -87.6298], zoom_start=4)\n",
    "HeatMap(heat_df).add_to(map1)\n",
    "\n",
    "map1"
   ]
  },
  {
   "cell_type": "markdown",
   "id": "2d7cbbd7-5727-4f03-8712-278fe78d55e0",
   "metadata": {},
   "source": [
    "<h1 style=\"background-color: blue; padding: 10px; border-radius: 15px; color:white;\"> Insight 1.</h1>"
   ]
  },
  {
   "cell_type": "markdown",
   "id": "66ca412f-919d-4374-98cf-40efe8dfe8b1",
   "metadata": {},
   "source": [
    "<h2 style=\"background-color: red; padding: 10px; border-radius: 15px; color:white;\">In 2024, a large number of drug-related arrests occurred in apartment complexes on Chicago's West Side, showing an ongoing problem with narcotics activity in residential structures. The large number of events near Humboldt Park and Austin suggest ongoing law enforcement activity in those locations.</h2>"
   ]
  },
  {
   "cell_type": "markdown",
   "id": "7dc1075e-963f-41dd-a13d-0ec1a8ff496b",
   "metadata": {},
   "source": [
    "<h1 style=\"background-color: green; padding: 10px; border-radius: 15px; color:white;\">Analysis 2: Motor Vehicle Thefts at Gas Stations (2024)</h1>"
   ]
  },
  {
   "cell_type": "code",
   "execution_count": 31,
   "id": "da039788-78fc-416a-b980-cbdfe60d64c5",
   "metadata": {},
   "outputs": [],
   "source": [
    "# FILTERING\n",
    "filter1 = crimes_df[crimes_df['Primary Type'] == 'MOTOR VEHICLE THEFT']\n",
    "filter2 = filter1[filter1['Year'] == 2024]\n",
    "filter3 = filter2[filter2['Location Description'] == 'GAS STATION']\n"
   ]
  },
  {
   "cell_type": "code",
   "execution_count": 32,
   "id": "a685f0de-1a9a-4e67-9c24-0fb88d16f474",
   "metadata": {},
   "outputs": [
    {
     "data": {
      "text/plain": [
       "array([2024, 2025], dtype=int32)"
      ]
     },
     "execution_count": 32,
     "metadata": {},
     "output_type": "execute_result"
    }
   ],
   "source": [
    "crimes_df['Year'].unique()"
   ]
  },
  {
   "cell_type": "code",
   "execution_count": 33,
   "id": "a69a7a16-6a94-4011-9e8e-1aa124a25185",
   "metadata": {},
   "outputs": [],
   "source": [
    "vehicle_theft = filter3.groupby(['Longitude', 'Latitude']).size().reset_index(name='Vehicle Thefts')"
   ]
  },
  {
   "cell_type": "code",
   "execution_count": 34,
   "id": "c48f2836-32e6-4f6e-9f60-3a6979d4ca95",
   "metadata": {},
   "outputs": [
    {
     "data": {
      "text/html": [
       "<div style=\"width:100%;\"><div style=\"position:relative;width:100%;height:0;padding-bottom:60%;\"><span style=\"color:#565656\">Make this Notebook Trusted to load map: File -> Trust Notebook</span><iframe srcdoc=\"&lt;!DOCTYPE html&gt;\n",
       "&lt;html&gt;\n",
       "&lt;head&gt;\n",
       "    \n",
       "    &lt;meta http-equiv=&quot;content-type&quot; content=&quot;text/html; charset=UTF-8&quot; /&gt;\n",
       "    \n",
       "        &lt;script&gt;\n",
       "            L_NO_TOUCH = false;\n",
       "            L_DISABLE_3D = false;\n",
       "        &lt;/script&gt;\n",
       "    \n",
       "    &lt;style&gt;html, body {width: 100%;height: 100%;margin: 0;padding: 0;}&lt;/style&gt;\n",
       "    &lt;style&gt;#map {position:absolute;top:0;bottom:0;right:0;left:0;}&lt;/style&gt;\n",
       "    &lt;script src=&quot;https://cdn.jsdelivr.net/npm/leaflet@1.9.3/dist/leaflet.js&quot;&gt;&lt;/script&gt;\n",
       "    &lt;script src=&quot;https://code.jquery.com/jquery-3.7.1.min.js&quot;&gt;&lt;/script&gt;\n",
       "    &lt;script src=&quot;https://cdn.jsdelivr.net/npm/bootstrap@5.2.2/dist/js/bootstrap.bundle.min.js&quot;&gt;&lt;/script&gt;\n",
       "    &lt;script src=&quot;https://cdnjs.cloudflare.com/ajax/libs/Leaflet.awesome-markers/2.0.2/leaflet.awesome-markers.js&quot;&gt;&lt;/script&gt;\n",
       "    &lt;link rel=&quot;stylesheet&quot; href=&quot;https://cdn.jsdelivr.net/npm/leaflet@1.9.3/dist/leaflet.css&quot;/&gt;\n",
       "    &lt;link rel=&quot;stylesheet&quot; href=&quot;https://cdn.jsdelivr.net/npm/bootstrap@5.2.2/dist/css/bootstrap.min.css&quot;/&gt;\n",
       "    &lt;link rel=&quot;stylesheet&quot; href=&quot;https://netdna.bootstrapcdn.com/bootstrap/3.0.0/css/bootstrap-glyphicons.css&quot;/&gt;\n",
       "    &lt;link rel=&quot;stylesheet&quot; href=&quot;https://cdn.jsdelivr.net/npm/@fortawesome/fontawesome-free@6.2.0/css/all.min.css&quot;/&gt;\n",
       "    &lt;link rel=&quot;stylesheet&quot; href=&quot;https://cdnjs.cloudflare.com/ajax/libs/Leaflet.awesome-markers/2.0.2/leaflet.awesome-markers.css&quot;/&gt;\n",
       "    &lt;link rel=&quot;stylesheet&quot; href=&quot;https://cdn.jsdelivr.net/gh/python-visualization/folium/folium/templates/leaflet.awesome.rotate.min.css&quot;/&gt;\n",
       "    \n",
       "            &lt;meta name=&quot;viewport&quot; content=&quot;width=device-width,\n",
       "                initial-scale=1.0, maximum-scale=1.0, user-scalable=no&quot; /&gt;\n",
       "            &lt;style&gt;\n",
       "                #map_0601f8e2cd8632cc38bba3fa0b1670ef {\n",
       "                    position: relative;\n",
       "                    width: 100.0%;\n",
       "                    height: 100.0%;\n",
       "                    left: 0.0%;\n",
       "                    top: 0.0%;\n",
       "                }\n",
       "                .leaflet-container { font-size: 1rem; }\n",
       "            &lt;/style&gt;\n",
       "        \n",
       "    &lt;script src=&quot;https://cdn.jsdelivr.net/gh/python-visualization/folium@main/folium/templates/leaflet_heat.min.js&quot;&gt;&lt;/script&gt;\n",
       "&lt;/head&gt;\n",
       "&lt;body&gt;\n",
       "    \n",
       "    \n",
       "            &lt;div class=&quot;folium-map&quot; id=&quot;map_0601f8e2cd8632cc38bba3fa0b1670ef&quot; &gt;&lt;/div&gt;\n",
       "        \n",
       "&lt;/body&gt;\n",
       "&lt;script&gt;\n",
       "    \n",
       "    \n",
       "            var map_0601f8e2cd8632cc38bba3fa0b1670ef = L.map(\n",
       "                &quot;map_0601f8e2cd8632cc38bba3fa0b1670ef&quot;,\n",
       "                {\n",
       "                    center: [41.8781, -87.6298],\n",
       "                    crs: L.CRS.EPSG3857,\n",
       "                    ...{\n",
       "  &quot;zoom&quot;: 11,\n",
       "  &quot;zoomControl&quot;: true,\n",
       "  &quot;preferCanvas&quot;: false,\n",
       "}\n",
       "\n",
       "                }\n",
       "            );\n",
       "\n",
       "            \n",
       "\n",
       "        \n",
       "    \n",
       "            var tile_layer_64691e4d515da4706c20ed4dca95caba = L.tileLayer(\n",
       "                &quot;https://tile.openstreetmap.org/{z}/{x}/{y}.png&quot;,\n",
       "                {\n",
       "  &quot;minZoom&quot;: 0,\n",
       "  &quot;maxZoom&quot;: 19,\n",
       "  &quot;maxNativeZoom&quot;: 19,\n",
       "  &quot;noWrap&quot;: false,\n",
       "  &quot;attribution&quot;: &quot;\\u0026copy; \\u003ca href=\\&quot;https://www.openstreetmap.org/copyright\\&quot;\\u003eOpenStreetMap\\u003c/a\\u003e contributors&quot;,\n",
       "  &quot;subdomains&quot;: &quot;abc&quot;,\n",
       "  &quot;detectRetina&quot;: false,\n",
       "  &quot;tms&quot;: false,\n",
       "  &quot;opacity&quot;: 1,\n",
       "}\n",
       "\n",
       "            );\n",
       "        \n",
       "    \n",
       "            tile_layer_64691e4d515da4706c20ed4dca95caba.addTo(map_0601f8e2cd8632cc38bba3fa0b1670ef);\n",
       "        \n",
       "    \n",
       "            var heat_map_71b8201bbf5dd4013e20c3daea88488e = L.heatLayer(\n",
       "                [[41.902370457, -87.76565911, 2.0], [41.894898559, -87.759720016, 1.0], [41.902283189, -87.752597385, 1.0], [41.961099303, -87.74756329, 1.0], [41.898914865, -87.745898649, 1.0], [41.880489945, -87.745887499, 1.0], [41.876581037, -87.745137513, 1.0], [41.872924943, -87.744991122, 1.0], [41.870364073, -87.744897116, 1.0], [41.924350021, -87.738213231, 1.0], [41.86602405, -87.735600824, 1.0], [41.874850606, -87.735272577, 1.0], [41.960302524, -87.727808338, 1.0], [41.905778334, -87.726398891, 1.0], [41.89765683, -87.726152565, 2.0], [41.874974798, -87.725475051, 1.0], [41.854864309, -87.724846958, 1.0], [41.895868773, -87.721207281, 1.0], [41.866235446, -87.720517147, 1.0], [41.873292286, -87.719744775, 1.0], [41.86625461, -87.718967674, 1.0], [41.882139587, -87.71104513, 2.0], [41.880314341, -87.710985725, 1.0], [41.873635421, -87.710081187, 1.0], [41.961184538, -87.708555894, 1.0], [41.895558372, -87.705897593, 1.0], [41.851761264, -87.705602716, 1.0], [41.844063211, -87.705028372, 1.0], [41.821345947, -87.704491075, 1.0], [41.876720197, -87.701088107, 1.0], [41.874576918, -87.696119286, 1.0], [41.830812527, -87.694828962, 1.0], [41.793686636, -87.694104755, 1.0], [42.011694602, -87.690237586, 1.0], [42.005255827, -87.69007432, 1.0], [41.99094269, -87.689685077, 1.0], [41.978160468, -87.689240087, 1.0], [41.954243156, -87.688473638, 1.0], [41.77279778, -87.683468276, 2.0], [41.998434142, -87.677049865, 1.0], [41.997973182, -87.676101777, 2.0], [41.852191819, -87.674678252, 1.0], [41.778868505, -87.673896581, 1.0], [41.793924612, -87.673580917, 1.0], [41.765356327, -87.673547448, 1.0], [41.925145282, -87.668581762, 1.0], [41.891210037, -87.667148792, 1.0], [41.890872452, -87.667141282, 1.0], [41.79329893, -87.66456619, 1.0], [41.749880266, -87.663426578, 1.0], [42.012154238, -87.663132128, 1.0], [41.985534487, -87.660126814, 2.0], [41.932575738, -87.657615295, 1.0], [41.786873855, -87.655550394, 1.0], [41.74634568, -87.653627921, 2.0], [41.877858893, -87.652573925, 1.0], [41.954537863, -87.65114825, 1.0], [41.969159427, -87.649837624, 2.0], [41.947317986, -87.649787936, 1.0], [41.706857405, -87.64941498, 1.0], [41.904223711, -87.648113511, 1.0], [41.838982099, -87.646299864, 1.0], [41.847565598, -87.645749253, 1.0], [41.78701723, -87.645505595, 2.0], [41.801355133, -87.645341277, 1.0], [41.786569368, -87.644956704, 1.0], [41.755617231, -87.644169735, 1.0], [41.746010581, -87.643906039, 1.0], [41.869491081, -87.643733672, 1.0], [41.715680818, -87.643058205, 1.0], [41.713753878, -87.642987258, 1.0], [41.868447451, -87.642228591, 1.0], [41.684809877, -87.642147208, 1.0], [41.738327675, -87.641815467, 1.0], [41.876064063, -87.635188368, 1.0], [41.794509508, -87.633301738, 2.0], [41.912012179, -87.633158199, 1.0], [41.911162611, -87.632895617, 1.0], [41.794088699, -87.631799109, 4.0], [41.794670403, -87.631785431, 2.0], [41.79453284, -87.631728256, 1.0], [41.817156358, -87.631228252, 1.0], [41.844269007, -87.630216249, 1.0], [41.787263704, -87.630010795, 1.0], [41.707095328, -87.628834415, 3.0], [41.765332603, -87.627981404, 1.0], [41.75045535, -87.627022901, 1.0], [41.816039143, -87.626258734, 1.0], [41.866843668, -87.625816668, 1.0], [41.773405326, -87.625143469, 1.0], [41.758432859, -87.624765668, 2.0], [41.744151668, -87.62434741, 1.0], [41.692576964, -87.623786349, 2.0], [41.692358646, -87.623096746, 2.0], [41.682334926, -87.620651734, 1.0], [41.712359904, -87.62009309, 1.0], [41.765694661, -87.615983744, 1.0], [41.82386008, -87.615162409, 1.0], [41.721895856, -87.613841024, 1.0], [41.773017577, -87.61265777, 1.0], [41.77268594, -87.605758495, 1.0], [41.707455731, -87.605637491, 2.0], [41.757584331, -87.605364672, 1.0], [41.750832464, -87.605224746, 1.0], [41.748458232, -87.605159961, 2.0], [41.722671253, -87.604498777, 1.0], [41.722410468, -87.604487072, 1.0], [41.762777923, -87.601263048, 1.0], [41.762886366, -87.600624037, 1.0], [41.692780068, -87.600611049, 1.0], [41.809629081, -87.597938463, 1.0], [41.802115448, -87.58775136, 1.0], [41.801895518, -87.58769156, 1.0], [41.803056534, -87.586453094, 1.0], [41.758536614, -87.586130225, 1.0], [41.767448959, -87.585957168, 1.0], [41.743970443, -87.585797123, 2.0], [41.722427751, -87.578680397, 1.0], [41.772998982, -87.576478539, 1.0], [41.751708436, -87.568145845, 1.0], [41.758979264, -87.567088206, 1.0]],\n",
       "                {\n",
       "  &quot;minOpacity&quot;: 0.5,\n",
       "  &quot;maxZoom&quot;: 18,\n",
       "  &quot;radius&quot;: 25,\n",
       "  &quot;blur&quot;: 15,\n",
       "}\n",
       "            );\n",
       "        \n",
       "    \n",
       "            heat_map_71b8201bbf5dd4013e20c3daea88488e.addTo(map_0601f8e2cd8632cc38bba3fa0b1670ef);\n",
       "        \n",
       "&lt;/script&gt;\n",
       "&lt;/html&gt;\" style=\"position:absolute;width:100%;height:100%;left:0;top:0;border:none !important;\" allowfullscreen webkitallowfullscreen mozallowfullscreen></iframe></div></div>"
      ],
      "text/plain": [
       "<folium.folium.Map at 0x1cb66074380>"
      ]
     },
     "execution_count": 34,
     "metadata": {},
     "output_type": "execute_result"
    }
   ],
   "source": [
    "# VISUALIZATION\n",
    "heat_df = vehicle_theft[['Latitude', 'Longitude', 'Vehicle Thefts']].values.tolist()\n",
    "map2 = folium.Map(location=[41.8781, -87.6298], zoom_start=11)\n",
    "HeatMap(heat_df).add_to(map2)\n",
    "\n",
    "map2"
   ]
  },
  {
   "cell_type": "markdown",
   "id": "273ea4d1-122f-4fcb-adbd-ab7b54457910",
   "metadata": {},
   "source": [
    "<h1 style=\"background-color: blue; padding: 10px; border-radius: 15px; color:white;\">Insight 2.</h1>"
   ]
  },
  {
   "cell_type": "markdown",
   "id": "578e8314-f26b-42c2-aa96-2f13fe814e83",
   "metadata": {},
   "source": [
    "<h2 style=\"background-color: red; padding: 10px; border-radius: 15px; color:white;\">In 2024, Chicago's South and West Sides saw a rise in motor vehicle thefts at gas stations, especially in Englewood and Lawndale. Thieves targeted unattended vehicles during brief stops.</h2>"
   ]
  },
  {
   "cell_type": "markdown",
   "id": "45e71a3b-108f-423b-8ed0-52d7d0a0c909",
   "metadata": {},
   "source": [
    "<h1 style=\"background-color: green; padding: 10px; border-radius: 15px; color:white;\">Analysis 3: Theft Incidents at Retail Stores During the Holiday Season (November–December 2024)</h1>"
   ]
  },
  {
   "cell_type": "code",
   "execution_count": 35,
   "id": "ee1ac15f-7ca4-4a98-826a-cefe713a13f4",
   "metadata": {},
   "outputs": [],
   "source": [
    "#crimes['Location Description'].unique()"
   ]
  },
  {
   "cell_type": "code",
   "execution_count": 36,
   "id": "90f4805d-0934-457f-8e3f-6b93e0537cd7",
   "metadata": {},
   "outputs": [],
   "source": [
    "# FILTERING\n",
    "filter1 = crimes_df[crimes_df['Primary Type'] == 'THEFT']\n",
    "filter2 = filter1[filter1['Location Description'] == 'APARTMENT']\n",
    "filter3 = filter2[filter2['Year'] == 2024]"
   ]
  },
  {
   "cell_type": "code",
   "execution_count": 37,
   "id": "2a352fa8-a228-406e-b19c-ffab97889f0f",
   "metadata": {},
   "outputs": [],
   "source": [
    "apart_thefts = filter3.groupby(['Longitude', 'Latitude']).size().reset_index(name='APARTMENT Thefts')"
   ]
  },
  {
   "cell_type": "code",
   "execution_count": 38,
   "id": "64c857e5-d46d-4a1c-a136-91119d7ded4e",
   "metadata": {},
   "outputs": [
    {
     "data": {
      "text/html": [
       "<div style=\"width:100%;\"><div style=\"position:relative;width:100%;height:0;padding-bottom:60%;\"><span style=\"color:#565656\">Make this Notebook Trusted to load map: File -> Trust Notebook</span><iframe srcdoc=\"&lt;!DOCTYPE html&gt;\n",
       "&lt;html&gt;\n",
       "&lt;head&gt;\n",
       "    \n",
       "    &lt;meta http-equiv=&quot;content-type&quot; content=&quot;text/html; charset=UTF-8&quot; /&gt;\n",
       "    \n",
       "        &lt;script&gt;\n",
       "            L_NO_TOUCH = false;\n",
       "            L_DISABLE_3D = false;\n",
       "        &lt;/script&gt;\n",
       "    \n",
       "    &lt;style&gt;html, body {width: 100%;height: 100%;margin: 0;padding: 0;}&lt;/style&gt;\n",
       "    &lt;style&gt;#map {position:absolute;top:0;bottom:0;right:0;left:0;}&lt;/style&gt;\n",
       "    &lt;script src=&quot;https://cdn.jsdelivr.net/npm/leaflet@1.9.3/dist/leaflet.js&quot;&gt;&lt;/script&gt;\n",
       "    &lt;script src=&quot;https://code.jquery.com/jquery-3.7.1.min.js&quot;&gt;&lt;/script&gt;\n",
       "    &lt;script src=&quot;https://cdn.jsdelivr.net/npm/bootstrap@5.2.2/dist/js/bootstrap.bundle.min.js&quot;&gt;&lt;/script&gt;\n",
       "    &lt;script src=&quot;https://cdnjs.cloudflare.com/ajax/libs/Leaflet.awesome-markers/2.0.2/leaflet.awesome-markers.js&quot;&gt;&lt;/script&gt;\n",
       "    &lt;link rel=&quot;stylesheet&quot; href=&quot;https://cdn.jsdelivr.net/npm/leaflet@1.9.3/dist/leaflet.css&quot;/&gt;\n",
       "    &lt;link rel=&quot;stylesheet&quot; href=&quot;https://cdn.jsdelivr.net/npm/bootstrap@5.2.2/dist/css/bootstrap.min.css&quot;/&gt;\n",
       "    &lt;link rel=&quot;stylesheet&quot; href=&quot;https://netdna.bootstrapcdn.com/bootstrap/3.0.0/css/bootstrap-glyphicons.css&quot;/&gt;\n",
       "    &lt;link rel=&quot;stylesheet&quot; href=&quot;https://cdn.jsdelivr.net/npm/@fortawesome/fontawesome-free@6.2.0/css/all.min.css&quot;/&gt;\n",
       "    &lt;link rel=&quot;stylesheet&quot; href=&quot;https://cdnjs.cloudflare.com/ajax/libs/Leaflet.awesome-markers/2.0.2/leaflet.awesome-markers.css&quot;/&gt;\n",
       "    &lt;link rel=&quot;stylesheet&quot; href=&quot;https://cdn.jsdelivr.net/gh/python-visualization/folium/folium/templates/leaflet.awesome.rotate.min.css&quot;/&gt;\n",
       "    \n",
       "            &lt;meta name=&quot;viewport&quot; content=&quot;width=device-width,\n",
       "                initial-scale=1.0, maximum-scale=1.0, user-scalable=no&quot; /&gt;\n",
       "            &lt;style&gt;\n",
       "                #map_fddafa71ad71e83f7bc05d12c26ed230 {\n",
       "                    position: relative;\n",
       "                    width: 100.0%;\n",
       "                    height: 100.0%;\n",
       "                    left: 0.0%;\n",
       "                    top: 0.0%;\n",
       "                }\n",
       "                .leaflet-container { font-size: 1rem; }\n",
       "            &lt;/style&gt;\n",
       "        \n",
       "    &lt;script src=&quot;https://cdn.jsdelivr.net/gh/python-visualization/folium@main/folium/templates/leaflet_heat.min.js&quot;&gt;&lt;/script&gt;\n",
       "&lt;/head&gt;\n",
       "&lt;body&gt;\n",
       "    \n",
       "    \n",
       "            &lt;div class=&quot;folium-map&quot; id=&quot;map_fddafa71ad71e83f7bc05d12c26ed230&quot; &gt;&lt;/div&gt;\n",
       "        \n",
       "&lt;/body&gt;\n",
       "&lt;script&gt;\n",
       "    \n",
       "    \n",
       "            var map_fddafa71ad71e83f7bc05d12c26ed230 = L.map(\n",
       "                &quot;map_fddafa71ad71e83f7bc05d12c26ed230&quot;,\n",
       "                {\n",
       "                    center: [41.8781, -87.6298],\n",
       "                    crs: L.CRS.EPSG3857,\n",
       "                    ...{\n",
       "  &quot;zoom&quot;: 11,\n",
       "  &quot;zoomControl&quot;: true,\n",
       "  &quot;preferCanvas&quot;: false,\n",
       "}\n",
       "\n",
       "                }\n",
       "            );\n",
       "\n",
       "            \n",
       "\n",
       "        \n",
       "    \n",
       "            var tile_layer_41380845e39ca678cb37dcdaf2507b23 = L.tileLayer(\n",
       "                &quot;https://tile.openstreetmap.org/{z}/{x}/{y}.png&quot;,\n",
       "                {\n",
       "  &quot;minZoom&quot;: 0,\n",
       "  &quot;maxZoom&quot;: 19,\n",
       "  &quot;maxNativeZoom&quot;: 19,\n",
       "  &quot;noWrap&quot;: false,\n",
       "  &quot;attribution&quot;: &quot;\\u0026copy; \\u003ca href=\\&quot;https://www.openstreetmap.org/copyright\\&quot;\\u003eOpenStreetMap\\u003c/a\\u003e contributors&quot;,\n",
       "  &quot;subdomains&quot;: &quot;abc&quot;,\n",
       "  &quot;detectRetina&quot;: false,\n",
       "  &quot;tms&quot;: false,\n",
       "  &quot;opacity&quot;: 1,\n",
       "}\n",
       "\n",
       "            );\n",
       "        \n",
       "    \n",
       "            tile_layer_41380845e39ca678cb37dcdaf2507b23.addTo(map_fddafa71ad71e83f7bc05d12c26ed230);\n",
       "        \n",
       "    \n",
       "            var heat_map_96160f08c8f4f030badc57716ee9e131 = L.heatLayer(\n",
       "                [[41.972467074, -87.846524652, 1.0], [41.977730236, -87.846469859, 1.0], [41.977848233, -87.84646896, 2.0], [41.975977391, -87.845343152, 1.0], [41.980962814, -87.845154294, 1.0], [41.976810671, -87.844472542, 1.0], [41.974284227, -87.842770788, 1.0], [41.975135951, -87.842367076, 1.0], [41.98015548, -87.839893785, 1.0], [41.981049635, -87.839787578, 1.0], [41.963738966, -87.838468822, 1.0], [41.963509008, -87.836690988, 1.0], [41.976840051, -87.836613167, 1.0], [41.977281854, -87.836609734, 1.0], [41.980349758, -87.836582213, 1.0], [42.004966542, -87.818811192, 1.0], [42.005964704, -87.818037848, 1.0], [42.002934315, -87.817859947, 1.0], [41.945115811, -87.814642773, 1.0], [41.937963977, -87.81455739, 2.0], [41.997377254, -87.813585842, 1.0], [41.997125876, -87.810803019, 1.0], [41.989909638, -87.809217794, 1.0], [41.989911928, -87.809118458, 1.0], [41.949447784, -87.807152568, 1.0], [41.969411872, -87.807135392, 1.0], [42.001583135, -87.806748999, 1.0], [41.933498516, -87.806589074, 1.0], [41.927388879, -87.80637475, 1.0], [41.921778585, -87.804348502, 1.0], [41.921649577, -87.804342218, 1.0], [41.918852801, -87.804255088, 1.0], [41.992630989, -87.7994951, 1.0], [41.927805071, -87.799047378, 1.0], [41.990710459, -87.797815381, 1.0], [41.957447208, -87.797663802, 1.0], [41.97945562, -87.797630179, 1.0], [41.921790902, -87.795187897, 1.0], [41.931810761, -87.791829199, 1.0], [41.931552762, -87.791820356, 1.0], [41.938971533, -87.789736083, 1.0], [41.918599531, -87.788821417, 1.0], [41.922099276, -87.78784364, 1.0], [41.955085018, -87.787301426, 1.0], [41.910043713, -87.786660456, 1.0], [41.943156446, -87.786263743, 1.0], [41.942585514, -87.786235542, 1.0], [41.996455347, -87.785870041, 1.0], [41.91504769, -87.785192203, 1.0], [41.956617362, -87.782928029, 1.0], [41.960276071, -87.782495784, 1.0], [41.77493783, -87.782068168, 1.0], [41.923741436, -87.781185974, 1.0], [41.960786083, -87.780697148, 1.0], [41.941151576, -87.779635395, 1.0], [41.945140935, -87.778913498, 1.0], [41.933407243, -87.778471205, 1.0], [41.967612061, -87.778086234, 3.0], [41.78634514, -87.77792604, 1.0], [41.990714548, -87.777885501, 1.0], [41.967624803, -87.777883882, 1.0], [41.929289074, -87.777525691, 1.0], [41.930011687, -87.777140897, 1.0], [41.968570378, -87.776507758, 1.0], [41.971325086, -87.77584391, 1.0], [41.77778035, -87.775693871, 1.0], [41.901056721, -87.775331523, 1.0], [41.911871648, -87.775307143, 1.0], [41.935492003, -87.774899144, 1.0], [41.949434981, -87.774814227, 1.0], [41.880982172, -87.774687321, 1.0], [41.92654158, -87.774591357, 1.0], [41.953765876, -87.774357316, 1.0], [41.902727825, -87.774174547, 1.0], [41.978372057, -87.774120112, 1.0], [41.8991433, -87.774062565, 1.0], [41.966791119, -87.773478636, 1.0], [41.867298864, -87.773466416, 1.0], [41.865468397, -87.773456688, 1.0], [41.884633843, -87.773370186, 1.0], [41.8918977, -87.773336129, 1.0], [41.883124266, -87.773320938, 1.0], [41.882729021, -87.773306028, 2.0], [41.89101897, -87.773218931, 1.0], [41.920670248, -87.773172812, 1.0], [41.986794122, -87.773016508, 1.0], [41.879714386, -87.773009208, 1.0], [41.868416289, -87.773008752, 1.0], [41.902856378, -87.772961203, 1.0], [41.866623953, -87.772939962, 1.0], [41.913311389, -87.772851391, 1.0], [41.96771706, -87.772588018, 1.0], [41.892265398, -87.772205369, 1.0], [41.880127478, -87.772183049, 1.0], [41.974204965, -87.772148651, 2.0], [41.883106296, -87.771888909, 1.0], [41.88300749, -87.771886102, 1.0], [41.868544781, -87.771785041, 1.0], [41.901170711, -87.771693958, 1.0], [41.910077483, -87.771483631, 1.0], [41.879827197, -87.771385162, 1.0], [41.878611259, -87.771337063, 1.0], [41.893841021, -87.771170515, 1.0], [41.961265566, -87.770934896, 1.0], [41.898417126, -87.770906321, 1.0], [41.893847005, -87.770711352, 1.0], [41.882168989, -87.770457606, 1.0], [41.882171229, -87.770354764, 1.0], [41.893476232, -87.770090219, 1.0], [41.886288459, -87.769969735, 2.0], [41.909325401, -87.7697709, 1.0], [41.89843839, -87.769646244, 1.0], [41.90208533, -87.769614169, 1.0], [41.983747475, -87.769534364, 1.0], [41.920863706, -87.76952608, 1.0], [41.908451473, -87.769514079, 1.0], [41.894793327, -87.769501996, 1.0], [41.901021551, -87.769256196, 1.0], [41.882182813, -87.768801314, 1.0], [41.882184564, -87.768599327, 1.0], [41.963259839, -87.7685421, 1.0], [41.978604873, -87.768424914, 1.0], [41.983546714, -87.768329739, 1.0], [41.887819905, -87.768325673, 1.0], [41.777925318, -87.768294096, 2.0], [41.883137698, -87.768220034, 1.0], [41.882893416, -87.76821117, 1.0], [41.90464684, -87.76816999, 1.0], [41.777927449, -87.768169424, 1.0], [41.895814337, -87.767858531, 1.0], [41.961648261, -87.767280491, 1.0], [41.961102078, -87.767263264, 1.0], [41.887795397, -87.767249835, 7.0], [41.77521972, -87.767236342, 1.0], [41.902120234, -87.767226178, 3.0], [41.877720808, -87.767158828, 1.0], [41.997514344, -87.767146697, 1.0], [41.921235985, -87.767105011, 1.0], [41.882210062, -87.76708982, 1.0], [41.882209791, -87.76703474, 2.0], [41.902818373, -87.766893078, 1.0], [41.911459602, -87.766816685, 1.0], [41.974283015, -87.766808231, 2.0], [41.94713996, -87.766798648, 2.0], [41.884625648, -87.766664532, 1.0], [41.88301997, -87.766605275, 1.0], [41.881331949, -87.766543076, 1.0], [41.939756732, -87.76654056, 1.0], [41.881238631, -87.766540228, 1.0], [41.879888156, -87.766478721, 2.0], [41.978334887, -87.765985283, 1.0], [41.96049735, -87.765948677, 1.0], [41.86742289, -87.765748109, 1.0], [41.880237269, -87.765487839, 1.0], [41.893763001, -87.765353356, 1.0], [41.893623014, -87.765347251, 2.0], [41.892077708, -87.765287486, 1.0], [41.889741913, -87.765198001, 2.0], [41.974420292, -87.765155811, 1.0], [41.888388731, -87.765143885, 2.0], [41.883330195, -87.764964695, 1.0], [41.883209435, -87.764962093, 1.0], [41.90938675, -87.764957714, 1.0], [41.881348498, -87.764894125, 1.0], [41.881120698, -87.7648888, 1.0], [41.88119479, -87.764888143, 1.0], [41.881203022, -87.76488807, 1.0], [41.970557579, -87.764829766, 1.0], [41.974034391, -87.76480988, 1.0], [41.878631263, -87.764808046, 1.0], [41.878691634, -87.764807511, 1.0], [41.970518979, -87.764793336, 1.0], [41.940425821, -87.764774043, 1.0], [41.970494173, -87.764771493, 1.0], [41.775273052, -87.764698923, 1.0], [41.912179965, -87.764319387, 1.0], [41.907585769, -87.764249976, 1.0], [41.882254637, -87.763894594, 1.0], [41.882259032, -87.763674222, 5.0], [41.971119772, -87.763648024, 1.0], [41.891958845, -87.76345215, 1.0], [41.875646965, -87.763439196, 1.0], [41.886217588, -87.763393003, 1.0], [41.890408051, -87.763392481, 2.0], [41.89035315, -87.763389296, 1.0], [41.890300993, -87.763386087, 1.0], [41.890317458, -87.763385941, 1.0], [41.884916598, -87.76334948, 1.0], [41.906738733, -87.763331745, 1.0], [41.883310937, -87.763293978, 2.0], [41.881194758, -87.763220983, 1.0], [41.960530431, -87.763209233, 1.0], [41.873845156, -87.763121074, 1.0], [41.911860994, -87.763084109, 1.0], [41.879277934, -87.762951601, 1.0], [41.876557734, -87.76282157, 1.0], [41.945928744, -87.762714448, 1.0], [41.879279456, -87.76270556, 1.0], [41.932300332, -87.762593379, 1.0], [41.894876922, -87.762537358, 1.0], [41.880279749, -87.762432269, 1.0], [41.873852593, -87.76240869, 1.0], [41.873855027, -87.762346249, 1.0], [41.896700522, -87.762271352, 1.0], [41.88227916, -87.762201482, 1.0], [41.936806974, -87.762167287, 2.0], [41.936806737, -87.762119509, 1.0], [41.896702371, -87.762091356, 1.0], [41.912137611, -87.761869249, 1.0], [41.911912539, -87.761860235, 2.0], [41.910367273, -87.761807889, 1.0], [41.875264803, -87.761639727, 1.0], [41.881414379, -87.761581241, 1.0], [41.898532573, -87.76149836, 1.0], [41.896707495, -87.761466892, 1.0], [41.96557868, -87.761333079, 1.0], [41.960555843, -87.76114637, 1.0], [41.96558049, -87.761145536, 1.0], [41.882292995, -87.761121725, 1.0], [41.913520385, -87.760703274, 1.0], [41.885778565, -87.76064626, 1.0], [41.882301537, -87.760633243, 1.0], [41.879307345, -87.76059021, 1.0], [41.891894907, -87.760529191, 1.0], [41.891840006, -87.760526009, 1.0], [41.997654187, -87.760486741, 1.0], [41.877495524, -87.760466854, 1.0], [41.9432198, -87.760430253, 1.0], [41.883430157, -87.76023023, 1.0], [41.88293336, -87.760212636, 1.0], [41.892963245, -87.760145017, 1.0], [41.880913243, -87.760142556, 1.0], [41.904470504, -87.759726182, 1.0], [41.908388917, -87.759654368, 1.0], [41.908240698, -87.759648348, 1.0], [41.950857978, -87.759534726, 1.0], [41.941144636, -87.759224855, 1.0], [41.913116793, -87.759016847, 1.0], [41.930739415, -87.758851443, 1.0], [41.909462982, -87.758770392, 1.0], [41.894907524, -87.758768643, 1.0], [41.881172542, -87.758763179, 1.0], [41.920880436, -87.758509976, 1.0], [41.879332525, -87.75848957, 1.0], [41.906815524, -87.75836799, 2.0], [41.879334442, -87.758324311, 1.0], [41.909742352, -87.758113951, 1.0], [41.909789002, -87.758113532, 1.0], [41.876619083, -87.758065916, 1.0], [41.893679767, -87.75800467, 1.0], [41.945987476, -87.757986747, 1.0], [41.939596179, -87.757985396, 1.0], [41.940516133, -87.757565463, 1.0], [41.881215793, -87.75753629, 1.0], [41.873641189, -87.757442724, 1.0], [41.873632939, -87.757439126, 1.0], [41.896742169, -87.757422554, 1.0], [41.925953092, -87.757130517, 1.0], [41.906312523, -87.757112459, 2.0], [41.929580262, -87.756991303, 2.0], [41.932022618, -87.75644378, 1.0], [41.883364311, -87.756396953, 1.0], [41.928281521, -87.756301095, 1.0], [41.891190162, -87.756249409, 2.0], [41.926469987, -87.7562329, 1.0], [41.954179698, -87.755946228, 1.0], [41.882357525, -87.755921276, 2.0], [41.8823638, -87.755531964, 1.0], [41.960623621, -87.755502002, 1.0], [41.882363578, -87.755487899, 1.0], [41.907696783, -87.755160309, 1.0], [41.877953739, -87.754976831, 2.0], [41.873573131, -87.754821724, 1.0], [41.87359234, -87.754821551, 2.0], [41.925078599, -87.754584486, 1.0], [41.88987904, -87.754193504, 1.0], [41.883656689, -87.753966932, 2.0], [41.879391764, -87.753895296, 1.0], [41.88010075, -87.753543714, 1.0], [41.909076894, -87.753479969, 1.0], [41.917564386, -87.753395793, 1.0], [41.951498989, -87.753301506, 1.0], [41.901013392, -87.753295797, 1.0], [41.881713034, -87.75327943, 1.0], [41.897305479, -87.75320814, 1.0], [41.948786899, -87.753142291, 1.0], [41.946050258, -87.753012718, 1.0], [41.880399766, -87.752979177, 1.0], [41.888503235, -87.752920528, 1.0], [41.883436397, -87.752731361, 1.0], [41.910766094, -87.752689498, 1.0], [41.909876797, -87.752657146, 1.0], [41.880922186, -87.752636613, 1.0], [41.879411655, -87.752400589, 1.0], [41.906501795, -87.752195467, 1.0], [41.901062089, -87.752072148, 1.0], [41.901081298, -87.752071974, 1.0], [41.901138924, -87.752071452, 1.0], [41.900987979, -87.752069147, 1.0], [41.878509668, -87.752030542, 1.0], [41.926020442, -87.751981615, 1.0], [41.893108171, -87.751854116, 1.0], [41.890141128, -87.751752482, 1.0], [41.962497769, -87.751668525, 1.0], [41.875796334, -87.751632867, 1.0], [41.960674821, -87.751512298, 1.0], [41.881737011, -87.751509217, 1.0], [41.88173675, -87.751457809, 1.0], [41.90229841, -87.751267488, 1.0], [41.924779035, -87.75123958, 1.0], [41.883057686, -87.751104303, 1.0], [41.878521427, -87.751101417, 2.0], [41.883057444, -87.751056566, 1.0], [41.876709224, -87.750904896, 1.0], [41.877622161, -87.750727697, 1.0], [41.876713651, -87.750695557, 2.0], [41.955205526, -87.750415008, 1.0], [41.883489847, -87.750281459, 1.0], [41.881074479, -87.750196925, 1.0], [41.880997625, -87.750193951, 1.0], [41.954321724, -87.749842197, 1.0], [41.885684848, -87.749662898, 1.0], [41.900478961, -87.749642063, 1.0], [41.897712464, -87.749582774, 1.0], [41.885684381, -87.749571091, 1.0], [41.894023962, -87.749535559, 1.0], [41.941786753, -87.749423528, 1.0], [41.87919597, -87.749373105, 1.0], [41.879066959, -87.749366936, 1.0], [41.895924103, -87.749217068, 1.0], [41.891351564, -87.749093455, 1.0], [41.92821131, -87.748929968, 1.0], [41.80755014, -87.748590044, 1.0], [41.957969926, -87.748448589, 1.0], [41.878557088, -87.748398495, 1.0], [41.898954812, -87.748348292, 1.0], [41.877651228, -87.748348005, 1.0], [41.883092841, -87.748302043, 1.0], [41.87493626, -87.748170814, 1.0], [41.960715124, -87.74810361, 1.0], [41.878560668, -87.748023918, 1.0], [41.932429273, -87.747869789, 1.0], [41.942464727, -87.747836802, 2.0], [41.960078128, -87.747499109, 1.0], [41.933345583, -87.747280736, 1.0], [41.912359245, -87.747042901, 1.0], [41.944905718, -87.747031521, 1.0], [41.935409279, -87.74675098, 1.0], [41.881800069, -87.746642988, 1.0], [41.898663249, -87.746602528, 1.0], [41.930122797, -87.746534819, 1.0], [41.925453883, -87.746342424, 1.0], [41.874959634, -87.746297982, 1.0], [41.881805637, -87.746121485, 2.0], [41.878586538, -87.746103221, 1.0], [41.879491854, -87.746047195, 1.0], [41.877683177, -87.746005004, 2.0], [41.87949161, -87.745999461, 1.0], [41.878588456, -87.745941635, 1.0], [41.94066546, -87.745872131, 1.0], [41.940667941, -87.74582065, 1.0], [41.89265712, -87.745728277, 1.0], [41.956707212, -87.745688061, 1.0], [41.93520362, -87.745172505, 1.0], [41.946152885, -87.745138041, 1.0], [41.956506701, -87.745116372, 1.0], [41.798408083, -87.744664659, 1.0], [41.891399332, -87.744476381, 1.0], [41.893187629, -87.744291004, 1.0], [41.89140089, -87.744244984, 1.0], [41.932561344, -87.744182452, 1.0], [41.930952927, -87.744123752, 1.0], [41.885371124, -87.744116759, 1.0], [41.884468215, -87.744106693, 1.0], [41.876862505, -87.743835075, 1.0], [41.875039843, -87.74374167, 1.0], [41.883146334, -87.743736922, 1.0], [41.881836446, -87.743565355, 2.0], [41.879267723, -87.74354491, 1.0], [41.869569833, -87.743068653, 1.0], [41.799911401, -87.742952841, 1.0], [41.909664252, -87.742728815, 1.0], [41.891425896, -87.742702201, 1.0], [41.876645322, -87.742691439, 1.0], [41.876398275, -87.742679026, 1.0], [41.874778885, -87.742624172, 1.0], [41.970268463, -87.741823647, 1.0], [41.878085689, -87.741554549, 1.0], [41.876891619, -87.741492127, 1.0], [41.967228591, -87.741428903, 3.0], [41.879292345, -87.741396534, 1.0], [41.779627071, -87.74110777, 1.0], [41.774181526, -87.74094157, 1.0], [41.770739979, -87.740372036, 1.0], [41.770572566, -87.740369912, 1.0], [41.876920361, -87.739086758, 1.0], [41.879603482, -87.738940722, 1.0], [41.877818912, -87.738784677, 1.0], [41.88189124, -87.738757943, 1.0], [41.885338002, -87.738755365, 2.0], [41.87692637, -87.738657089, 1.0], [41.87692822, -87.738484491, 1.0], [41.939901956, -87.738292854, 1.0], [41.870999878, -87.737808816, 1.0], [41.87656785, -87.737786502, 1.0], [41.926340063, -87.737775815, 1.0], [41.884545837, -87.737345182, 1.0], [41.899769041, -87.736986927, 1.0], [41.896121053, -87.736815177, 1.0], [41.89702638, -87.736762676, 2.0], [41.879627827, -87.736755615, 1.0], [41.871042334, -87.736471968, 1.0], [41.919101794, -87.736384414, 1.0], [41.874218938, -87.736233123, 1.0], [41.879635941, -87.736204729, 1.0], [41.953548885, -87.736166021, 1.0], [41.900977393, -87.736101441, 1.0], [41.877851597, -87.736092822, 1.0], [41.859840512, -87.735988797, 1.0], [41.88456033, -87.735909158, 1.0], [41.964680062, -87.735764252, 1.0], [41.932231532, -87.735589463, 1.0], [41.883820405, -87.735578199, 1.0], [41.876387675, -87.735328012, 1.0], [41.87628338, -87.735325313, 1.0], [41.837740165, -87.735309973, 1.0], [41.965986305, -87.735237262, 1.0], [41.784851602, -87.735163711, 1.0], [41.90841167, -87.735073311, 1.0], [41.86367402, -87.734892152, 2.0], [41.883255958, -87.734691097, 2.0], [41.901623089, -87.734673845, 1.0], [41.900708861, -87.7345979, 1.0], [41.883643841, -87.734345952, 1.0], [41.88194205, -87.734277386, 1.0], [41.881944411, -87.73420392, 1.0], [41.933540438, -87.733993248, 1.0], [41.93399519, -87.733841983, 1.0], [41.90810056, -87.733827158, 1.0], [41.901280197, -87.733648522, 1.0], [41.875165431, -87.733547562, 1.0], [41.799429695, -87.733139401, 1.0], [41.90619481, -87.733062513, 1.0], [41.843290963, -87.733041613, 1.0], [41.909797796, -87.733025085, 1.0], [41.873039988, -87.732755989, 1.0], [41.952607406, -87.732443411, 1.0], [41.859983323, -87.732327537, 1.0], [41.89634439, -87.732280585, 1.0], [41.85143391, -87.73212862, 1.0], [41.924419738, -87.732105337, 1.0], [41.898922677, -87.732032344, 2.0], [41.803389375, -87.732027809, 1.0], [41.885794778, -87.731615614, 1.0], [41.734658475, -87.731529871, 1.0], [41.879691121, -87.731529667, 1.0], [41.884611296, -87.731479824, 1.0], [41.875192861, -87.731447027, 1.0], [41.878798167, -87.731325068, 1.0], [41.878800642, -87.731273637, 1.0], [41.875196386, -87.731072469, 1.0], [41.958110137, -87.730983592, 1.0], [41.924435779, -87.730977073, 1.0], [41.922602435, -87.730939199, 1.0], [41.853414523, -87.730939161, 1.0], [41.983213607, -87.730883121, 1.0], [41.935392949, -87.730877654, 1.0], [41.939048053, -87.730839576, 1.0], [41.864266262, -87.730595009, 1.0], [41.95909279, -87.730503729, 1.0], [41.753204151, -87.73040747, 1.0], [41.866098236, -87.730368538, 1.0], [41.852508643, -87.730364049, 1.0], [41.755004079, -87.73034298, 1.0], [41.962950129, -87.730309265, 1.0], [41.941761706, -87.730244307, 1.0], [41.755008548, -87.730148696, 1.0], [41.899693629, -87.729905664, 1.0], [41.905322054, -87.729904096, 2.0], [41.859833239, -87.729873086, 1.0], [41.897709237, -87.729847211, 1.0], [41.943948916, -87.729734819, 1.0], [41.984420301, -87.729694758, 1.0], [41.803420451, -87.729581154, 1.0], [41.876132556, -87.729055168, 1.0], [41.961220123, -87.729046069, 2.0], [41.882004939, -87.728996168, 1.0], [41.882004418, -87.728897024, 1.0], [41.992722683, -87.728876924, 1.0], [41.851487667, -87.728776988, 1.0], [41.879723306, -87.72877531, 1.0], [41.90289569, -87.728773495, 1.0], [41.971878924, -87.728581272, 1.0], [41.896253567, -87.728571685, 2.0], [41.851489233, -87.728553075, 1.0], [41.986066128, -87.728520584, 2.0], [41.846941112, -87.728386712, 1.0], [41.939989814, -87.728323999, 1.0], [41.867039673, -87.72831108, 1.0], [41.955472204, -87.728232736, 1.0], [41.934516501, -87.728070687, 1.0], [41.864302296, -87.728054206, 1.0], [41.939993597, -87.728000517, 1.0], [41.850945565, -87.727974599, 1.0], [41.852542589, -87.727948529, 1.0], [41.921529939, -87.727903151, 1.0], [41.960179021, -87.727805831, 1.0], [41.960195486, -87.727805675, 1.0], [41.778483841, -87.727640997, 1.0], [41.931780735, -87.727593069, 2.0], [41.863459789, -87.727529837, 1.0], [41.946955343, -87.727416356, 1.0], [41.968249849, -87.727306531, 1.0], [41.903565718, -87.727294125, 1.0], [41.855810178, -87.72727167, 1.0], [41.883638132, -87.726983048, 1.0], [41.971241648, -87.726903084, 1.0], [41.926938698, -87.726841449, 1.0], [41.963328863, -87.726669269, 1.0], [41.91925369, -87.726620278, 1.0], [41.971901239, -87.726569542, 1.0], [41.876166022, -87.726554309, 1.0], [41.871835247, -87.726488793, 1.0], [41.912372789, -87.7264099, 2.0], [41.982841029, -87.726314887, 1.0], [41.882012735, -87.726311713, 1.0], [41.877078298, -87.726259269, 2.0], [41.860036225, -87.726211243, 1.0], [41.770410795, -87.72621029, 1.0], [41.859849586, -87.726205667, 1.0], [41.853476919, -87.726111773, 1.0], [41.856050945, -87.726094767, 1.0], [41.94339183, -87.726090078, 1.0], [41.855740782, -87.726083018, 2.0], [41.870927379, -87.726060463, 1.0], [41.926330686, -87.726031415, 1.0], [41.926333061, -87.725961572, 1.0], [41.924491408, -87.725909221, 1.0], [41.853483171, -87.725737316, 1.0], [41.928985214, -87.725675496, 1.0], [41.969385341, -87.725633665, 1.0], [41.969077947, -87.725625555, 1.0], [41.96912734, -87.725625085, 1.0], [41.902680507, -87.725440088, 1.0], [41.926342795, -87.725208157, 1.0], [41.905900873, -87.725181777, 1.0], [41.845159485, -87.72515546, 1.0], [41.846073202, -87.725132126, 1.0], [41.901816778, -87.725055233, 1.0], [41.970100567, -87.72492451, 1.0], [41.936847895, -87.724729803, 2.0], [41.847387855, -87.724642545, 2.0], [41.90539771, -87.724481232, 2.0], [41.79274241, -87.724378738, 1.0], [41.79264909, -87.724375954, 1.0], [41.925331118, -87.724350538, 1.0], [41.957168961, -87.724238694, 1.0], [41.9214392, -87.724236893, 1.0], [41.957127508, -87.724183941, 1.0], [41.879778612, -87.724181021, 1.0], [41.919350517, -87.724175921, 1.0], [41.881858277, -87.724091496, 1.0], [41.916021232, -87.724075313, 2.0], [41.96828488, -87.724073979, 1.0], [41.912206142, -87.723960964, 1.0], [41.968284119, -87.723930577, 1.0], [41.776158933, -87.723916058, 1.0], [41.910518172, -87.72391089, 1.0], [41.876198537, -87.723884551, 1.0], [41.863643548, -87.723878976, 1.0], [41.968286355, -87.723834949, 1.0], [41.876200892, -87.723811091, 1.0], [41.877111878, -87.723791419, 1.0], [41.900001579, -87.723783155, 1.0], [41.86010017, -87.723776798, 1.0], [41.878892807, -87.723774494, 1.0], [41.859875094, -87.723767923, 1.0], [41.875292084, -87.723724259, 1.0], [41.877111469, -87.723714312, 1.0], [41.844265233, -87.723673891, 1.0], [41.85252466, -87.723522054, 1.0], [41.845385963, -87.723358632, 1.0], [41.845215788, -87.723352908, 1.0], [41.932592291, -87.723307569, 1.0], [41.862539941, -87.723283726, 1.0], [41.90491104, -87.723269922, 1.0], [41.79639731, -87.723251281, 1.0], [41.92910948, -87.72323418, 1.0], [41.902696084, -87.723202846, 1.0], [41.925250512, -87.72312396, 1.0], [41.734828158, -87.723116184, 1.0], [41.876891389, -87.723095851, 1.0], [41.747229403, -87.723057395, 1.0], [41.902697871, -87.723022833, 1.0], [41.919571819, -87.722957604, 1.0], [41.857068843, -87.722946623, 1.0], [41.869546445, -87.722846293, 1.0], [41.863508062, -87.7226541, 1.0], [41.901688561, -87.722613684, 1.0], [41.901630915, -87.72261056, 1.0], [41.901370187, -87.722605698, 1.0], [41.928197299, -87.722511576, 1.0], [41.894214733, -87.722376367, 1.0], [41.855863796, -87.722370768, 1.0], [41.939776863, -87.722312866, 1.0], [41.778666056, -87.722147162, 1.0], [41.963749279, -87.722116961, 1.0], [41.932456889, -87.722099752, 1.0], [41.843543294, -87.722087963, 1.0], [41.906317921, -87.722066282, 1.0], [41.972409516, -87.722026815, 1.0], [41.97103174, -87.721992184, 1.0], [41.968893701, -87.721935407, 1.0], [41.87802667, -87.721906346, 1.0], [41.683936056, -87.721847364, 1.0], [41.747280543, -87.721836627, 1.0], [41.878026259, -87.721829238, 1.0], [41.683935959, -87.721829061, 3.0], [41.746369282, -87.72180863, 1.0], [41.962841876, -87.721776334, 1.0], [41.683938313, -87.72175582, 1.0], [41.96649088, -87.721627447, 1.0], [41.851589468, -87.721570909, 1.0], [41.881891223, -87.721513301, 1.0], [41.905143159, -87.721508091, 1.0], [41.865502446, -87.721493359, 1.0], [41.778675913, -87.72142114, 1.0], [41.875318043, -87.72138139, 1.0], [41.937587466, -87.721374489, 1.0], [41.889908993, -87.721341309, 1.0], [41.860144834, -87.721338861, 1.0], [41.898215508, -87.721284045, 1.0], [41.89810296, -87.721277773, 1.0], [41.897973968, -87.721275332, 1.0], [41.858445344, -87.721189877, 1.0], [41.807052863, -87.721092494, 1.0], [41.869860712, -87.721051606, 1.0], [41.805444463, -87.721045454, 1.0], [41.922722857, -87.721020488, 1.0], [41.847305232, -87.720973109, 1.0], [41.84706369, -87.720964402, 1.0], [41.917233894, -87.720925992, 1.0], [41.930784375, -87.72082947, 1.0], [41.881088655, -87.720764494, 1.0], [41.86440071, -87.720736584, 1.0], [41.864400475, -87.720692532, 1.0], [41.935602436, -87.720680463, 1.0], [41.937792194, -87.720655828, 1.0], [41.923576974, -87.720630164, 1.0], [41.965431687, -87.720611699, 1.0], [41.962283613, -87.720524203, 2.0], [41.934413347, -87.720522783, 1.0], [41.857088813, -87.720512707, 1.0], [41.87046297, -87.720260149, 1.0], [41.863025811, -87.720217396, 1.0], [41.859954439, -87.720114582, 1.0], [41.898096474, -87.720062031, 1.0], [41.897948253, -87.720056102, 1.0], [41.906337235, -87.720027251, 1.0], [41.970151241, -87.720007527, 1.0], [41.954278702, -87.720001648, 1.0], [41.856078782, -87.719971742, 1.0], [41.855952514, -87.719965607, 1.0], [41.918158885, -87.719932442, 1.0], [41.854495111, -87.719928143, 1.0], [41.854319448, -87.71992248, 1.0], [41.853756786, -87.719905833, 1.0], [41.892527477, -87.719887592, 1.0], [41.92638029, -87.719875741, 1.0], [41.76186156, -87.719872867, 1.0], [41.89053763, -87.71983685, 1.0], [41.888792007, -87.719783773, 1.0], [41.847287772, -87.719758434, 1.0], [41.961047284, -87.719741874, 1.0], [41.933132716, -87.71966771, 1.0], [41.870473514, -87.719665258, 1.0], [41.961049557, -87.719653611, 1.0], [41.869611666, -87.719636786, 1.0], [41.869641852, -87.719636498, 1.0], [41.869564997, -87.719633561, 1.0], [41.867767171, -87.719569986, 1.0], [41.704064345, -87.719521707, 1.0], [41.863998697, -87.719455511, 1.0], [41.925376401, -87.71945542, 1.0], [41.863790105, -87.719450164, 1.0], [41.834223179, -87.719406199, 1.0], [41.923463399, -87.719403941, 1.0], [41.936336094, -87.719317248, 1.0], [41.950128399, -87.719291508, 1.0], [41.895432946, -87.719246402, 1.0], [41.870821365, -87.719026751, 1.0], [41.962876488, -87.719007339, 1.0], [41.860043969, -87.718894972, 2.0], [41.899616008, -87.718890429, 1.0], [41.896393689, -87.718781743, 1.0], [41.864425655, -87.7187282, 1.0], [41.850865748, -87.718630456, 1.0], [41.8726302, -87.718583517, 1.0], [41.888933668, -87.718563115, 1.0], [41.869902199, -87.718543569, 2.0], [41.870826611, -87.718468623, 1.0], [41.871732109, -87.71844893, 1.0], [41.869901452, -87.718404058, 1.0], [41.930535302, -87.718384312, 1.0], [41.929160221, -87.718342395, 1.0], [41.911797471, -87.718340093, 1.0], [41.967466099, -87.718224147, 2.0], [41.851626433, -87.718215751, 1.0], [41.932820237, -87.718196983, 1.0], [41.965259417, -87.718160803, 1.0], [41.963549508, -87.718111068, 1.0], [41.963491863, -87.718107946, 1.0], [41.948321122, -87.717970786, 1.0], [41.935505551, -87.717958014, 1.0], [41.914369244, -87.717907584, 1.0], [41.865529539, -87.717832854, 1.0], [41.864033702, -87.717792133, 1.0], [41.901377109, -87.717734819, 1.0], [41.861697968, -87.71772276, 1.0], [41.860171924, -87.717678662, 1.0], [41.894485082, -87.7175035, 1.0], [41.970178839, -87.717473628, 1.0], [41.892723015, -87.717454316, 1.0], [41.739501279, -87.717374312, 1.0], [41.849119093, -87.717362565, 1.0], [41.80606126, -87.717327703, 1.0], [41.961078175, -87.717311252, 1.0], [41.961077978, -87.717274487, 2.0], [41.843761482, -87.717212105, 1.0], [41.899101647, -87.717132232, 1.0], [41.969281986, -87.71705571, 1.0], [41.86283033, -87.71702173, 2.0], [41.862832897, -87.716988665, 1.0], [41.693113913, -87.716857779, 1.0], [41.888482319, -87.716786243, 1.0], [41.872634118, -87.716754989, 1.0], [41.871730813, -87.71667188, 1.0], [41.86550928, -87.71661419, 1.0], [41.863865221, -87.71656758, 1.0], [41.86389815, -87.716567264, 1.0], [41.889951797, -87.716518699, 1.0], [41.932832746, -87.716436482, 1.0], [41.858161786, -87.716405807, 1.0], [41.987436503, -87.716336258, 1.0], [41.985616799, -87.716280266, 1.0], [41.852518715, -87.716243476, 1.0], [41.886560206, -87.716062887, 1.0], [41.950171323, -87.716037736, 1.0], [41.920955678, -87.715915219, 2.0], [41.877958324, -87.715800508, 1.0], [41.877906167, -87.715797338, 1.0], [41.967011098, -87.715768556, 1.0], [41.965323123, -87.715714996, 1.0], [41.862850731, -87.715710949, 1.0], [41.961779782, -87.715609498, 1.0], [41.910007135, -87.715579879, 1.0], [41.870522796, -87.715548983, 1.0], [41.866902523, -87.715436986, 1.0], [41.954797348, -87.715393848, 1.0], [41.864635412, -87.715370706, 1.0], [41.858218348, -87.715186544, 1.0], [41.947021829, -87.715178545, 1.0], [41.896170931, -87.715114536, 1.0], [41.88895519, -87.714904997, 1.0], [41.847190206, -87.714870644, 1.0], [41.930737892, -87.714718393, 1.0], [41.955652421, -87.714676037, 1.0], [41.997306221, -87.714592816, 1.0], [41.862405607, -87.71458821, 1.0], [41.925215689, -87.714565961, 1.0], [41.887413612, -87.714523234, 1.0], [41.887413474, -87.714497528, 1.0], [41.961830813, -87.714384636, 1.0], [41.871775601, -87.714284898, 1.0], [41.867260945, -87.714218314, 1.0], [41.917312832, -87.714153637, 1.0], [41.939255484, -87.714121508, 1.0], [41.875413477, -87.714099248, 1.0], [41.918229021, -87.714082317, 1.0], [41.860080901, -87.714019599, 1.0], [41.860004046, -87.71401667, 1.0], [41.941087933, -87.713993511, 1.0], [41.858447816, -87.713972952, 1.0], [41.917317112, -87.713929467, 1.0], [41.867264692, -87.713895199, 1.0], [41.985611859, -87.713834343, 1.0], [41.962947477, -87.713833332, 1.0], [41.854247595, -87.713694133, 1.0], [41.888709801, -87.713673374, 1.0], [41.847238501, -87.713647998, 2.0], [41.845416028, -87.713595853, 1.0], [41.879192083, -87.713548684, 1.0], [41.916381783, -87.713504959, 1.0], [41.84013805, -87.713455952, 1.0], [41.971295994, -87.713443546, 1.0], [41.931051259, -87.713289459, 1.0], [41.855229999, -87.713178098, 1.0], [41.929279997, -87.713060393, 1.0], [41.891826532, -87.713029899, 1.0], [41.864611293, -87.712933257, 3.0], [41.749583769, -87.712763094, 1.0], [41.858229901, -87.712748993, 2.0], [41.898293179, -87.712746934, 1.0], [41.856089054, -87.712688934, 1.0], [41.964664116, -87.712588602, 1.0], [41.964666662, -87.712551808, 1.0], [41.904598353, -87.712546284, 1.0], [41.914068606, -87.712528002, 1.0], [41.961134514, -87.712486822, 1.0], [41.938140531, -87.712448951, 1.0], [41.854482199, -87.712418161, 2.0], [41.932069855, -87.712364501, 1.0], [41.852577345, -87.712355832, 1.0], [41.91824982, -87.712344181, 2.0], [41.915519156, -87.712315542, 1.0], [41.915518977, -87.712282476, 1.0], [41.930450193, -87.712258936, 1.0], [41.969036084, -87.712163729, 1.0], [41.965553431, -87.712116667, 1.0], [41.922295875, -87.712033036, 1.0], [41.876238848, -87.711946907, 1.0], [41.885448417, -87.711923777, 1.0], [41.918549364, -87.711915059, 1.0], [41.84986813, -87.711732381, 1.0], [41.866335979, -87.711649982, 1.0], [41.861975288, -87.711637158, 1.0], [41.951151792, -87.711605843, 1.0], [41.777911394, -87.71141219, 1.0], [41.867295145, -87.711405722, 1.0], [41.931979558, -87.711398834, 1.0], [41.984240028, -87.711346552, 1.0], [41.950236204, -87.711280214, 1.0], [41.854991757, -87.711242292, 1.0], [41.938194336, -87.711235538, 1.0], [41.854736494, -87.711233754, 1.0], [41.862897867, -87.711224399, 2.0], [41.847590355, -87.711218577, 1.0], [41.862897748, -87.711202374, 1.0], [41.845444016, -87.711158629, 1.0], [41.843734071, -87.711109135, 1.0], [41.971214143, -87.710995243, 1.0], [41.880490003, -87.710991365, 1.0], [41.967528132, -87.710895067, 1.0], [41.92892239, -87.710873622, 1.0], [41.876655574, -87.71085966, 1.0], [41.90733266, -87.710712356, 2.0], [41.871443441, -87.710711966, 1.0], [41.959864992, -87.710653457, 1.0], [41.901931351, -87.710592186, 1.0], [41.956195339, -87.710534769, 1.0], [41.863760927, -87.710463445, 1.0], [41.907336534, -87.710414753, 1.0], [41.907336395, -87.710389038, 1.0], [41.859877252, -87.71036164, 2.0], [41.919704275, -87.710320203, 1.0], [41.90462722, -87.710275782, 1.0], [41.772927043, -87.7102689, 1.0], [41.918040981, -87.71026657, 1.0], [41.90462708, -87.710250069, 1.0], [41.931284359, -87.710218553, 1.0], [41.914360623, -87.710203168, 1.0], [41.904626821, -87.710202316, 1.0], [41.894574587, -87.710186177, 1.0], [41.913078836, -87.710160526, 1.0], [41.848917689, -87.710042229, 1.0], [41.886368478, -87.710034565, 1.0], [41.93846497, -87.710031039, 1.0], [41.847290068, -87.709991964, 1.0], [41.845772231, -87.709944306, 1.0], [41.896252678, -87.709931118, 1.0], [41.845366002, -87.709929899, 1.0], [41.92834093, -87.709920136, 2.0], [41.903725064, -87.709898841, 1.0], [41.886370445, -87.70989132, 1.0], [41.983968619, -87.709877971, 1.0], [41.841721113, -87.709836833, 1.0], [41.972741767, -87.70981831, 1.0], [41.87834285, -87.709767392, 1.0], [41.862916488, -87.709597917, 1.0], [41.787014797, -87.709494493, 1.0], [41.883579906, -87.709452068, 1.0], [41.928867803, -87.709411546, 1.0], [41.930645827, -87.709368494, 1.0], [41.883582151, -87.709360238, 1.0], [42.005384054, -87.709326751, 1.0], [41.925555, -87.709315211, 1.0], [41.880933674, -87.709308891, 1.0], [41.865626213, -87.709303577, 1.0], [41.86412761, -87.70925941, 1.0], [41.86383393, -87.709251253, 1.0], [41.903334596, -87.70924877, 1.0], [41.793429535, -87.709234269, 1.0], [41.930771295, -87.709227622, 1.0], [41.875471531, -87.709108672, 1.0], [41.964694351, -87.709054761, 1.0], [41.892457295, -87.708902913, 1.0], [41.963005652, -87.708869019, 1.0], [41.771580054, -87.708837572, 1.0], [41.849081265, -87.708833106, 1.0], [41.870028132, -87.708823855, 2.0], [41.959358352, -87.708823745, 2.0], [41.847472833, -87.708779015, 1.0], [41.864536632, -87.708778176, 2.0], [41.8456778, -87.708726741, 1.0], [41.934333194, -87.708704095, 1.0], [41.955732482, -87.708682677, 1.0], [41.84354518, -87.708666743, 1.0], [41.955732002, -87.708594447, 1.0], [41.971006013, -87.70854818, 1.0], [41.971080103, -87.708547456, 1.0], [41.912828452, -87.708524371, 1.0], [41.969093024, -87.708497007, 1.0], [41.968944805, -87.708491101, 2.0], [41.963589941, -87.708322812, 1.0], [41.963452698, -87.7083168, 1.0], [41.90917962, -87.7082036, 1.0], [41.906462752, -87.708189695, 2.0], [41.919214942, -87.708142407, 1.0], [41.851731112, -87.708124624, 1.0], [41.908273451, -87.708098556, 1.0], [41.863975503, -87.708034718, 1.0], [41.950997387, -87.707934859, 1.0], [41.930525082, -87.707855577, 1.0], [41.928458611, -87.707842691, 1.0], [41.945038851, -87.707779899, 2.0], [41.886397239, -87.707753691, 1.0], [41.810836624, -87.707737465, 1.0], [41.845509245, -87.707506232, 1.0], [41.88360497, -87.707501835, 1.0], [41.901864643, -87.707408047, 1.0], [41.955741678, -87.707348042, 1.0], [41.97084838, -87.707317824, 1.0], [41.885381985, -87.707271494, 1.0], [41.967524642, -87.707225345, 1.0], [41.911937732, -87.707225143, 1.0], [41.923710272, -87.707187224, 1.0], [41.88361104, -87.707105168, 1.0], [41.917024064, -87.706954976, 1.0], [41.916269301, -87.706936637, 2.0], [41.91508634, -87.706900442, 1.0], [41.864089641, -87.706822118, 2.0], [41.994519875, -87.706821036, 1.0], [41.879646295, -87.706728936, 1.0], [41.872771615, -87.706667578, 1.0], [41.970289505, -87.706484879, 1.0], [41.9418677, -87.706483992, 1.0], [41.892745919, -87.706472369, 3.0], [41.892633392, -87.706469796, 1.0], [41.851074338, -87.706449961, 1.0], [41.771623524, -87.706238027, 1.0], [41.772560844, -87.706012607, 1.0], [41.811669391, -87.705953962, 1.0], [41.925975128, -87.705838503, 1.0], [41.958501688, -87.705718036, 1.0], [41.994496779, -87.705607304, 1.0], [41.864074754, -87.705603433, 1.0], [41.954593256, -87.705594624, 1.0], [41.954519146, -87.705591674, 1.0], [41.779586612, -87.705577501, 2.0], [41.861126959, -87.705518463, 1.0], [41.86052039, -87.705502371, 1.0], [41.856378664, -87.705385039, 1.0], [41.972118868, -87.705293859, 1.0], [41.941874651, -87.705245234, 1.0], [41.918227616, -87.705234667, 1.0], [41.934590395, -87.705044743, 1.0], [41.887534905, -87.705021255, 1.0], [41.868233931, -87.704898219, 1.0], [41.86823383, -87.704879863, 1.0], [41.970755442, -87.704873332, 1.0], [41.881905413, -87.704830372, 1.0], [41.967486565, -87.704776763, 1.0], [41.890088412, -87.704768527, 1.0], [41.890090875, -87.704717085, 1.0], [41.791225933, -87.704715878, 1.0], [41.998357581, -87.704553989, 1.0], [41.99792943, -87.704543489, 1.0], [41.880992442, -87.704486793, 2.0], [41.867562058, -87.704482591, 2.0], [41.880991939, -87.704394994, 1.0], [41.871883622, -87.704366801, 2.0], [41.915596562, -87.704352956, 1.0], [41.856270482, -87.704171086, 1.0], [41.933877553, -87.704162347, 1.0], [41.854911845, -87.704129342, 1.0], [41.928407886, -87.704083801, 1.0], [41.862526771, -87.704058362, 1.0], [41.870976217, -87.704037912, 1.0], [41.778033071, -87.704023491, 1.0], [41.941760911, -87.70401869, 1.0], [41.919789907, -87.703881876, 1.0], [41.934523322, -87.703821555, 1.0], [41.885950291, -87.703802846, 1.0], [41.862983609, -87.703793233, 1.0], [41.932882023, -87.703775218, 1.0], [41.93292044, -87.70377484, 1.0], [41.798127674, -87.703687573, 1.0], [41.92919322, -87.703671843, 1.0], [41.838053804, -87.703622952, 1.0], [41.877933128, -87.703580435, 1.0], [41.925704369, -87.703500367, 1.0], [41.963469877, -87.703426385, 1.0], [41.87239985, -87.703421797, 1.0], [41.910744991, -87.703393952, 1.0], [41.844536888, -87.703328171, 1.0], [41.917432282, -87.703320842, 1.0], [41.813592414, -87.703316035, 1.0], [41.939360983, -87.703248382, 1.0], [41.865619997, -87.703139583, 1.0], [41.822614467, -87.703110199, 1.0], [41.821714333, -87.703108019, 1.0], [41.863588895, -87.703075093, 1.0], [41.819013668, -87.70305379, 3.0], [41.774643948, -87.703037455, 2.0], [41.877353099, -87.702899477, 1.0], [41.933884239, -87.702879644, 1.0], [41.999330344, -87.702793237, 1.0], [41.848976489, -87.702715713, 1.0], [41.845411098, -87.702607593, 1.0], [41.99216415, -87.70259176, 1.0], [41.782618691, -87.702504711, 2.0], [41.751086315, -87.702439734, 1.0], [41.866436555, -87.702415658, 1.0], [41.750059737, -87.702402145, 1.0], [41.882836073, -87.702393894, 1.0], [41.876790076, -87.702317506, 1.0], [41.978537341, -87.702251823, 1.0], [41.952129713, -87.702229317, 3.0], [41.872815608, -87.702173016, 1.0], [41.987254883, -87.702110556, 1.0], [41.738254652, -87.702074363, 1.0], [41.771685748, -87.702065624, 2.0], [41.783488852, -87.702045193, 1.0], [41.996417271, -87.7020237, 1.0], [41.914796106, -87.702009403, 1.0], [41.914576519, -87.702000545, 1.0], [41.780296746, -87.701955511, 1.0], [41.819608629, -87.701954703, 1.0], [41.912844619, -87.701947807, 1.0], [41.992923273, -87.701907408, 1.0], [41.795370868, -87.701906601, 1.0], [41.778347998, -87.701901301, 1.0], [41.911247219, -87.701901094, 1.0], [41.778402881, -87.701900763, 2.0], [41.911208782, -87.701897799, 1.0], [41.976712843, -87.701824842, 1.0], [41.872819038, -87.701798472, 1.0], [41.763200307, -87.701555006, 1.0], [41.851031045, -87.70155403, 1.0], [41.782632561, -87.701532946, 1.0], [41.849400719, -87.701511347, 1.0], [41.978886974, -87.701457651, 1.0], [41.852731587, -87.701390474, 5.0], [41.898030419, -87.70130036, 1.0], [41.915636614, -87.701152395, 3.0], [41.992175042, -87.701079777, 1.0], [41.789023773, -87.700989831, 1.0], [41.960176536, -87.700877787, 1.0], [41.867544682, -87.700818729, 1.0], [41.867599564, -87.700818188, 1.0], [41.996490206, -87.70081634, 1.0], [41.867525453, -87.700815247, 1.0], [41.994777498, -87.700756047, 1.0], [41.954895767, -87.700713093, 1.0], [41.901917572, -87.700542052, 1.0], [41.899554426, -87.700477226, 1.0], [41.916595901, -87.700437484, 3.0], [41.897295575, -87.700415048, 1.0], [41.897059543, -87.700410032, 1.0], [41.983848112, -87.700393457, 1.0], [42.019308278, -87.700347371, 1.0], [41.849490033, -87.700288244, 1.0], [41.910941796, -87.700258214, 1.0], [41.910766154, -87.700256276, 3.0], [41.819066637, -87.700210103, 1.0], [41.936051054, -87.700182684, 1.0], [41.819068693, -87.70008535, 1.0], [41.799960212, -87.70007547, 1.0], [41.798431425, -87.70003551, 1.0], [41.868289331, -87.699996334, 1.0], [41.88411748, -87.69987309, 1.0], [42.005076826, -87.699829872, 1.0], [41.878304814, -87.699809323, 1.0], [41.873759572, -87.699670624, 1.0], [41.960238407, -87.699656513, 1.0], [41.86776302, -87.699605019, 1.0], [41.867801437, -87.69960464, 1.0], [41.984938483, -87.699566116, 1.0], [41.873761627, -87.699545765, 1.0], [41.994792775, -87.69954561, 1.0], [41.851851308, -87.699512514, 1.0], [41.779907312, -87.699510196, 2.0], [41.77669327, -87.699424525, 1.0], [41.921672524, -87.699406234, 1.0], [41.951170019, -87.6993824, 1.0], [41.899695961, -87.699271014, 1.0], [41.918521247, -87.699242686, 1.0], [41.898427949, -87.69923948, 1.0], [41.914440414, -87.699213274, 1.0], [41.811102593, -87.699188089, 1.0], [41.853468388, -87.699144174, 1.0], [41.851192994, -87.699071219, 1.0], [41.978826879, -87.69901989, 1.0], [41.868299858, -87.698920505, 1.0], [41.92328318, -87.698872176, 3.0], [42.001210396, -87.698860167, 1.0], [41.798622304, -87.698819709, 2.0], [41.785332386, -87.698444762, 1.0], [41.867720574, -87.698379196, 1.0], [41.996290127, -87.698375621, 1.0], [41.782211626, -87.698354554, 1.0], [41.780353456, -87.698303224, 1.0], [41.780131119, -87.698294419, 1.0], [41.991281049, -87.698208377, 1.0], [41.91853418, -87.6981072, 1.0], [41.912908431, -87.69809318, 1.0], [41.896645418, -87.697971549, 1.0], [42.008496785, -87.697970924, 1.0], [41.896521914, -87.6979691, 1.0], [41.995793614, -87.697913357, 1.0], [41.877418248, -87.697791169, 1.0], [41.977653294, -87.697700212, 1.0], [42.001231364, -87.697690021, 1.0], [41.977655489, -87.697600893, 1.0], [41.868317186, -87.697587608, 1.0], [41.929263698, -87.697537723, 1.0], [41.910212826, -87.69745862, 1.0], [41.990453376, -87.697411029, 1.0], [41.876880974, -87.697403598, 1.0], [41.976743303, -87.69740034, 1.0], [41.924125733, -87.697397656, 1.0], [41.87286591, -87.697362622, 1.0], [41.870140733, -87.697338234, 1.0], [41.97857029, -87.697282863, 2.0], [41.829409915, -87.697249892, 1.0], [41.91917432, -87.697248406, 1.0], [41.871051266, -87.697237419, 1.0], [41.785446394, -87.697226298, 2.0], [41.917906291, -87.697213234, 1.0], [41.97856974, -87.69718357, 1.0], [41.916366517, -87.697166064, 1.0], [41.867381691, -87.697145299, 1.0], [41.914612664, -87.697113674, 1.0], [41.99265763, -87.697035946, 1.0], [41.907125669, -87.696982294, 1.0], [41.879246913, -87.696979888, 1.0], [41.877427291, -87.696946533, 2.0], [41.87489705, -87.696938589, 1.0], [41.98447383, -87.696926181, 1.0], [41.816732248, -87.69691313, 1.0], [41.772949786, -87.696895204, 1.0], [41.814923502, -87.696865006, 1.0], [41.899772861, -87.696801849, 1.0], [41.898406061, -87.696771345, 1.0], [41.897728149, -87.696756039, 1.0], [41.877428855, -87.696733545, 1.0], [41.85188806, -87.696729928, 1.0], [41.896528739, -87.696723874, 1.0], [41.882894911, -87.696646239, 1.0], [41.775422487, -87.69641616, 1.0], [41.845557494, -87.696315575, 1.0], [41.918150951, -87.696299584, 1.0], [41.879517271, -87.696246466, 1.0], [41.846440182, -87.696141661, 1.0], [41.871692279, -87.696041461, 1.0], [41.939400722, -87.696029321, 1.0], [41.916658898, -87.695950678, 3.0], [41.899285093, -87.69593982, 1.0], [41.867803094, -87.695936906, 1.0], [41.994783485, -87.695885417, 1.0], [41.865225852, -87.695867053, 1.0], [41.912591296, -87.695833168, 1.0], [42.011253724, -87.695816663, 1.0], [41.911007615, -87.695786471, 1.0], [41.820995861, -87.695744618, 1.0], [41.909089094, -87.695732087, 1.0], [41.907563119, -87.695699514, 1.0], [41.816824262, -87.695690616, 1.0], [41.85874836, -87.695678098, 1.0], [41.917504819, -87.695582185, 1.0], [41.902935554, -87.695558215, 1.0], [41.903879438, -87.695534127, 1.0], [41.905676731, -87.695501545, 1.0], [41.902007605, -87.695486636, 1.0], [41.896239209, -87.69548527, 1.0], [41.809383242, -87.695459966, 1.0], [41.917506359, -87.69536539, 1.0], [41.903881059, -87.695332071, 1.0], [41.846160861, -87.695259926, 1.0], [41.905678087, -87.695251729, 1.0], [41.845249591, -87.69522861, 1.0], [41.845161759, -87.695225812, 1.0], [41.866517317, -87.695178701, 3.0], [41.982227591, -87.695175776, 1.0], [41.92948912, -87.695135758, 1.0], [41.975847026, -87.695121796, 1.0], [41.895660624, -87.695072307, 1.0], [41.902941011, -87.695058578, 1.0], [41.900213145, -87.695041666, 1.0], [42.003921795, -87.694925913, 1.0], [41.979495628, -87.69490883, 3.0], [41.877448869, -87.694901048, 1.0], [41.773621973, -87.694886916, 1.0], [41.979495342, -87.694857344, 4.0], [41.981320174, -87.694846469, 1.0], [41.785913194, -87.694801653, 1.0], [41.764507679, -87.694801338, 1.0], [41.882914555, -87.694747489, 1.0], [41.916855183, -87.694728891, 1.0], [41.923882924, -87.694688211, 1.0], [41.78000107, -87.694636659, 2.0], [41.871075135, -87.694615677, 1.0], [41.865342341, -87.694606658, 1.0], [41.778104459, -87.694582153, 1.0], [41.863849222, -87.69456278, 1.0], [41.776652542, -87.6945489, 1.0], [41.90926621, -87.694517982, 1.0], [41.877454917, -87.69450809, 1.0], [41.987407266, -87.694436213, 1.0], [41.903587927, -87.694434997, 1.0], [41.858494393, -87.694421518, 1.0], [41.921098715, -87.694407322, 1.0], [41.89870524, -87.694311031, 2.0], [41.928493666, -87.694274737, 1.0], [41.852829251, -87.694242986, 1.0], [41.872900723, -87.694241348, 1.0], [41.800159702, -87.693978079, 1.0], [41.929397225, -87.693909252, 1.0], [42.011295157, -87.693891803, 1.0], [42.011297634, -87.693843943, 1.0], [41.793067368, -87.693780868, 1.0], [41.967573943, -87.693766628, 1.0], [41.876915547, -87.693746032, 1.0], [42.002224321, -87.693658874, 1.0], [41.84647298, -87.693649291, 1.0], [41.961900693, -87.693591729, 1.0], [41.998250177, -87.693558879, 1.0], [41.848289029, -87.693532101, 1.0], [41.917520302, -87.693432602, 1.0], [41.844715359, -87.693417234, 1.0], [41.912789041, -87.693395361, 2.0], [42.012211619, -87.693382186, 1.0], [41.778418812, -87.693372826, 1.0], [41.9110846, -87.693346257, 1.0], [41.864130589, -87.693344819, 1.0], [41.774941308, -87.693286416, 1.0], [41.774902869, -87.693283132, 1.0], [41.7747382, -87.693281103, 1.0], [41.774644879, -87.693278365, 1.0], [41.987394996, -87.693218834, 1.0], [41.814576425, -87.693174416, 1.0], [41.901138409, -87.693151722, 1.0], [41.903901681, -87.693120445, 1.0], [41.854128965, -87.693066465, 1.0], [41.882024194, -87.69304878, 1.0], [41.928505565, -87.692962691, 1.0], [41.966751644, -87.692954868, 1.0], [41.786420937, -87.692838575, 1.0], [41.788243045, -87.692820438, 1.0], [41.923784675, -87.692815146, 1.0], [41.845326685, -87.692809245, 1.0], [41.905702802, -87.692790198, 1.0], [41.922151603, -87.692769013, 1.0], [41.880200232, -87.692729156, 1.0], [41.780950905, -87.69272069, 1.0], [41.882025095, -87.692718273, 1.0], [41.902033246, -87.692698308, 1.0], [41.899324159, -87.692604172, 1.0], [41.967731799, -87.692547922, 1.0], [41.967545163, -87.692542438, 1.0], [42.005307887, -87.692513162, 1.0], [42.001816818, -87.692430462, 1.0], [41.972976823, -87.692208512, 1.0], [41.983154882, -87.692176294, 1.0], [41.909085286, -87.692091435, 1.0], [41.972978827, -87.692076105, 1.0], [41.907095459, -87.692045223, 1.0], [41.917534343, -87.692014206, 1.0], [41.904197196, -87.69198239, 1.0], [41.98374329, -87.69189086, 1.0], [41.852865365, -87.69186045, 1.0], [41.851034923, -87.691856716, 1.0], [41.850126439, -87.691832759, 1.0], [41.981975673, -87.691827687, 1.0], [41.980070813, -87.691758539, 1.0], [41.849217503, -87.69172806, 1.0], [41.819030429, -87.691706641, 1.0], [41.82048465, -87.691662775, 1.0], [41.820252832, -87.691430294, 1.0], [41.84832034, -87.691274571, 1.0], [42.003948006, -87.691261161, 1.0], [41.789095862, -87.69122785, 1.0], [41.848319786, -87.691175479, 1.0], [41.850138986, -87.691131592, 3.0], [41.998607064, -87.691127231, 1.0], [41.998439658, -87.691125235, 1.0], [41.983159855, -87.691102266, 1.0], [42.010442575, -87.691096502, 1.0], [41.939433567, -87.691089128, 1.0], [41.808332454, -87.691076137, 1.0], [41.996512912, -87.691067353, 1.0], [41.782286241, -87.691042805, 1.0], [41.993235789, -87.690967872, 1.0], [42.011363066, -87.690818628, 3.0], [41.905730034, -87.690787835, 1.0], [41.76943556, -87.690705457, 1.0], [41.984156423, -87.690687663, 1.0], [41.999532057, -87.690672777, 1.0], [41.76740997, -87.690652359, 1.0], [41.977690754, -87.690627633, 1.0], [41.896252886, -87.690555944, 1.0], [41.980242428, -87.690550484, 1.0], [41.899344853, -87.69041474, 1.0], [41.802008396, -87.690365424, 1.0], [41.800353336, -87.690319622, 1.0], [41.899344297, -87.69031557, 1.0], [41.904815627, -87.690194549, 1.0], [41.983165354, -87.69012386, 1.0], [41.967229561, -87.690085626, 1.0], [41.789377247, -87.690018629, 1.0], [41.918356805, -87.689907955, 1.0], [41.902988981, -87.689885947, 1.0], [41.768231198, -87.689793719, 1.0], [41.872946727, -87.68970269, 1.0], [41.979521411, -87.68969713, 1.0], [41.909315883, -87.68965342, 1.0], [41.908923397, -87.689642668, 2.0], [41.907416589, -87.6896027, 1.0], [41.905555732, -87.68955527, 1.0], [41.98371596, -87.689459949, 1.0], [41.779176188, -87.689434991, 2.0], [41.874964529, -87.689351983, 1.0], [41.896328295, -87.689321052, 1.0], [41.896152653, -87.689319144, 1.0], [41.788302206, -87.689167668, 1.0], [41.82837672, -87.689129317, 1.0], [41.964858499, -87.689094638, 1.0], [41.800074784, -87.689093787, 1.0], [41.777291241, -87.6890139, 1.0], [42.01291101, -87.688900633, 1.0], [41.878962554, -87.688801432, 2.0], [41.878163858, -87.688780082, 1.0], [41.902999225, -87.688776477, 2.0], [41.95979013, -87.688638314, 1.0], [41.764610169, -87.688583635, 1.0], [41.994940235, -87.688574301, 3.0], [41.99467951, -87.688569575, 1.0], [41.915749964, -87.688471834, 1.0], [41.911279555, -87.688461724, 1.0], [41.90919645, -87.688420236, 1.0], [41.907596343, -87.688381236, 1.0], [41.907242274, -87.688370106, 1.0], [41.816813466, -87.688350106, 1.0], [41.816536269, -87.68834555, 1.0], [41.771260846, -87.688315416, 1.0], [41.89098765, -87.688280232, 1.0], [41.877526859, -87.688232019, 1.0], [41.945556312, -87.688223009, 1.0], [41.901190278, -87.688199595, 1.0], [41.917243399, -87.688085703, 1.0], [41.898456057, -87.688028766, 1.0], [41.760087101, -87.688013153, 1.0], [41.811108933, -87.688007507, 1.0], [41.758146575, -87.687959292, 1.0], [41.934204659, -87.687944171, 1.0], [41.895730089, -87.68786154, 1.0], [41.781022442, -87.687850954, 1.0], [41.913987358, -87.687839273, 1.0], [42.01843402, -87.687740859, 1.0], [41.92595405, -87.68768191, 1.0], [41.779201903, -87.68766023, 2.0], [41.906661868, -87.687637551, 2.0], [41.977731519, -87.687622545, 1.0], [41.912130752, -87.687571413, 1.0], [41.893011628, -87.687565702, 1.0], [41.906664137, -87.687553035, 1.0], [41.773734648, -87.687550095, 1.0], [41.920206582, -87.687493669, 1.0], [41.872058601, -87.68743886, 1.0], [41.781895226, -87.687380224, 1.0], [41.870241515, -87.687369036, 1.0], [41.871149562, -87.687315834, 1.0], [41.913251611, -87.687299262, 1.0], [41.778694859, -87.687287688, 2.0], [41.873877048, -87.687262667, 1.0], [41.911239791, -87.687246071, 1.0], [41.776872379, -87.687239987, 1.0], [41.952671872, -87.687213816, 1.0], [41.775107546, -87.687195376, 1.0], [41.909153858, -87.687189956, 1.0], [41.869332042, -87.687168918, 1.0], [41.907531778, -87.687147535, 1.0], [41.905465053, -87.687091232, 2.0], [42.01106485, -87.687068421, 1.0], [41.765800217, -87.686944209, 1.0], [41.749978958, -87.686883073, 1.0], [41.78103885, -87.686864519, 1.0], [41.915450002, -87.686858241, 1.0], [41.762303453, -87.686851017, 1.0], [41.762322662, -87.686850824, 1.0], [41.954036322, -87.686828726, 1.0], [41.895147984, -87.686827955, 1.0], [41.867515838, -87.686768671, 1.0], [41.9330941, -87.68663232, 1.0], [41.91529501, -87.686624663, 1.0], [41.782867725, -87.686585824, 1.0], [41.912580624, -87.686563889, 1.0], [41.796783888, -87.686563282, 1.0], [41.916207938, -87.686464805, 1.0], [41.919110794, -87.686369351, 1.0], [41.999735178, -87.686285409, 1.0], [41.784075886, -87.686218022, 1.0], [42.012824512, -87.686207952, 1.0], [42.013214164, -87.686204003, 1.0], [41.996622677, -87.686180824, 1.0], [41.782398888, -87.68617622, 1.0], [41.87002051, -87.68613396, 1.0], [41.869960119, -87.686130898, 1.0], [41.91135917, -87.686028812, 1.0], [41.866147762, -87.68602617, 1.0], [41.91401764, -87.685906425, 1.0], [41.771299191, -87.685862558, 1.0], [41.901217483, -87.685719842, 1.0], [41.899397785, -87.685672111, 1.0], [41.85264121, -87.685659509, 1.0], [41.874984297, -87.685547801, 1.0], [41.901221852, -87.68552144, 1.0], [41.999618212, -87.685495618, 1.0], [41.891131074, -87.685483846, 1.0], [41.999617963, -87.685451473, 1.0], [41.902107796, -87.685442691, 1.0], [41.996898045, -87.685376056, 1.0], [41.899404048, -87.685323094, 1.0], [41.779235322, -87.685309777, 1.0], [41.897589713, -87.685253283, 1.0], [41.86446615, -87.685162045, 1.0], [41.884671732, -87.685104751, 1.0], [41.832676201, -87.685086582, 1.0], [41.882100231, -87.685079332, 1.0], [41.895774673, -87.6850586, 1.0], [41.830911446, -87.685053018, 1.0], [41.877563794, -87.685044398, 1.0], [41.874687717, -87.685025731, 1.0], [41.919492868, -87.685020679, 1.0], [41.974012095, -87.685004974, 1.0], [42.012998725, -87.684984517, 2.0], [41.872566139, -87.684977409, 1.0], [41.958432969, -87.684957024, 1.0], [41.941313781, -87.68481806, 1.0], [41.776817439, -87.684795188, 1.0], [41.877565108, -87.68479102, 1.0], [41.882103874, -87.684752469, 1.0], [41.907180442, -87.684700758, 1.0], [41.873911996, -87.684699442, 1.0], [41.882106182, -87.684675329, 1.0], [41.813131283, -87.684564717, 1.0], [41.691758796, -87.684559212, 1.0], [42.018621792, -87.684540995, 1.0], [42.018454282, -87.684520617, 1.0], [41.765838575, -87.68449889, 1.0], [41.899717695, -87.68449345, 1.0], [41.765651932, -87.684493439, 1.0], [41.897972128, -87.68445235, 1.0], [41.763925492, -87.684444855, 1.0], [41.897047207, -87.684432328, 3.0], [41.999636529, -87.684365993, 1.0], [41.805314403, -87.684357495, 1.0], [41.853885228, -87.68435491, 1.0], [41.854809472, -87.6842538, 1.0], [41.952259746, -87.684207145, 1.0], [41.999638358, -87.6842041, 1.0], [41.924949144, -87.684182739, 1.0], [41.768320306, -87.684169629, 1.0], [42.014839859, -87.683975942, 1.0], [41.881498415, -87.683961731, 3.0], [42.014779344, -87.683950799, 1.0], [41.856660018, -87.683930416, 2.0], [41.878232347, -87.68388831, 1.0], [41.998821154, -87.683818762, 1.0], [41.998395746, -87.683808373, 1.0], [41.805371499, -87.683777403, 1.0], [41.943151514, -87.683689374, 1.0], [41.780332016, -87.683670856, 1.0], [41.780351225, -87.683670663, 1.0], [42.019475696, -87.683652771, 1.0], [41.953112397, -87.683580879, 1.0], [41.90938022, -87.683535946, 1.0], [42.017948937, -87.683476951, 1.0], [41.905471845, -87.683432312, 1.0], [41.968695338, -87.683330616, 1.0], [41.897627979, -87.683284116, 2.0], [41.899444352, -87.683228963, 1.0], [41.883938619, -87.68309239, 1.0], [41.86902457, -87.682773608, 1.0], [41.884230364, -87.682758922, 1.0], [41.991833854, -87.682745789, 1.0], [42.015139625, -87.682637107, 1.0], [41.920920037, -87.682625201, 1.0], [41.998435519, -87.682593935, 1.0], [41.998419034, -87.682590424, 1.0], [41.996997208, -87.682531334, 1.0], [41.883051362, -87.682455068, 2.0], [41.995064741, -87.682433304, 1.0], [41.99508395, -87.682433108, 1.0], [41.994987867, -87.68242673, 1.0], [41.994735332, -87.682414588, 1.0], [41.780357579, -87.682369028, 1.0], [41.881228497, -87.682334026, 1.0], [42.015137831, -87.682320658, 1.0], [41.879919234, -87.682288562, 1.0], [42.014020116, -87.682173826, 1.0], [41.903571107, -87.682158539, 3.0], [41.856685299, -87.682094784, 1.0], [42.005703817, -87.681923822, 2.0], [42.005679058, -87.681913036, 1.0], [42.005640538, -87.681895033, 1.0], [41.879924884, -87.681833166, 1.0], [41.826671796, -87.681701933, 1.0], [42.015411281, -87.681666533, 1.0], [41.793836094, -87.681631247, 1.0], [41.884174412, -87.681602707, 1.0], [41.958136502, -87.681548173, 2.0], [41.880913833, -87.68152935, 2.0], [41.993061721, -87.681508318, 1.0], [42.000632609, -87.68144945, 1.0], [41.999935438, -87.681423455, 1.0], [41.998771676, -87.681383829, 1.0], [41.932844752, -87.681361048, 1.0], [41.920737163, -87.681348361, 1.0], [41.932828141, -87.681335491, 1.0], [41.910412947, -87.681273416, 1.0], [41.932772822, -87.681258877, 1.0], [41.694627085, -87.681246004, 1.0], [41.993133658, -87.68112869, 1.0], [41.918455402, -87.681118062, 1.0], [41.99270274, -87.681114697, 1.0], [41.992450247, -87.681109918, 1.0], [42.015128152, -87.681099047, 1.0], [41.775031144, -87.680960121, 1.0], [41.857026946, -87.680883634, 1.0], [41.994246188, -87.680845112, 1.0], [42.01512386, -87.680826782, 1.0], [42.016465687, -87.680813065, 3.0], [41.878670445, -87.680810401, 2.0], [42.015123588, -87.680778946, 1.0], [41.898579646, -87.68076203, 1.0], [41.902196111, -87.6806848, 1.0], [41.877618436, -87.680641178, 1.0], [41.905960252, -87.680517888, 1.0], [42.015475893, -87.680480955, 1.0], [42.015692671, -87.680478738, 1.0], [42.016117994, -87.680474388, 1.0], [42.01717172, -87.68046729, 1.0], [42.017229344, -87.680466701, 1.0], [42.017317153, -87.680465803, 1.0], [42.018351649, -87.680455221, 1.0], [41.979655672, -87.680427705, 1.0], [41.872320506, -87.680371975, 1.0], [42.013227324, -87.680290526, 1.0], [41.955077742, -87.680281574, 1.0], [41.954133663, -87.680269153, 1.0], [41.894940672, -87.680259153, 1.0], [41.881262865, -87.680170776, 1.0], [41.998569886, -87.680160816, 1.0], [41.946844307, -87.68014138, 1.0], [41.918213669, -87.680110097, 1.0], [41.857615164, -87.680084762, 1.0], [41.915175336, -87.680027184, 1.0], [41.933585796, -87.679931214, 1.0], [41.993571267, -87.679906603, 3.0], [41.933552616, -87.679887451, 1.0], [41.878686509, -87.679774731, 1.0], [41.925003207, -87.6796844, 1.0], [41.876915862, -87.679667927, 1.0], [41.925005616, -87.679625581, 1.0], [41.900153822, -87.679618317, 1.0], [41.854873693, -87.679609781, 1.0], [41.851212541, -87.6795553, 1.0], [41.850304181, -87.679553538, 1.0], [42.017915454, -87.67951392, 1.0], [42.014034989, -87.679480071, 1.0], [41.89480993, -87.679467131, 1.0], [41.933176411, -87.679362072, 1.0], [42.000332475, -87.679340769, 2.0], [41.969673586, -87.679213202, 1.0], [41.85580156, -87.679181872, 1.0], [41.884176992, -87.679160585, 1.0], [41.954725546, -87.679152846, 3.0], [41.952327015, -87.679136935, 1.0], [41.965616987, -87.67909659, 1.0], [41.924291848, -87.679096372, 1.0], [41.943210282, -87.679057381, 1.0], [42.018637255, -87.67904652, 2.0], [41.963882352, -87.679044475, 1.0], [42.011329484, -87.679044147, 1.0], [42.005240761, -87.678672383, 1.0], [41.95106475, -87.678668265, 1.0], [42.006472871, -87.678667109, 1.0], [41.909352007, -87.678569299, 2.0], [41.970585569, -87.678409578, 1.0], [41.970585443, -87.678387516, 1.0], [41.877470199, -87.678222877, 2.0], [41.935313112, -87.678215614, 1.0], [41.934401874, -87.678188188, 1.0], [41.877469989, -87.67818616, 1.0], [41.963287119, -87.678127672, 1.0], [41.893158124, -87.67806259, 1.0], [42.005587861, -87.677944002, 1.0], [41.896818243, -87.677940695, 1.0], [41.895896023, -87.677913394, 1.0], [41.891529648, -87.677862542, 1.0], [41.973002456, -87.677796431, 1.0], [41.972804843, -87.677791102, 1.0], [41.892256138, -87.677733913, 1.0], [41.920499712, -87.677720464, 1.0], [41.882217488, -87.677696999, 1.0], [41.850329164, -87.677677715, 1.0], [41.793879459, -87.677677603, 1.0], [41.967603853, -87.677664249, 1.0], [41.918710098, -87.677654273, 1.0], [41.965888447, -87.677615652, 1.0], [41.916802509, -87.677592968, 1.0], [41.915240883, -87.677564865, 1.0], [41.915106402, -87.677562567, 1.0], [41.963764094, -87.677556544, 1.0], [41.962021226, -87.677504557, 1.0], [41.961927908, -87.677501837, 1.0], [41.961966324, -87.677501443, 1.0], [41.908560535, -87.677409143, 1.0], [41.906309934, -87.677351362, 1.0], [41.901720793, -87.67721467, 1.0], [41.998742314, -87.677193855, 1.0], [41.993610453, -87.677154603, 1.0], [41.992293024, -87.677116635, 1.0], [41.898026469, -87.677112909, 2.0], [41.897241474, -87.677087888, 1.0], [41.855816877, -87.677056379, 1.0], [41.779273063, -87.676972155, 2.0], [41.932298234, -87.676952837, 1.0], [42.008932786, -87.676941961, 1.0], [41.891258081, -87.676921427, 1.0], [41.853082308, -87.676831067, 1.0], [41.924602686, -87.676822268, 1.0], [41.779274948, -87.676821816, 1.0], [41.858543061, -87.676775217, 1.0], [41.932302587, -87.676754338, 1.0], [41.853081741, -87.676731968, 1.0], [42.014455556, -87.676719584, 1.0], [41.908468358, -87.676645953, 1.0], [41.877161446, -87.676536946, 6.0], [41.939595475, -87.676536185, 1.0], [41.979210642, -87.676497026, 2.0], [42.00651246, -87.67647013, 1.0], [41.975079939, -87.67637766, 1.0], [41.932308633, -87.676372067, 1.0], [41.973735064, -87.676339997, 1.0], [41.972661871, -87.67630322, 1.0], [41.797534549, -87.676184401, 1.0], [41.96418099, -87.676077825, 1.0], [41.962026452, -87.676019079, 1.0], [41.962100541, -87.676018317, 1.0], [41.990740957, -87.675878227, 1.0], [41.906139084, -87.675788165, 1.0], [41.917797877, -87.67553622, 1.0], [41.885026163, -87.67552729, 1.0], [41.748089247, -87.675475939, 2.0], [41.893197887, -87.675417738, 1.0], [42.016788451, -87.675341367, 1.0], [41.884097043, -87.675254052, 1.0], [41.960583812, -87.67520297, 3.0], [41.776589139, -87.675052781, 1.0], [41.946907602, -87.674887839, 1.0], [41.922025604, -87.674860785, 1.0], [41.854028041, -87.674732825, 1.0], [41.898577891, -87.674686658, 1.0], [41.768430668, -87.674630325, 1.0], [41.895314447, -87.674591636, 1.0], [41.854032519, -87.67455659, 1.0], [41.874342594, -87.674531651, 2.0], [41.832316863, -87.674504108, 1.0], [41.800603961, -87.674495309, 1.0], [41.941444089, -87.674447845, 1.0], [41.852198325, -87.674377204, 1.0], [41.974829721, -87.674375979, 1.0], [42.00257545, -87.674233247, 1.0], [42.006546138, -87.67420698, 1.0], [41.965626736, -87.67408474, 1.0], [41.964306598, -87.674054227, 1.0], [42.004785972, -87.674008073, 1.0], [41.899605532, -87.673956149, 1.0], [42.002581739, -87.673894703, 1.0], [41.691431658, -87.67385308, 1.0], [41.903927026, -87.673838216, 1.0], [41.911314422, -87.673824633, 1.0], [41.990778534, -87.673817911, 2.0], [42.001670004, -87.673779029, 1.0], [41.990780982, -87.673766387, 1.0], [42.002585683, -87.673626086, 1.0], [42.022535238, -87.673511904, 1.0], [41.900217652, -87.673505389, 1.0], [41.905516604, -87.673476544, 1.0], [42.001678506, -87.673348489, 1.0], [41.9044427, -87.673318621, 1.0], [42.003500178, -87.673267117, 2.0], [41.800289545, -87.67326624, 1.0], [41.895973623, -87.673255236, 4.0], [42.017006715, -87.673208421, 1.0], [41.917842071, -87.673195266, 1.0], [42.011438423, -87.673148252, 1.0], [42.001682746, -87.67313138, 1.0], [41.678506923, -87.673088202, 1.0], [41.678542576, -87.673084177, 1.0], [41.792994022, -87.673055061, 1.0], [42.011442705, -87.672938469, 1.0], [41.957889706, -87.672936521, 1.0], [42.011442451, -87.672894316, 1.0], [42.004653191, -87.672868878, 1.0], [42.003508784, -87.67285496, 1.0], [41.828119219, -87.672782303, 1.0], [41.780659276, -87.672723314, 1.0], [41.778683165, -87.672684934, 1.0], [41.824279388, -87.672678686, 1.0], [41.970129865, -87.672633596, 1.0], [41.890893195, -87.672631766, 1.0], [41.970009106, -87.672631167, 1.0], [41.969918532, -87.672628426, 1.0], [41.911222281, -87.672594834, 1.0], [42.003765071, -87.672565332, 1.0], [41.909317474, -87.672541002, 1.0], [41.7734325, -87.672540855, 1.0], [42.017178415, -87.672525852, 1.0], [41.965851017, -87.672523375, 1.0], [42.016541612, -87.672499325, 1.0], [41.771319074, -87.672485562, 1.0], [41.964012149, -87.67247987, 1.0], [42.022526311, -87.672437356, 1.0], [41.801250732, -87.672431169, 1.0], [42.022526099, -87.672400555, 1.0], [42.019381225, -87.672392642, 1.0], [41.877532811, -87.672387519, 1.0], [42.013058563, -87.672380833, 1.0], [42.011795997, -87.67233871, 1.0], [41.900386386, -87.672306171, 1.0], [42.010832591, -87.672304529, 1.0], [41.956947412, -87.672280804, 1.0], [42.009413572, -87.672256669, 1.0], [41.854974177, -87.672234415, 1.0], [41.943294688, -87.67223439, 1.0], [41.878810709, -87.67222747, 1.0], [41.907015872, -87.672204722, 1.0], [41.804232134, -87.672147455, 1.0], [41.973403199, -87.672070215, 1.0], [41.691511718, -87.672025251, 1.0], [41.752896509, -87.671996572, 1.0], [41.751296314, -87.671950697, 1.0], [41.734731643, -87.671948467, 1.0], [42.006585111, -87.671918018, 1.0], [41.793140731, -87.671843405, 1.0], [41.855890913, -87.671784489, 1.0], [41.967026041, -87.671658149, 1.0], [41.907555876, -87.671622385, 1.0], [41.90328017, -87.671589394, 1.0], [41.989127393, -87.671583804, 1.0], [41.989190506, -87.67158315, 1.0], [41.905595784, -87.671499358, 1.0], [41.947842049, -87.671316202, 1.0], [42.007816336, -87.671283441, 1.0], [42.014909923, -87.671261393, 1.0], [41.76948137, -87.671225068, 1.0], [41.908313611, -87.671203105, 1.0], [41.942673878, -87.671174856, 1.0], [41.942687598, -87.671174714, 1.0], [42.014911903, -87.671128898, 1.0], [41.901622678, -87.671117956, 1.0], [41.883230736, -87.671109604, 1.0], [41.76417309, -87.671085377, 1.0], [41.970181145, -87.671055522, 1.0], [42.001720122, -87.671044957, 1.0], [41.898957591, -87.671042643, 1.0], [41.920601304, -87.671035667, 2.0], [41.921509632, -87.671033623, 2.0], [41.762021221, -87.671026866, 1.0], [41.897623675, -87.671005003, 2.0], [42.011475373, -87.670987922, 1.0], [41.91240936, -87.670962383, 1.0], [41.9659462, -87.670944951, 4.0], [41.96579798, -87.670939132, 2.0], [42.010259327, -87.670923267, 1.0], [41.851226108, -87.670907607, 1.0], [42.014916096, -87.670904385, 2.0], [41.962081826, -87.670852613, 1.0], [41.962136707, -87.670852044, 1.0], [41.960204455, -87.670794849, 1.0], [41.994430101, -87.670793143, 1.0], [42.021783688, -87.670715337, 1.0], [41.979808378, -87.670679936, 1.0], [41.884643948, -87.670621277, 1.0], [42.004790901, -87.670575279, 3.0], [41.775748312, -87.670570368, 1.0], [42.003026112, -87.67052737, 1.0], [41.978898892, -87.670479733, 1.0], [41.891467962, -87.670462598, 1.0], [42.000451645, -87.670454755, 1.0], [41.906917939, -87.670449739, 1.0], [42.017728376, -87.670341598, 1.0], [41.899661174, -87.670275018, 1.0], [41.852256947, -87.670258304, 2.0], [41.913376455, -87.670206562, 1.0], [41.892380128, -87.670174034, 1.0], [42.008476081, -87.670055017, 1.0], [42.00711743, -87.670006581, 3.0], [42.005832909, -87.669964736, 2.0], [41.750269446, -87.669960322, 2.0], [41.855004898, -87.669947281, 1.0], [42.021148015, -87.669934375, 1.0], [41.985322251, -87.669865064, 1.0], [41.900457365, -87.669862723, 1.0], [41.898931322, -87.669819749, 1.0], [41.898816049, -87.669817269, 1.0], [42.019366321, -87.669809371, 3.0], [41.959762334, -87.669792024, 1.0], [41.897712678, -87.669784614, 1.0], [41.854092862, -87.669784187, 1.0], [41.963409124, -87.669746832, 1.0], [41.739343053, -87.669735693, 1.0], [41.978227375, -87.669670242, 1.0], [41.939682201, -87.66966577, 1.0], [41.975600802, -87.669605573, 1.0], [42.022257277, -87.669565859, 1.0], [41.989431234, -87.669550197, 1.0], [41.939684244, -87.669544458, 1.0], [41.940949316, -87.669542364, 1.0], [42.019809042, -87.669491958, 1.0], [42.020209668, -87.669487791, 1.0], [41.749470808, -87.669477483, 1.0], [41.965928835, -87.669364014, 1.0], [42.004136147, -87.669342179, 1.0], [41.88266619, -87.669341743, 1.0], [41.937860684, -87.669302416, 1.0], [41.960261199, -87.669216961, 1.0], [41.903318608, -87.669215967, 1.0], [41.907004042, -87.669203487, 1.0], [41.736814985, -87.6691645, 1.0], [41.731422157, -87.669121138, 1.0], [41.954936563, -87.669066366, 1.0], [41.855013463, -87.669055223, 1.0], [41.753925009, -87.669035779, 1.0], [41.8960448, -87.668942396, 1.0], [41.949455532, -87.668921091, 1.0], [41.750285238, -87.668893737, 1.0], [42.014950962, -87.668865392, 1.0], [41.833211884, -87.668855047, 1.0], [41.976183622, -87.668838257, 1.0], [42.011512218, -87.668816552, 1.0], [41.943985494, -87.668779396, 1.0], [41.909098044, -87.668755627, 1.0], [41.90044474, -87.66862864, 1.0], [42.007863713, -87.668560171, 2.0], [41.999932597, -87.668488213, 1.0], [41.879466833, -87.668467867, 2.0], [41.997281507, -87.668453268, 1.0], [42.006641921, -87.668451473, 1.0], [41.931592966, -87.668367817, 1.0], [41.988661071, -87.668292855, 1.0], [41.971869207, -87.668272662, 1.0], [41.749521463, -87.668271295, 1.0], [41.881436062, -87.668271189, 1.0], [41.89424067, -87.668266916, 1.0], [42.02011466, -87.668244893, 1.0], [42.020312229, -87.668242834, 1.0], [41.883277212, -87.668230062, 1.0], [42.018602516, -87.66822753, 2.0], [42.017532073, -87.668190845, 1.0], [42.017499124, -87.668187508, 1.0], [41.791415288, -87.668164785, 4.0], [41.924522422, -87.668121549, 1.0], [41.94517794, -87.668083309, 1.0], [41.878874134, -87.668003992, 1.0], [41.943354976, -87.667944204, 1.0], [41.829515499, -87.667931946, 1.0], [41.780631347, -87.66788394, 1.0], [42.008345482, -87.667878135, 1.0], [41.826235613, -87.667848502, 1.0], [42.007439721, -87.667847101, 1.0], [41.881441785, -87.667837814, 7.0], [41.774958233, -87.66777028, 1.0], [41.962382123, -87.667735242, 1.0], [41.962456212, -87.667734471, 3.0], [41.882368475, -87.667688654, 1.0], [41.857771474, -87.667639114, 1.0], [41.753944135, -87.667598944, 1.0], [41.857771113, -87.667576714, 1.0], [41.905589443, -87.667554029, 1.0], [41.81131838, -87.667485719, 1.0], [41.953426286, -87.667479183, 1.0], [41.989408202, -87.667468481, 1.0], [41.989375252, -87.667465146, 1.0], [41.809836197, -87.667438711, 1.0], [41.901241879, -87.667433896, 2.0], [41.93878838, -87.66743301, 1.0], [41.748486933, -87.667336511, 1.0], [42.021126777, -87.667214932, 1.0], [41.779411406, -87.667155952, 1.0], [42.016068642, -87.667109483, 1.0], [41.852309857, -87.667071763, 1.0], [41.749632477, -87.667064481, 1.0], [41.749333301, -87.667056581, 1.0], [41.94519384, -87.66703921, 1.0], [42.017137953, -87.666951124, 1.0], [41.910640625, -87.666917401, 1.0], [41.977127354, -87.666897675, 1.0], [41.965925388, -87.66687471, 1.0], [42.009105214, -87.666862033, 1.0], [41.974390997, -87.666830588, 1.0], [41.880612385, -87.666781505, 1.0], [41.87964349, -87.666751182, 1.0], [42.01390135, -87.666742046, 3.0], [41.982581828, -87.66672678, 1.0], [42.017142117, -87.666722923, 1.0], [41.976217969, -87.666715921, 1.0], [42.009109848, -87.666714805, 4.0], [42.00667554, -87.66667767, 3.0], [42.00789382, -87.666653912, 2.0], [41.73321353, -87.666637005, 1.0], [42.00667522, -87.666622483, 2.0], [41.755779843, -87.666612415, 1.0], [41.808588241, -87.666611662, 1.0], [41.748493383, -87.666555889, 1.0], [41.990843094, -87.666467702, 1.0], [41.743028921, -87.666462192, 1.0], [42.020537666, -87.666422486, 7.0], [41.990842816, -87.666419885, 1.0], [41.867989472, -87.666417011, 1.0], [41.901543332, -87.666416928, 1.0], [41.945535898, -87.666399727, 1.0], [41.907852199, -87.666395351, 1.0], [41.769832073, -87.666382614, 1.0], [41.743031176, -87.666377891, 1.0], [41.896087543, -87.666374522, 1.0], [41.814997466, -87.666369113, 1.0], [41.990842517, -87.66636839, 1.0], [41.767660975, -87.666320791, 1.0], [41.990844983, -87.666320544, 1.0], [41.811753244, -87.666285387, 1.0], [41.862025293, -87.666258728, 2.0], [41.89751901, -87.666198011, 1.0], [41.859351996, -87.666191069, 1.0], [41.896942627, -87.666181972, 1.0], [41.80807526, -87.666173157, 2.0], [41.830493118, -87.666153241, 1.0], [41.895172359, -87.666141629, 1.0], [41.857469102, -87.666133553, 1.0], [41.892444409, -87.666111255, 2.0], [41.990846423, -87.666096144, 1.0], [41.854793059, -87.66606593, 1.0], [41.897910409, -87.666021302, 1.0], [41.968077375, -87.666021246, 1.0], [41.800403816, -87.665970337, 1.0], [41.752987691, -87.665933998, 1.0], [41.898823715, -87.665930983, 1.0], [41.990848162, -87.665923238, 1.0], [41.751261264, -87.665889581, 1.0], [41.882379941, -87.665881802, 2.0], [41.899734447, -87.665870075, 1.0], [41.953337081, -87.665822104, 2.0], [41.953356289, -87.665821904, 1.0], [41.898825733, -87.665806075, 1.0], [41.747824875, -87.665800582, 1.0], [41.747769971, -87.665797486, 1.0], [41.747583348, -87.665795755, 1.0], [41.963457427, -87.665771631, 1.0], [41.745911824, -87.665754439, 1.0], [41.975336874, -87.665735846, 3.0], [41.744369317, -87.665719117, 1.0], [42.001982382, -87.665630295, 1.0], [41.965741907, -87.665523485, 2.0], [41.961639269, -87.665514852, 1.0], [41.764889415, -87.665407462, 1.0], [41.748508547, -87.665386731, 1.0], [41.775361469, -87.665375807, 1.0], [41.748508419, -87.665364745, 1.0], [41.942486166, -87.665299405, 1.0], [41.949623861, -87.665298405, 1.0], [42.021461402, -87.665297728, 1.0], [41.909464471, -87.66522133, 2.0], [41.907776508, -87.665176478, 1.0], [41.957084531, -87.665154315, 1.0], [41.880194, -87.665148099, 3.0], [41.963923, -87.665138021, 1.0], [41.906126939, -87.665127554, 1.0], [42.013929731, -87.665015933, 1.0], [42.007148817, -87.665009645, 1.0], [42.007187234, -87.665009243, 1.0], [41.744872702, -87.664977363, 1.0], [41.793663544, -87.664973121, 1.0], [42.005861551, -87.664967929, 1.0], [41.762101347, -87.664959881, 1.0], [41.894290016, -87.664949773, 1.0], [41.897401921, -87.664939363, 1.0], [41.741228031, -87.664938212, 1.0], [41.89943264, -87.664936553, 1.0], [42.01552902, -87.664918232, 1.0], [41.806273146, -87.664908099, 1.0], [41.933364754, -87.664891102, 1.0], [41.981130434, -87.664888262, 1.0], [41.894292269, -87.664865273, 1.0], [41.967118263, -87.664839881, 1.0], [41.881476477, -87.66483362, 1.0], [42.012806272, -87.66482899, 2.0], [41.802386626, -87.664801788, 1.0], [41.947055097, -87.664795891, 1.0], [42.019954534, -87.664772522, 1.0], [41.876388206, -87.664758134, 1.0], [42.009145091, -87.664753261, 2.0], [42.012808566, -87.664751692, 3.0], [42.018222741, -87.664735462, 2.0], [41.753356628, -87.664724438, 1.0], [41.958489742, -87.664713152, 1.0], [41.974065711, -87.664690007, 1.0], [42.019676874, -87.664687108, 1.0], [41.751556088, -87.664677158, 1.0], [41.893382783, -87.664669076, 1.0], [41.732098332, -87.664574912, 1.0], [41.74574008, -87.664535966, 1.0], [41.924183258, -87.664534971, 1.0], [42.010367379, -87.664475532, 1.0], [42.011588423, -87.66445538, 2.0], [42.004477988, -87.664412129, 1.0], [41.879709233, -87.664370999, 1.0], [42.004480346, -87.664345878, 1.0], [42.017183146, -87.664341555, 1.0], [41.878504326, -87.664339501, 1.0], [42.011590459, -87.664333931, 1.0], [41.998728323, -87.664310477, 1.0], [41.983558237, -87.664278061, 1.0], [41.967957363, -87.664261152, 1.0], [41.967902418, -87.664250696, 2.0], [42.014216031, -87.664229139, 2.0], [41.95311899, -87.664184759, 1.0], [41.872282126, -87.664169404, 1.0], [41.951581983, -87.664142016, 1.0], [41.744884198, -87.664123445, 1.0], [41.870072584, -87.664096989, 1.0], [41.949496037, -87.664082961, 1.0], [41.869046061, -87.66406731, 1.0], [41.868219921, -87.664046556, 5.0], [41.94645497, -87.664000815, 1.0], [41.966284551, -87.66398817, 1.0], [41.966265321, -87.663984695, 1.0], [41.907621225, -87.66395844, 1.0], [41.744885939, -87.663951201, 1.0], [42.011596374, -87.663936467, 1.0], [41.965875304, -87.663926268, 1.0], [41.989949976, -87.663894789, 1.0], [41.768003513, -87.663875893, 1.0], [42.016123804, -87.663855871, 1.0], [41.904132682, -87.663851615, 1.0], [41.857447006, -87.663751437, 1.0], [41.857383871, -87.663748425, 1.0], [41.881876032, -87.663702092, 3.0], [42.007135696, -87.663699921, 1.0], [41.936373701, -87.663698281, 1.0], [41.975368806, -87.663679758, 1.0], [41.984879657, -87.663587454, 1.0], [41.984360928, -87.663574501, 1.0], [41.898864674, -87.663539326, 1.0], [41.990880456, -87.663458339, 1.0], [41.797181108, -87.663454963, 2.0], [41.797013674, -87.663449372, 1.0], [41.972615018, -87.663447509, 1.0], [41.795026504, -87.663396721, 1.0], [42.015042573, -87.663381471, 1.0], [41.965320149, -87.663314347, 3.0], [41.924143045, -87.663286022, 1.0], [41.972619519, -87.663278301, 1.0], [41.898868555, -87.663263798, 1.0], [42.015044609, -87.663260015, 1.0], [41.919545634, -87.663143054, 1.0], [42.012044156, -87.663078088, 1.0], [41.780688238, -87.663036354, 1.0], [41.996986268, -87.662985961, 2.0], [41.896139064, -87.662969106, 1.0], [41.731144695, -87.66292886, 1.0], [41.777067859, -87.66292374, 1.0], [41.993887515, -87.662889727, 1.0], [41.870153328, -87.662884545, 1.0], [41.794059832, -87.662809038, 1.0], [41.968113467, -87.662796017, 1.0], [41.717290569, -87.662790826, 1.0], [41.967852547, -87.662758305, 1.0], [41.769934371, -87.662741415, 1.0], [42.007961462, -87.662719889, 1.0], [41.767982866, -87.662688425, 1.0], [42.009174188, -87.662685075, 1.0], [41.743085701, -87.662544498, 1.0], [41.966177246, -87.662529513, 2.0], [41.887728054, -87.662513515, 1.0], [41.965916369, -87.662499156, 2.0], [42.005517654, -87.662465929, 7.0], [41.861517395, -87.662453482, 1.0], [41.752190503, -87.662405734, 2.0], [41.895463314, -87.662384825, 1.0], [42.006752053, -87.662383052, 2.0], [41.802325821, -87.662374439, 1.0], [41.964186745, -87.662366547, 1.0], [41.964203209, -87.662366375, 1.0], [41.89297114, -87.662315415, 1.0], [41.936143322, -87.662311427, 1.0], [41.881985776, -87.66228715, 1.0], [41.891705865, -87.662284585, 1.0], [42.00977555, -87.662281367, 1.0], [41.891497273, -87.662279423, 1.0], [41.798889417, -87.662278258, 1.0], [41.941606702, -87.662250471, 1.0], [42.00552183, -87.662241448, 1.0], [42.009649067, -87.662238542, 1.0], [41.796844643, -87.66222991, 1.0], [41.854232827, -87.662228624, 1.0], [41.889625386, -87.662225562, 1.0], [41.889515602, -87.662223038, 4.0], [41.927599841, -87.662187828, 1.0], [41.94617539, -87.662176828, 1.0], [41.794289334, -87.662164888, 1.0], [41.935017252, -87.662150494, 1.0], [41.938880939, -87.662121006, 1.0], [41.990899817, -87.662075038, 1.0], [41.856819623, -87.662051079, 1.0], [42.002537727, -87.662041023, 1.0], [41.753469169, -87.661904991, 1.0], [41.751742742, -87.661860682, 1.0], [41.751539633, -87.661855469, 2.0], [41.983595857, -87.661791318, 1.0], [41.777233716, -87.661719494, 1.0], [41.950129615, -87.661675835, 1.0], [41.774873231, -87.661652469, 1.0], [42.005529062, -87.661601175, 1.0], [41.898894507, -87.661599582, 1.0], [41.839925637, -87.661526745, 1.0], [41.943978856, -87.661508823, 1.0], [41.944011784, -87.661508478, 1.0], [42.007389009, -87.661496981, 1.0], [41.889944742, -87.66146198, 1.0], [41.898898878, -87.661408532, 1.0], [41.895317503, -87.661383633, 1.0], [41.895281809, -87.661380334, 1.0], [41.992715124, -87.66137543, 1.0], [41.889944097, -87.661351807, 1.0], [41.982756109, -87.661318326, 1.0], [41.882913028, -87.661296956, 1.0], [41.856559915, -87.661282939, 1.0], [41.732098218, -87.661262976, 1.0], [41.80637536, -87.661261167, 1.0], [41.744925121, -87.661261142, 1.0], [41.994544654, -87.661231111, 2.0], [41.967689614, -87.661175176, 1.0], [41.783155236, -87.661137052, 1.0], [41.971904385, -87.661119832, 1.0], [41.97184125, -87.661116819, 1.0], [41.971742444, -87.66111418, 1.0], [41.970875157, -87.661093881, 3.0], [42.009200477, -87.661080534, 6.0], [42.006036283, -87.661054978, 2.0], [41.969401288, -87.66105422, 1.0], [42.006000524, -87.661040637, 6.0], [42.005937282, -87.661019227, 1.0], [41.964351639, -87.661000678, 3.0], [41.962340002, -87.660977705, 2.0], [41.748021648, -87.660954005, 1.0], [41.747744426, -87.660945904, 1.0], [41.747799309, -87.660945331, 1.0], [41.948939648, -87.660912683, 1.0], [41.791359128, -87.660875329, 1.0], [42.005011622, -87.660870765, 4.0], [41.990911921, -87.660861021, 1.0], [42.00399329, -87.66082998, 1.0], [41.994547729, -87.660819069, 1.0], [42.002977745, -87.660796524, 1.0], [41.752214006, -87.660792981, 1.0], [41.884951567, -87.660754117, 2.0], [41.947121778, -87.660707555, 1.0], [41.78434093, -87.660695673, 1.0], [41.869352917, -87.660693695, 2.0], [41.782447056, -87.660642136, 1.0], [41.998371665, -87.660569111, 2.0], [41.942554502, -87.660553399, 1.0], [41.77853312, -87.660543723, 1.0], [41.72991452, -87.660457782, 1.0], [41.9494693, -87.660447608, 1.0], [42.008000249, -87.660438231, 1.0], [41.750400515, -87.660408795, 1.0], [41.727847725, -87.660402418, 1.0], [41.773161684, -87.66039823, 1.0], [41.771251384, -87.660352211, 1.0], [41.755331557, -87.660327969, 1.0], [41.754922595, -87.660317581, 1.0], [41.998584125, -87.660298313, 1.0], [41.943477802, -87.660297419, 1.0], [41.944388459, -87.660225353, 1.0], [41.987870213, -87.66019784, 2.0], [41.987184055, -87.660179321, 1.0], [41.970235856, -87.660173933, 1.0], [41.967189655, -87.660150847, 1.0], [41.970235683, -87.660144516, 1.0], [41.866097588, -87.660114715, 1.0], [41.808064477, -87.660091769, 1.0], [41.807951925, -87.660085612, 1.0], [41.863369043, -87.65998548, 1.0], [41.855174686, -87.659983344, 1.0], [41.944392481, -87.659975358, 1.0], [41.896417867, -87.65996533, 1.0], [41.868579777, -87.659883072, 1.0], [41.931266319, -87.659878229, 2.0], [41.866098868, -87.659865054, 1.0], [41.97582666, -87.659853951, 1.0], [41.975727854, -87.659851314, 2.0], [41.838463996, -87.659831949, 1.0], [41.974031676, -87.659806667, 2.0], [41.905743783, -87.659668967, 1.0], [41.96763132, -87.659657141, 1.0], [41.85517813, -87.659634595, 1.0], [41.880932433, -87.659551412, 1.0], [41.880858321, -87.659548518, 1.0], [41.755872893, -87.659512348, 1.0], [41.768614608, -87.659499996, 1.0], [41.724903224, -87.659491691, 1.0], [41.877284651, -87.659435509, 1.0], [41.752235645, -87.659334168, 1.0], [41.926243717, -87.659295327, 1.0], [41.777082296, -87.659294045, 1.0], [41.729836043, -87.659242313, 2.0], [41.706737024, -87.659230969, 1.0], [41.727958616, -87.659188671, 1.0], [41.727752762, -87.659183496, 1.0], [41.725998907, -87.659143219, 2.0], [41.860295708, -87.659088972, 1.0], [41.926247846, -87.659063775, 1.0], [41.96538033, -87.659063123, 2.0], [41.942622516, -87.659049332, 1.0], [41.932551019, -87.659012093, 1.0], [41.987294752, -87.658934909, 1.0], [41.858947199, -87.65890491, 1.0], [41.966029543, -87.658865072, 1.0], [41.936811902, -87.658860622, 1.0], [41.88476747, -87.65884275, 3.0], [41.864522962, -87.658809602, 1.0], [41.855760517, -87.658802576, 1.0], [41.894388117, -87.658730516, 1.0], [41.730392818, -87.658719931, 1.0], [41.755149177, -87.658709963, 1.0], [41.753129063, -87.65865782, 1.0], [41.753148272, -87.658657618, 1.0], [41.97522663, -87.658613583, 2.0], [41.926573829, -87.658498105, 1.0], [41.872788914, -87.658388578, 1.0], [41.99517826, -87.658373453, 1.0], [41.965387049, -87.658338686, 1.0], [41.962598872, -87.658327671, 1.0], [41.993572619, -87.658324204, 1.0], [41.993136212, -87.658310422, 1.0], [41.993158164, -87.65831019, 6.0], [41.784280022, -87.658265342, 1.0], [41.991453716, -87.658258308, 3.0], [41.991332957, -87.658255906, 1.0], [41.919042243, -87.658254124, 1.0], [41.918894042, -87.658252012, 1.0], [41.877771209, -87.658174588, 1.0], [41.877773651, -87.658123155, 1.0], [41.986236052, -87.658096422, 1.0], [41.986107062, -87.658094107, 5.0], [41.986032951, -87.658091212, 1.0], [41.984410822, -87.658038469, 3.0], [41.984262601, -87.65803268, 1.0], [41.727877426, -87.657980596, 1.0], [41.982382511, -87.657978987, 1.0], [41.868958182, -87.657962602, 1.0], [41.980927853, -87.657939191, 2.0], [41.980834534, -87.6579365, 1.0], [41.980554579, -87.657928425, 4.0], [41.979045039, -87.65788921, 1.0], [41.881603214, -87.657884541, 1.0], [41.97887761, -87.657883624, 4.0], [41.877777692, -87.657877092, 1.0], [41.769466772, -87.657874472, 1.0], [41.897818745, -87.65785327, 1.0], [41.977181433, -87.657839028, 1.0], [41.977107323, -87.657836134, 1.0], [41.974184283, -87.657756697, 2.0], [41.973923557, -87.657752098, 1.0], [41.973885119, -87.657748827, 1.0], [41.895065538, -87.657728018, 1.0], [41.938808466, -87.657718569, 1.0], [41.972326185, -87.65771014, 2.0], [41.972219146, -87.657707594, 1.0], [41.880320608, -87.6577071, 2.0], [41.859250161, -87.657690331, 1.0], [41.97058608, -87.657662338, 1.0], [41.93709847, -87.657659436, 1.0], [41.970281428, -87.657654526, 1.0], [41.746797431, -87.657635764, 1.0], [41.968052927, -87.657619242, 1.0], [41.967827873, -87.657614266, 1.0], [41.806164586, -87.657610177, 1.0], [41.866129296, -87.657570178, 1.0], [41.992327756, -87.657561186, 1.0], [41.862095128, -87.657550249, 1.0], [41.865223447, -87.65752832, 1.0], [41.893271847, -87.657438403, 1.0], [41.755931648, -87.657367707, 1.0], [41.93257969, -87.657354321, 1.0], [41.74816769, -87.657313572, 1.0], [41.747629731, -87.657300893, 1.0], [41.935301548, -87.657285151, 1.0], [41.983670812, -87.657262868, 1.0], [41.791708277, -87.65724131, 1.0], [41.872246887, -87.657215684, 1.0], [41.777753239, -87.657186261, 1.0], [41.981845169, -87.657135064, 3.0], [41.880945586, -87.657120318, 1.0], [41.880846778, -87.657117688, 1.0], [41.981845039, -87.657112998, 1.0], [41.867805972, -87.657093597, 1.0], [41.985500167, -87.657089031, 1.0], [41.780579146, -87.657064915, 1.0], [41.784130147, -87.657045934, 1.0], [41.753243005, -87.657033098, 1.0], [41.876974002, -87.657007968, 1.0], [41.995323698, -87.656974008, 2.0], [41.735237218, -87.656969223, 1.0], [41.995139805, -87.656968598, 2.0], [41.995046487, -87.656965907, 2.0], [41.897242704, -87.656963111, 1.0], [41.993108732, -87.656905495, 3.0], [41.993130685, -87.656905263, 1.0], [41.993015414, -87.656902805, 1.0], [41.991538784, -87.656859584, 1.0], [41.991376844, -87.656853941, 7.0], [41.991335662, -87.656850699, 3.0], [41.975254637, -87.656844385, 1.0], [41.990493052, -87.656826515, 2.0], [41.873880152, -87.656823954, 1.0], [41.99043815, -87.656823418, 1.0], [41.989694347, -87.656801867, 4.0], [41.744989508, -87.65680092, 1.0], [41.93804827, -87.656778337, 1.0], [41.988341219, -87.65676102, 3.0], [41.988231436, -87.656758504, 1.0], [41.988286317, -87.656757923, 1.0], [41.987935017, -87.656750608, 1.0], [41.868904337, -87.656740576, 2.0], [41.868915314, -87.65674046, 1.0], [41.771638944, -87.656718922, 1.0], [41.726163002, -87.656712729, 1.0], [41.986392486, -87.656700734, 1.0], [41.986428158, -87.656700356, 2.0], [41.986299168, -87.656698044, 1.0], [41.769539234, -87.656664006, 1.0], [41.769522748, -87.656660513, 1.0], [41.754091507, -87.656654036, 1.0], [41.984605671, -87.656642414, 1.0], [41.984438243, -87.656636831, 2.0], [41.982777739, -87.656591889, 1.0], [41.982574638, -87.656586683, 2.0], [41.980840024, -87.65653885, 1.0], [41.980875696, -87.656538472, 1.0], [41.893285756, -87.656538409, 5.0], [41.732355871, -87.656534167, 1.0], [41.980634157, -87.656529996, 3.0], [41.979141081, -87.656490641, 1.0], [41.979086179, -87.656487544, 1.0], [41.978918772, -87.656485639, 1.0], [41.859492718, -87.656472706, 3.0], [41.863375747, -87.656457451, 2.0], [41.858559513, -87.656445839, 1.0], [41.752278997, -87.656438527, 1.0], [41.856432328, -87.656380172, 2.0], [41.896248547, -87.656371227, 1.0], [41.856004143, -87.656366334, 1.0], [41.974307765, -87.656357944, 1.0], [41.974066247, -87.656353146, 1.0], [41.802575618, -87.656305524, 1.0], [41.972364558, -87.656304974, 1.0], [41.972400231, -87.656304596, 1.0], [41.960545252, -87.656301421, 1.0], [41.932823163, -87.656293318, 1.0], [41.970478998, -87.656255073, 1.0], [41.957353244, -87.65621756, 1.0], [41.957372452, -87.656217356, 2.0], [41.965001173, -87.65618806, 1.0], [41.955758568, -87.656168264, 1.0], [41.955536258, -87.656163265, 1.0], [41.95518219, -87.656152308, 1.0], [41.928417771, -87.656137785, 1.0], [41.89368109, -87.656100837, 3.0], [41.746310609, -87.65605416, 1.0], [41.786099173, -87.655881225, 1.0], [41.784499006, -87.655839404, 1.0], [41.784405684, -87.655836719, 1.0], [41.867010957, -87.655835363, 1.0], [41.864137536, -87.655803289, 1.0], [41.980039853, -87.655800725, 1.0], [41.973300066, -87.655794935, 2.0], [41.945363918, -87.655774686, 1.0], [41.945382757, -87.655711997, 1.0], [41.887136371, -87.655685196, 1.0], [41.971567477, -87.655625752, 1.0], [41.898390095, -87.655617655, 2.0], [41.969078381, -87.65560801, 1.0], [41.996866019, -87.655592844, 1.0], [41.995595257, -87.655558503, 1.0], [41.995054533, -87.65553849, 1.0], [41.993717892, -87.655501171, 2.0], [41.962302258, -87.655492307, 1.0], [41.99330618, -87.655487147, 1.0], [41.992919165, -87.655472861, 1.0], [41.754734911, -87.655467169, 1.0], [41.857969178, -87.655460942, 2.0], [41.991560549, -87.655432099, 2.0], [41.99162915, -87.655431371, 1.0], [41.748653259, -87.655421215, 1.0], [41.793799573, -87.655404089, 1.0], [41.989433412, -87.655366388, 1.0], [41.940611137, -87.655343506, 1.0], [41.988368471, -87.655333549, 3.0], [41.866162747, -87.655330338, 1.0], [41.857971121, -87.655325101, 1.0], [41.987951293, -87.655323262, 1.0], [41.988008918, -87.655322651, 2.0], [41.987819537, -87.655317304, 2.0], [41.866162595, -87.65530464, 1.0], [41.985999837, -87.655266727, 4.0], [41.967259531, -87.655237517, 1.0], [41.838958364, -87.655235925, 1.0], [41.984685103, -87.655221829, 1.0], [41.806457662, -87.655186296, 1.0], [41.983117874, -87.655172255, 1.0], [41.983120618, -87.655172226, 2.0], [41.98101273, -87.65511368, 1.0], [41.980880995, -87.655111401, 1.0], [41.980639456, -87.65510293, 1.0], [41.97912164, -87.655056515, 2.0], [41.80099297, -87.65504587, 1.0], [41.978309213, -87.655032037, 1.0], [41.977318446, -87.655013129, 1.0], [41.977225127, -87.655010442, 1.0], [41.976851852, -87.654999693, 3.0], [41.972402958, -87.65490716, 1.0], [41.972419422, -87.654906985, 1.0], [41.747719731, -87.654877691, 1.0], [41.970481724, -87.654857679, 2.0], [41.969762615, -87.654835892, 1.0], [41.772324861, -87.654831089, 1.0], [41.966653193, -87.654795347, 1.0], [41.966669657, -87.654795172, 2.0], [41.837509518, -87.654792514, 1.0], [41.744508377, -87.654790577, 1.0], [41.964891329, -87.65478095, 1.0], [41.964235418, -87.654773202, 1.0], [41.964106427, -87.654770894, 1.0], [41.962361027, -87.654756322, 1.0], [41.742666649, -87.654740347, 1.0], [41.853447754, -87.654719515, 1.0], [41.96031082, -87.654708218, 2.0], [41.959086698, -87.65467341, 2.0], [41.957670472, -87.654636966, 1.0], [41.957747305, -87.65463615, 2.0], [41.784571444, -87.654628652, 1.0], [41.735049949, -87.654531088, 1.0], [41.885916313, -87.654482517, 2.0], [41.884917254, -87.65445637, 2.0], [41.884961159, -87.654455905, 1.0], [41.883245703, -87.654404292, 1.0], [41.77171246, -87.654294989, 1.0], [41.945989062, -87.654290367, 2.0], [41.872429745, -87.654254407, 1.0], [41.743204278, -87.65423268, 1.0], [41.767867074, -87.654188915, 1.0], [41.939259017, -87.654082437, 2.0], [41.938517929, -87.654057223, 1.0], [41.79381042, -87.653988451, 1.0], [41.866294625, -87.653963221, 1.0], [41.895295652, -87.653938771, 1.0], [41.967292386, -87.653832519, 1.0], [41.931463882, -87.653819694, 1.0], [41.931277244, -87.653814325, 1.0], [41.929822507, -87.653763616, 2.0], [41.95113401, -87.653750509, 1.0], [41.750226733, -87.653729903, 2.0], [41.967296938, -87.653674356, 2.0], [41.951136232, -87.653662257, 1.0], [41.974319257, -87.653658539, 2.0], [41.926567194, -87.653651175, 1.0], [41.967296699, -87.65363391, 1.0], [41.966390908, -87.653599414, 1.0], [41.744432583, -87.653574812, 1.0], [41.945408507, -87.653568713, 1.0], [41.963624488, -87.653555283, 1.0], [41.790086602, -87.653554734, 1.0], [41.78982859, -87.653546459, 1.0], [41.966393303, -87.653540556, 1.0], [41.957414022, -87.653499964, 1.0], [41.961796375, -87.653475442, 2.0], [41.833517022, -87.653469658, 1.0], [41.959123447, -87.653463411, 1.0], [41.920729074, -87.653455926, 1.0], [41.890476599, -87.653446283, 2.0], [41.920394212, -87.653444783, 1.0], [41.962701775, -87.653443755, 1.0], [41.975305734, -87.653416364, 2.0], [41.784514852, -87.653411928, 1.0], [41.958971937, -87.653365753, 1.0], [41.974322894, -87.653345913, 1.0], [41.916965997, -87.65333053, 1.0], [41.965450685, -87.653311573, 1.0], [41.974322611, -87.653298108, 1.0], [41.953601097, -87.653294173, 1.0], [41.939920925, -87.65324842, 2.0], [41.963627951, -87.653213296, 1.0], [41.973336895, -87.653205626, 4.0], [41.949772315, -87.653191503, 1.0], [41.965455324, -87.653168121, 1.0], [41.879121968, -87.65315906, 1.0], [41.838745634, -87.653139089, 1.0], [41.973339203, -87.653132052, 1.0], [41.956654142, -87.653081568, 2.0], [41.946105385, -87.65307977, 1.0], [41.946012066, -87.653077086, 1.0], [41.94290004, -87.653062383, 1.0], [41.961801841, -87.653008433, 1.0], [41.953604821, -87.652996353, 1.0], [41.962707088, -87.652951004, 1.0], [41.971606371, -87.652922494, 1.0], [41.719886226, -87.652906836, 1.0], [41.953606977, -87.65289707, 2.0], [41.718936555, -87.652883888, 1.0], [41.86167498, -87.652855748, 1.0], [41.955445198, -87.652829723, 1.0], [41.944476536, -87.652821402, 1.0], [41.880395873, -87.652793028, 2.0], [41.877857432, -87.652790586, 1.0], [41.745048029, -87.652769484, 1.0], [41.871850066, -87.65275518, 1.0], [41.941759303, -87.652743702, 1.0], [41.955447114, -87.652689999, 1.0], [41.952702794, -87.652671407, 1.0], [41.884429179, -87.652669436, 1.0], [41.755094217, -87.652648704, 1.0], [41.754981686, -87.652646228, 2.0], [41.755020104, -87.652645822, 1.0], [41.753664199, -87.65260884, 1.0], [41.935389157, -87.65260562, 1.0], [41.92970273, -87.65253746, 1.0], [41.94542423, -87.652517257, 1.0], [41.749593781, -87.652505259, 1.0], [41.747774007, -87.65245486, 1.0], [41.927213224, -87.652453686, 1.0], [41.934482205, -87.652376376, 1.0], [41.963027375, -87.652355624, 1.0], [41.926364659, -87.652352466, 1.0], [41.933568177, -87.652341997, 1.0], [41.881693864, -87.652323905, 1.0], [41.742775806, -87.652317126, 1.0], [41.961158296, -87.652309344, 4.0], [41.935395624, -87.652307855, 1.0], [41.922289134, -87.652292918, 1.0], [41.833759539, -87.652252507, 1.0], [41.78609411, -87.652240225, 1.0], [41.960474443, -87.652217355, 1.0], [41.8634631, -87.652201682, 1.0], [41.958457273, -87.652187364, 3.0], [41.945427735, -87.652182718, 1.0], [41.885943666, -87.652150239, 1.0], [41.863465148, -87.652084184, 1.0], [41.755982628, -87.652060245, 2.0], [41.951787958, -87.652037805, 1.0], [41.950478747, -87.652000281, 1.0], [41.949627899, -87.651976257, 1.0], [41.949460491, -87.651974364, 1.0], [41.94942754, -87.651971038, 1.0], [41.775049383, -87.651953822, 1.0], [41.893977422, -87.651917964, 1.0], [41.771821578, -87.651867009, 1.0], [41.876265763, -87.651863802, 2.0], [41.945897812, -87.651857914, 1.0], [41.895022169, -87.651781979, 1.0], [41.97335805, -87.65168294, 1.0], [41.895024194, -87.65166075, 1.0], [41.863473532, -87.651647229, 1.0], [41.961818424, -87.651640495, 1.0], [41.961818141, -87.6515927, 1.0], [41.961820579, -87.651541199, 1.0], [41.974803387, -87.651538814, 1.0], [41.934918893, -87.651511726, 1.0], [41.93482283, -87.651509074, 1.0], [41.941776585, -87.651493806, 1.0], [41.854751251, -87.651471903, 1.0], [41.802568807, -87.65144228, 1.0], [41.86469347, -87.651436025, 1.0], [41.958669491, -87.651416696, 1.0], [41.931649862, -87.651399541, 1.0], [41.704102593, -87.651344782, 1.0], [41.974104832, -87.651281486, 1.0], [41.883078984, -87.651277292, 2.0], [41.881714876, -87.651240388, 2.0], [41.883078679, -87.651225883, 1.0], [41.881714789, -87.6512257, 2.0], [41.968242716, -87.651196936, 1.0], [41.940578261, -87.651183123, 1.0], [41.895775889, -87.651160576, 2.0], [41.790124351, -87.651126815, 1.0], [41.942685467, -87.651123906, 1.0], [41.963653562, -87.651054693, 1.0], [41.786333944, -87.651034999, 1.0], [41.966430564, -87.651032417, 2.0], [41.945448344, -87.651031962, 2.0], [41.965486378, -87.651002044, 2.0], [41.885964174, -87.65098219, 2.0], [41.963655869, -87.65098113, 1.0], [41.71695738, -87.650945175, 1.0], [41.782408986, -87.65092995, 1.0], [41.968246543, -87.650917432, 1.0], [41.85869689, -87.650908726, 1.0], [41.944506221, -87.650887624, 1.0], [41.962735985, -87.650884317, 1.0], [41.958474197, -87.65087832, 3.0], [41.951182706, -87.650856848, 1.0], [41.938995574, -87.650843471, 1.0], [41.778761269, -87.650836637, 1.0], [41.952730233, -87.650821958, 1.0], [41.952729665, -87.650726382, 2.0], [41.943599486, -87.650695129, 1.0], [41.946351779, -87.650669443, 1.0], [41.946370988, -87.650669238, 1.0], [41.958475673, -87.650665062, 1.0], [41.946181605, -87.650663907, 1.0], [41.94359918, -87.650643672, 1.0], [41.957333828, -87.650622101, 2.0], [41.938148902, -87.650598895, 1.0], [41.961834172, -87.650596122, 1.0], [41.890053198, -87.650538354, 1.0], [41.971852622, -87.650489142, 1.0], [41.911542439, -87.650393878, 1.0], [41.943602963, -87.650356924, 1.0], [41.939552474, -87.650352367, 1.0], [41.830696451, -87.650321923, 1.0], [41.925427758, -87.650315629, 1.0], [41.955951611, -87.650305974, 1.0], [41.918152275, -87.650224201, 2.0], [41.853058663, -87.650190508, 1.0], [41.751599476, -87.650127627, 1.0], [41.908541329, -87.6501136, 5.0], [41.894567679, -87.65011196, 1.0], [41.968609432, -87.650104582, 1.0], [41.89426851, -87.65010413, 1.0], [41.96491786, -87.650000625, 2.0], [41.881732151, -87.649991662, 1.0], [41.964231677, -87.649978542, 1.0], [41.963880376, -87.649971265, 2.0], [41.791591031, -87.649948814, 1.0], [41.933608821, -87.649945362, 2.0], [41.789974421, -87.649910981, 1.0], [41.959670047, -87.649850803, 2.0], [41.861105328, -87.649814857, 1.0], [41.953382657, -87.649781959, 3.0], [41.957013189, -87.649772575, 3.0], [41.954029702, -87.649683137, 1.0], [41.953881502, -87.649681045, 1.0], [41.953961079, -87.649680194, 1.0], [41.951886129, -87.649625167, 1.0], [41.878834687, -87.649607595, 1.0], [41.950453457, -87.649592688, 1.0], [41.777255415, -87.649580426, 1.0], [41.748736624, -87.649575313, 1.0], [41.83641378, -87.649571252, 1.0], [41.746916849, -87.649524997, 1.0], [41.890063347, -87.649476847, 1.0], [41.892228502, -87.649468443, 1.0], [41.893350627, -87.649423417, 1.0], [41.754205111, -87.649421988, 1.0], [41.756024579, -87.649420997, 1.0], [41.769979158, -87.649390098, 1.0], [41.925877649, -87.649366429, 1.0], [41.74145726, -87.649330096, 1.0], [41.939403198, -87.649247637, 1.0], [41.764319552, -87.649244941, 1.0], [41.762593126, -87.649200968, 1.0], [41.935854166, -87.649120179, 1.0], [41.735994703, -87.649098615, 1.0], [41.881751184, -87.649040364, 2.0], [41.93182207, -87.648979521, 2.0], [41.931684824, -87.648973638, 3.0], [41.879190136, -87.648928151, 1.0], [41.92997759, -87.648918387, 1.0], [41.75161972, -87.648918043, 3.0], [41.880463297, -87.648899877, 2.0], [41.927488083, -87.648834754, 1.0], [41.880465647, -87.648833753, 1.0], [41.747864896, -87.648815009, 1.0], [41.89138477, -87.648797987, 1.0], [41.78999187, -87.648693371, 1.0], [41.856699571, -87.648687132, 2.0], [41.95849948, -87.648672098, 1.0], [41.922325104, -87.648651097, 1.0], [41.787708265, -87.648633332, 1.0], [41.920952729, -87.648606978, 1.0], [41.78633318, -87.648600296, 1.0], [41.920543756, -87.648592978, 3.0], [41.782693696, -87.648507025, 1.0], [41.879996988, -87.648475219, 1.0], [41.781285637, -87.64846701, 1.0], [41.878649321, -87.648434529, 1.0], [41.77867269, -87.648403155, 1.0], [41.94544635, -87.648392732, 1.0], [41.952820036, -87.648390992, 2.0], [41.914573735, -87.648370219, 2.0], [41.777272884, -87.648366723, 1.0], [41.777330511, -87.64836611, 1.0], [41.945446109, -87.6483523, 1.0], [41.913174027, -87.648344771, 1.0], [41.952822451, -87.648335822, 1.0], [41.838017105, -87.648302823, 1.0], [41.857868974, -87.648285553, 1.0], [41.838019717, -87.648280777, 1.0], [41.857627429, -87.648277118, 1.0], [41.855813154, -87.648223066, 1.0], [41.907926167, -87.64819515, 2.0], [41.752400042, -87.648154805, 1.0], [41.943636406, -87.6481401, 1.0], [41.905431272, -87.648129987, 2.0], [41.767976536, -87.648128379, 1.0], [41.76651359, -87.648088962, 1.0], [41.941813684, -87.648045671, 1.0], [41.764471503, -87.648033716, 1.0], [41.940001718, -87.647914376, 2.0], [41.953640416, -87.647907964, 1.0], [41.953533377, -87.647905435, 1.0], [41.95346201, -87.647902523, 1.0], [41.755499029, -87.647806657, 1.0], [41.924743035, -87.647776401, 1.0], [41.876663961, -87.64776174, 1.0], [41.751804643, -87.647714035, 1.0], [41.751617999, -87.647708692, 1.0], [41.751563094, -87.647705611, 1.0], [41.798786895, -87.647704909, 1.0], [41.751450563, -87.647703144, 1.0], [41.933455423, -87.647690459, 2.0], [41.749806435, -87.647654676, 1.0], [41.944503326, -87.647638263, 1.0], [41.704497586, -87.647623598, 1.0], [41.93785926, -87.64758448, 1.0], [41.770607788, -87.647579829, 1.0], [41.888701814, -87.647570608, 2.0], [41.940005143, -87.64756884, 2.0], [41.944247582, -87.647549109, 1.0], [41.746007681, -87.64754852, 1.0], [41.946387865, -87.647515144, 1.0], [41.779704696, -87.647508582, 1.0], [41.935608487, -87.647498335, 1.0], [41.94639028, -87.647459979, 1.0], [41.832789385, -87.64740086, 1.0], [41.786292988, -87.647383369, 1.0], [41.786106367, -87.647381692, 1.0], [41.738939872, -87.647345256, 1.0], [41.877613062, -87.647233851, 1.0], [41.833820221, -87.647232067, 1.0], [41.8614823, -87.64722277, 1.0], [41.929100098, -87.647189541, 1.0], [41.861018288, -87.647183679, 2.0], [41.778305882, -87.647178856, 1.0], [41.932755165, -87.647150367, 2.0], [41.909187537, -87.647112599, 1.0], [41.954607083, -87.647107189, 2.0], [41.950476982, -87.647096347, 2.0], [41.950320001, -87.647002452, 1.0], [41.771611487, -87.647000925, 1.0], [41.907490482, -87.646925049, 1.0], [41.886798928, -87.646922569, 1.0], [41.948639684, -87.646858732, 1.0], [41.863299232, -87.646803193, 1.0], [41.933276531, -87.646685387, 1.0], [41.948707142, -87.646666855, 6.0], [41.78700188, -87.646609458, 1.0], [41.755554922, -87.646596618, 1.0], [41.75369673, -87.646546794, 1.0], [41.952932494, -87.646544302, 2.0], [41.93110766, -87.646528573, 1.0], [41.951980072, -87.646514088, 1.0], [41.749722354, -87.646442572, 1.0], [41.844987389, -87.646441144, 1.0], [41.955711583, -87.646411524, 1.0], [41.89120012, -87.646368615, 2.0], [41.795167411, -87.646364606, 1.0], [41.958065808, -87.646360506, 2.0], [41.840768873, -87.646343139, 1.0], [41.742528625, -87.646292065, 1.0], [41.952036311, -87.646281883, 1.0], [41.789656207, -87.646251106, 1.0], [41.801571873, -87.646248523, 1.0], [41.922788237, -87.646246673, 1.0], [41.922585111, -87.646237829, 1.0], [41.799765636, -87.646165129, 1.0], [41.947724399, -87.646155414, 1.0], [41.784732216, -87.646127681, 1.0], [41.831379434, -87.646124318, 1.0], [41.784416556, -87.646116386, 1.0], [41.852652887, -87.64611321, 1.0], [41.783060766, -87.646097864, 1.0], [41.78301135, -87.646094726, 1.0], [41.908448701, -87.646088198, 1.0], [41.86418627, -87.645993386, 1.0], [41.778680236, -87.645990652, 1.0], [41.80066465, -87.645979481, 1.0], [41.756077849, -87.645931342, 1.0], [41.934067729, -87.645912462, 2.0], [41.911073507, -87.645850633, 1.0], [41.773819241, -87.645848255, 1.0], [41.941849541, -87.645781099, 1.0], [41.948312144, -87.645777826, 3.0], [41.937881374, -87.645775946, 2.0], [41.816980752, -87.645750013, 1.0], [41.817035634, -87.645749426, 1.0], [41.769866853, -87.645747491, 1.0], [41.887140262, -87.645721683, 1.0], [41.7560793, -87.645715091, 1.0], [41.768049916, -87.645711908, 2.0], [41.768104798, -87.645711322, 1.0], [41.939134718, -87.645648542, 1.0], [41.941851339, -87.645623028, 1.0], [41.678976937, -87.645603032, 1.0], [41.950113874, -87.645574659, 1.0], [41.78337588, -87.645559181, 1.0], [41.7608669, -87.645513704, 1.0], [41.856010738, -87.645467925, 1.0], [41.858359647, -87.645439082, 4.0], [41.937887537, -87.645430392, 3.0], [41.863589417, -87.645309604, 1.0], [41.945781892, -87.645305097, 1.0], [41.751839536, -87.645287587, 1.0], [41.941119355, -87.645285388, 1.0], [41.940026985, -87.645256701, 1.0], [41.84404421, -87.645207094, 1.0], [41.748216428, -87.645183358, 1.0], [41.748142315, -87.645180485, 1.0], [41.934864366, -87.645132109, 1.0], [41.95386239, -87.64510423, 7.0], [41.791770601, -87.645091743, 2.0], [41.93486408, -87.645084335, 2.0], [41.877973183, -87.645045179, 1.0], [41.837251189, -87.645045014, 1.0], [41.95345862, -87.6450424, 1.0], [41.837157868, -87.645042344, 1.0], [41.934863794, -87.64503656, 1.0], [41.927937345, -87.645030176, 1.0], [41.945892437, -87.644976757, 1.0], [41.926710206, -87.644951498, 1.0], [41.903688803, -87.644938031, 1.0], [41.739004946, -87.64491897, 1.0], [41.831857932, -87.64491566, 1.0], [41.784826483, -87.644913015, 1.0], [41.951177337, -87.644901516, 1.0], [41.899739312, -87.644848217, 2.0], [41.80887652, -87.64476929, 1.0], [41.927968665, -87.644761576, 1.0], [41.756094931, -87.644659401, 1.0], [41.66118519, -87.644657892, 1.0], [41.946458557, -87.64465454, 1.0], [41.953754699, -87.64453556, 1.0], [41.930563296, -87.644527873, 1.0], [41.706902188, -87.644507138, 2.0], [41.903013579, -87.644456722, 1.0], [41.838068195, -87.644456449, 1.0], [41.94144087, -87.644443893, 1.0], [41.838067689, -87.644372052, 1.0], [41.948331123, -87.644366037, 1.0], [41.793961228, -87.644290868, 2.0], [41.932812132, -87.64429052, 1.0], [41.73968999, -87.64428876, 2.0], [41.948368899, -87.644259026, 1.0], [41.884944108, -87.6442212, 1.0], [41.713385294, -87.644218167, 1.0], [41.930632745, -87.644211077, 1.0], [41.876713396, -87.644100332, 1.0], [41.877143487, -87.643974538, 1.0], [41.947397673, -87.643839399, 1.0], [41.85836085, -87.643809214, 1.0], [41.786328884, -87.643752922, 1.0], [41.83213331, -87.643701825, 2.0], [41.737770715, -87.643664418, 1.0], [41.829896436, -87.643652451, 1.0], [41.915497287, -87.643576643, 1.0], [41.881828083, -87.643545951, 2.0], [41.938702181, -87.643536131, 1.0], [41.914209997, -87.643535393, 1.0], [41.946383226, -87.643534204, 1.0], [41.785062351, -87.643517161, 1.0], [41.899879357, -87.643491294, 1.0], [41.911758919, -87.643455241, 1.0], [41.7952482, -87.643360273, 1.0], [41.942251818, -87.643306738, 1.0], [41.771929272, -87.643243644, 3.0], [41.679615324, -87.643139927, 1.0], [41.94651532, -87.643139459, 1.0], [41.948068465, -87.643126381, 1.0], [41.943340184, -87.64312592, 1.0], [41.881833712, -87.643112572, 3.0], [41.761016997, -87.643085679, 1.0], [41.87799981, -87.64308039, 1.0], [41.928287867, -87.643078736, 1.0], [41.935540811, -87.643074038, 1.0], [41.942250183, -87.643034758, 2.0], [41.89598506, -87.642996947, 1.0], [41.942249895, -87.642986977, 1.0], [41.936539155, -87.642982415, 1.0], [41.936539, -87.642956689, 1.0], [41.935542649, -87.642923332, 1.0], [41.85845689, -87.642894141, 1.0], [41.753367468, -87.642892778, 1.0], [41.751424208, -87.642843973, 1.0], [41.797105443, -87.642797585, 1.0], [41.944567545, -87.642785537, 1.0], [41.933467027, -87.642758285, 1.0], [41.885182294, -87.642757034, 1.0], [41.94116171, -87.642741424, 3.0], [41.840999586, -87.642714857, 1.0], [41.911051871, -87.642702365, 1.0], [41.793232671, -87.642699804, 1.0], [41.947319435, -87.642693348, 1.0], [41.903724564, -87.64266746, 1.0], [41.923718883, -87.642646615, 1.0], [41.926748485, -87.642643335, 2.0], [41.903726889, -87.64259764, 2.0], [41.902664851, -87.642594393, 1.0], [41.890724284, -87.642528399, 1.0], [41.947008254, -87.64251291, 1.0], [41.934285992, -87.642499537, 2.0], [41.940076135, -87.642473797, 1.0], [41.926752802, -87.642448526, 1.0], [41.917021575, -87.642413877, 1.0], [41.940078259, -87.64237086, 3.0], [41.838095821, -87.642202965, 1.0], [41.894692971, -87.642158743, 1.0], [41.93170113, -87.6420754, 1.0], [41.813865609, -87.64202699, 1.0], [41.930490432, -87.641992922, 1.0], [41.766490771, -87.641989643, 1.0], [41.766139436, -87.641978753, 1.0], [41.923730991, -87.64192259, 1.0], [41.889054749, -87.641900009, 1.0], [41.748852586, -87.641896749, 1.0], [41.931373416, -87.641884161, 1.0], [41.932860664, -87.641864423, 1.0], [41.760683041, -87.641857727, 1.0], [41.747024577, -87.641846738, 1.0], [41.93593401, -87.6418349, 1.0], [41.675334477, -87.641823987, 2.0], [41.881847601, -87.641772074, 4.0], [41.757123141, -87.641767664, 1.0], [41.755624518, -87.641728778, 1.0], [41.945284535, -87.641542722, 2.0], [41.748158816, -87.641530408, 1.0], [41.762640204, -87.641481172, 1.0], [41.923159831, -87.64140697, 1.0], [41.923239408, -87.64140611, 1.0], [41.783444125, -87.641385898, 1.0], [41.922155245, -87.64137373, 1.0], [41.933433923, -87.641362086, 1.0], [41.83571965, -87.641351509, 1.0], [41.835346366, -87.641340852, 1.0], [41.940091226, -87.641334221, 1.0], [41.782538127, -87.641322308, 1.0], [41.85762928, -87.641262195, 1.0], [41.78162664, -87.64125878, 1.0], [41.857629169, -87.641243842, 1.0], [41.767062556, -87.641239381, 1.0], [41.903103727, -87.641193768, 1.0], [41.943363642, -87.641096671, 1.0], [41.8762118, -87.641006667, 2.0], [41.857139197, -87.640995841, 1.0], [41.820511441, -87.640983312, 1.0], [41.909971249, -87.64097998, 1.0], [41.783449861, -87.640971514, 1.0], [41.728006711, -87.640970011, 1.0], [41.728080802, -87.640969216, 1.0], [41.896774009, -87.640942565, 3.0], [41.908060902, -87.640919801, 3.0], [41.906899902, -87.640888264, 3.0], [41.926224659, -87.64087409, 1.0], [41.931861142, -87.640849878, 1.0], [41.929597109, -87.640841291, 1.0], [41.9308703, -87.64082017, 2.0], [41.881874776, -87.640817011, 1.0], [41.777309867, -87.640802922, 2.0], [41.938743235, -87.640782775, 1.0], [41.930891875, -87.640757462, 1.0], [41.775429728, -87.640753492, 2.0], [41.936572103, -87.640707032, 1.0], [41.904579871, -87.640696598, 7.0], [41.942279965, -87.640689369, 1.0], [41.675165651, -87.640676424, 1.0], [41.934318848, -87.640665259, 1.0], [41.760848635, -87.640646406, 1.0], [41.942279588, -87.640626887, 1.0], [41.937718623, -87.640613767, 3.0], [41.755551284, -87.640505461, 1.0], [41.755164274, -87.640494964, 1.0], [41.940102614, -87.640492401, 1.0], [41.82717423, -87.640478578, 1.0], [41.753646441, -87.640456314, 1.0], [41.928258322, -87.640451538, 1.0], [41.937720325, -87.640441006, 1.0], [41.935585242, -87.640427364, 1.0], [41.751777294, -87.64041045, 1.0], [41.934325528, -87.640407923, 1.0], [41.751527512, -87.640402142, 1.0], [41.940104538, -87.640356386, 1.0], [41.932892608, -87.64033523, 3.0], [41.90375986, -87.640327096, 1.0], [41.759806381, -87.640287428, 1.0], [41.934327518, -87.640282945, 2.0], [41.903762161, -87.640253602, 1.0], [41.742843388, -87.640213372, 1.0], [41.903045187, -87.640132787, 1.0], [41.923758574, -87.640125418, 2.0], [41.764555459, -87.640071375, 1.0], [41.764388024, -87.640065846, 1.0], [41.923760919, -87.64005925, 1.0], [41.738660028, -87.640042181, 1.0], [41.762996467, -87.640033176, 4.0], [41.931137125, -87.640016131, 1.0], [41.923760653, -87.640015157, 2.0], [41.862451634, -87.640013423, 1.0], [41.915568723, -87.639945842, 1.0], [41.915442452, -87.63993986, 1.0], [41.919116842, -87.639918455, 1.0], [41.886995567, -87.639913366, 1.0], [41.925595219, -87.639796861, 2.0], [41.891294666, -87.639727306, 1.0], [41.903769788, -87.63969883, 1.0], [41.907153315, -87.639680572, 4.0], [41.902707551, -87.639662573, 1.0], [41.924244174, -87.63964981, 1.0], [41.891162264, -87.639614884, 1.0], [41.893116144, -87.639612106, 1.0], [41.893922764, -87.63958134, 1.0], [41.893117779, -87.639428446, 1.0], [41.936089551, -87.639414873, 3.0], [41.93512615, -87.639384889, 1.0], [41.941034149, -87.639335535, 1.0], [41.930537295, -87.639298656, 1.0], [41.930334169, -87.639289833, 1.0], [41.813552546, -87.639260802, 1.0], [41.926678063, -87.639156749, 1.0], [41.862218265, -87.639087164, 2.0], [41.688106461, -87.638611865, 1.0], [41.909860541, -87.638552799, 1.0], [41.90963274, -87.638547921, 1.0], [41.908430535, -87.638509526, 3.0], [41.869766728, -87.638473126, 1.0], [41.850504813, -87.638472418, 1.0], [41.766655655, -87.638388243, 1.0], [41.669724107, -87.638029941, 1.0], [41.737865442, -87.637980582, 1.0], [41.772580796, -87.637968692, 1.0], [41.893942752, -87.637895271, 1.0], [41.907611727, -87.637886535, 1.0], [41.891532981, -87.637840611, 4.0], [41.763482606, -87.637828684, 1.0], [41.851439133, -87.637775932, 2.0], [41.776199039, -87.637724304, 1.0], [41.88993496, -87.637696349, 2.0], [41.814489784, -87.637684303, 1.0], [41.935606657, -87.63761555, 1.0], [41.895548745, -87.637543608, 1.0], [41.906649062, -87.637525948, 1.0], [41.898160974, -87.637496886, 1.0], [41.780393632, -87.63748832, 1.0], [41.938020384, -87.637420246, 1.0], [41.900045092, -87.637303789, 1.0], [41.771188145, -87.637301882, 1.0], [41.770348245, -87.637277969, 1.0], [41.899210655, -87.637272446, 1.0], [41.769362908, -87.637255629, 1.0], [41.764787155, -87.637088825, 1.0], [41.887902159, -87.636903101, 1.0], [41.774887555, -87.636865948, 1.0], [41.91441062, -87.636765624, 2.0], [41.91682518, -87.636706299, 1.0], [41.910282526, -87.636637837, 3.0], [41.903824106, -87.636432547, 2.0], [41.921093508, -87.636428384, 1.0], [41.919345195, -87.636388619, 1.0], [41.890755538, -87.636346911, 1.0], [41.917152303, -87.636346343, 1.0], [41.782642356, -87.636320052, 1.0], [41.756227932, -87.636224774, 1.0], [41.912864096, -87.636062343, 1.0], [41.767977671, -87.636002276, 1.0], [41.780826275, -87.635973078, 1.0], [41.772617435, -87.635864041, 1.0], [41.916180308, -87.635805796, 1.0], [41.898413818, -87.635749401, 2.0], [41.77531403, -87.635691847, 1.0], [41.893429499, -87.635619998, 1.0], [41.754012233, -87.635600064, 1.0], [41.904932948, -87.635557213, 1.0], [41.852882299, -87.635462544, 1.0], [41.917402098, -87.635454463, 1.0], [41.662062316, -87.635382256, 1.0], [41.904936985, -87.635318391, 1.0], [41.83730488, -87.635297873, 1.0], [41.913618906, -87.635183387, 1.0], [41.777389879, -87.6349801, 1.0], [41.777420064, -87.634979772, 1.0], [41.772111748, -87.634839395, 1.0], [41.914338356, -87.634808141, 3.0], [41.902099008, -87.634794626, 2.0], [41.852351309, -87.634789274, 2.0], [41.814981975, -87.634678254, 1.0], [41.715215676, -87.63466098, 1.0], [41.908390488, -87.634623176, 1.0], [41.908146223, -87.634618492, 2.0], [41.908069367, -87.634615657, 2.0], [41.890777731, -87.634580101, 1.0], [41.836378406, -87.634574024, 1.0], [41.761245409, -87.634565067, 1.0], [41.761261874, -87.634564888, 2.0], [41.889976288, -87.634559455, 1.0], [41.903230312, -87.634455361, 2.0], [41.891583724, -87.634446444, 1.0], [41.885730181, -87.634433124, 3.0], [41.755797128, -87.634426259, 1.0], [41.755500696, -87.63441848, 1.0], [41.755352491, -87.634416423, 1.0], [41.755314051, -87.634413175, 1.0], [41.754251875, -87.634391715, 1.0], [41.752171363, -87.634337325, 2.0], [41.75211097, -87.634334316, 1.0], [41.87683815, -87.634320718, 2.0], [41.899502773, -87.634312348, 2.0], [41.843409877, -87.634233283, 1.0], [41.896939068, -87.634215423, 3.0], [41.874485237, -87.634140739, 1.0], [41.893560332, -87.634120048, 1.0], [41.891888823, -87.634075841, 1.0], [41.911162744, -87.633817757, 1.0], [41.824976728, -87.633795457, 1.0], [41.754442247, -87.633656666, 1.0], [41.905747373, -87.633652789, 1.0], [41.900546929, -87.633632427, 3.0], [41.874128055, -87.633619572, 1.0], [41.872903956, -87.633592535, 2.0], [41.81691816, -87.633567673, 5.0], [41.87178962, -87.633564301, 2.0], [41.768204109, -87.633525477, 1.0], [41.914129719, -87.633443674, 1.0], [41.764622168, -87.633421449, 1.0], [41.895603123, -87.633396228, 1.0], [41.763024779, -87.633387493, 1.0], [41.841151668, -87.633384438, 1.0], [41.884472382, -87.633378182, 1.0], [41.885731591, -87.633313023, 2.0], [41.894803417, -87.633210294, 1.0], [41.802807643, -87.633207753, 1.0], [41.889177567, -87.633183586, 1.0], [41.91019524, -87.633115601, 1.0], [41.910071735, -87.633113277, 1.0], [41.825134315, -87.633085635, 1.0], [41.901822321, -87.633071176, 5.0], [41.826360832, -87.633057593, 1.0], [41.906618873, -87.633011413, 1.0], [41.904653619, -87.6329484, 1.0], [41.904538325, -87.632942313, 1.0], [41.90434894, -87.632937036, 1.0], [41.871799513, -87.632936347, 5.0], [41.791856247, -87.632927233, 1.0], [41.791804086, -87.632924134, 1.0], [41.902455031, -87.632873247, 1.0], [41.763559521, -87.632872186, 1.0], [41.837657843, -87.632872062, 1.0], [41.788008141, -87.632826115, 1.0], [41.75601237, -87.632818652, 1.0], [41.835453854, -87.632815365, 1.0], [41.763561729, -87.632784192, 1.0], [41.868107536, -87.632778394, 1.0], [41.784143547, -87.632721519, 1.0], [41.897267498, -87.632720574, 1.0], [41.894410424, -87.632667323, 5.0], [41.82862242, -87.632658693, 1.0], [41.87285385, -87.632576028, 1.0], [41.889393149, -87.632534851, 1.0], [41.888778301, -87.632512191, 2.0], [41.824227751, -87.632479139, 1.0], [41.883629531, -87.632417897, 1.0], [41.868116071, -87.632378118, 2.0], [41.748992344, -87.632352616, 2.0], [41.815195454, -87.632331841, 1.0], [41.765885497, -87.632227405, 1.0], [41.764793071, -87.632195313, 1.0], [41.903125898, -87.632182661, 1.0], [41.728924667, -87.632142195, 1.0], [41.760763881, -87.632103561, 1.0], [41.709799212, -87.632093709, 1.0], [41.901834826, -87.631972713, 1.0], [41.797398912, -87.631898701, 1.0], [41.903892302, -87.631858359, 1.0], [41.749864745, -87.631855725, 1.0], [41.896627747, -87.631765231, 2.0], [41.777740745, -87.631760999, 3.0], [41.775380274, -87.631698738, 1.0], [41.904370109, -87.631460067, 1.0], [41.723582586, -87.63142369, 1.0], [41.761769351, -87.631377874, 1.0], [41.703419739, -87.631372034, 1.0], [41.82439906, -87.631321567, 1.0], [41.897129577, -87.631256529, 1.0], [41.757424249, -87.631234642, 1.0], [41.757358368, -87.631231695, 1.0], [41.75706468, -87.6312239, 1.0], [41.720871932, -87.631094215, 1.0], [41.696134383, -87.631059469, 1.0], [41.766259608, -87.631024685, 1.0], [41.764774707, -87.630985897, 1.0], [41.764642967, -87.630983668, 1.0], [41.76310046, -87.630949174, 1.0], [41.909443652, -87.630923227, 1.0], [41.879083482, -87.630811493, 1.0], [41.873986481, -87.630658024, 1.0], [41.872910562, -87.63062942, 1.0], [41.870355187, -87.630550934, 1.0], [41.86821682, -87.6304532, 1.0], [41.890030224, -87.630357348, 1.0], [41.767245884, -87.630302793, 1.0], [41.721637591, -87.630195757, 1.0], [41.854770868, -87.630148953, 2.0], [41.908406922, -87.630122703, 1.0], [41.908357507, -87.630119571, 1.0], [41.840843344, -87.63008127, 1.0], [41.906702443, -87.63007161, 1.0], [41.906765556, -87.630070917, 3.0], [41.906683212, -87.630068147, 1.0], [41.903496586, -87.629974549, 5.0], [41.902703354, -87.629950194, 1.0], [41.902670403, -87.629946882, 2.0], [41.902187338, -87.629933817, 1.0], [41.726402223, -87.629828762, 1.0], [41.766446928, -87.629794667, 1.0], [41.897021755, -87.629781141, 5.0], [41.896083132, -87.629765732, 1.0], [41.764662873, -87.629751844, 1.0], [41.891104274, -87.629633064, 1.0], [41.872646393, -87.629615264, 1.0], [41.841904764, -87.629533842, 1.0], [41.886012928, -87.629505318, 1.0], [41.866767236, -87.629455793, 1.0], [41.899126506, -87.62932093, 1.0], [41.876384567, -87.62925113, 1.0], [41.875220838, -87.629223513, 2.0], [41.84155982, -87.629222012, 1.0], [41.875154958, -87.629220565, 1.0], [41.903933718, -87.629209346, 1.0], [41.841471897, -87.629204627, 1.0], [41.893255699, -87.629176054, 1.0], [41.697071399, -87.629013394, 1.0], [41.910273471, -87.628856792, 1.0], [41.884485451, -87.628783943, 2.0], [41.841855999, -87.628741678, 1.0], [41.877726094, -87.628737019, 1.0], [41.904624897, -87.628702157, 1.0], [41.875192899, -87.62869508, 1.0], [41.875236804, -87.628694598, 1.0], [41.899136171, -87.628659652, 1.0], [41.872928643, -87.62865386, 2.0], [41.870724666, -87.628597294, 1.0], [41.821182269, -87.628550134, 1.0], [41.747231822, -87.628531366, 1.0], [41.844000177, -87.628442902, 1.0], [41.77178664, -87.628339611, 1.0], [41.90132405, -87.628330712, 1.0], [41.770282485, -87.628293763, 1.0], [41.770208372, -87.628290908, 1.0], [41.770098585, -87.628288445, 1.0], [41.829155317, -87.628257211, 1.0], [41.702294054, -87.628150774, 1.0], [41.846245862, -87.628139319, 2.0], [41.891948167, -87.628073894, 2.0], [41.891135724, -87.628049777, 1.0], [41.887919288, -87.628019052, 1.0], [41.757596472, -87.627989156, 1.0], [41.757615681, -87.627988945, 1.0], [41.765332603, -87.627981404, 1.0], [41.8848616, -87.627920479, 1.0], [41.882446221, -87.627847897, 1.0], [41.820409376, -87.627817537, 3.0], [41.894078738, -87.627797026, 1.0], [41.880255584, -87.627728782, 2.0], [41.826929163, -87.627720274, 1.0], [41.903959785, -87.627644168, 2.0], [41.875090251, -87.62762037, 1.0], [41.875232942, -87.6276188, 1.0], [41.907104235, -87.627572802, 1.0], [41.760013811, -87.627478874, 1.0], [41.869710651, -87.627477612, 2.0], [41.868593592, -87.627453187, 1.0], [41.720756166, -87.627428812, 1.0], [41.756366138, -87.627397899, 1.0], [41.863642218, -87.627331436, 5.0], [41.861613902, -87.627280329, 1.0], [41.861161041, -87.627270627, 1.0], [41.860568255, -87.627266135, 3.0], [41.870526756, -87.627204283, 2.0], [41.786845746, -87.627191958, 1.0], [41.90532912, -87.627191938, 1.0], [41.794625517, -87.627146908, 1.0], [41.85514757, -87.627138557, 1.0], [41.854963672, -87.627133239, 1.0], [41.850517353, -87.627031661, 6.0], [41.884493832, -87.627021129, 1.0], [41.848851341, -87.626991263, 1.0], [41.843922218, -87.6269207, 1.0], [41.765444001, -87.626906181, 1.0], [41.842709067, -87.626890005, 1.0], [41.841350479, -87.626860911, 1.0], [41.767888734, -87.626835373, 3.0], [41.690728743, -87.626695422, 1.0], [41.788252809, -87.626622824, 1.0], [41.902400194, -87.626610759, 1.0], [41.828312991, -87.626497936, 1.0], [41.824635153, -87.626413647, 1.0], [41.82467357, -87.626413225, 1.0], [41.817499359, -87.626301367, 2.0], [41.90322144, -87.626282116, 1.0], [41.870550571, -87.626168646, 1.0], [41.879136957, -87.626110706, 1.0], [41.873968788, -87.625987769, 1.0], [41.871336669, -87.625925, 1.0], [41.908265588, -87.625877455, 1.0], [41.868435518, -87.625846844, 3.0], [41.749824814, -87.625791161, 1.0], [41.865062409, -87.625777568, 1.0], [41.864958112, -87.625775047, 1.0], [41.841963863, -87.625753192, 1.0], [41.863659876, -87.625741636, 2.0], [41.861335178, -87.625690175, 1.0], [41.907221245, -87.625628157, 1.0], [41.857533855, -87.625603607, 1.0], [41.856183503, -87.625574446, 1.0], [41.856197223, -87.625574295, 1.0], [41.856106646, -87.625571623, 3.0], [41.853836827, -87.625519566, 7.0], [41.880803517, -87.62535056, 1.0], [41.846426276, -87.625348016, 2.0], [41.898371341, -87.625222661, 2.0], [41.886812339, -87.625177717, 3.0], [41.89837293, -87.625035314, 1.0], [41.854271374, -87.624784323, 1.0], [41.898376583, -87.62473775, 1.0], [41.894128411, -87.62472227, 1.0], [41.817538761, -87.624679453, 1.0], [41.749797723, -87.624512495, 1.0], [41.810232303, -87.624484882, 2.0], [41.884790951, -87.624469241, 3.0], [41.696214278, -87.62440546, 1.0], [41.804734646, -87.624343757, 1.0], [41.801103397, -87.624251755, 1.0], [41.801125349, -87.624251513, 1.0], [41.799459322, -87.6242112, 1.0], [41.891984471, -87.62416567, 2.0], [41.871427308, -87.624157966, 4.0], [41.866937617, -87.624141504, 1.0], [41.870389849, -87.62413639, 1.0], [41.866578077, -87.624134464, 1.0], [41.86661375, -87.62413407, 1.0], [41.868518128, -87.624113021, 5.0], [41.865145359, -87.624098901, 2.0], [41.683923167, -87.624082784, 1.0], [41.792210513, -87.624023407, 1.0], [41.792043078, -87.624017919, 1.0], [41.696217304, -87.624006312, 1.0], [41.859815277, -87.623977927, 3.0], [41.790363328, -87.623977766, 1.0], [41.858643312, -87.6239505, 1.0], [41.857509786, -87.623926319, 2.0], [41.857279216, -87.623917855, 1.0], [41.786874786, -87.623887888, 1.0], [41.78659482, -87.623879974, 1.0], [41.855190551, -87.623871195, 7.0], [41.853930752, -87.623841071, 3.0], [41.811084496, -87.623833562, 1.0], [41.809270495, -87.623827903, 1.0], [41.803800889, -87.623785553, 1.0], [41.782881146, -87.623774252, 1.0], [41.803803452, -87.623756183, 1.0], [41.850656285, -87.623748793, 1.0], [41.709538317, -87.623570563, 1.0], [41.709615153, -87.623569718, 1.0], [41.840841377, -87.623515946, 1.0], [41.896744235, -87.62348125, 1.0], [41.794347692, -87.623479103, 1.0], [41.771989936, -87.623472718, 1.0], [41.770529732, -87.62343383, 1.0], [41.837487324, -87.623424573, 1.0], [41.789226074, -87.623352264, 1.0], [41.766909392, -87.62333445, 1.0], [41.76657452, -87.623323479, 1.0], [41.841825184, -87.623292218, 1.0], [41.838916012, -87.623250984, 1.0], [41.839464759, -87.623233908, 1.0], [41.791061128, -87.623211004, 1.0], [41.829091287, -87.623209136, 1.0], [41.785566717, -87.623154305, 1.0], [41.819697049, -87.623111162, 2.0], [41.824933076, -87.623104662, 2.0], [41.824705249, -87.623096173, 1.0], [41.817819665, -87.623062204, 1.0], [41.81752598, -87.623054444, 1.0], [41.815901118, -87.623013703, 1.0], [41.815827005, -87.623010853, 1.0], [41.815846214, -87.623010641, 1.0], [41.815698011, -87.62300861, 1.0], [41.815604689, -87.623005973, 1.0], [41.750224578, -87.622975965, 1.0], [41.750186137, -87.622972724, 1.0], [41.749983027, -87.622967634, 1.0], [41.814106078, -87.622967508, 1.0], [41.814155472, -87.622966962, 1.0], [41.813974317, -87.622961627, 1.0], [41.812319247, -87.622917555, 1.0], [41.812074978, -87.622912918, 1.0], [41.810590063, -87.622870636, 1.0], [41.810277169, -87.622863089, 1.0], [41.855505367, -87.622858279, 1.0], [41.808740117, -87.622821385, 1.0], [41.808608378, -87.622819173, 1.0], [41.808682468, -87.622818354, 1.0], [41.80829274, -87.622811656, 1.0], [41.806824289, -87.622769196, 1.0], [41.806640412, -87.62276756, 1.0], [41.774282447, -87.622750892, 1.0], [41.803253433, -87.622680282, 1.0], [41.677654444, -87.622643468, 1.0], [41.81834934, -87.622623461, 1.0], [41.799657879, -87.622591648, 1.0], [41.798916815, -87.622574164, 1.0], [41.866977138, -87.622544036, 1.0], [41.795900375, -87.622497476, 1.0], [41.795730196, -87.622492022, 1.0], [41.890961404, -87.622476522, 3.0], [41.863598471, -87.622463983, 3.0], [41.793973589, -87.62244909, 1.0], [41.861795213, -87.622417878, 1.0], [41.792425533, -87.622403855, 2.0], [41.792277329, -87.622401826, 1.0], [41.814736467, -87.622395616, 1.0], [41.859794359, -87.622370293, 1.0], [41.688967572, -87.622357873, 1.0], [41.790070599, -87.622349204, 1.0], [41.788786066, -87.622315729, 1.0], [41.788618631, -87.622310245, 1.0], [41.788525309, -87.622307609, 2.0], [41.786735748, -87.622261382, 1.0], [41.853676611, -87.622239838, 1.0], [41.723070555, -87.622238466, 1.0], [41.827405487, -87.622189419, 2.0], [41.805654261, -87.622169597, 3.0], [41.844026941, -87.622100808, 5.0], [41.780946398, -87.621995369, 11.0], [41.679861881, -87.621916331, 1.0], [41.839226082, -87.621915438, 1.0], [41.837541038, -87.621904743, 1.0], [41.789249748, -87.621855909, 1.0], [41.789249657, -87.621841243, 1.0], [41.85552073, -87.621793612, 2.0], [41.832285066, -87.62179049, 2.0], [41.832057262, -87.621785674, 1.0], [41.890976131, -87.621752835, 2.0], [41.766553634, -87.621721841, 1.0], [41.766627725, -87.621721022, 1.0], [41.763227047, -87.621641306, 2.0], [41.898427551, -87.621442383, 1.0], [41.77104383, -87.621364283, 2.0], [41.81432931, -87.621347309, 1.0], [41.813950536, -87.62133683, 1.0], [41.813080456, -87.621313452, 1.0], [41.812215864, -87.621290014, 1.0], [41.812117054, -87.62128744, 1.0], [41.810319268, -87.621241324, 1.0], [41.767409269, -87.621184531, 1.0], [41.806849923, -87.621147701, 1.0], [41.806495867, -87.621140619, 1.0], [41.76012266, -87.621103832, 1.0], [41.804991765, -87.62110226, 1.0], [41.803391597, -87.621061298, 3.0], [41.803224162, -87.621055817, 1.0], [41.801313866, -87.621010957, 1.0], [41.795621345, -87.620868629, 1.0], [41.812945783, -87.620838072, 1.0], [41.694309334, -87.620794172, 1.0], [41.81475935, -87.620773951, 1.0], [41.88635374, -87.620691382, 1.0], [41.886370204, -87.620691199, 3.0], [41.835686337, -87.620644613, 5.0], [41.786632384, -87.620638155, 2.0], [41.786670801, -87.62063773, 1.0], [41.78491968, -87.62059479, 1.0], [41.704700641, -87.620558604, 1.0], [41.782927032, -87.620547195, 1.0], [41.677619207, -87.620498773, 1.0], [41.845345061, -87.620471366, 1.0], [41.838384638, -87.620313759, 1.0], [41.793842185, -87.620286919, 1.0], [41.791100401, -87.620247633, 1.0], [41.855541126, -87.620214993, 1.0], [41.898688787, -87.620201629, 1.0], [41.898175559, -87.620192647, 1.0], [41.766903385, -87.620149089, 1.0], [41.766922593, -87.620148876, 1.0], [41.766606953, -87.620141375, 1.0], [41.854335843, -87.620125605, 2.0], [41.845691143, -87.620078491, 1.0], [41.821236024, -87.619920712, 1.0], [41.821104285, -87.619918506, 1.0], [41.819391545, -87.619867813, 1.0], [41.819300968, -87.61986515, 1.0], [41.752158814, -87.619795595, 1.0], [41.751936496, -87.619790728, 1.0], [41.706317699, -87.619779009, 1.0], [41.815839859, -87.619771503, 1.0], [41.815856324, -87.61977132, 1.0], [41.815672425, -87.619766025, 2.0], [41.814305552, -87.61972984, 1.0], [41.814193022, -87.619727421, 1.0], [41.771074552, -87.619681313, 1.0], [41.772891126, -87.61965751, 1.0], [41.890389293, -87.619610833, 1.0], [41.744690323, -87.619596138, 1.0], [41.808621184, -87.61957285, 1.0], [41.806727331, -87.619524182, 1.0], [41.8066148, -87.619521763, 1.0], [41.769259446, -87.619499814, 1.0], [41.74119073, -87.61949932, 1.0], [41.80475662, -87.619472702, 1.0], [41.897652325, -87.619456504, 1.0], [41.832129977, -87.619352094, 1.0], [41.760155555, -87.619329493, 1.0], [41.826860323, -87.619245542, 1.0], [41.893427527, -87.619228088, 1.0], [41.793566476, -87.619197166, 1.0], [41.792361522, -87.61916287, 2.0], [41.790423758, -87.619114707, 1.0], [41.69264078, -87.619025823, 1.0], [41.785044121, -87.618980083, 1.0], [41.783238071, -87.618930466, 1.0], [41.8147888, -87.618888092, 1.0], [41.845252683, -87.61885388, 1.0], [41.807526491, -87.61873404, 1.0], [41.731868701, -87.618679306, 1.0], [41.770381781, -87.618603908, 2.0], [41.770271994, -87.618601461, 1.0], [41.823033098, -87.618528623, 2.0], [41.767013966, -87.618512993, 1.0], [41.821367054, -87.618484785, 1.0], [41.765078937, -87.618464828, 1.0], [41.763105491, -87.618417091, 1.0], [41.817941574, -87.618383477, 1.0], [41.892631803, -87.618362824, 4.0], [41.816083396, -87.618334445, 1.0], [41.757857682, -87.618303078, 1.0], [41.889497462, -87.618294943, 1.0], [41.812421944, -87.618239442, 1.0], [41.81229295, -87.618237209, 1.0], [41.886511115, -87.618196037, 1.0], [41.810478653, -87.618184026, 1.0], [41.791136962, -87.618182705, 1.0], [41.810385331, -87.618181396, 2.0], [41.808642426, -87.618134757, 1.0], [41.898114883, -87.617938027, 1.0], [41.680413203, -87.617890798, 2.0], [41.741197168, -87.617887018, 1.0], [41.678651004, -87.617837105, 1.0], [41.801131542, -87.61772683, 1.0], [41.799545321, -87.617722474, 1.0], [41.89144754, -87.617681884, 3.0], [41.797536213, -87.617675146, 1.0], [41.717490417, -87.617666524, 1.0], [41.889202315, -87.617611457, 1.0], [41.792052214, -87.617527129, 1.0], [41.807546327, -87.617512396, 2.0], [41.79037523, -87.617490782, 1.0], [41.788588436, -87.617448324, 1.0], [41.788569205, -87.617444871, 1.0], [41.793893044, -87.617433304, 1.0], [41.787004728, -87.617407275, 1.0], [41.743767841, -87.617327156, 1.0], [41.843016958, -87.61722727, 7.0], [41.842695834, -87.61721984, 3.0], [41.747425222, -87.617202234, 1.0], [41.841622651, -87.617191438, 2.0], [41.798444234, -87.617180944, 4.0], [41.88652124, -87.617178654, 1.0], [41.841164277, -87.6171782, 2.0], [41.83981113, -87.617141911, 7.0], [41.828490731, -87.617091987, 1.0], [41.825194431, -87.617022328, 1.0], [41.770300389, -87.616991853, 1.0], [41.884546689, -87.616947314, 1.0], [41.798448213, -87.61693885, 1.0], [41.688063643, -87.616887094, 1.0], [41.765055171, -87.616852264, 1.0], [41.764794435, -87.616847834, 2.0], [41.834650079, -87.616847182, 6.0], [41.673548279, -87.616795523, 1.0], [41.815903526, -87.6167737, 1.0], [41.836600771, -87.61677038, 3.0], [41.655492823, -87.616728554, 1.0], [41.759283101, -87.616722219, 2.0], [41.792991176, -87.616713585, 1.0], [41.757886076, -87.61669378, 2.0], [41.757493599, -87.616687151, 1.0], [41.812464344, -87.616676309, 1.0], [41.785685322, -87.616622615, 1.0], [41.886915622, -87.616612361, 1.0], [41.892659231, -87.616599571, 2.0], [41.808835772, -87.616573701, 1.0], [41.892661769, -87.616566488, 1.0], [41.808500903, -87.616562762, 3.0], [41.719349279, -87.616499406, 1.0], [41.891072348, -87.616485094, 1.0], [41.804823004, -87.616471717, 2.0], [41.673554115, -87.616411124, 4.0], [41.765688602, -87.616332039, 1.0], [41.808504765, -87.616302292, 1.0], [41.721856085, -87.616259088, 1.0], [41.892667777, -87.616210158, 1.0], [41.801311004, -87.616140438, 1.0], [41.801195729, -87.616138055, 1.0], [41.801214938, -87.616137841, 1.0], [41.799337569, -87.616092761, 1.0], [41.820248497, -87.616020877, 3.0], [41.699131361, -87.615980642, 1.0], [41.793680739, -87.615954138, 1.0], [41.792486784, -87.615923447, 1.0], [41.79243188, -87.615920392, 1.0], [41.792357766, -87.615917551, 1.0], [41.792171122, -87.615912299, 1.0], [41.790439233, -87.615872939, 1.0], [41.819347317, -87.615851173, 3.0], [41.78705501, -87.61578967, 1.0], [41.786651559, -87.615783168, 1.0], [41.819351842, -87.61569704, 1.0], [41.783209684, -87.615696882, 1.0], [41.783116362, -87.615694257, 1.0], [41.688259172, -87.615676743, 1.0], [41.781241731, -87.615649164, 1.0], [41.894692183, -87.615636574, 1.0], [41.779196943, -87.615602304, 1.0], [41.779120086, -87.615599494, 1.0], [41.779059693, -87.615596501, 1.0], [41.778809934, -87.615591954, 1.0], [41.777596767, -87.615561486, 1.0], [41.777522654, -87.615558647, 1.0], [41.777541862, -87.615558432, 1.0], [41.777558327, -87.615558249, 1.0], [41.777484213, -87.615555409, 1.0], [41.813028128, -87.615551207, 1.0], [41.886944528, -87.615528657, 2.0], [41.776002079, -87.61552061, 2.0], [41.776018543, -87.615520426, 3.0], [41.776056961, -87.615519998, 1.0], [41.775927965, -87.61551777, 1.0], [41.775760552, -87.61551597, 1.0], [41.775815434, -87.615515359, 1.0], [41.775834643, -87.615515144, 1.0], [41.81121646, -87.61547973, 1.0], [41.774220768, -87.615478149, 1.0], [41.723036173, -87.615385132, 1.0], [41.768517219, -87.615332793, 1.0], [41.767161311, -87.615296593, 1.0], [41.766897808, -87.615288535, 1.0], [41.681392799, -87.615229553, 1.0], [41.785714007, -87.615063951, 3.0], [41.805104965, -87.6150418, 1.0], [41.774798645, -87.614852139, 1.0], [41.820265788, -87.614835706, 1.0], [41.744956839, -87.614803849, 1.0], [41.830697249, -87.614476891, 6.0], [41.829651528, -87.614451899, 5.0], [41.828762287, -87.614436164, 3.0], [41.781127101, -87.614433186, 1.0], [41.892143457, -87.614427382, 1.0], [41.891308785, -87.614359614, 2.0], [41.890910853, -87.614356731, 1.0], [41.775912237, -87.614319119, 1.0], [41.774114484, -87.614280541, 1.0], [41.774076044, -87.614277305, 1.0], [41.747477641, -87.614171096, 1.0], [41.656711605, -87.614138849, 1.0], [41.683987129, -87.614062164, 1.0], [41.761269122, -87.613951145, 1.0], [41.759501527, -87.613908579, 1.0], [41.759314882, -87.613903333, 1.0], [41.808544351, -87.613855297, 1.0], [41.754014885, -87.613782944, 1.0], [41.834690813, -87.613705645, 2.0], [41.750290278, -87.613688947, 1.0], [41.821176924, -87.613526794, 1.0], [41.825707186, -87.61344303, 1.0], [41.891840843, -87.613431785, 2.0], [41.693783016, -87.613403816, 1.0], [41.691834196, -87.613348659, 1.0], [41.783455232, -87.613274211, 1.0], [41.783342701, -87.613271804, 1.0], [41.783175288, -87.61327001, 3.0], [41.783194497, -87.613269795, 2.0], [41.782933762, -87.613265379, 1.0], [41.78497546, -87.613257201, 1.0], [41.784882138, -87.613254579, 1.0], [41.781498301, -87.613233776, 1.0], [41.781424188, -87.613230939, 1.0], [41.777658506, -87.613148415, 1.0], [41.777696923, -87.613147985, 2.0], [41.777716132, -87.61314777, 1.0], [41.776192904, -87.613124484, 1.0], [41.805795463, -87.613119475, 2.0], [41.774172834, -87.613081096, 1.0], [41.774079512, -87.613078474, 1.0], [41.836069707, -87.613033345, 2.0], [41.768274268, -87.612908808, 1.0], [41.816084734, -87.612839127, 1.0], [41.689110784, -87.612745639, 1.0], [41.759356719, -87.612697017, 1.0], [41.75929907, -87.612693997, 1.0], [41.83120459, -87.612669593, 1.0], [41.833679765, -87.612645497, 1.0], [41.807002522, -87.612614456, 1.0], [41.805125154, -87.612569477, 1.0], [41.805031832, -87.612566855, 1.0], [41.752006389, -87.612522704, 1.0], [41.816713456, -87.612446891, 1.0], [41.83368122, -87.612439993, 2.0], [41.748427219, -87.612427155, 1.0], [41.744867254, -87.612331399, 1.0], [41.744773909, -87.612325115, 1.0], [41.825123682, -87.61229385, 2.0], [41.69572968, -87.612239695, 1.0], [41.695768098, -87.612239266, 1.0], [41.825408582, -87.612213605, 1.0], [41.803986617, -87.612186122, 2.0], [41.692273984, -87.612146482, 1.0], [41.690316908, -87.612087794, 1.0], [41.783030655, -87.612087336, 1.0], [41.690130261, -87.612082557, 1.0], [41.689927125, -87.612073842, 1.0], [41.700033643, -87.611938948, 1.0], [41.776105804, -87.611926629, 1.0], [41.775732538, -87.611919814, 1.0], [41.756640344, -87.611899108, 1.0], [41.736543764, -87.611893239, 1.0], [41.774211962, -87.611881863, 2.0], [41.774063758, -87.611879858, 1.0], [41.803084186, -87.61181847, 1.0], [41.827161886, -87.611731628, 1.0], [41.766949208, -87.611666324, 1.0], [41.765299634, -87.611626162, 1.0], [41.816016719, -87.611621973, 1.0], [41.815959071, -87.611618952, 1.0], [41.763419509, -87.611581254, 1.0], [41.763139542, -87.611573395, 1.0], [41.773040489, -87.611499066, 1.0], [41.742960017, -87.611465985, 1.0], [41.805106554, -87.611355643, 1.0], [41.804996768, -87.611353208, 1.0], [41.816733916, -87.611335117, 1.0], [41.823904671, -87.611331607, 2.0], [41.802768088, -87.611301207, 1.0], [41.750555026, -87.611270958, 1.0], [41.832278311, -87.611035696, 2.0], [41.784944264, -87.610910894, 1.0], [41.784925032, -87.610907443, 1.0], [41.831818944, -87.610864733, 1.0], [41.783198606, -87.610864492, 1.0], [41.781598476, -87.610831124, 1.0], [41.74935839, -87.610815296, 1.0], [41.776144782, -87.610705365, 1.0], [41.803103949, -87.610596909, 1.0], [41.770520718, -87.610544874, 1.0], [41.816019968, -87.610393015, 1.0], [41.761540011, -87.610326786, 1.0], [41.830530933, -87.610277459, 2.0], [41.754222634, -87.610156036, 1.0], [41.706789555, -87.610094582, 1.0], [41.832102222, -87.610090986, 1.0], [41.803794994, -87.610079329, 1.0], [41.75050077, -87.610062219, 1.0], [41.830109681, -87.610058377, 1.0], [41.750369007, -87.610056369, 1.0], [41.802815125, -87.610053672, 1.0], [41.802842566, -87.610053363, 1.0], [41.812649659, -87.60990269, 1.0], [41.743487815, -87.609862443, 1.0], [41.769432369, -87.609853265, 1.0], [41.765804252, -87.609828047, 1.0], [41.804026024, -87.609724628, 1.0], [41.785002507, -87.609700245, 1.0], [41.824506095, -87.609655498, 1.0], [41.783070158, -87.609641308, 1.0], [41.779707927, -87.609565457, 1.0], [41.802196824, -87.609484807, 1.0], [41.774237789, -87.609443657, 1.0], [41.774070353, -87.609438208, 1.0], [41.824902067, -87.609346517, 3.0], [41.761356771, -87.609119292, 1.0], [41.759627593, -87.609076426, 1.0], [41.805126734, -87.608894322, 1.0], [41.748769413, -87.608802711, 1.0], [41.769452949, -87.6087643, 1.0], [41.721984583, -87.608744706, 1.0], [41.763999728, -87.608715694, 1.0], [41.783128481, -87.608445358, 1.0], [41.781454237, -87.608409219, 1.0], [41.777858734, -87.608332393, 1.0], [41.809508489, -87.608324092, 1.0], [41.826524987, -87.608209181, 1.0], [41.830917641, -87.608064205, 2.0], [41.816792881, -87.608062183, 4.0], [41.763407634, -87.607952618, 1.0], [41.761563204, -87.607911081, 1.0], [41.810638714, -87.607823488, 2.0], [41.757750788, -87.607818408, 1.0], [41.808615911, -87.607780288, 1.0], [41.830440577, -87.607698997, 1.0], [41.750469033, -87.607640217, 1.0], [41.75050745, -87.607639784, 1.0], [41.748566903, -87.607588348, 1.0], [41.745113957, -87.607491654, 1.0], [41.756724274, -87.607360845, 1.0], [41.809518699, -87.607333603, 1.0], [41.783074237, -87.607243343, 1.0], [41.824523488, -87.607193465, 1.0], [41.749425751, -87.607135255, 1.0], [41.774370886, -87.607051897, 1.0], [41.772367279, -87.607008514, 1.0], [41.829538814, -87.607004696, 1.0], [41.751254843, -87.606920408, 1.0], [41.829389915, -87.606892634, 2.0], [41.82531739, -87.606887309, 1.0], [41.657321733, -87.606860831, 1.0], [41.782217974, -87.606802025, 1.0], [41.654022637, -87.606799105, 1.0], [41.81811276, -87.60674129, 4.0], [41.814317008, -87.606674143, 2.0], [41.814223686, -87.60667153, 1.0], [41.757619637, -87.60660674, 1.0], [41.809305232, -87.606558389, 1.0], [41.809209166, -87.606555807, 1.0], [41.806999742, -87.606511089, 2.0], [41.807035415, -87.606510686, 1.0], [41.750582129, -87.606429594, 1.0], [41.748776066, -87.606380342, 1.0], [41.797936811, -87.606301777, 1.0], [41.797659612, -87.606297575, 1.0], [41.745114521, -87.606278737, 2.0], [41.657323496, -87.606271648, 1.0], [41.74487297, -87.606270469, 1.0], [41.725681064, -87.606120562, 1.0], [41.749443773, -87.606079639, 1.0], [41.740895201, -87.606069845, 1.0], [41.785122047, -87.60603224, 1.0], [41.783340761, -87.605993706, 2.0], [41.781499104, -87.605955856, 2.0], [41.781293251, -87.60595085, 3.0], [41.690423675, -87.605950302, 1.0], [41.811362157, -87.605922555, 2.0], [41.688337715, -87.6059079, 1.0], [41.6882636, -87.605905073, 1.0], [41.81500357, -87.605885021, 1.0], [41.745787021, -87.605868063, 1.0], [41.777601657, -87.605867915, 1.0], [41.7759329, -87.605831782, 1.0], [41.822077188, -87.605709573, 1.0], [41.798628908, -87.605520127, 1.0], [41.798628606, -87.605472453, 1.0], [41.702871205, -87.605399888, 1.0], [41.809547093, -87.605315853, 1.0], [41.805910561, -87.605257993, 1.0], [41.657676471, -87.605239381, 1.0], [41.805910282, -87.605213982, 2.0], [41.656501209, -87.605131859, 1.0], [41.796702238, -87.60505784, 1.0], [41.737750767, -87.604855911, 1.0], [41.798635468, -87.604823241, 1.0], [41.754940787, -87.604808155, 1.0], [41.734531157, -87.604771389, 3.0], [41.657774851, -87.60474059, 1.0], [41.780036279, -87.604637829, 4.0], [41.798639747, -87.604632486, 1.0], [41.776095344, -87.604616452, 1.0], [41.817495447, -87.604598523, 1.0], [41.774349728, -87.604577555, 1.0], [41.774182315, -87.604575784, 1.0], [41.825982929, -87.604513286, 1.0], [41.816012995, -87.604512613, 4.0], [41.814563821, -87.604481355, 1.0], [41.825883747, -87.604452038, 1.0], [41.753119052, -87.604451277, 3.0], [41.812505323, -87.604434996, 1.0], [41.812560204, -87.604434374, 2.0], [41.810647211, -87.604397372, 1.0], [41.782951712, -87.604362828, 3.0], [41.808918093, -87.604361955, 1.0], [41.781582109, -87.604330677, 1.0], [41.807007819, -87.604321257, 1.0], [41.806914497, -87.604318647, 1.0], [41.806821175, -87.604316037, 3.0], [41.819096263, -87.604308898, 1.0], [41.818964454, -87.604295718, 1.0], [41.655804256, -87.60428343, 1.0], [41.812713636, -87.603963101, 1.0], [41.812546224, -87.603961332, 1.0], [41.801231529, -87.60395396, 1.0], [41.800608506, -87.603942688, 1.0], [41.800073317, -87.603934087, 1.0], [41.799875696, -87.603928993, 1.0], [41.799908625, -87.60392862, 1.0], [41.810391682, -87.60391608, 1.0], [41.799173072, -87.603914956, 1.0], [41.735749685, -87.603914933, 1.0], [41.799184048, -87.603914832, 1.0], [41.799195024, -87.603914707, 1.0], [41.748864643, -87.603902076, 1.0], [41.748922269, -87.603901424, 1.0], [41.79839359, -87.603898124, 1.0], [41.798462192, -87.603897346, 1.0], [41.748623092, -87.603893817, 1.0], [41.798088927, -87.603890577, 1.0], [41.809016597, -87.603883995, 1.0], [41.797619595, -87.60388123, 1.0], [41.796250019, -87.603852753, 1.0], [41.730277132, -87.603852286, 1.0], [41.807067906, -87.603843747, 2.0], [41.74697893, -87.603842804, 1.0], [41.743240897, -87.603797174, 1.0], [41.745186609, -87.603797134, 1.0], [41.745150913, -87.603793874, 1.0], [41.744945058, -87.603788876, 1.0], [41.744870944, -87.60378605, 2.0], [41.803615133, -87.603769215, 2.0], [41.803502602, -87.603766824, 1.0], [41.803244589, -87.603758748, 2.0], [41.803261053, -87.603758561, 1.0], [41.749477321, -87.603579982, 1.0], [41.821500805, -87.603533201, 1.0], [41.745815636, -87.603456551, 1.0], [41.822073733, -87.603434976, 1.0], [41.657596239, -87.603406917, 1.0], [41.774289841, -87.603357441, 1.0], [41.77408401, -87.603356109, 1.0], [41.774158101, -87.603355268, 1.0], [41.77404557, -87.603352878, 1.0], [41.745817472, -87.603313617, 1.0], [41.817986669, -87.60330163, 1.0], [41.822130356, -87.603276576, 1.0], [41.816855505, -87.603219097, 1.0], [41.823665846, -87.603072021, 2.0], [41.811393328, -87.603050035, 1.0], [41.657212269, -87.603012379, 1.0], [41.759624544, -87.602959229, 1.0], [41.801921744, -87.602878856, 1.0], [41.801685706, -87.602874202, 1.0], [41.801628057, -87.602871189, 1.0], [41.779547539, -87.602868853, 1.0], [41.778117541, -87.602833754, 2.0], [41.80874894, -87.602790298, 1.0], [41.808606225, -87.602788251, 1.0], [41.808526624, -87.602785488, 1.0], [41.75236474, -87.602781335, 1.0], [41.797146064, -87.602779061, 1.0], [41.783440959, -87.602754998, 1.0], [41.783457423, -87.602754811, 1.0], [41.796061895, -87.602751034, 1.0], [41.750690464, -87.602741685, 1.0], [41.750706929, -87.602741498, 2.0], [41.750652023, -87.602738456, 1.0], [41.823125769, -87.602725951, 3.0], [41.730052992, -87.602697148, 1.0], [41.749027117, -87.602694582, 2.0], [41.748727917, -87.602683316, 1.0], [41.748615385, -87.602680928, 1.0], [41.748653803, -87.602680492, 2.0], [41.74719631, -87.602638387, 1.0], [41.746990455, -87.602633392, 1.0], [41.743546065, -87.602588167, 1.0], [41.745016976, -87.602582482, 1.0], [41.745036185, -87.602582264, 1.0], [41.744923653, -87.602579875, 1.0], [41.802301142, -87.602555462, 1.0], [41.730981965, -87.602485124, 1.0], [41.737900035, -87.602432339, 1.0], [41.656782576, -87.602332931, 1.0], [41.80085882, -87.602307786, 1.0], [41.747660197, -87.602222699, 1.0], [41.776269267, -87.602187488, 1.0], [41.753145614, -87.602153123, 1.0], [41.774394656, -87.602146456, 1.0], [41.774188802, -87.602141462, 1.0], [41.796475052, -87.602126567, 1.0], [41.65357271, -87.602061854, 1.0], [41.765309392, -87.601886735, 2.0], [41.765114538, -87.601885283, 1.0], [41.765007495, -87.601882833, 1.0], [41.765078841, -87.601882023, 1.0], [41.821789385, -87.601875318, 3.0], [41.82175634, -87.60185735, 1.0], [41.816229267, -87.601839542, 1.0], [41.821731526, -87.601839289, 1.0], [41.810729022, -87.601726053, 2.0], [41.80891207, -87.601688039, 1.0], [41.755842848, -87.601657055, 1.0], [41.77786278, -87.601612119, 1.0], [41.750515331, -87.601526994, 1.0], [41.748591224, -87.601471891, 1.0], [41.747098034, -87.601426553, 1.0], [41.746966294, -87.601424385, 2.0], [41.820982288, -87.601400234, 1.0], [41.710727492, -87.601399786, 1.0], [41.745382548, -87.601380078, 1.0], [41.79896154, -87.601291462, 1.0], [41.820789479, -87.6012887, 1.0], [41.739898748, -87.601273808, 1.0], [41.797391622, -87.601261653, 1.0], [41.796049439, -87.601225586, 1.0], [41.737903267, -87.601215864, 1.0], [41.737697412, -87.601210874, 1.0], [41.737733086, -87.601210469, 1.0], [41.705677782, -87.600944364, 2.0], [41.822488299, -87.600876789, 1.0], [41.738532264, -87.600871631, 1.0], [41.742183808, -87.600694557, 1.0], [41.809599729, -87.600645823, 1.0], [41.759930786, -87.600628338, 1.0], [41.802321549, -87.600589375, 1.0], [41.809599074, -87.600543125, 1.0], [41.74218759, -87.600427026, 1.0], [41.777907183, -87.600398086, 1.0], [41.777940112, -87.600397711, 1.0], [41.711231457, -87.600383231, 1.0], [41.750768359, -87.600322097, 1.0], [41.819767809, -87.600302468, 2.0], [41.799416161, -87.600285068, 1.0], [41.748959528, -87.600269383, 1.0], [41.748978737, -87.600269164, 1.0], [41.749017154, -87.600268727, 1.0], [41.746922888, -87.600211934, 1.0], [41.746961306, -87.600211497, 2.0], [41.74531991, -87.600164211, 1.0], [41.745394001, -87.600163368, 1.0], [41.745265005, -87.600161171, 1.0], [41.74498778, -87.600153332, 2.0], [41.743085927, -87.600145655, 1.0], [41.798995502, -87.599732409, 1.0], [41.796931509, -87.599686269, 1.0], [41.783414767, -87.599506721, 1.0], [41.783208914, -87.599501736, 1.0], [41.781721314, -87.599471033, 1.0], [41.781589574, -87.599468869, 1.0], [41.749516689, -87.599420179, 2.0], [41.763441256, -87.59941913, 2.0], [41.81410035, -87.59935831, 1.0], [41.814133279, -87.599357934, 1.0], [41.808734609, -87.599250835, 2.0], [41.7781821, -87.599185088, 1.0], [41.749064315, -87.599058871, 1.0], [41.748803578, -87.599054513, 1.0], [41.762302437, -87.598999595, 1.0], [41.749528306, -87.598661467, 1.0], [41.809621907, -87.59853277, 1.0], [41.809623853, -87.598408034, 1.0], [41.721210793, -87.598390706, 1.0], [41.801826246, -87.598233077, 1.0], [41.797366157, -87.598133687, 1.0], [41.725802542, -87.598041651, 1.0], [41.804168607, -87.598037586, 1.0], [41.750472935, -87.597895771, 1.0], [41.783544423, -87.597895619, 1.0], [41.762316394, -87.597749548, 1.0], [41.802357232, -87.59758517, 1.0], [41.658088764, -87.59758284, 1.0], [41.776175067, -87.597319911, 1.0], [41.7758951, -87.597312114, 1.0], [41.745879986, -87.597196983, 1.0], [41.765308673, -87.597048243, 1.0], [41.763486172, -87.597003102, 1.0], [41.763318758, -87.597001351, 1.0], [41.763337967, -87.597001131, 1.0], [41.808661394, -87.596816118, 1.0], [41.77802969, -87.596811093, 1.0], [41.744971872, -87.59680794, 1.0], [41.802864827, -87.596713793, 1.0], [41.800482475, -87.59666406, 1.0], [41.797595094, -87.596601777, 1.0], [41.79726299, -87.596594579, 1.0], [41.796077266, -87.596564152, 1.0], [41.783674009, -87.596277178, 5.0], [41.783468156, -87.596272203, 1.0], [41.781645684, -87.596230744, 1.0], [41.655796796, -87.596229365, 1.0], [41.802370227, -87.59618765, 1.0], [41.779631054, -87.596180489, 1.0], [41.802913436, -87.596163085, 1.0], [41.777729002, -87.596139946, 2.0], [41.776051988, -87.596100493, 1.0], [41.77610687, -87.596099865, 1.0], [41.774265187, -87.596058633, 1.0], [41.81483033, -87.59593107, 1.0], [41.814190596, -87.59545419, 1.0], [41.801935015, -87.59508135, 1.0], [41.801816996, -87.595079037, 1.0], [41.801830716, -87.59507888, 1.0], [41.801712698, -87.595076567, 1.0], [41.801803252, -87.595075527, 1.0], [41.78342794, -87.594710708, 1.0], [41.783318153, -87.594708301, 1.0], [41.774576378, -87.594518991, 1.0], [41.752321439, -87.594294169, 1.0], [41.74500125, -87.594117953, 1.0], [41.751407191, -87.593806252, 1.0], [41.810663246, -87.593598258, 1.0], [41.721552991, -87.593555254, 1.0], [41.810610708, -87.593536505, 1.0], [41.801864216, -87.593461078, 3.0], [41.801790103, -87.593458263, 1.0], [41.796987451, -87.593432825, 1.0], [41.810453067, -87.593347577, 2.0], [41.802947417, -87.593338586, 1.0], [41.80040818, -87.593217433, 1.0], [41.783522021, -87.593125671, 1.0], [41.783316167, -87.593120705, 2.0], [41.800292078, -87.593086738, 1.0], [41.781732477, -87.593083923, 1.0], [41.78176815, -87.593083513, 1.0], [41.807865837, -87.593017893, 1.0], [41.778038231, -87.593016422, 1.0], [41.777961373, -87.593013639, 1.0], [41.777903724, -87.593010636, 1.0], [41.777810401, -87.593008043, 1.0], [41.774497604, -87.592939826, 1.0], [41.774516813, -87.592939605, 1.0], [41.802413509, -87.592677218, 5.0], [41.758707614, -87.592619229, 1.0], [41.802415236, -87.592519489, 4.0], [41.761572025, -87.592095134, 1.0], [41.761423796, -87.592089509, 1.0], [41.803382521, -87.591870167, 1.0], [41.801927878, -87.591842926, 1.0], [41.800206942, -87.591800419, 1.0], [41.798977312, -87.591770586, 1.0], [41.793981982, -87.591655814, 2.0], [41.802425216, -87.59151444, 2.0], [41.781834011, -87.591381512, 1.0], [41.73319111, -87.591348068, 1.0], [41.794786752, -87.59133849, 1.0], [41.793332059, -87.591303928, 1.0], [41.791501334, -87.591259037, 2.0], [41.733192695, -87.591168529, 1.0], [41.772027099, -87.591138947, 1.0], [41.770975901, -87.591118073, 2.0], [41.770995109, -87.591117851, 1.0], [41.771011574, -87.591117661, 1.0], [41.771028038, -87.591117472, 1.0], [41.770907275, -87.591115198, 1.0], [41.7675148, -87.591033336, 1.0], [41.791507671, -87.590965602, 1.0], [41.782396402, -87.590927716, 1.0], [41.793335107, -87.590926179, 1.0], [41.768738921, -87.590634323, 1.0], [41.750664787, -87.590604499, 1.0], [41.803741602, -87.590530977, 1.0], [41.772382595, -87.590518972, 1.0], [41.802031713, -87.59049938, 1.0], [41.80182586, -87.590494422, 1.0], [41.80062644, -87.590467932, 4.0], [41.79756883, -87.590393224, 1.0], [41.776044763, -87.590293408, 1.0], [41.792452735, -87.590276288, 1.0], [41.776933681, -87.590257484, 2.0], [41.790816886, -87.590236509, 1.0], [41.790781189, -87.590233254, 1.0], [41.790591824, -87.590231774, 1.0], [41.77329663, -87.590123498, 1.0], [41.774215543, -87.590057899, 1.0], [41.77604871, -87.590055063, 1.0], [41.764207137, -87.589638265, 1.0], [41.758150026, -87.589568929, 2.0], [41.769206534, -87.589529204, 1.0], [41.756330265, -87.58952397, 1.0], [41.734382577, -87.589293635, 1.0], [41.801841822, -87.589144557, 2.0], [41.798954417, -87.589078944, 2.0], [41.799028507, -87.589078086, 1.0], [41.797433891, -87.589048861, 1.0], [41.797247247, -87.589043686, 2.0], [41.79712374, -87.589041448, 1.0], [41.796239958, -87.589022336, 1.0], [41.796256422, -87.589022145, 1.0], [41.796286607, -87.589021796, 1.0], [41.757436745, -87.588334702, 1.0], [41.757450465, -87.588334543, 1.0], [41.757475162, -87.588334258, 1.0], [41.784947058, -87.588148304, 1.0], [41.784754925, -87.588143196, 1.0], [41.771161679, -87.588021943, 1.0], [41.770700577, -87.588012617, 1.0], [41.768370253, -87.587947949, 1.0], [41.766956739, -87.587916658, 1.0], [41.781778297, -87.587862346, 1.0], [41.775163894, -87.587759308, 1.0], [41.783829393, -87.587611258, 1.0], [41.761489881, -87.587459459, 1.0], [41.768775482, -87.587382401, 1.0], [41.772416526, -87.587285227, 1.0], [41.776966216, -87.587232499, 1.0], [41.785095977, -87.586569917, 1.0], [41.802035717, -87.586461281, 1.0], [41.807101267, -87.586402447, 2.0], [41.778047465, -87.586387726, 2.0], [41.764728804, -87.586292974, 1.0], [41.795203243, -87.58615922, 1.0], [41.803413431, -87.586052837, 2.0], [41.802499513, -87.586041451, 6.0], [41.800709473, -87.585922883, 2.0], [41.751270452, -87.585822373, 1.0], [41.803417249, -87.585796054, 2.0], [41.800315997, -87.585762416, 1.0], [41.797745447, -87.585469563, 1.0], [41.796993404, -87.585452635, 2.0], [41.803181616, -87.585432024, 12.0], [41.773341845, -87.585250879, 1.0], [41.802408813, -87.585176941, 2.0], [41.758774136, -87.58509756, 2.0], [41.772701185, -87.585060362, 1.0], [41.770694782, -87.585010364, 1.0], [41.759691567, -87.584804681, 1.0], [41.773349622, -87.584759546, 2.0], [41.765072771, -87.584749467, 1.0], [41.804379051, -87.584732228, 1.0], [41.77335153, -87.584631215, 1.0], [41.754667423, -87.584485574, 1.0], [41.754683888, -87.584485383, 1.0], [41.754609773, -87.58448258, 2.0], [41.754181599, -87.584472897, 1.0], [41.752641782, -87.584432159, 1.0], [41.752435927, -87.584427222, 1.0], [41.769206292, -87.584422815, 1.0], [41.768871442, -87.584415712, 1.0], [41.800620055, -87.584412895, 1.0], [41.768833001, -87.584412494, 2.0], [41.750577197, -87.584298575, 1.0], [41.755145345, -87.584128183, 1.0], [41.794664627, -87.583939485, 1.0], [41.77258072, -87.583841003, 1.0], [41.772410563, -87.583839318, 1.0], [41.770555085, -87.583787601, 1.0], [41.770574294, -87.583787378, 1.0], [41.765370266, -87.583657345, 1.0], [41.765389475, -87.583657122, 1.0], [41.76540594, -87.58365693, 2.0], [41.736047295, -87.583639397, 1.0], [41.793424442, -87.583554214, 1.0], [41.756518432, -87.583430519, 1.0], [41.75620279, -87.583423198, 1.0], [41.756035376, -87.583421482, 1.0], [41.756090258, -87.583420843, 1.0], [41.752508359, -87.583330605, 1.0], [41.769728607, -87.583298676, 2.0], [41.760620381, -87.582891616, 1.0], [41.767494364, -87.582818841, 1.0], [41.767093632, -87.582808849, 1.0], [41.771002776, -87.582583655, 1.0], [41.770821619, -87.582578436, 1.0], [41.770621253, -87.582573441, 1.0], [41.795967362, -87.582556415, 1.0], [41.795997546, -87.582556062, 1.0], [41.79473773, -87.582526759, 1.0], [41.794773403, -87.582526343, 2.0], [41.773380362, -87.582321307, 1.0], [41.797274365, -87.582247772, 1.0], [41.771524189, -87.582163331, 1.0], [41.754342102, -87.582154811, 1.0], [41.773381931, -87.582141655, 1.0], [41.752892887, -87.582120402, 1.0], [41.752615662, -87.58211264, 1.0], [41.769742752, -87.582103467, 2.0], [41.762452955, -87.581957586, 1.0], [41.76154459, -87.581957188, 2.0], [41.751533053, -87.581905378, 1.0], [41.758810809, -87.581886455, 1.0], [41.761544111, -87.581883887, 1.0], [41.761546256, -87.581792229, 1.0], [41.750988117, -87.581666198, 1.0], [41.753356075, -87.581609252, 1.0], [41.772880385, -87.581403317, 1.0], [41.767330484, -87.581259187, 1.0], [41.767363413, -87.581258802, 1.0], [41.767228929, -87.581256707, 1.0], [41.767311251, -87.581255746, 1.0], [41.764282727, -87.581016205, 1.0], [41.764285183, -87.580972191, 1.0], [41.75276137, -87.580894222, 1.0], [41.741283176, -87.580661824, 1.0], [41.763922875, -87.5805439, 1.0], [41.794828373, -87.580442725, 1.0], [41.753370301, -87.580429004, 1.0], [41.764293116, -87.580088719, 1.0], [41.764292924, -87.580059398, 1.0], [41.722410409, -87.579801505, 2.0], [41.752459682, -87.579666374, 1.0], [41.765199367, -87.57934868, 1.0], [41.763604694, -87.579312369, 1.0], [41.763420792, -87.579307191, 1.0], [41.759742877, -87.579221967, 1.0], [41.759668763, -87.579219169, 1.0], [41.759687972, -87.579218945, 1.0], [41.721691511, -87.578982056, 2.0], [41.738291989, -87.578168598, 1.0], [41.763053156, -87.578068925, 1.0], [41.766060565, -87.577183241, 1.0], [41.738404777, -87.576958157, 1.0], [41.764802087, -87.576941433, 1.0], [41.753414831, -87.576763632, 1.0], [41.772812361, -87.576477067, 1.0], [41.772532392, -87.57646936, 1.0], [41.767245969, -87.57632989, 3.0], [41.765025476, -87.576275351, 1.0], [41.764929409, -87.576272815, 1.0], [41.763137138, -87.576235238, 1.0], [41.7619185, -87.576209245, 1.0], [41.754787799, -87.576054836, 1.0], [41.75449139, -87.57605099, 2.0], [41.755254707, -87.575279706, 1.0], [41.772730198, -87.575253605, 1.0], [41.767290057, -87.575108713, 1.0], [41.760263493, -87.574931204, 2.0], [41.760296422, -87.574930816, 1.0], [41.76017017, -87.574928638, 1.0], [41.75469189, -87.574828214, 1.0], [41.77302129, -87.574036742, 1.0], [41.772540956, -87.574024077, 1.0], [41.770754126, -87.573979165, 1.0], [41.769222543, -87.573938576, 3.0], [41.7690002, -87.573930201, 2.0], [41.768851996, -87.573928284, 1.0], [41.768813554, -87.573925071, 1.0], [41.767449408, -87.57388984, 1.0], [41.767210601, -87.57388166, 1.0], [41.754686571, -87.573607857, 1.0], [41.772516417, -87.572803609, 1.0], [41.771215385, -87.572767656, 1.0], [41.770822885, -87.572757629, 1.0], [41.769310511, -87.572716842, 1.0], [41.767191574, -87.572664894, 1.0], [41.754626358, -87.572388148, 1.0], [41.7454675, -87.572217814, 1.0], [41.712674785, -87.571659869, 1.0], [41.7709987, -87.571542155, 1.0], [41.770702267, -87.571534665, 1.0], [41.77073794, -87.571534243, 1.0], [41.769285935, -87.57149277, 1.0], [41.76895106, -87.57148207, 1.0], [41.767405732, -87.571438037, 1.0], [41.726169515, -87.571386935, 1.0], [41.720165307, -87.571025639, 1.0], [41.768034122, -87.57101638, 1.0], [41.767114613, -87.570990609, 1.0], [41.773511344, -87.570958858, 1.0], [41.767116798, -87.570906274, 1.0], [41.768033344, -87.570899087, 1.0], [41.767116457, -87.570854959, 1.0], [41.758938155, -87.570808838, 1.0], [41.737132261, -87.570443974, 1.0], [41.765684768, -87.570153464, 1.0], [41.759846847, -87.57003205, 1.0], [41.758493846, -87.570022427, 1.0], [41.772582569, -87.569950725, 1.0], [41.752463832, -87.569903305, 1.0], [41.770831387, -87.569901837, 1.0], [41.751209519, -87.569877856, 1.0], [41.766138458, -87.569873169, 2.0], [41.769417774, -87.569856281, 2.0], [41.769231153, -87.569854828, 2.0], [41.767685849, -87.5698145, 1.0], [41.767554109, -87.569812396, 2.0], [41.767458042, -87.56980987, 1.0], [41.74564626, -87.569793528, 1.0], [41.714619488, -87.569439321, 1.0], [41.761771052, -87.568861998, 1.0], [41.751154754, -87.568658152, 1.0], [41.740442663, -87.568495789, 1.0], [41.772692482, -87.56832174, 1.0], [41.769431669, -87.568232183, 1.0], [41.768965054, -87.568219399, 1.0], [41.767600907, -87.568184289, 1.0], [41.761968828, -87.567653754, 1.0], [41.718685396, -87.567614676, 1.0], [41.768066261, -87.567595915, 1.0], [41.768069819, -87.567306284, 3.0], [41.758979875, -87.567179828, 1.0], [41.772837604, -87.566626344, 1.0], [41.76916785, -87.566530745, 3.0], [41.763980792, -87.566478882, 1.0], [41.763906678, -87.566476099, 3.0], [41.763945095, -87.566475641, 2.0], [41.763758473, -87.566474198, 1.0], [41.763703567, -87.566471186, 1.0], [41.763574571, -87.566469057, 1.0], [41.760275482, -87.566402046, 1.0], [41.760256249, -87.56639861, 1.0], [41.760146462, -87.566396252, 1.0], [41.758175798, -87.566357409, 2.0], [41.756378035, -87.566320174, 1.0], [41.75468462, -87.566292693, 1.0], [41.754574833, -87.566290335, 1.0], [41.754648923, -87.566289453, 2.0], [41.754517183, -87.566287357, 1.0], [41.754368978, -87.566285457, 1.0], [41.754388186, -87.566285228, 1.0], [41.753550633, -87.565793115, 1.0], [41.703858986, -87.565728891, 1.0], [41.725508572, -87.565680052, 1.0], [41.763435021, -87.565297784, 1.0], [41.701876303, -87.565126283, 1.0], [41.75625468, -87.565108524, 1.0], [41.754772559, -87.565078555, 1.0], [41.75310656, -87.565047114, 2.0], [41.752848567, -87.565042861, 1.0], [41.751385654, -87.565012665, 1.0], [41.749222926, -87.564979821, 1.0], [41.761727593, -87.564815996, 2.0], [41.760297611, -87.564785411, 1.0], [41.759600468, -87.564771738, 1.0], [41.755381743, -87.564660814, 1.0], [41.729002956, -87.56457971, 1.0], [41.753567049, -87.564554197, 1.0], [41.76469494, -87.564520335, 1.0], [41.703773632, -87.56445552, 1.0], [41.73721545, -87.564397506, 1.0], [41.764759939, -87.564391267, 1.0], [41.759869287, -87.564343365, 1.0], [41.70095703, -87.564316966, 1.0], [41.759873573, -87.564163718, 1.0], [41.701407651, -87.56398935, 1.0], [41.701437836, -87.56398899, 1.0], [41.701934519, -87.56398307, 1.0], [41.758047045, -87.563928972, 1.0], [41.758066253, -87.563928742, 1.0], [41.756658247, -87.56390158, 2.0], [41.756677456, -87.56390135, 1.0], [41.756696665, -87.563901121, 1.0], [41.756713129, -87.563900924, 1.0], [41.756287723, -87.56389501, 1.0], [41.754715048, -87.563866151, 1.0], [41.754492728, -87.563861476, 1.0], [41.752903563, -87.56382915, 1.0], [41.750935666, -87.563794018, 1.0], [41.750864295, -87.563791206, 1.0], [41.749365733, -87.563765129, 1.0], [41.755398293, -87.563443849, 1.0], [41.751771745, -87.563245313, 2.0], [41.755399588, -87.5632276, 1.0], [41.702017228, -87.563220402, 1.0], [41.764708006, -87.563193271, 1.0], [41.698501418, -87.563170807, 1.0], [41.764404193, -87.562903666, 1.0], [41.758560412, -87.562728003, 3.0], [41.758321628, -87.562723529, 1.0], [41.766161865, -87.562692028, 1.0], [41.756617188, -87.562688944, 1.0], [41.756488192, -87.562686823, 1.0], [41.747392497, -87.56252444, 1.0], [41.760343608, -87.562230187, 1.0], [41.760233476, -87.562176527, 1.0], [41.765636925, -87.562166806, 1.0], [41.744513996, -87.562155793, 2.0], [41.758346414, -87.561510075, 2.0], [41.758365623, -87.561509844, 2.0], [41.756576117, -87.561476311, 1.0], [41.756521211, -87.561473304, 1.0], [41.760615321, -87.561416911, 1.0], [41.753082194, -87.561411892, 1.0], [41.762821678, -87.561408794, 1.0], [41.752879083, -87.561406996, 1.0], [41.750590054, -87.561364792, 1.0], [41.747540791, -87.561313376, 1.0], [41.747466676, -87.561310599, 1.0], [41.762678075, -87.561274896, 1.0], [41.740067229, -87.561190382, 1.0], [41.738620851, -87.561171069, 1.0], [41.762534448, -87.561137334, 1.0], [41.764581624, -87.561127448, 2.0], [41.764216555, -87.560299765, 1.0], [41.75122688, -87.560162461, 1.0], [41.747354221, -87.560095331, 1.0], [41.735446343, -87.560043997, 1.0], [41.758171863, -87.560038788, 4.0], [41.758075796, -87.560036276, 1.0], [41.758092261, -87.560036078, 1.0], [41.75643175, -87.560004702, 1.0], [41.763305308, -87.559870854, 1.0], [41.736522647, -87.559715992, 1.0], [41.76314781, -87.559711468, 1.0], [41.755449381, -87.559202873, 1.0], [41.750966206, -87.558945241, 1.0], [41.743585923, -87.558817736, 1.0], [41.738522179, -87.558743017, 1.0], [41.73828065, -87.558738591, 1.0], [41.761678034, -87.558255664, 1.0], [41.758556862, -87.558120961, 1.0], [41.761484638, -87.55806373, 2.0], [41.749127355, -87.557699388, 2.0], [41.758617623, -87.55736521, 1.0], [41.758603804, -87.557350716, 1.0], [41.752753312, -87.556996069, 1.0], [41.736652196, -87.556951859, 1.0], [41.76015578, -87.556752911, 1.0], [41.725640155, -87.556674165, 1.0], [41.751240752, -87.556523222, 1.0], [41.749385386, -87.556490622, 1.0], [41.744025138, -87.556397674, 1.0], [41.758306319, -87.55637571, 1.0], [41.742189002, -87.55636851, 1.0], [41.742134096, -87.556365508, 1.0], [41.753678772, -87.556277598, 1.0], [41.758387749, -87.556242783, 1.0], [41.74823128, -87.555863239, 1.0], [41.734899916, -87.555525763, 1.0], [41.751183127, -87.555307229, 1.0], [41.707571324, -87.55501295, 1.0], [41.759147704, -87.554994786, 1.0], [41.758420277, -87.554966924, 1.0], [41.750066029, -87.554877295, 1.0], [41.754724423, -87.554667078, 4.0], [41.729171506, -87.55456177, 5.0], [41.7263803, -87.554525877, 1.0], [41.755781299, -87.554309795, 1.0], [41.736649912, -87.554181981, 1.0], [41.728852906, -87.554118677, 2.0], [41.730946294, -87.554042087, 1.0], [41.730965503, -87.554041855, 1.0], [41.738566185, -87.553887681, 1.0], [41.73841798, -87.55388581, 1.0], [41.730046096, -87.553627999, 1.0], [41.754951987, -87.553421914, 1.0], [41.711845727, -87.553210719, 1.0], [41.757272102, -87.553192245, 1.0], [41.756623356, -87.55303151, 1.0], [41.756457493, -87.552853934, 2.0], [41.74880081, -87.552840412, 1.0], [41.747085391, -87.552806222, 1.0], [41.736646026, -87.552800739, 1.0], [41.756330319, -87.552716204, 4.0], [41.732847273, -87.552707512, 1.0], [41.740029077, -87.552701147, 1.0], [41.738599138, -87.552678161, 1.0], [41.756164455, -87.552538628, 1.0], [41.711388138, -87.551699993, 1.0], [41.733087643, -87.551330717, 1.0], [41.755445167, -87.551286599, 1.0], [41.754635641, -87.55088962, 1.0], [41.751939541, -87.550713473, 1.0], [41.754447646, -87.550686669, 1.0], [41.754350905, -87.550585227, 1.0], [41.745850268, -87.550358693, 1.0], [41.722774932, -87.550181013, 1.0], [41.731217225, -87.549895296, 1.0], [41.730093742, -87.549337438, 1.0], [41.752885677, -87.549008833, 1.0], [41.752835908, -87.548954467, 1.0], [41.744695367, -87.548815375, 1.0], [41.744695067, -87.548771407, 1.0], [41.729294776, -87.548478908, 1.0], [41.65688227, -87.548370693, 1.0], [41.749259065, -87.548001237, 1.0], [41.745808966, -87.547926023, 1.0], [41.745622344, -87.547924633, 1.0], [41.744274729, -87.54790075, 1.0], [41.65505165, -87.547145112, 1.0], [41.733302365, -87.54700494, 1.0], [41.733244714, -87.547001979, 1.0], [41.733041627, -87.547000793, 1.0], [41.745710065, -87.54670698, 1.0], [41.653679157, -87.546697085, 1.0], [41.730127277, -87.546615031, 2.0], [41.736601148, -87.545821567, 1.0], [41.736620357, -87.545821332, 1.0], [41.736488616, -87.545819278, 1.0], [41.736507824, -87.545819043, 1.0], [41.735162876, -87.54578418, 1.0], [41.735014671, -87.545782327, 1.0], [41.735088761, -87.545781422, 1.0], [41.734885649, -87.545776576, 1.0], [41.731287236, -87.54568498, 1.0], [41.730146942, -87.545079774, 1.0], [41.69870195, -87.544987871, 1.0], [41.7442031, -87.54425562, 1.0], [41.652790112, -87.543513475, 1.0], [41.652864203, -87.54351257, 1.0], [41.700479919, -87.541344595, 1.0], [41.724435018, -87.537764582, 1.0], [41.720795663, -87.537706911, 1.0], [41.711475907, -87.537697327, 1.0], [41.713331033, -87.537692761, 1.0], [41.720515598, -87.536497921, 2.0], [41.689224812, -87.536488783, 1.0], [41.719044465, -87.535285363, 1.0], [41.707369624, -87.531661332, 1.0], [41.651431329, -87.527258234, 1.0]],\n",
       "                {\n",
       "  &quot;minOpacity&quot;: 0.5,\n",
       "  &quot;maxZoom&quot;: 18,\n",
       "  &quot;radius&quot;: 25,\n",
       "  &quot;blur&quot;: 15,\n",
       "}\n",
       "            );\n",
       "        \n",
       "    \n",
       "            heat_map_96160f08c8f4f030badc57716ee9e131.addTo(map_fddafa71ad71e83f7bc05d12c26ed230);\n",
       "        \n",
       "&lt;/script&gt;\n",
       "&lt;/html&gt;\" style=\"position:absolute;width:100%;height:100%;left:0;top:0;border:none !important;\" allowfullscreen webkitallowfullscreen mozallowfullscreen></iframe></div></div>"
      ],
      "text/plain": [
       "<folium.folium.Map at 0x1cb66606030>"
      ]
     },
     "execution_count": 38,
     "metadata": {},
     "output_type": "execute_result"
    }
   ],
   "source": [
    "# VISUALIZATION\n",
    "heat_df = apart_thefts[['Latitude', 'Longitude', 'APARTMENT Thefts']].values.tolist()\n",
    "map3 = folium.Map(location=[41.8781, -87.6298], zoom_start=11)\n",
    "HeatMap(heat_df).add_to(map3)\n",
    "\n",
    "map3"
   ]
  },
  {
   "cell_type": "markdown",
   "id": "bfd51cbd-f9b3-4bd2-8ebb-f1a3ad993ed2",
   "metadata": {},
   "source": [
    "<h1 style=\"background-color: red; padding: 10px; border-radius: 15px; color:white;\">Insight 3.</h1>"
   ]
  },
  {
   "cell_type": "markdown",
   "id": "c8a48ae3-088a-4259-9b40-eac9c49df0e4",
   "metadata": {},
   "source": [
    "<h2 style=\"background-color: red; padding: 10px; border-radius: 15px; color:white;\">During the 2024 holiday season, apartment thefts spiked in retail hubs like West Loop and Uptown, driven by increased foot traffic and consumer spending. This highlights the need for better security and awareness during peak shopping periods.</h2>"
   ]
  },
  {
   "cell_type": "markdown",
   "id": "28944ece-7217-4ad3-a4f2-27ce4caf261e",
   "metadata": {},
   "source": [
    "<h1 style=\"background-color: green; padding: 10px; border-radius: 15px; color:white;\">Analysis 4: Battery Incidents in Parks (2025)</h1>"
   ]
  },
  {
   "cell_type": "code",
   "execution_count": 39,
   "id": "def701d8-b413-493b-b474-09fe6dc177d8",
   "metadata": {},
   "outputs": [],
   "source": [
    "# FILTERING\n",
    "filter1 = crimes_df[crimes_df['Primary Type'] == 'BATTERY']\n",
    "filter2 = filter1[filter1['Location Description'].str.contains('PARK', na=False)]\n",
    "filter3 = filter2[filter2['Year'] == 2025]"
   ]
  },
  {
   "cell_type": "code",
   "execution_count": 40,
   "id": "dfc83b07-dc9b-4091-9053-8991501e7a02",
   "metadata": {},
   "outputs": [],
   "source": [
    "battery = filter3.groupby(['Longitude', 'Latitude']).size().reset_index(name='PARK Battery')"
   ]
  },
  {
   "cell_type": "code",
   "execution_count": 41,
   "id": "311e26b7-02ba-4c74-aaf4-6f1417589cc9",
   "metadata": {},
   "outputs": [
    {
     "data": {
      "text/html": [
       "<div style=\"width:100%;\"><div style=\"position:relative;width:100%;height:0;padding-bottom:60%;\"><span style=\"color:#565656\">Make this Notebook Trusted to load map: File -> Trust Notebook</span><iframe srcdoc=\"&lt;!DOCTYPE html&gt;\n",
       "&lt;html&gt;\n",
       "&lt;head&gt;\n",
       "    \n",
       "    &lt;meta http-equiv=&quot;content-type&quot; content=&quot;text/html; charset=UTF-8&quot; /&gt;\n",
       "    \n",
       "        &lt;script&gt;\n",
       "            L_NO_TOUCH = false;\n",
       "            L_DISABLE_3D = false;\n",
       "        &lt;/script&gt;\n",
       "    \n",
       "    &lt;style&gt;html, body {width: 100%;height: 100%;margin: 0;padding: 0;}&lt;/style&gt;\n",
       "    &lt;style&gt;#map {position:absolute;top:0;bottom:0;right:0;left:0;}&lt;/style&gt;\n",
       "    &lt;script src=&quot;https://cdn.jsdelivr.net/npm/leaflet@1.9.3/dist/leaflet.js&quot;&gt;&lt;/script&gt;\n",
       "    &lt;script src=&quot;https://code.jquery.com/jquery-3.7.1.min.js&quot;&gt;&lt;/script&gt;\n",
       "    &lt;script src=&quot;https://cdn.jsdelivr.net/npm/bootstrap@5.2.2/dist/js/bootstrap.bundle.min.js&quot;&gt;&lt;/script&gt;\n",
       "    &lt;script src=&quot;https://cdnjs.cloudflare.com/ajax/libs/Leaflet.awesome-markers/2.0.2/leaflet.awesome-markers.js&quot;&gt;&lt;/script&gt;\n",
       "    &lt;link rel=&quot;stylesheet&quot; href=&quot;https://cdn.jsdelivr.net/npm/leaflet@1.9.3/dist/leaflet.css&quot;/&gt;\n",
       "    &lt;link rel=&quot;stylesheet&quot; href=&quot;https://cdn.jsdelivr.net/npm/bootstrap@5.2.2/dist/css/bootstrap.min.css&quot;/&gt;\n",
       "    &lt;link rel=&quot;stylesheet&quot; href=&quot;https://netdna.bootstrapcdn.com/bootstrap/3.0.0/css/bootstrap-glyphicons.css&quot;/&gt;\n",
       "    &lt;link rel=&quot;stylesheet&quot; href=&quot;https://cdn.jsdelivr.net/npm/@fortawesome/fontawesome-free@6.2.0/css/all.min.css&quot;/&gt;\n",
       "    &lt;link rel=&quot;stylesheet&quot; href=&quot;https://cdnjs.cloudflare.com/ajax/libs/Leaflet.awesome-markers/2.0.2/leaflet.awesome-markers.css&quot;/&gt;\n",
       "    &lt;link rel=&quot;stylesheet&quot; href=&quot;https://cdn.jsdelivr.net/gh/python-visualization/folium/folium/templates/leaflet.awesome.rotate.min.css&quot;/&gt;\n",
       "    \n",
       "            &lt;meta name=&quot;viewport&quot; content=&quot;width=device-width,\n",
       "                initial-scale=1.0, maximum-scale=1.0, user-scalable=no&quot; /&gt;\n",
       "            &lt;style&gt;\n",
       "                #map_f69cf70bc643fa17078e2f66a77eb9d5 {\n",
       "                    position: relative;\n",
       "                    width: 100.0%;\n",
       "                    height: 100.0%;\n",
       "                    left: 0.0%;\n",
       "                    top: 0.0%;\n",
       "                }\n",
       "                .leaflet-container { font-size: 1rem; }\n",
       "            &lt;/style&gt;\n",
       "        \n",
       "    &lt;script src=&quot;https://cdn.jsdelivr.net/gh/python-visualization/folium@main/folium/templates/leaflet_heat.min.js&quot;&gt;&lt;/script&gt;\n",
       "&lt;/head&gt;\n",
       "&lt;body&gt;\n",
       "    \n",
       "    \n",
       "            &lt;div class=&quot;folium-map&quot; id=&quot;map_f69cf70bc643fa17078e2f66a77eb9d5&quot; &gt;&lt;/div&gt;\n",
       "        \n",
       "&lt;/body&gt;\n",
       "&lt;script&gt;\n",
       "    \n",
       "    \n",
       "            var map_f69cf70bc643fa17078e2f66a77eb9d5 = L.map(\n",
       "                &quot;map_f69cf70bc643fa17078e2f66a77eb9d5&quot;,\n",
       "                {\n",
       "                    center: [41.8781, -87.6298],\n",
       "                    crs: L.CRS.EPSG3857,\n",
       "                    ...{\n",
       "  &quot;zoom&quot;: 11,\n",
       "  &quot;zoomControl&quot;: true,\n",
       "  &quot;preferCanvas&quot;: false,\n",
       "}\n",
       "\n",
       "                }\n",
       "            );\n",
       "\n",
       "            \n",
       "\n",
       "        \n",
       "    \n",
       "            var tile_layer_5a2af357f13e8038260d170597257a8a = L.tileLayer(\n",
       "                &quot;https://tile.openstreetmap.org/{z}/{x}/{y}.png&quot;,\n",
       "                {\n",
       "  &quot;minZoom&quot;: 0,\n",
       "  &quot;maxZoom&quot;: 19,\n",
       "  &quot;maxNativeZoom&quot;: 19,\n",
       "  &quot;noWrap&quot;: false,\n",
       "  &quot;attribution&quot;: &quot;\\u0026copy; \\u003ca href=\\&quot;https://www.openstreetmap.org/copyright\\&quot;\\u003eOpenStreetMap\\u003c/a\\u003e contributors&quot;,\n",
       "  &quot;subdomains&quot;: &quot;abc&quot;,\n",
       "  &quot;detectRetina&quot;: false,\n",
       "  &quot;tms&quot;: false,\n",
       "  &quot;opacity&quot;: 1,\n",
       "}\n",
       "\n",
       "            );\n",
       "        \n",
       "    \n",
       "            tile_layer_5a2af357f13e8038260d170597257a8a.addTo(map_f69cf70bc643fa17078e2f66a77eb9d5);\n",
       "        \n",
       "    \n",
       "            var heat_map_50609ca6f88a3b91a1891b07a95702a4 = L.heatLayer(\n",
       "                [[41.963541689, -87.909908693, 1.0], [41.976290414, -87.905227221, 2.0], [41.977609479, -87.846467101, 1.0], [41.987384881, -87.843369092, 1.0], [41.97744068, -87.83971247, 1.0], [41.984622486, -87.836582104, 1.0], [41.988702804, -87.81297224, 1.0], [41.792187414, -87.789907287, 1.0], [41.923646223, -87.78941054, 1.0], [42.0119912, -87.787227104, 1.0], [41.923661276, -87.786801448, 1.0], [41.923783122, -87.778448036, 1.0], [41.777874382, -87.770776601, 1.0], [41.938522095, -87.770498925, 1.0], [41.88015709, -87.77038346, 1.0], [41.953175113, -87.767480463, 1.0], [41.953177006, -87.767307661, 1.0], [41.937580169, -87.766460598, 3.0], [41.974129858, -87.766357256, 2.0], [41.909371462, -87.766306125, 1.0], [41.927855714, -87.766124092, 1.0], [41.926261042, -87.766068398, 1.0], [41.918711651, -87.76551063, 1.0], [41.883250597, -87.764961729, 1.0], [41.874738153, -87.7638989, 1.0], [41.97008868, -87.762690091, 1.0], [41.880298781, -87.760742929, 1.0], [41.938659008, -87.759901381, 1.0], [41.880383856, -87.75417643, 1.0], [41.902285227, -87.752457779, 1.0], [41.955816973, -87.750313848, 1.0], [41.909591067, -87.748805933, 1.0], [41.95945244, -87.747497487, 1.0], [41.951926674, -87.747275985, 1.0], [41.915715874, -87.74605323, 1.0], [41.894441189, -87.745789055, 1.0], [41.885739108, -87.745773311, 1.0], [41.953443229, -87.744934991, 1.0], [41.916450107, -87.743672978, 1.0], [41.807129833, -87.743139659, 1.0], [41.931582515, -87.742747165, 1.0], [41.909664252, -87.742728815, 1.0], [41.788987036, -87.74147999, 1.0], [41.90969052, -87.740902699, 1.0], [41.880569488, -87.738946458, 1.0], [41.771197146, -87.737501109, 1.0], [41.912437783, -87.736189335, 1.0], [41.903853751, -87.736177492, 1.0], [41.803553993, -87.735701327, 1.0], [41.895201393, -87.73516723, 1.0], [41.786976965, -87.732778884, 1.0], [41.900155706, -87.731150217, 1.0], [41.846672796, -87.731116185, 1.0], [41.975533897, -87.728002414, 1.0], [41.928950523, -87.726899566, 1.0], [41.832489937, -87.724258994, 1.0], [41.851393305, -87.723903515, 1.0], [41.796087163, -87.723243221, 1.0], [41.873510659, -87.720554136, 1.0], [41.954457524, -87.719058785, 1.0], [41.924584583, -87.718665613, 1.0], [41.924597175, -87.717430811, 1.0], [41.886560206, -87.716062887, 1.0], [41.869934135, -87.715800643, 1.0], [41.910066171, -87.71075927, 1.0], [41.880933395, -87.709257484, 1.0], [41.778877155, -87.708840106, 1.0], [41.856790413, -87.708424071, 1.0], [41.975753134, -87.707979566, 1.0], [41.895877613, -87.706566627, 1.0], [41.853201487, -87.706513613, 1.0], [41.890703831, -87.70640419, 1.0], [41.793487471, -87.705262189, 1.0], [41.838057753, -87.70484492, 1.0], [41.873699424, -87.704705156, 2.0], [41.810948388, -87.704082909, 1.0], [41.792874284, -87.703537299, 1.0], [41.789204622, -87.703437543, 1.0], [41.78231531, -87.703229987, 1.0], [41.760327809, -87.702697421, 1.0], [41.946655301, -87.700787218, 1.0], [41.994622833, -87.697100981, 1.0], [41.779071875, -87.696321389, 1.0], [41.921328579, -87.694783498, 1.0], [42.012198435, -87.693971068, 1.0], [41.946713207, -87.693409087, 1.0], [41.786418766, -87.692941265, 1.0], [41.978052908, -87.692576858, 1.0], [41.946724511, -87.691501175, 1.0], [41.851961298, -87.691153739, 1.0], [41.968599022, -87.690594007, 1.0], [42.018244679, -87.690186314, 1.0], [41.851988885, -87.689219118, 1.0], [41.823566885, -87.688795972, 1.0], [41.808427535, -87.685041334, 1.0], [41.877565688, -87.684893829, 1.0], [41.876108306, -87.684860827, 1.0], [41.929743818, -87.684273777, 1.0], [41.974262927, -87.684230156, 1.0], [41.929594412, -87.68405847, 1.0], [41.690416519, -87.681112787, 1.0], [41.924989934, -87.680728141, 1.0], [41.823042962, -87.68057571, 1.0], [41.911609558, -87.679365506, 1.0], [41.911244117, -87.678803459, 1.0], [41.878726718, -87.678162308, 1.0], [41.931120002, -87.676784841, 1.0], [41.87957949, -87.676600315, 1.0], [41.873219626, -87.675868666, 1.0], [41.810740003, -87.675220451, 1.0], [41.884103844, -87.675004264, 1.0], [41.809445968, -87.67496226, 1.0], [42.012915394, -87.674685821, 1.0], [41.925078949, -87.673734337, 1.0], [41.801263246, -87.671268416, 1.0], [42.019371503, -87.671181992, 1.0], [41.813123426, -87.671164632, 1.0], [41.857108058, -87.671081839, 1.0], [41.807625779, -87.671015844, 1.0], [41.903314012, -87.669370298, 1.0], [41.925378803, -87.668153074, 1.0], [41.885312381, -87.667573631, 1.0], [41.706636485, -87.665985119, 1.0], [41.917272112, -87.665746145, 1.0], [41.822551473, -87.665256122, 1.0], [41.819027613, -87.665219378, 1.0], [41.815418448, -87.66514317, 1.0], [41.75033427, -87.665045312, 1.0], [41.800322602, -87.664746224, 1.0], [41.690701233, -87.664282585, 1.0], [41.767910191, -87.663873198, 1.0], [41.767726292, -87.663867778, 1.0], [41.834201033, -87.663865352, 1.0], [41.95321209, -87.661330989, 1.0], [41.964499839, -87.661002797, 1.0], [41.867781991, -87.660486209, 1.0], [41.998584125, -87.660298313, 1.0], [42.008004314, -87.660195345, 1.0], [41.907111964, -87.659933779, 1.0], [41.977001364, -87.659885705, 1.0], [41.907152802, -87.659878245, 1.0], [41.741304411, -87.659690327, 1.0], [41.990039337, -87.659001577, 1.0], [41.721262518, -87.658727525, 1.0], [41.815726254, -87.658646885, 1.0], [41.862906101, -87.656858884, 2.0], [41.677605515, -87.656826249, 1.0], [41.95518219, -87.656152308, 1.0], [41.963593386, -87.655721296, 1.0], [41.947227653, -87.655380005, 1.0], [41.816930902, -87.655369295, 1.0], [41.870202443, -87.655357409, 1.0], [41.877822179, -87.655181405, 1.0], [41.977225127, -87.655010442, 1.0], [41.855235085, -87.653929781, 1.0], [41.735931109, -87.653642482, 1.0], [41.947295978, -87.651162974, 1.0], [41.781326622, -87.647516964, 1.0], [41.735547527, -87.647282432, 1.0], [41.962398697, -87.646324994, 1.0], [41.839410287, -87.646313633, 1.0], [41.837489008, -87.646264459, 2.0], [41.836402129, -87.646239389, 1.0], [41.774069965, -87.644639452, 1.0], [41.706902188, -87.644507138, 1.0], [41.677325422, -87.644324784, 1.0], [41.776116765, -87.64410796, 1.0], [41.752002423, -87.644076471, 1.0], [41.949649326, -87.64407246, 1.0], [41.749982305, -87.644024788, 1.0], [41.930917022, -87.644024267, 1.0], [41.815994603, -87.643302717, 1.0], [41.903113054, -87.643199348, 1.0], [41.86789576, -87.642212505, 1.0], [41.848662889, -87.64202317, 1.0], [41.858389987, -87.640897921, 1.0], [41.76661797, -87.640782292, 1.0], [41.868541914, -87.639235361, 1.0], [41.866505614, -87.639224346, 1.0], [41.864493678, -87.639158, 1.0], [41.964769022, -87.638916219, 1.0], [41.902829815, -87.638551885, 1.0], [41.878630716, -87.636673298, 1.0], [41.771435723, -87.636041807, 1.0], [41.779451196, -87.635038395, 1.0], [41.812510863, -87.634921534, 1.0], [41.89318177, -87.6345943, 1.0], [41.872903956, -87.633592535, 1.0], [41.750796602, -87.633458052, 1.0], [41.826365716, -87.632958477, 1.0], [41.80171934, -87.630703621, 1.0], [41.88922516, -87.630193562, 1.0], [41.874526794, -87.630160089, 1.0], [41.893255699, -87.629176054, 2.0], [41.736148121, -87.629070243, 1.0], [41.840524223, -87.629057214, 1.0], [41.723052732, -87.628700424, 1.0], [41.891678767, -87.627551654, 2.0], [41.866790359, -87.627410611, 1.0], [41.890079607, -87.627224029, 1.0], [41.911367051, -87.626401638, 1.0], [41.868380637, -87.625847449, 1.0], [41.853622744, -87.625514585, 1.0], [41.758432859, -87.624765668, 1.0], [41.886190872, -87.624527215, 1.0], [41.794678414, -87.623262756, 1.0], [41.721763443, -87.621663126, 1.0], [41.895001148, -87.621627353, 1.0], [41.831063762, -87.621330678, 1.0], [41.758302042, -87.620918716, 1.0], [41.881776822, -87.620767948, 1.0], [41.875452995, -87.620592186, 1.0], [41.803381535, -87.619440285, 1.0], [41.707263872, -87.617032859, 1.0], [41.831881927, -87.616977126, 1.0], [41.793612114, -87.615951236, 1.0], [41.776150283, -87.615522623, 1.0], [41.892904362, -87.614547398, 1.0], [41.829651528, -87.614451899, 1.0], [41.793454581, -87.612267522, 1.0], [41.891990384, -87.611461502, 1.0], [41.843072864, -87.60994543, 1.0], [41.824655644, -87.607261681, 1.0], [41.809305232, -87.606558389, 1.0], [41.802896506, -87.606425428, 1.0], [41.657322501, -87.606114305, 1.0], [41.76680404, -87.605619683, 4.0], [41.754029881, -87.605272902, 1.0], [41.89221925, -87.604682647, 1.0], [41.812244589, -87.604430616, 1.0], [41.692833841, -87.60431945, 2.0], [41.658018862, -87.603405804, 1.0], [41.745880174, -87.597226297, 1.0], [41.655791542, -87.596266018, 1.0], [41.695908161, -87.595822806, 1.0], [41.736809835, -87.593317902, 1.0], [41.736825011, -87.592266186, 1.0], [41.809297059, -87.591967028, 1.0], [41.758717293, -87.591567218, 1.0], [41.755057871, -87.590520867, 1.0], [41.802027471, -87.587726706, 1.0], [41.773320568, -87.587465382, 1.0], [41.800483161, -87.587414531, 1.0], [41.758536614, -87.586130225, 1.0], [41.722352508, -87.584377376, 1.0], [41.722362598, -87.58382047, 1.0], [41.722383615, -87.581996008, 1.0], [41.722476277, -87.574796951, 1.0], [41.766102387, -87.573539169, 2.0], [41.736819983, -87.565175308, 1.0], [41.759381635, -87.55956245, 1.0], [41.751528912, -87.548046864, 1.0], [41.722695026, -87.525946906, 1.0]],\n",
       "                {\n",
       "  &quot;minOpacity&quot;: 0.5,\n",
       "  &quot;maxZoom&quot;: 18,\n",
       "  &quot;radius&quot;: 25,\n",
       "  &quot;blur&quot;: 15,\n",
       "}\n",
       "            );\n",
       "        \n",
       "    \n",
       "            heat_map_50609ca6f88a3b91a1891b07a95702a4.addTo(map_f69cf70bc643fa17078e2f66a77eb9d5);\n",
       "        \n",
       "&lt;/script&gt;\n",
       "&lt;/html&gt;\" style=\"position:absolute;width:100%;height:100%;left:0;top:0;border:none !important;\" allowfullscreen webkitallowfullscreen mozallowfullscreen></iframe></div></div>"
      ],
      "text/plain": [
       "<folium.folium.Map at 0x1cb665e7050>"
      ]
     },
     "execution_count": 41,
     "metadata": {},
     "output_type": "execute_result"
    }
   ],
   "source": [
    "# VISUALIZATION\n",
    "heat_df = battery[['Latitude', 'Longitude', 'PARK Battery']].values.tolist()\n",
    "map4 = folium.Map(location=[41.8781, -87.6298], zoom_start=11)\n",
    "HeatMap(heat_df).add_to(map4)\n",
    "\n",
    "map4"
   ]
  },
  {
   "cell_type": "markdown",
   "id": "5cc887e1-0b00-4459-b165-b40fc908fe9a",
   "metadata": {},
   "source": [
    "<h1 style=\"background-color: red; padding: 10px; border-radius: 15px; color:white;\">Insight 4</h1>"
   ]
  },
  {
   "cell_type": "markdown",
   "id": "794dd052-d4f7-4c22-9682-51828640ce99",
   "metadata": {},
   "source": [
    "<h2 style=\"background-color: red; padding: 10px; border-radius: 15px; color:white;\">In 2025, a notable concentration of battery incidents occurred in public parks across Chicago. These clusters were especially prominent in areas such as Washington Park and Humboldt Park. This pattern underscores a critical need to re-evaluate safety measures in recreational spaces, particularly during weekends and warmer months when foot traffic peaks. Increasing visible patrol presence, installing better lighting, and engaging in community-led safety programs could reduce the frequency of such assaults and restore a sense of security in public spaces.</h2>"
   ]
  },
  {
   "cell_type": "markdown",
   "id": "47a6da82-6558-4b9e-99b2-79c26aa5bc25",
   "metadata": {},
   "source": [
    "<h1 style=\"background-color: blue; padding: 10px; border-radius: 15px; color:white;\">ANALYSIS 5: Assaults in Restaurants (2025)</h1>"
   ]
  },
  {
   "cell_type": "code",
   "execution_count": 42,
   "id": "9e558993-aae3-4e92-b67c-7ab103c615ac",
   "metadata": {},
   "outputs": [],
   "source": [
    "# FILTERING\n",
    "filter1 = crimes_df[crimes_df['Primary Type'] == 'ASSAULT']\n",
    "filter2 = filter1[filter1['Location Description'] == 'RESTAURANT']\n",
    "filter3 = filter2[filter2['Year'] == 2025]"
   ]
  },
  {
   "cell_type": "code",
   "execution_count": 43,
   "id": "05fe3b5b-e94c-4d31-a966-d54b0aff4b27",
   "metadata": {},
   "outputs": [],
   "source": [
    "restu_assaults = filter3.groupby(['Longitude', 'Latitude']).size().reset_index(name='RESTAURANT Assaults')\n"
   ]
  },
  {
   "cell_type": "code",
   "execution_count": 44,
   "id": "1cc69613-fb16-4175-9ada-9d2ab6ac0e3b",
   "metadata": {},
   "outputs": [
    {
     "data": {
      "text/html": [
       "<div style=\"width:100%;\"><div style=\"position:relative;width:100%;height:0;padding-bottom:60%;\"><span style=\"color:#565656\">Make this Notebook Trusted to load map: File -> Trust Notebook</span><iframe srcdoc=\"&lt;!DOCTYPE html&gt;\n",
       "&lt;html&gt;\n",
       "&lt;head&gt;\n",
       "    \n",
       "    &lt;meta http-equiv=&quot;content-type&quot; content=&quot;text/html; charset=UTF-8&quot; /&gt;\n",
       "    \n",
       "        &lt;script&gt;\n",
       "            L_NO_TOUCH = false;\n",
       "            L_DISABLE_3D = false;\n",
       "        &lt;/script&gt;\n",
       "    \n",
       "    &lt;style&gt;html, body {width: 100%;height: 100%;margin: 0;padding: 0;}&lt;/style&gt;\n",
       "    &lt;style&gt;#map {position:absolute;top:0;bottom:0;right:0;left:0;}&lt;/style&gt;\n",
       "    &lt;script src=&quot;https://cdn.jsdelivr.net/npm/leaflet@1.9.3/dist/leaflet.js&quot;&gt;&lt;/script&gt;\n",
       "    &lt;script src=&quot;https://code.jquery.com/jquery-3.7.1.min.js&quot;&gt;&lt;/script&gt;\n",
       "    &lt;script src=&quot;https://cdn.jsdelivr.net/npm/bootstrap@5.2.2/dist/js/bootstrap.bundle.min.js&quot;&gt;&lt;/script&gt;\n",
       "    &lt;script src=&quot;https://cdnjs.cloudflare.com/ajax/libs/Leaflet.awesome-markers/2.0.2/leaflet.awesome-markers.js&quot;&gt;&lt;/script&gt;\n",
       "    &lt;link rel=&quot;stylesheet&quot; href=&quot;https://cdn.jsdelivr.net/npm/leaflet@1.9.3/dist/leaflet.css&quot;/&gt;\n",
       "    &lt;link rel=&quot;stylesheet&quot; href=&quot;https://cdn.jsdelivr.net/npm/bootstrap@5.2.2/dist/css/bootstrap.min.css&quot;/&gt;\n",
       "    &lt;link rel=&quot;stylesheet&quot; href=&quot;https://netdna.bootstrapcdn.com/bootstrap/3.0.0/css/bootstrap-glyphicons.css&quot;/&gt;\n",
       "    &lt;link rel=&quot;stylesheet&quot; href=&quot;https://cdn.jsdelivr.net/npm/@fortawesome/fontawesome-free@6.2.0/css/all.min.css&quot;/&gt;\n",
       "    &lt;link rel=&quot;stylesheet&quot; href=&quot;https://cdnjs.cloudflare.com/ajax/libs/Leaflet.awesome-markers/2.0.2/leaflet.awesome-markers.css&quot;/&gt;\n",
       "    &lt;link rel=&quot;stylesheet&quot; href=&quot;https://cdn.jsdelivr.net/gh/python-visualization/folium/folium/templates/leaflet.awesome.rotate.min.css&quot;/&gt;\n",
       "    \n",
       "            &lt;meta name=&quot;viewport&quot; content=&quot;width=device-width,\n",
       "                initial-scale=1.0, maximum-scale=1.0, user-scalable=no&quot; /&gt;\n",
       "            &lt;style&gt;\n",
       "                #map_1b645353c59596178602bfd831fd0939 {\n",
       "                    position: relative;\n",
       "                    width: 100.0%;\n",
       "                    height: 100.0%;\n",
       "                    left: 0.0%;\n",
       "                    top: 0.0%;\n",
       "                }\n",
       "                .leaflet-container { font-size: 1rem; }\n",
       "            &lt;/style&gt;\n",
       "        \n",
       "    &lt;script src=&quot;https://cdn.jsdelivr.net/gh/python-visualization/folium@main/folium/templates/leaflet_heat.min.js&quot;&gt;&lt;/script&gt;\n",
       "&lt;/head&gt;\n",
       "&lt;body&gt;\n",
       "    \n",
       "    \n",
       "            &lt;div class=&quot;folium-map&quot; id=&quot;map_1b645353c59596178602bfd831fd0939&quot; &gt;&lt;/div&gt;\n",
       "        \n",
       "&lt;/body&gt;\n",
       "&lt;script&gt;\n",
       "    \n",
       "    \n",
       "            var map_1b645353c59596178602bfd831fd0939 = L.map(\n",
       "                &quot;map_1b645353c59596178602bfd831fd0939&quot;,\n",
       "                {\n",
       "                    center: [41.8781, -87.6298],\n",
       "                    crs: L.CRS.EPSG3857,\n",
       "                    ...{\n",
       "  &quot;zoom&quot;: 11,\n",
       "  &quot;zoomControl&quot;: true,\n",
       "  &quot;preferCanvas&quot;: false,\n",
       "}\n",
       "\n",
       "                }\n",
       "            );\n",
       "\n",
       "            \n",
       "\n",
       "        \n",
       "    \n",
       "            var tile_layer_56c2fd291f5bc489b7b0a1282ebe5363 = L.tileLayer(\n",
       "                &quot;https://tile.openstreetmap.org/{z}/{x}/{y}.png&quot;,\n",
       "                {\n",
       "  &quot;minZoom&quot;: 0,\n",
       "  &quot;maxZoom&quot;: 19,\n",
       "  &quot;maxNativeZoom&quot;: 19,\n",
       "  &quot;noWrap&quot;: false,\n",
       "  &quot;attribution&quot;: &quot;\\u0026copy; \\u003ca href=\\&quot;https://www.openstreetmap.org/copyright\\&quot;\\u003eOpenStreetMap\\u003c/a\\u003e contributors&quot;,\n",
       "  &quot;subdomains&quot;: &quot;abc&quot;,\n",
       "  &quot;detectRetina&quot;: false,\n",
       "  &quot;tms&quot;: false,\n",
       "  &quot;opacity&quot;: 1,\n",
       "}\n",
       "\n",
       "            );\n",
       "        \n",
       "    \n",
       "            tile_layer_56c2fd291f5bc489b7b0a1282ebe5363.addTo(map_1b645353c59596178602bfd831fd0939);\n",
       "        \n",
       "    \n",
       "            var heat_map_47ffaee9146648d30bc68f70f2d3afd7 = L.heatLayer(\n",
       "                [[41.952094799, -87.834559161, 1.0], [42.003275954, -87.816941075, 1.0], [41.923619797, -87.792530495, 1.0], [41.894945698, -87.754893341, 1.0], [41.880425216, -87.750959284, 1.0], [41.955789401, -87.750288365, 1.0], [41.95945244, -87.747497487, 1.0], [41.956713224, -87.747401251, 1.0], [41.90961465, -87.746972497, 1.0], [41.922904107, -87.746266582, 1.0], [41.890886752, -87.745663703, 1.0], [41.87616378, -87.745111964, 1.0], [41.799639692, -87.742948, 1.0], [41.939081232, -87.728277456, 1.0], [41.895372185, -87.725362479, 1.0], [41.968275606, -87.724912458, 1.0], [41.848474762, -87.724676285, 1.0], [41.836893606, -87.723575057, 1.0], [41.797201502, -87.723272993, 1.0], [41.765269899, -87.722431936, 1.0], [41.909989881, -87.716965071, 1.0], [41.997304587, -87.714798846, 1.0], [41.95384883, -87.713539113, 1.0], [41.990331753, -87.713303027, 1.0], [41.993989394, -87.713234419, 1.0], [41.968407535, -87.712647867, 1.0], [41.93030588, -87.709430607, 2.0], [41.86640116, -87.705973505, 1.0], [41.78913051, -87.703434602, 1.0], [41.851810313, -87.702034535, 1.0], [41.786274807, -87.701636523, 1.0], [41.884129397, -87.699546136, 1.0], [41.922228669, -87.696262699, 1.0], [41.779076327, -87.696134362, 1.0], [41.808252074, -87.695859994, 1.0], [41.854098702, -87.695518731, 1.0], [41.786418663, -87.692922932, 1.0], [41.786441217, -87.691555013, 1.0], [41.779163831, -87.69016838, 1.0], [42.006919041, -87.690116435, 1.0], [41.965386511, -87.68880619, 1.0], [41.946740833, -87.687560431, 1.0], [41.966992822, -87.687510376, 1.0], [41.882486783, -87.686470872, 1.0], [41.880076976, -87.686407046, 1.0], [41.775015522, -87.683530209, 2.0], [41.769248838, -87.683368463, 1.0], [41.895803062, -87.683284258, 1.0], [41.751216002, -87.682879763, 1.0], [41.939535294, -87.681384786, 1.0], [41.895897635, -87.677715036, 1.0], [41.872771208, -87.677595276, 1.0], [41.915240883, -87.677564865, 1.0], [41.808507017, -87.676329034, 1.0], [41.830388344, -87.675584296, 1.0], [41.793908476, -87.675073619, 1.0], [41.750005014, -87.673125651, 2.0], [41.877552552, -87.671050727, 1.0], [42.019367214, -87.669963926, 1.0], [41.933566453, -87.668435522, 1.0], [41.974723047, -87.668250327, 1.0], [41.866860535, -87.66765497, 1.0], [41.835248939, -87.665681855, 1.0], [41.779921319, -87.664232244, 1.0], [41.778680696, -87.664197479, 1.0], [41.949435668, -87.664083592, 1.0], [41.755808621, -87.66400997, 2.0], [41.67750139, -87.663412666, 1.0], [41.744160299, -87.663284501, 1.0], [41.869315289, -87.663176006, 1.0], [41.869327166, -87.662390186, 1.0], [41.684832724, -87.660799572, 1.0], [41.858660009, -87.660471715, 2.0], [41.995286373, -87.660428707, 1.0], [41.947172465, -87.657655995, 1.0], [41.947626023, -87.656853521, 1.0], [41.965421476, -87.655797526, 1.0], [41.896442307, -87.655722728, 2.0], [41.965423179, -87.655621013, 1.0], [41.965426344, -87.655227542, 2.0], [41.975729415, -87.654989539, 1.0], [41.939957059, -87.651013319, 1.0], [41.917107175, -87.648457029, 1.0], [41.914551783, -87.648370454, 1.0], [41.878365113, -87.647255183, 1.0], [41.884533998, -87.646766869, 1.0], [41.922606624, -87.644789835, 1.0], [41.942964847, -87.644600246, 1.0], [41.750111323, -87.644030737, 1.0], [41.715713748, -87.643057853, 2.0], [41.705958892, -87.642803315, 1.0], [41.780509717, -87.642627358, 1.0], [41.686261889, -87.642190243, 1.0], [41.868418387, -87.639229355, 1.0], [41.866404039, -87.639218102, 1.0], [41.868034106, -87.639215155, 1.0], [41.91061261, -87.638577708, 1.0], [41.91431366, -87.63480841, 1.0], [41.896585716, -87.634773905, 1.0], [41.886816493, -87.634366196, 1.0], [41.881944424, -87.634195294, 1.0], [41.845498317, -87.633792155, 1.0], [41.894801703, -87.633379268, 1.0], [41.885901992, -87.632455489, 1.0], [41.755883838, -87.632442555, 1.0], [41.794530106, -87.632179351, 2.0], [41.849652812, -87.631941082, 1.0], [41.890013524, -87.631664996, 1.0], [41.879410537, -87.631340358, 1.0], [41.892628411, -87.63115524, 1.0], [41.890322866, -87.631092347, 1.0], [41.795991039, -87.630542489, 1.0], [41.903917122, -87.630531971, 2.0], [41.854784611, -87.630152473, 1.0], [41.889668819, -87.629597402, 1.0], [41.889501409, -87.629595567, 1.0], [41.876541001, -87.629253085, 1.0], [41.894066784, -87.628531735, 1.0], [41.892804604, -87.628112219, 1.0], [41.736259984, -87.628068782, 1.0], [41.891303157, -87.628055281, 1.0], [41.882358367, -87.627841519, 1.0], [41.880255584, -87.627728782, 1.0], [41.891678767, -87.627551654, 1.0], [41.89668614, -87.627412043, 2.0], [41.853821891, -87.627105423, 1.0], [41.853651736, -87.627103624, 1.0], [41.769070498, -87.626668445, 2.0], [41.712593347, -87.626338795, 1.0], [41.88472512, -87.626254732, 1.0], [41.867430279, -87.626155308, 1.0], [41.853622744, -87.625514585, 1.0], [41.735329834, -87.625419019, 2.0], [41.751452878, -87.624567581, 1.0], [41.882389156, -87.624374606, 1.0], [41.877896435, -87.624310435, 1.0], [41.866937617, -87.624141504, 1.0], [41.895748419, -87.623536353, 1.0], [41.794678414, -87.623262756, 1.0], [41.823320055, -87.623203203, 1.0], [41.736345248, -87.623198545, 2.0], [41.899235024, -87.622436193, 1.0], [41.895003278, -87.62152816, 1.0], [41.831676098, -87.616975751, 2.0], [41.891070406, -87.616613661, 1.0], [41.685474655, -87.607964681, 2.0], [41.809519024, -87.607384952, 1.0], [41.758125035, -87.605376887, 1.0], [41.746704306, -87.605110156, 1.0], [41.739320771, -87.604896792, 1.0], [41.693294656, -87.596537351, 1.0], [41.7994612, -87.596173313, 1.0], [41.809297059, -87.591967028, 1.0], [41.799535754, -87.589857058, 1.0], [41.79955117, -87.588001134, 2.0], [41.800513369, -87.587417848, 1.0], [41.736888764, -87.587275204, 1.0], [41.775659328, -87.586294455, 1.0], [41.761152375, -87.586198842, 1.0], [41.751583068, -87.577814936, 1.0], [41.722479637, -87.574474559, 2.0], [41.645378289, -87.540022119, 1.0], [41.70408155, -87.526509401, 1.0]],\n",
       "                {\n",
       "  &quot;minOpacity&quot;: 0.5,\n",
       "  &quot;maxZoom&quot;: 18,\n",
       "  &quot;radius&quot;: 25,\n",
       "  &quot;blur&quot;: 15,\n",
       "}\n",
       "            );\n",
       "        \n",
       "    \n",
       "            heat_map_47ffaee9146648d30bc68f70f2d3afd7.addTo(map_1b645353c59596178602bfd831fd0939);\n",
       "        \n",
       "&lt;/script&gt;\n",
       "&lt;/html&gt;\" style=\"position:absolute;width:100%;height:100%;left:0;top:0;border:none !important;\" allowfullscreen webkitallowfullscreen mozallowfullscreen></iframe></div></div>"
      ],
      "text/plain": [
       "<folium.folium.Map at 0x1cb665e7a50>"
      ]
     },
     "execution_count": 44,
     "metadata": {},
     "output_type": "execute_result"
    }
   ],
   "source": [
    "# VISUALIZATION\n",
    "heat_df = restu_assaults[['Latitude', 'Longitude', 'RESTAURANT Assaults']].values.tolist()\n",
    "map5 = folium.Map(location=[41.8781, -87.6298], zoom_start=11)\n",
    "HeatMap(heat_df).add_to(map5)\n",
    "\n",
    "map5"
   ]
  },
  {
   "cell_type": "markdown",
   "id": "f95b6ae8-3a55-48ce-8d64-107ba3084148",
   "metadata": {},
   "source": [
    "<h1 style=\"background-color: blue; padding: 10px; border-radius: 15px; color:white;\">Insight 5</h1>"
   ]
  },
  {
   "cell_type": "markdown",
   "id": "d78dd89c-7f18-4438-b457-d976d5d242ec",
   "metadata": {},
   "source": [
    "<h2 style=\"background-color: red; padding: 10px; border-radius: 15px; color:white;\">In 2025, assaults in restaurant settings spiked in nightlife areas like River North, West Loop, and parts of South Side, busy during evenings and weekends. Improved late-night safety, staff training, and stronger business-law enforcement collaboration are needed.</h2>"
   ]
  },
  {
   "cell_type": "code",
   "execution_count": null,
   "id": "a6f1d430-e627-439c-b1b2-8c8ae2f21391",
   "metadata": {},
   "outputs": [],
   "source": []
  }
 ],
 "metadata": {
  "kernelspec": {
   "display_name": "Python 3 (ipykernel)",
   "language": "python",
   "name": "python3"
  },
  "language_info": {
   "codemirror_mode": {
    "name": "ipython",
    "version": 3
   },
   "file_extension": ".py",
   "mimetype": "text/x-python",
   "name": "python",
   "nbconvert_exporter": "python",
   "pygments_lexer": "ipython3",
   "version": "3.13.3"
  }
 },
 "nbformat": 4,
 "nbformat_minor": 5
}
