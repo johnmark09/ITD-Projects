{
 "cells": [
  {
   "cell_type": "code",
   "execution_count": 13,
   "id": "8a96f426-15d3-4da4-aaf1-54afadda7d77",
   "metadata": {},
   "outputs": [],
   "source": [
    "import numpy as np\n",
    "import pandas as pd \n",
    "import seaborn as sns \n",
    "import matplotlib.pyplot as plt \n",
    "import warnings \n",
    "warnings.filterwarnings('ignore')\n",
    "import folium\n",
    "from folium.plugins import HeatMap"
   ]
  },
  {
   "cell_type": "code",
   "execution_count": 14,
   "id": "4058bc74-4d5f-4fdb-a987-88ade1c6f9ed",
   "metadata": {},
   "outputs": [],
   "source": [
    "crime_dt = pd.read_csv('datasets\\\\Chicago_Crimes.csv')"
   ]
  },
  {
   "cell_type": "code",
   "execution_count": 15,
   "id": "5ed86526-ffd6-40f7-86de-daa50dbbbab9",
   "metadata": {},
   "outputs": [
    {
     "name": "stdout",
     "output_type": "stream",
     "text": [
      "<class 'pandas.core.frame.DataFrame'>\n",
      "RangeIndex: 249123 entries, 0 to 249122\n",
      "Data columns (total 22 columns):\n",
      " #   Column                Non-Null Count   Dtype  \n",
      "---  ------                --------------   -----  \n",
      " 0   ID                    249123 non-null  int64  \n",
      " 1   Case Number           249123 non-null  object \n",
      " 2   Date                  249123 non-null  object \n",
      " 3   Block                 249123 non-null  object \n",
      " 4   IUCR                  249123 non-null  object \n",
      " 5   Primary Type          249123 non-null  object \n",
      " 6   Description           249123 non-null  object \n",
      " 7   Location Description  248266 non-null  object \n",
      " 8   Arrest                249123 non-null  bool   \n",
      " 9   Domestic              249123 non-null  bool   \n",
      " 10  Beat                  249123 non-null  int64  \n",
      " 11  District              249123 non-null  int64  \n",
      " 12  Ward                  249123 non-null  int64  \n",
      " 13  Community Area        249120 non-null  float64\n",
      " 14  FBI Code              249123 non-null  object \n",
      " 15  X Coordinate          249033 non-null  float64\n",
      " 16  Y Coordinate          249033 non-null  float64\n",
      " 17  Year                  249123 non-null  int64  \n",
      " 18  Updated On            249123 non-null  object \n",
      " 19  Latitude              249033 non-null  float64\n",
      " 20  Longitude             249033 non-null  float64\n",
      " 21  Location              249033 non-null  object \n",
      "dtypes: bool(2), float64(5), int64(5), object(10)\n",
      "memory usage: 38.5+ MB\n"
     ]
    }
   ],
   "source": [
    "crime_dt.info()"
   ]
  },
  {
   "cell_type": "code",
   "execution_count": 17,
   "id": "d7dbc630-e42e-49d0-a2fe-003716a68c84",
   "metadata": {},
   "outputs": [
    {
     "data": {
      "text/plain": [
       "ID                        0\n",
       "Case Number               0\n",
       "Date                      0\n",
       "Block                     0\n",
       "IUCR                      0\n",
       "Primary Type              0\n",
       "Description               0\n",
       "Location Description    857\n",
       "Arrest                    0\n",
       "Domestic                  0\n",
       "Beat                      0\n",
       "District                  0\n",
       "Ward                      0\n",
       "Community Area            3\n",
       "FBI Code                  0\n",
       "X Coordinate             90\n",
       "Y Coordinate             90\n",
       "Year                      0\n",
       "Updated On                0\n",
       "Latitude                 90\n",
       "Longitude                90\n",
       "Location                 90\n",
       "dtype: int64"
      ]
     },
     "execution_count": 17,
     "metadata": {},
     "output_type": "execute_result"
    }
   ],
   "source": [
    "crime_dt.isnull().sum()"
   ]
  },
  {
   "cell_type": "code",
   "execution_count": 18,
   "id": "010ae410-5895-4f5d-a67d-204867de759b",
   "metadata": {
    "scrolled": true
   },
   "outputs": [
    {
     "data": {
      "text/plain": [
       "ID                        int64\n",
       "Case Number              object\n",
       "Date                     object\n",
       "Block                    object\n",
       "IUCR                     object\n",
       "Primary Type             object\n",
       "Description              object\n",
       "Location Description     object\n",
       "Arrest                     bool\n",
       "Domestic                   bool\n",
       "Beat                      int64\n",
       "District                  int64\n",
       "Ward                      int64\n",
       "Community Area          float64\n",
       "FBI Code                 object\n",
       "X Coordinate            float64\n",
       "Y Coordinate            float64\n",
       "Year                      int64\n",
       "Updated On               object\n",
       "Latitude                float64\n",
       "Longitude               float64\n",
       "Location                 object\n",
       "dtype: object"
      ]
     },
     "execution_count": 18,
     "metadata": {},
     "output_type": "execute_result"
    }
   ],
   "source": [
    "crime_dt.dtypes"
   ]
  },
  {
   "cell_type": "code",
   "execution_count": 19,
   "id": "cf0eca64-19ae-4e4f-91bb-66a201ecbe79",
   "metadata": {},
   "outputs": [
    {
     "data": {
      "text/plain": [
       "array(['THEFT', 'OTHER OFFENSE', 'MOTOR VEHICLE THEFT',\n",
       "       'WEAPONS VIOLATION', 'BATTERY', 'ASSAULT',\n",
       "       'CRIMINAL SEXUAL ASSAULT', 'CRIMINAL TRESPASS', 'CRIMINAL DAMAGE',\n",
       "       'DECEPTIVE PRACTICE', 'SEX OFFENSE', 'ROBBERY', 'NARCOTICS',\n",
       "       'HOMICIDE', 'INTERFERENCE WITH PUBLIC OFFICER', 'BURGLARY',\n",
       "       'ARSON', 'OFFENSE INVOLVING CHILDREN', 'INTIMIDATION',\n",
       "       'PUBLIC PEACE VIOLATION', 'CONCEALED CARRY LICENSE VIOLATION',\n",
       "       'KIDNAPPING', 'STALKING', 'LIQUOR LAW VIOLATION', 'PROSTITUTION',\n",
       "       'GAMBLING', 'OBSCENITY', 'PUBLIC INDECENCY', 'HUMAN TRAFFICKING',\n",
       "       'OTHER NARCOTIC VIOLATION', 'NON-CRIMINAL'], dtype=object)"
      ]
     },
     "execution_count": 19,
     "metadata": {},
     "output_type": "execute_result"
    }
   ],
   "source": [
    "crime_dt['Primary Type'].unique()"
   ]
  },
  {
   "cell_type": "code",
   "execution_count": 21,
   "id": "786b25b8-ab30-4222-8852-a765d3e47b17",
   "metadata": {},
   "outputs": [
    {
     "data": {
      "text/plain": [
       "Index(['ID', 'Case Number', 'Date', 'Block', 'IUCR', 'Primary Type',\n",
       "       'Description', 'Location Description', 'Arrest', 'Domestic', 'Beat',\n",
       "       'District', 'Ward', 'Community Area', 'FBI Code', 'X Coordinate',\n",
       "       'Y Coordinate', 'Year', 'Updated On', 'Latitude', 'Longitude',\n",
       "       'Location'],\n",
       "      dtype='object')"
      ]
     },
     "execution_count": 21,
     "metadata": {},
     "output_type": "execute_result"
    }
   ],
   "source": [
    "m_theft = crime_dt[crime_dt['Primary Type'] == 'MOTOR VEHICLE THEFT']\n",
    "m_theft.columns"
   ]
  },
  {
   "cell_type": "markdown",
   "id": "efd1a5d5-8518-4d76-aed1-765c320e1663",
   "metadata": {},
   "source": [
    "<h1>Aggregation</h1>"
   ]
  },
  {
   "cell_type": "code",
   "execution_count": 25,
   "id": "3fb377d2-66fb-4301-b750-c7f5534614fc",
   "metadata": {},
   "outputs": [],
   "source": [
    "aggregation_dt = m_theft.groupby(['Latitude', 'Longitude']).size().reset_index(name= 'incident_count')"
   ]
  },
  {
   "cell_type": "code",
   "execution_count": 26,
   "id": "c0144a92-465d-4c7c-8ace-4c657efbb87a",
   "metadata": {},
   "outputs": [
    {
     "ename": "NameError",
     "evalue": "name 'aggregated_dt' is not defined",
     "output_type": "error",
     "traceback": [
      "\u001b[1;31m---------------------------------------------------------------------------\u001b[0m",
      "\u001b[1;31mNameError\u001b[0m                                 Traceback (most recent call last)",
      "Cell \u001b[1;32mIn[26], line 1\u001b[0m\n\u001b[1;32m----> 1\u001b[0m aggregation_dt[\u001b[38;5;124m'\u001b[39m\u001b[38;5;124mnormalized_weight\u001b[39m\u001b[38;5;124m'\u001b[39m] \u001b[38;5;241m=\u001b[39m (\u001b[43maggregated_dt\u001b[49m[\u001b[38;5;124m'\u001b[39m\u001b[38;5;124mincident_count\u001b[39m\u001b[38;5;124m'\u001b[39m] \u001b[38;5;241m-\u001b[39m aggregated_dt[\u001b[38;5;124m'\u001b[39m\u001b[38;5;124mincident_count\u001b[39m\u001b[38;5;124m'\u001b[39m]\u001b[38;5;241m.\u001b[39mmin()) \u001b[38;5;241m/\u001b[39m\\\n\u001b[0;32m      2\u001b[0m                                       (aggregated_dt[\u001b[38;5;124m'\u001b[39m\u001b[38;5;124mincident_count\u001b[39m\u001b[38;5;124m'\u001b[39m]\u001b[38;5;241m.\u001b[39mmin())\n",
      "\u001b[1;31mNameError\u001b[0m: name 'aggregated_dt' is not defined"
     ]
    }
   ],
   "source": [
    "aggregation_dt['normalized_weight'] = (aggregated_dt['incident_count'] - aggregated_dt['incident_count'].min()) /\\\n",
    "                                      (aggregated_dt['incident_count'].min())"
   ]
  },
  {
   "cell_type": "code",
   "execution_count": null,
   "id": "c28e21df-c5ac-4502-bba4-084564474fc6",
   "metadata": {},
   "outputs": [],
   "source": []
  }
 ],
 "metadata": {
  "kernelspec": {
   "display_name": "Python 3 (ipykernel)",
   "language": "python",
   "name": "python3"
  },
  "language_info": {
   "codemirror_mode": {
    "name": "ipython",
    "version": 3
   },
   "file_extension": ".py",
   "mimetype": "text/x-python",
   "name": "python",
   "nbconvert_exporter": "python",
   "pygments_lexer": "ipython3",
   "version": "3.13.3"
  }
 },
 "nbformat": 4,
 "nbformat_minor": 5
}
