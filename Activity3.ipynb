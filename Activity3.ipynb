{
 "cells": [
  {
   "cell_type": "code",
   "execution_count": 1,
   "id": "13be5504-1c89-405a-9ceb-61d5754729f4",
   "metadata": {},
   "outputs": [
    {
     "name": "stdout",
     "output_type": "stream",
     "text": [
      "Defaulting to user installation because normal site-packages is not writeable\n",
      "Requirement already satisfied: numpy in c:\\users\\lab4-studentpc43\\appdata\\local\\packages\\pythonsoftwarefoundation.python.3.13_qbz5n2kfra8p0\\localcache\\local-packages\\python313\\site-packages (2.2.2)\n",
      "Note: you may need to restart the kernel to use updated packages.\n"
     ]
    },
    {
     "name": "stderr",
     "output_type": "stream",
     "text": [
      "\n",
      "[notice] A new release of pip is available: 24.3.1 -> 25.0.1\n",
      "[notice] To update, run: C:\\Users\\LAB4-StudentPC43\\AppData\\Local\\Microsoft\\WindowsApps\\PythonSoftwareFoundation.Python.3.13_qbz5n2kfra8p0\\python.exe -m pip install --upgrade pip\n"
     ]
    }
   ],
   "source": [
    "pip install numpy"
   ]
  },
  {
   "cell_type": "code",
   "execution_count": 2,
   "id": "44e9b6b2-d79f-4a88-9fe9-9a147200c25c",
   "metadata": {},
   "outputs": [
    {
     "name": "stdout",
     "output_type": "stream",
     "text": [
      "Defaulting to user installation because normal site-packages is not writeable\n",
      "Requirement already satisfied: pandas in c:\\users\\lab4-studentpc43\\appdata\\local\\packages\\pythonsoftwarefoundation.python.3.13_qbz5n2kfra8p0\\localcache\\local-packages\\python313\\site-packages (2.2.3)\n",
      "Requirement already satisfied: numpy>=1.26.0 in c:\\users\\lab4-studentpc43\\appdata\\local\\packages\\pythonsoftwarefoundation.python.3.13_qbz5n2kfra8p0\\localcache\\local-packages\\python313\\site-packages (from pandas) (2.2.2)\n",
      "Requirement already satisfied: python-dateutil>=2.8.2 in c:\\users\\lab4-studentpc43\\appdata\\local\\packages\\pythonsoftwarefoundation.python.3.13_qbz5n2kfra8p0\\localcache\\local-packages\\python313\\site-packages (from pandas) (2.9.0.post0)\n",
      "Requirement already satisfied: pytz>=2020.1 in c:\\users\\lab4-studentpc43\\appdata\\local\\packages\\pythonsoftwarefoundation.python.3.13_qbz5n2kfra8p0\\localcache\\local-packages\\python313\\site-packages (from pandas) (2024.2)\n",
      "Requirement already satisfied: tzdata>=2022.7 in c:\\users\\lab4-studentpc43\\appdata\\local\\packages\\pythonsoftwarefoundation.python.3.13_qbz5n2kfra8p0\\localcache\\local-packages\\python313\\site-packages (from pandas) (2024.2)\n",
      "Requirement already satisfied: six>=1.5 in c:\\users\\lab4-studentpc43\\appdata\\local\\packages\\pythonsoftwarefoundation.python.3.13_qbz5n2kfra8p0\\localcache\\local-packages\\python313\\site-packages (from python-dateutil>=2.8.2->pandas) (1.17.0)\n",
      "Note: you may need to restart the kernel to use updated packages.\n"
     ]
    },
    {
     "name": "stderr",
     "output_type": "stream",
     "text": [
      "\n",
      "[notice] A new release of pip is available: 24.3.1 -> 25.0.1\n",
      "[notice] To update, run: C:\\Users\\LAB4-StudentPC43\\AppData\\Local\\Microsoft\\WindowsApps\\PythonSoftwareFoundation.Python.3.13_qbz5n2kfra8p0\\python.exe -m pip install --upgrade pip\n"
     ]
    }
   ],
   "source": [
    "pip install pandas"
   ]
  },
  {
   "cell_type": "code",
   "execution_count": 3,
   "id": "7c2b017d-fc22-4b3f-baf9-42b0ffd92655",
   "metadata": {},
   "outputs": [
    {
     "name": "stdout",
     "output_type": "stream",
     "text": [
      "Defaulting to user installation because normal site-packages is not writeable\n",
      "Requirement already satisfied: matplotlib in c:\\users\\lab4-studentpc43\\appdata\\local\\packages\\pythonsoftwarefoundation.python.3.13_qbz5n2kfra8p0\\localcache\\local-packages\\python313\\site-packages (3.10.0)\n",
      "Requirement already satisfied: contourpy>=1.0.1 in c:\\users\\lab4-studentpc43\\appdata\\local\\packages\\pythonsoftwarefoundation.python.3.13_qbz5n2kfra8p0\\localcache\\local-packages\\python313\\site-packages (from matplotlib) (1.3.1)\n",
      "Requirement already satisfied: cycler>=0.10 in c:\\users\\lab4-studentpc43\\appdata\\local\\packages\\pythonsoftwarefoundation.python.3.13_qbz5n2kfra8p0\\localcache\\local-packages\\python313\\site-packages (from matplotlib) (0.12.1)\n",
      "Requirement already satisfied: fonttools>=4.22.0 in c:\\users\\lab4-studentpc43\\appdata\\local\\packages\\pythonsoftwarefoundation.python.3.13_qbz5n2kfra8p0\\localcache\\local-packages\\python313\\site-packages (from matplotlib) (4.55.3)\n",
      "Requirement already satisfied: kiwisolver>=1.3.1 in c:\\users\\lab4-studentpc43\\appdata\\local\\packages\\pythonsoftwarefoundation.python.3.13_qbz5n2kfra8p0\\localcache\\local-packages\\python313\\site-packages (from matplotlib) (1.4.8)\n",
      "Requirement already satisfied: numpy>=1.23 in c:\\users\\lab4-studentpc43\\appdata\\local\\packages\\pythonsoftwarefoundation.python.3.13_qbz5n2kfra8p0\\localcache\\local-packages\\python313\\site-packages (from matplotlib) (2.2.2)\n",
      "Requirement already satisfied: packaging>=20.0 in c:\\users\\lab4-studentpc43\\appdata\\local\\packages\\pythonsoftwarefoundation.python.3.13_qbz5n2kfra8p0\\localcache\\local-packages\\python313\\site-packages (from matplotlib) (24.2)\n",
      "Requirement already satisfied: pillow>=8 in c:\\users\\lab4-studentpc43\\appdata\\local\\packages\\pythonsoftwarefoundation.python.3.13_qbz5n2kfra8p0\\localcache\\local-packages\\python313\\site-packages (from matplotlib) (11.1.0)\n",
      "Requirement already satisfied: pyparsing>=2.3.1 in c:\\users\\lab4-studentpc43\\appdata\\local\\packages\\pythonsoftwarefoundation.python.3.13_qbz5n2kfra8p0\\localcache\\local-packages\\python313\\site-packages (from matplotlib) (3.2.1)\n",
      "Requirement already satisfied: python-dateutil>=2.7 in c:\\users\\lab4-studentpc43\\appdata\\local\\packages\\pythonsoftwarefoundation.python.3.13_qbz5n2kfra8p0\\localcache\\local-packages\\python313\\site-packages (from matplotlib) (2.9.0.post0)\n",
      "Requirement already satisfied: six>=1.5 in c:\\users\\lab4-studentpc43\\appdata\\local\\packages\\pythonsoftwarefoundation.python.3.13_qbz5n2kfra8p0\\localcache\\local-packages\\python313\\site-packages (from python-dateutil>=2.7->matplotlib) (1.17.0)\n",
      "Note: you may need to restart the kernel to use updated packages.\n"
     ]
    },
    {
     "name": "stderr",
     "output_type": "stream",
     "text": [
      "\n",
      "[notice] A new release of pip is available: 24.3.1 -> 25.0.1\n",
      "[notice] To update, run: C:\\Users\\LAB4-StudentPC43\\AppData\\Local\\Microsoft\\WindowsApps\\PythonSoftwareFoundation.Python.3.13_qbz5n2kfra8p0\\python.exe -m pip install --upgrade pip\n"
     ]
    }
   ],
   "source": [
    "pip install matplotlib"
   ]
  },
  {
   "cell_type": "code",
   "execution_count": 4,
   "id": "32e5311c-a72d-44ef-81e1-b147af258f16",
   "metadata": {},
   "outputs": [
    {
     "name": "stdout",
     "output_type": "stream",
     "text": [
      "Defaulting to user installation because normal site-packages is not writeable\n",
      "Requirement already satisfied: seaborn in c:\\users\\lab4-studentpc43\\appdata\\local\\packages\\pythonsoftwarefoundation.python.3.13_qbz5n2kfra8p0\\localcache\\local-packages\\python313\\site-packages (0.13.2)\n",
      "Requirement already satisfied: numpy!=1.24.0,>=1.20 in c:\\users\\lab4-studentpc43\\appdata\\local\\packages\\pythonsoftwarefoundation.python.3.13_qbz5n2kfra8p0\\localcache\\local-packages\\python313\\site-packages (from seaborn) (2.2.2)\n",
      "Requirement already satisfied: pandas>=1.2 in c:\\users\\lab4-studentpc43\\appdata\\local\\packages\\pythonsoftwarefoundation.python.3.13_qbz5n2kfra8p0\\localcache\\local-packages\\python313\\site-packages (from seaborn) (2.2.3)\n",
      "Requirement already satisfied: matplotlib!=3.6.1,>=3.4 in c:\\users\\lab4-studentpc43\\appdata\\local\\packages\\pythonsoftwarefoundation.python.3.13_qbz5n2kfra8p0\\localcache\\local-packages\\python313\\site-packages (from seaborn) (3.10.0)\n",
      "Requirement already satisfied: contourpy>=1.0.1 in c:\\users\\lab4-studentpc43\\appdata\\local\\packages\\pythonsoftwarefoundation.python.3.13_qbz5n2kfra8p0\\localcache\\local-packages\\python313\\site-packages (from matplotlib!=3.6.1,>=3.4->seaborn) (1.3.1)\n",
      "Requirement already satisfied: cycler>=0.10 in c:\\users\\lab4-studentpc43\\appdata\\local\\packages\\pythonsoftwarefoundation.python.3.13_qbz5n2kfra8p0\\localcache\\local-packages\\python313\\site-packages (from matplotlib!=3.6.1,>=3.4->seaborn) (0.12.1)\n",
      "Requirement already satisfied: fonttools>=4.22.0 in c:\\users\\lab4-studentpc43\\appdata\\local\\packages\\pythonsoftwarefoundation.python.3.13_qbz5n2kfra8p0\\localcache\\local-packages\\python313\\site-packages (from matplotlib!=3.6.1,>=3.4->seaborn) (4.55.3)\n",
      "Requirement already satisfied: kiwisolver>=1.3.1 in c:\\users\\lab4-studentpc43\\appdata\\local\\packages\\pythonsoftwarefoundation.python.3.13_qbz5n2kfra8p0\\localcache\\local-packages\\python313\\site-packages (from matplotlib!=3.6.1,>=3.4->seaborn) (1.4.8)\n",
      "Requirement already satisfied: packaging>=20.0 in c:\\users\\lab4-studentpc43\\appdata\\local\\packages\\pythonsoftwarefoundation.python.3.13_qbz5n2kfra8p0\\localcache\\local-packages\\python313\\site-packages (from matplotlib!=3.6.1,>=3.4->seaborn) (24.2)\n",
      "Requirement already satisfied: pillow>=8 in c:\\users\\lab4-studentpc43\\appdata\\local\\packages\\pythonsoftwarefoundation.python.3.13_qbz5n2kfra8p0\\localcache\\local-packages\\python313\\site-packages (from matplotlib!=3.6.1,>=3.4->seaborn) (11.1.0)\n",
      "Requirement already satisfied: pyparsing>=2.3.1 in c:\\users\\lab4-studentpc43\\appdata\\local\\packages\\pythonsoftwarefoundation.python.3.13_qbz5n2kfra8p0\\localcache\\local-packages\\python313\\site-packages (from matplotlib!=3.6.1,>=3.4->seaborn) (3.2.1)\n",
      "Requirement already satisfied: python-dateutil>=2.7 in c:\\users\\lab4-studentpc43\\appdata\\local\\packages\\pythonsoftwarefoundation.python.3.13_qbz5n2kfra8p0\\localcache\\local-packages\\python313\\site-packages (from matplotlib!=3.6.1,>=3.4->seaborn) (2.9.0.post0)\n",
      "Requirement already satisfied: pytz>=2020.1 in c:\\users\\lab4-studentpc43\\appdata\\local\\packages\\pythonsoftwarefoundation.python.3.13_qbz5n2kfra8p0\\localcache\\local-packages\\python313\\site-packages (from pandas>=1.2->seaborn) (2024.2)\n",
      "Requirement already satisfied: tzdata>=2022.7 in c:\\users\\lab4-studentpc43\\appdata\\local\\packages\\pythonsoftwarefoundation.python.3.13_qbz5n2kfra8p0\\localcache\\local-packages\\python313\\site-packages (from pandas>=1.2->seaborn) (2024.2)\n",
      "Requirement already satisfied: six>=1.5 in c:\\users\\lab4-studentpc43\\appdata\\local\\packages\\pythonsoftwarefoundation.python.3.13_qbz5n2kfra8p0\\localcache\\local-packages\\python313\\site-packages (from python-dateutil>=2.7->matplotlib!=3.6.1,>=3.4->seaborn) (1.17.0)\n",
      "Note: you may need to restart the kernel to use updated packages.\n"
     ]
    },
    {
     "name": "stderr",
     "output_type": "stream",
     "text": [
      "\n",
      "[notice] A new release of pip is available: 24.3.1 -> 25.0.1\n",
      "[notice] To update, run: C:\\Users\\LAB4-StudentPC43\\AppData\\Local\\Microsoft\\WindowsApps\\PythonSoftwareFoundation.Python.3.13_qbz5n2kfra8p0\\python.exe -m pip install --upgrade pip\n"
     ]
    }
   ],
   "source": [
    "pip install seaborn"
   ]
  },
  {
   "cell_type": "code",
   "execution_count": 5,
   "id": "ac5010d2-f732-428c-a447-156b13f6481d",
   "metadata": {},
   "outputs": [
    {
     "name": "stdout",
     "output_type": "stream",
     "text": [
      "Defaulting to user installation because normal site-packages is not writeable\n",
      "Requirement already satisfied: scipy in c:\\users\\lab4-studentpc43\\appdata\\local\\packages\\pythonsoftwarefoundation.python.3.13_qbz5n2kfra8p0\\localcache\\local-packages\\python313\\site-packages (1.15.2)\n",
      "Requirement already satisfied: numpy<2.5,>=1.23.5 in c:\\users\\lab4-studentpc43\\appdata\\local\\packages\\pythonsoftwarefoundation.python.3.13_qbz5n2kfra8p0\\localcache\\local-packages\\python313\\site-packages (from scipy) (2.2.2)\n",
      "Note: you may need to restart the kernel to use updated packages.\n"
     ]
    },
    {
     "name": "stderr",
     "output_type": "stream",
     "text": [
      "\n",
      "[notice] A new release of pip is available: 24.3.1 -> 25.0.1\n",
      "[notice] To update, run: C:\\Users\\LAB4-StudentPC43\\AppData\\Local\\Microsoft\\WindowsApps\\PythonSoftwareFoundation.Python.3.13_qbz5n2kfra8p0\\python.exe -m pip install --upgrade pip\n"
     ]
    }
   ],
   "source": [
    "pip install scipy"
   ]
  },
  {
   "cell_type": "code",
   "execution_count": 6,
   "id": "a84d4868-d50c-47ba-870f-01215bd3292a",
   "metadata": {},
   "outputs": [],
   "source": [
    "import warnings"
   ]
  },
  {
   "cell_type": "code",
   "execution_count": 7,
   "id": "cbf1197a-0d83-4d5a-9020-9f9a42f22af8",
   "metadata": {},
   "outputs": [],
   "source": [
    "import numpy as np"
   ]
  },
  {
   "cell_type": "code",
   "execution_count": 8,
   "id": "9fbae07f-99d2-4962-bdfe-0768ee17f8d3",
   "metadata": {},
   "outputs": [],
   "source": [
    "import pandas as pd"
   ]
  },
  {
   "cell_type": "code",
   "execution_count": 9,
   "id": "ff747edb-0763-45b9-ad7e-d3cab653e25a",
   "metadata": {},
   "outputs": [],
   "source": [
    "import matplotlib.pyplot as plt"
   ]
  },
  {
   "cell_type": "code",
   "execution_count": 10,
   "id": "3c24031f-aa12-4e5f-afdc-b5af90eb7806",
   "metadata": {},
   "outputs": [],
   "source": [
    "import seaborn as sns"
   ]
  },
  {
   "cell_type": "code",
   "execution_count": 11,
   "id": "5c0474f9-efad-4bf1-926c-3d6799c87e05",
   "metadata": {},
   "outputs": [],
   "source": [
    "from scipy.stats import f_oneway"
   ]
  },
  {
   "cell_type": "code",
   "execution_count": 12,
   "id": "6365ff0e-a192-46e5-8147-d14cef27eb9c",
   "metadata": {},
   "outputs": [],
   "source": [
    "accident = pd.read_csv('datasets\\\\accident_data.csv')"
   ]
  },
  {
   "cell_type": "code",
   "execution_count": 13,
   "id": "be3d6dcb-9c37-47ab-98bc-6c4eeb437513",
   "metadata": {},
   "outputs": [
    {
     "data": {
      "text/html": [
       "<div>\n",
       "<style scoped>\n",
       "    .dataframe tbody tr th:only-of-type {\n",
       "        vertical-align: middle;\n",
       "    }\n",
       "\n",
       "    .dataframe tbody tr th {\n",
       "        vertical-align: top;\n",
       "    }\n",
       "\n",
       "    .dataframe thead th {\n",
       "        text-align: right;\n",
       "    }\n",
       "</style>\n",
       "<table border=\"1\" class=\"dataframe\">\n",
       "  <thead>\n",
       "    <tr style=\"text-align: right;\">\n",
       "      <th></th>\n",
       "      <th>Index</th>\n",
       "      <th>Accident_Severity</th>\n",
       "      <th>Accident Date</th>\n",
       "      <th>Latitude</th>\n",
       "      <th>Light_Conditions</th>\n",
       "      <th>District Area</th>\n",
       "      <th>Longitude</th>\n",
       "      <th>Number_of_Casualties</th>\n",
       "      <th>Number_of_Vehicles</th>\n",
       "      <th>Road_Surface_Conditions</th>\n",
       "      <th>Road_Type</th>\n",
       "      <th>Urban_or_Rural_Area</th>\n",
       "      <th>Weather_Conditions</th>\n",
       "      <th>Vehicle_Type</th>\n",
       "    </tr>\n",
       "  </thead>\n",
       "  <tbody>\n",
       "    <tr>\n",
       "      <th>0</th>\n",
       "      <td>200701BS64157</td>\n",
       "      <td>Serious</td>\n",
       "      <td>5/6/2019</td>\n",
       "      <td>51.506187</td>\n",
       "      <td>Darkness - lights lit</td>\n",
       "      <td>Kensington and Chelsea</td>\n",
       "      <td>-0.209082</td>\n",
       "      <td>1</td>\n",
       "      <td>2</td>\n",
       "      <td>Dry</td>\n",
       "      <td>Single carriageway</td>\n",
       "      <td>Urban</td>\n",
       "      <td>Fine no high winds</td>\n",
       "      <td>Car</td>\n",
       "    </tr>\n",
       "    <tr>\n",
       "      <th>1</th>\n",
       "      <td>200701BS65737</td>\n",
       "      <td>Serious</td>\n",
       "      <td>2/7/2019</td>\n",
       "      <td>51.495029</td>\n",
       "      <td>Daylight</td>\n",
       "      <td>Kensington and Chelsea</td>\n",
       "      <td>-0.173647</td>\n",
       "      <td>1</td>\n",
       "      <td>2</td>\n",
       "      <td>Wet or damp</td>\n",
       "      <td>Single carriageway</td>\n",
       "      <td>Urban</td>\n",
       "      <td>Raining no high winds</td>\n",
       "      <td>Car</td>\n",
       "    </tr>\n",
       "    <tr>\n",
       "      <th>2</th>\n",
       "      <td>200701BS66127</td>\n",
       "      <td>Serious</td>\n",
       "      <td>26-08-2019</td>\n",
       "      <td>51.517715</td>\n",
       "      <td>Darkness - lighting unknown</td>\n",
       "      <td>Kensington and Chelsea</td>\n",
       "      <td>-0.210215</td>\n",
       "      <td>1</td>\n",
       "      <td>3</td>\n",
       "      <td>Dry</td>\n",
       "      <td>NaN</td>\n",
       "      <td>Urban</td>\n",
       "      <td>NaN</td>\n",
       "      <td>Taxi/Private hire car</td>\n",
       "    </tr>\n",
       "    <tr>\n",
       "      <th>3</th>\n",
       "      <td>200701BS66128</td>\n",
       "      <td>Serious</td>\n",
       "      <td>16-08-2019</td>\n",
       "      <td>51.495478</td>\n",
       "      <td>Daylight</td>\n",
       "      <td>Kensington and Chelsea</td>\n",
       "      <td>-0.202731</td>\n",
       "      <td>1</td>\n",
       "      <td>4</td>\n",
       "      <td>Dry</td>\n",
       "      <td>Single carriageway</td>\n",
       "      <td>Urban</td>\n",
       "      <td>Fine no high winds</td>\n",
       "      <td>Bus or coach (17 or more pass seats)</td>\n",
       "    </tr>\n",
       "    <tr>\n",
       "      <th>4</th>\n",
       "      <td>200701BS66837</td>\n",
       "      <td>Slight</td>\n",
       "      <td>3/9/2019</td>\n",
       "      <td>51.488576</td>\n",
       "      <td>Darkness - lights lit</td>\n",
       "      <td>Kensington and Chelsea</td>\n",
       "      <td>-0.192487</td>\n",
       "      <td>1</td>\n",
       "      <td>2</td>\n",
       "      <td>Dry</td>\n",
       "      <td>NaN</td>\n",
       "      <td>Urban</td>\n",
       "      <td>NaN</td>\n",
       "      <td>Other vehicle</td>\n",
       "    </tr>\n",
       "    <tr>\n",
       "      <th>...</th>\n",
       "      <td>...</td>\n",
       "      <td>...</td>\n",
       "      <td>...</td>\n",
       "      <td>...</td>\n",
       "      <td>...</td>\n",
       "      <td>...</td>\n",
       "      <td>...</td>\n",
       "      <td>...</td>\n",
       "      <td>...</td>\n",
       "      <td>...</td>\n",
       "      <td>...</td>\n",
       "      <td>...</td>\n",
       "      <td>...</td>\n",
       "      <td>...</td>\n",
       "    </tr>\n",
       "    <tr>\n",
       "      <th>660674</th>\n",
       "      <td>201091NM01760</td>\n",
       "      <td>Slight</td>\n",
       "      <td>18-02-2022</td>\n",
       "      <td>57.374005</td>\n",
       "      <td>Daylight</td>\n",
       "      <td>Highland</td>\n",
       "      <td>-3.467828</td>\n",
       "      <td>2</td>\n",
       "      <td>1</td>\n",
       "      <td>Dry</td>\n",
       "      <td>Single carriageway</td>\n",
       "      <td>Rural</td>\n",
       "      <td>Fine no high winds</td>\n",
       "      <td>Car</td>\n",
       "    </tr>\n",
       "    <tr>\n",
       "      <th>660675</th>\n",
       "      <td>201091NM01881</td>\n",
       "      <td>Slight</td>\n",
       "      <td>21-02-2022</td>\n",
       "      <td>57.232273</td>\n",
       "      <td>Darkness - no lighting</td>\n",
       "      <td>Highland</td>\n",
       "      <td>-3.809281</td>\n",
       "      <td>1</td>\n",
       "      <td>1</td>\n",
       "      <td>Frost or ice</td>\n",
       "      <td>Single carriageway</td>\n",
       "      <td>Rural</td>\n",
       "      <td>Fine no high winds</td>\n",
       "      <td>Car</td>\n",
       "    </tr>\n",
       "    <tr>\n",
       "      <th>660676</th>\n",
       "      <td>201091NM01935</td>\n",
       "      <td>Slight</td>\n",
       "      <td>23-02-2022</td>\n",
       "      <td>57.585044</td>\n",
       "      <td>Daylight</td>\n",
       "      <td>Highland</td>\n",
       "      <td>-3.862727</td>\n",
       "      <td>1</td>\n",
       "      <td>3</td>\n",
       "      <td>Frost or ice</td>\n",
       "      <td>Single carriageway</td>\n",
       "      <td>Rural</td>\n",
       "      <td>Fine no high winds</td>\n",
       "      <td>Car</td>\n",
       "    </tr>\n",
       "    <tr>\n",
       "      <th>660677</th>\n",
       "      <td>201091NM01964</td>\n",
       "      <td>Serious</td>\n",
       "      <td>23-02-2022</td>\n",
       "      <td>57.214898</td>\n",
       "      <td>Darkness - no lighting</td>\n",
       "      <td>Highland</td>\n",
       "      <td>-3.823997</td>\n",
       "      <td>1</td>\n",
       "      <td>2</td>\n",
       "      <td>Wet or damp</td>\n",
       "      <td>Single carriageway</td>\n",
       "      <td>Rural</td>\n",
       "      <td>Fine no high winds</td>\n",
       "      <td>Motorcycle over 500cc</td>\n",
       "    </tr>\n",
       "    <tr>\n",
       "      <th>660678</th>\n",
       "      <td>201091NM02142</td>\n",
       "      <td>Serious</td>\n",
       "      <td>28-02-2022</td>\n",
       "      <td>57.575210</td>\n",
       "      <td>Daylight</td>\n",
       "      <td>Highland</td>\n",
       "      <td>-3.895673</td>\n",
       "      <td>1</td>\n",
       "      <td>1</td>\n",
       "      <td>Wet or damp</td>\n",
       "      <td>Dual carriageway</td>\n",
       "      <td>Rural</td>\n",
       "      <td>Snowing no high winds</td>\n",
       "      <td>Car</td>\n",
       "    </tr>\n",
       "  </tbody>\n",
       "</table>\n",
       "<p>660679 rows × 14 columns</p>\n",
       "</div>"
      ],
      "text/plain": [
       "                Index Accident_Severity Accident Date   Latitude  \\\n",
       "0       200701BS64157           Serious      5/6/2019  51.506187   \n",
       "1       200701BS65737           Serious      2/7/2019  51.495029   \n",
       "2       200701BS66127           Serious    26-08-2019  51.517715   \n",
       "3       200701BS66128           Serious    16-08-2019  51.495478   \n",
       "4       200701BS66837            Slight      3/9/2019  51.488576   \n",
       "...               ...               ...           ...        ...   \n",
       "660674  201091NM01760            Slight    18-02-2022  57.374005   \n",
       "660675  201091NM01881            Slight    21-02-2022  57.232273   \n",
       "660676  201091NM01935            Slight    23-02-2022  57.585044   \n",
       "660677  201091NM01964           Serious    23-02-2022  57.214898   \n",
       "660678  201091NM02142           Serious    28-02-2022  57.575210   \n",
       "\n",
       "                   Light_Conditions           District Area  Longitude  \\\n",
       "0             Darkness - lights lit  Kensington and Chelsea  -0.209082   \n",
       "1                          Daylight  Kensington and Chelsea  -0.173647   \n",
       "2       Darkness - lighting unknown  Kensington and Chelsea  -0.210215   \n",
       "3                          Daylight  Kensington and Chelsea  -0.202731   \n",
       "4             Darkness - lights lit  Kensington and Chelsea  -0.192487   \n",
       "...                             ...                     ...        ...   \n",
       "660674                     Daylight                Highland  -3.467828   \n",
       "660675       Darkness - no lighting                Highland  -3.809281   \n",
       "660676                     Daylight                Highland  -3.862727   \n",
       "660677       Darkness - no lighting                Highland  -3.823997   \n",
       "660678                     Daylight                Highland  -3.895673   \n",
       "\n",
       "        Number_of_Casualties  Number_of_Vehicles Road_Surface_Conditions  \\\n",
       "0                          1                   2                     Dry   \n",
       "1                          1                   2             Wet or damp   \n",
       "2                          1                   3                     Dry   \n",
       "3                          1                   4                     Dry   \n",
       "4                          1                   2                     Dry   \n",
       "...                      ...                 ...                     ...   \n",
       "660674                     2                   1                     Dry   \n",
       "660675                     1                   1            Frost or ice   \n",
       "660676                     1                   3            Frost or ice   \n",
       "660677                     1                   2             Wet or damp   \n",
       "660678                     1                   1             Wet or damp   \n",
       "\n",
       "                 Road_Type Urban_or_Rural_Area     Weather_Conditions  \\\n",
       "0       Single carriageway               Urban     Fine no high winds   \n",
       "1       Single carriageway               Urban  Raining no high winds   \n",
       "2                      NaN               Urban                    NaN   \n",
       "3       Single carriageway               Urban     Fine no high winds   \n",
       "4                      NaN               Urban                    NaN   \n",
       "...                    ...                 ...                    ...   \n",
       "660674  Single carriageway               Rural     Fine no high winds   \n",
       "660675  Single carriageway               Rural     Fine no high winds   \n",
       "660676  Single carriageway               Rural     Fine no high winds   \n",
       "660677  Single carriageway               Rural     Fine no high winds   \n",
       "660678    Dual carriageway               Rural  Snowing no high winds   \n",
       "\n",
       "                                Vehicle_Type  \n",
       "0                                        Car  \n",
       "1                                        Car  \n",
       "2                      Taxi/Private hire car  \n",
       "3       Bus or coach (17 or more pass seats)  \n",
       "4                              Other vehicle  \n",
       "...                                      ...  \n",
       "660674                                   Car  \n",
       "660675                                   Car  \n",
       "660676                                   Car  \n",
       "660677                 Motorcycle over 500cc  \n",
       "660678                                   Car  \n",
       "\n",
       "[660679 rows x 14 columns]"
      ]
     },
     "execution_count": 13,
     "metadata": {},
     "output_type": "execute_result"
    }
   ],
   "source": [
    "accident"
   ]
  },
  {
   "cell_type": "code",
   "execution_count": 14,
   "id": "aab46cf1-d23e-45b4-b6bb-9778e67d890f",
   "metadata": {},
   "outputs": [],
   "source": [
    "warnings.filterwarnings('ignore')"
   ]
  },
  {
   "cell_type": "code",
   "execution_count": 15,
   "id": "cece93cb-ce11-4190-a958-4fb5e6be4c5d",
   "metadata": {},
   "outputs": [
    {
     "name": "stdout",
     "output_type": "stream",
     "text": [
      "<class 'pandas.core.frame.DataFrame'>\n",
      "RangeIndex: 660679 entries, 0 to 660678\n",
      "Data columns (total 14 columns):\n",
      " #   Column                   Non-Null Count   Dtype  \n",
      "---  ------                   --------------   -----  \n",
      " 0   Index                    660679 non-null  object \n",
      " 1   Accident_Severity        660679 non-null  object \n",
      " 2   Accident Date            660679 non-null  object \n",
      " 3   Latitude                 660654 non-null  float64\n",
      " 4   Light_Conditions         660679 non-null  object \n",
      " 5   District Area            660679 non-null  object \n",
      " 6   Longitude                660653 non-null  float64\n",
      " 7   Number_of_Casualties     660679 non-null  int64  \n",
      " 8   Number_of_Vehicles       660679 non-null  int64  \n",
      " 9   Road_Surface_Conditions  659953 non-null  object \n",
      " 10  Road_Type                656159 non-null  object \n",
      " 11  Urban_or_Rural_Area      660664 non-null  object \n",
      " 12  Weather_Conditions       646551 non-null  object \n",
      " 13  Vehicle_Type             660679 non-null  object \n",
      "dtypes: float64(2), int64(2), object(10)\n",
      "memory usage: 70.6+ MB\n"
     ]
    }
   ],
   "source": [
    "accident.info()"
   ]
  },
  {
   "cell_type": "code",
   "execution_count": 16,
   "id": "45efa2f2-ff02-40ff-babe-63d7a1f260fa",
   "metadata": {},
   "outputs": [
    {
     "data": {
      "text/html": [
       "<div>\n",
       "<style scoped>\n",
       "    .dataframe tbody tr th:only-of-type {\n",
       "        vertical-align: middle;\n",
       "    }\n",
       "\n",
       "    .dataframe tbody tr th {\n",
       "        vertical-align: top;\n",
       "    }\n",
       "\n",
       "    .dataframe thead th {\n",
       "        text-align: right;\n",
       "    }\n",
       "</style>\n",
       "<table border=\"1\" class=\"dataframe\">\n",
       "  <thead>\n",
       "    <tr style=\"text-align: right;\">\n",
       "      <th></th>\n",
       "      <th>Latitude</th>\n",
       "      <th>Longitude</th>\n",
       "      <th>Number_of_Casualties</th>\n",
       "      <th>Number_of_Vehicles</th>\n",
       "    </tr>\n",
       "  </thead>\n",
       "  <tbody>\n",
       "    <tr>\n",
       "      <th>count</th>\n",
       "      <td>660654.000000</td>\n",
       "      <td>660653.000000</td>\n",
       "      <td>660679.000000</td>\n",
       "      <td>660679.000000</td>\n",
       "    </tr>\n",
       "    <tr>\n",
       "      <th>mean</th>\n",
       "      <td>52.553866</td>\n",
       "      <td>-1.431210</td>\n",
       "      <td>1.357040</td>\n",
       "      <td>1.831255</td>\n",
       "    </tr>\n",
       "    <tr>\n",
       "      <th>std</th>\n",
       "      <td>1.406922</td>\n",
       "      <td>1.383330</td>\n",
       "      <td>0.824847</td>\n",
       "      <td>0.715269</td>\n",
       "    </tr>\n",
       "    <tr>\n",
       "      <th>min</th>\n",
       "      <td>49.914430</td>\n",
       "      <td>-7.516225</td>\n",
       "      <td>1.000000</td>\n",
       "      <td>1.000000</td>\n",
       "    </tr>\n",
       "    <tr>\n",
       "      <th>25%</th>\n",
       "      <td>51.490690</td>\n",
       "      <td>-2.332291</td>\n",
       "      <td>1.000000</td>\n",
       "      <td>1.000000</td>\n",
       "    </tr>\n",
       "    <tr>\n",
       "      <th>50%</th>\n",
       "      <td>52.315641</td>\n",
       "      <td>-1.411667</td>\n",
       "      <td>1.000000</td>\n",
       "      <td>2.000000</td>\n",
       "    </tr>\n",
       "    <tr>\n",
       "      <th>75%</th>\n",
       "      <td>53.453452</td>\n",
       "      <td>-0.232869</td>\n",
       "      <td>1.000000</td>\n",
       "      <td>2.000000</td>\n",
       "    </tr>\n",
       "    <tr>\n",
       "      <th>max</th>\n",
       "      <td>60.757544</td>\n",
       "      <td>1.762010</td>\n",
       "      <td>68.000000</td>\n",
       "      <td>32.000000</td>\n",
       "    </tr>\n",
       "  </tbody>\n",
       "</table>\n",
       "</div>"
      ],
      "text/plain": [
       "            Latitude      Longitude  Number_of_Casualties  Number_of_Vehicles\n",
       "count  660654.000000  660653.000000         660679.000000       660679.000000\n",
       "mean       52.553866      -1.431210              1.357040            1.831255\n",
       "std         1.406922       1.383330              0.824847            0.715269\n",
       "min        49.914430      -7.516225              1.000000            1.000000\n",
       "25%        51.490690      -2.332291              1.000000            1.000000\n",
       "50%        52.315641      -1.411667              1.000000            2.000000\n",
       "75%        53.453452      -0.232869              1.000000            2.000000\n",
       "max        60.757544       1.762010             68.000000           32.000000"
      ]
     },
     "execution_count": 16,
     "metadata": {},
     "output_type": "execute_result"
    }
   ],
   "source": [
    "accident.describe()"
   ]
  },
  {
   "cell_type": "code",
   "execution_count": 17,
   "id": "8aad385d-7504-4186-9ea2-d8b51b8e358d",
   "metadata": {},
   "outputs": [
    {
     "data": {
      "text/plain": [
       "Index                          0\n",
       "Accident_Severity              0\n",
       "Accident Date                  0\n",
       "Latitude                      25\n",
       "Light_Conditions               0\n",
       "District Area                  0\n",
       "Longitude                     26\n",
       "Number_of_Casualties           0\n",
       "Number_of_Vehicles             0\n",
       "Road_Surface_Conditions      726\n",
       "Road_Type                   4520\n",
       "Urban_or_Rural_Area           15\n",
       "Weather_Conditions         14128\n",
       "Vehicle_Type                   0\n",
       "dtype: int64"
      ]
     },
     "execution_count": 17,
     "metadata": {},
     "output_type": "execute_result"
    }
   ],
   "source": [
    "accident.isnull().sum()"
   ]
  },
  {
   "cell_type": "code",
   "execution_count": 18,
   "id": "efa72c61-cd2c-4c6a-878a-7ee7bf08c78e",
   "metadata": {},
   "outputs": [
    {
     "data": {
      "text/plain": [
       "Index                       object\n",
       "Accident_Severity           object\n",
       "Accident Date               object\n",
       "Latitude                   float64\n",
       "Light_Conditions            object\n",
       "District Area               object\n",
       "Longitude                  float64\n",
       "Number_of_Casualties         int64\n",
       "Number_of_Vehicles           int64\n",
       "Road_Surface_Conditions     object\n",
       "Road_Type                   object\n",
       "Urban_or_Rural_Area         object\n",
       "Weather_Conditions          object\n",
       "Vehicle_Type                object\n",
       "dtype: object"
      ]
     },
     "execution_count": 18,
     "metadata": {},
     "output_type": "execute_result"
    }
   ],
   "source": [
    "accident.dtypes"
   ]
  },
  {
   "cell_type": "markdown",
   "id": "b85c6239-a570-45e6-9ae2-290872579229",
   "metadata": {},
   "source": [
    "<h2>Filling Up Nulls</h2>"
   ]
  },
  {
   "cell_type": "code",
   "execution_count": 19,
   "id": "b9bbb728-11a6-461c-98ec-9901d026d828",
   "metadata": {},
   "outputs": [
    {
     "data": {
      "text/plain": [
       "Index                          0\n",
       "Accident_Severity              0\n",
       "Accident Date                  0\n",
       "Latitude                       0\n",
       "Light_Conditions               0\n",
       "District Area                  0\n",
       "Longitude                      0\n",
       "Number_of_Casualties           0\n",
       "Number_of_Vehicles             0\n",
       "Road_Surface_Conditions        0\n",
       "Road_Type                      0\n",
       "Urban_or_Rural_Area            0\n",
       "Weather_Conditions         14128\n",
       "Vehicle_Type                   0\n",
       "dtype: int64"
      ]
     },
     "execution_count": 19,
     "metadata": {},
     "output_type": "execute_result"
    }
   ],
   "source": [
    "accident['Latitude'] = accident['Latitude'].fillna(accident['Latitude'].mode()[0])\n",
    "accident['Longitude'] = accident['Longitude'].fillna(accident['Longitude'].mode()[0])\n",
    "accident['Road_Surface_Conditions'] = accident['Road_Surface_Conditions'].fillna(accident['Road_Surface_Conditions'].mode()[0])\n",
    "accident['Road_Type'] = accident['Road_Type'].fillna(accident['Road_Type'].mode()[0])\n",
    "accident['Urban_or_Rural_Area'] = accident['Latitude'].fillna(accident['Urban_or_Rural_Area'].mode()[0])\n",
    "accident.isnull().sum()"
   ]
  },
  {
   "cell_type": "code",
   "execution_count": 20,
   "id": "0b821fb7-9464-4bd1-b44e-f27d1ecb2a27",
   "metadata": {},
   "outputs": [
    {
     "data": {
      "text/plain": [
       "Index                              object\n",
       "Accident_Severity                  object\n",
       "Accident Date              datetime64[ns]\n",
       "Latitude                          float64\n",
       "Light_Conditions                   object\n",
       "District Area                      object\n",
       "Longitude                         float64\n",
       "Number_of_Casualties                int64\n",
       "Number_of_Vehicles                  int64\n",
       "Road_Surface_Conditions            object\n",
       "Road_Type                          object\n",
       "Urban_or_Rural_Area               float64\n",
       "Weather_Conditions                 object\n",
       "Vehicle_Type                       object\n",
       "dtype: object"
      ]
     },
     "execution_count": 20,
     "metadata": {},
     "output_type": "execute_result"
    }
   ],
   "source": [
    "accident['Accident Date'] = pd.to_datetime(accident['Accident Date'], dayfirst = True , errors= 'coerce')\n",
    "accident.dtypes"
   ]
  },
  {
   "cell_type": "code",
   "execution_count": 21,
   "id": "c44d3128-c163-4908-8777-c26bbf547816",
   "metadata": {},
   "outputs": [
    {
     "data": {
      "text/plain": [
       "Index                           0\n",
       "Accident_Severity               0\n",
       "Accident Date              395672\n",
       "Latitude                        0\n",
       "Light_Conditions                0\n",
       "District Area                   0\n",
       "Longitude                       0\n",
       "Number_of_Casualties            0\n",
       "Number_of_Vehicles              0\n",
       "Road_Surface_Conditions         0\n",
       "Road_Type                       0\n",
       "Urban_or_Rural_Area             0\n",
       "Weather_Conditions              0\n",
       "Vehicle_Type                    0\n",
       "dtype: int64"
      ]
     },
     "execution_count": 21,
     "metadata": {},
     "output_type": "execute_result"
    }
   ],
   "source": [
    "accident['Weather_Conditions'] = accident['Weather_Conditions'].fillna('unaccounted')\n",
    "accident.isnull().sum()"
   ]
  },
  {
   "cell_type": "code",
   "execution_count": 22,
   "id": "46155755-2ec6-4b85-a7db-975850682fec",
   "metadata": {},
   "outputs": [
    {
     "data": {
      "text/plain": [
       "Accident_Severity\n",
       "Slight     563801\n",
       "Serious     88217\n",
       "Fatal        8661\n",
       "Name: count, dtype: int64"
      ]
     },
     "execution_count": 22,
     "metadata": {},
     "output_type": "execute_result"
    }
   ],
   "source": [
    "accident['Accident_Severity'].value_counts()"
   ]
  },
  {
   "cell_type": "code",
   "execution_count": 23,
   "id": "5f1ab722-7e5c-4ffe-839c-966074945fb0",
   "metadata": {},
   "outputs": [
    {
     "data": {
      "text/plain": [
       "Accident Date\n",
       "2021-02-11    685\n",
       "2021-10-06    680\n",
       "2019-12-06    678\n",
       "2019-02-01    676\n",
       "2021-12-04    667\n",
       "             ... \n",
       "2022-01-09    236\n",
       "2022-12-02    236\n",
       "2022-04-05    231\n",
       "2022-02-07    213\n",
       "2022-01-10    123\n",
       "Name: count, Length: 576, dtype: int64"
      ]
     },
     "execution_count": 23,
     "metadata": {},
     "output_type": "execute_result"
    }
   ],
   "source": [
    "accident['Accident Date'].value_counts()"
   ]
  },
  {
   "cell_type": "markdown",
   "id": "5a651a02-a916-400b-acf4-7979cbea7c6d",
   "metadata": {},
   "source": [
    "<h1>Question 1</h1>\n",
    "<h2>1. What is the correlation between Number_of_Casualties and Number_of_Vehicles?</h2>"
   ]
  },
  {
   "cell_type": "code",
   "execution_count": 24,
   "id": "2eb0428e-f39f-4409-a265-225c21ad3d3c",
   "metadata": {},
   "outputs": [
    {
     "data": {
      "text/plain": [
       "np.float64(0.2288888612692756)"
      ]
     },
     "execution_count": 24,
     "metadata": {},
     "output_type": "execute_result"
    }
   ],
   "source": [
    "df = accident['Number_of_Casualties'].corr(accident['Number_of_Vehicles'])\n",
    "df"
   ]
  },
  {
   "cell_type": "code",
   "execution_count": 59,
   "id": "4a061e28-f470-493e-958f-6f1c2001b998",
   "metadata": {},
   "outputs": [
    {
     "name": "stdout",
     "output_type": "stream",
     "text": [
      "Correlation between Number_of_Casualties and Number_of_Vehicles: 0.2288888612692756\n"
     ]
    }
   ],
   "source": [
    "correlation = accident['Number_of_Casualties'].corr(accident['Number_of_Vehicles'])\n",
    "print(f\"Correlation between Number_of_Casualties and Number_of_Vehicles: {correlation}\")"
   ]
  },
  {
   "cell_type": "markdown",
   "id": "f89ce05a-e8ba-4223-848f-2930277e96ce",
   "metadata": {},
   "source": [
    "<h1>Insight No.1</h1>\n",
    "<h2>There is correlation between Number of casualties and Number of Vechiles</h2>"
   ]
  },
  {
   "cell_type": "markdown",
   "id": "060b0cad-6e5a-4482-a63b-12096ec43052",
   "metadata": {},
   "source": [
    "<h1>Question 2</h1>\n",
    "<h2>Is there a correlation between Latitude and Longitude?</h2>"
   ]
  },
  {
   "cell_type": "code",
   "execution_count": 25,
   "id": "93eb4185-55c1-4fc7-bb2b-e31b3efb7f01",
   "metadata": {},
   "outputs": [
    {
     "data": {
      "text/plain": [
       "np.float64(-0.3981137948101014)"
      ]
     },
     "execution_count": 25,
     "metadata": {},
     "output_type": "execute_result"
    }
   ],
   "source": [
    "df = accident['Latitude'].corr(accident['Longitude'])\n",
    "df"
   ]
  },
  {
   "cell_type": "markdown",
   "id": "2a6bbb69-903f-4330-affb-de880c601250",
   "metadata": {},
   "source": [
    "<h2>There is No correlation between Latitude and Longitude</h2>"
   ]
  },
  {
   "cell_type": "markdown",
   "id": "ec0c3d76-2e6d-44f4-9ce8-814d2014c968",
   "metadata": {},
   "source": [
    "<h1>Question 3</h1>\n",
    "<h2>What is the average NumberofCasualties for each Road Type?</h2>"
   ]
  },
  {
   "cell_type": "code",
   "execution_count": 26,
   "id": "47f71334-3774-4ddf-9f40-d81ce221123c",
   "metadata": {},
   "outputs": [
    {
     "data": {
      "text/plain": [
       "Road_Type\n",
       "Dual carriageway      1.477279\n",
       "One way street        1.192713\n",
       "Roundabout            1.274891\n",
       "Single carriageway    1.343788\n",
       "Slip road             1.423661\n",
       "Name: Number_of_Casualties, dtype: float64"
      ]
     },
     "execution_count": 26,
     "metadata": {},
     "output_type": "execute_result"
    }
   ],
   "source": [
    "\n",
    "mean_casualties_by_road_type = accident.groupby('Road_Type')['Number_of_Casualties'].mean()\n",
    "print(mean_casualties_by_road_type)\n"
   ]
  },
  {
   "cell_type": "markdown",
   "id": "d1a8f067-f655-4f50-ab2c-0360e64f6477",
   "metadata": {},
   "source": [
    "<h1>Insight 3</h1>\n",
    "<h2>Understanding which road types (e.g., highways, residential streets, rural roads) have higher average casualties can highlight areas where safety improvements are needed.</h2>"
   ]
  },
  {
   "cell_type": "markdown",
   "id": "15e553be-1419-4e97-8385-25c302cf6577",
   "metadata": {},
   "source": [
    "<h1>Insight 3.1</h1>\n",
    "<h2>This analysis can help prioritize road safety initiatives by targeting road types with higher accident severity. Urban planners and policymakers can use this information to design and implement effective safety measures, such as better signage, improved road design, or enhanced enforcement of traffic laws.</h2>"
   ]
  },
  {
   "cell_type": "markdown",
   "id": "3ff1577c-c8f4-4b64-b9c3-012f213b4979",
   "metadata": {},
   "source": [
    "<h1>Question 4</h1>\n",
    "<h2>Is there a correlation between Latitude and Number_of_Casualties?</h2>"
   ]
  },
  {
   "cell_type": "code",
   "execution_count": 61,
   "id": "fb50a333-df53-4167-878f-f3456cb92570",
   "metadata": {},
   "outputs": [
    {
     "name": "stdout",
     "output_type": "stream",
     "text": [
      "Correlation between Latitude and Number_of_Casualties: 0.03220129464996809\n"
     ]
    }
   ],
   "source": [
    "correlation = accident['Latitude'].corr(accident['Number_of_Casualties'])\n",
    "print(f\"Correlation between Latitude and Number_of_Casualties: {correlation}\")\n"
   ]
  },
  {
   "cell_type": "markdown",
   "id": "9c2dbb96-fd13-4007-9064-73de88c5830c",
   "metadata": {},
   "source": [
    "<h1>Insight No.4</h1>\n",
    "<h2>There is No correlation between Latitude and Number_of_Casualties</h2>"
   ]
  },
  {
   "cell_type": "markdown",
   "id": "2a6af364-f816-4a84-915d-672956c5e404",
   "metadata": {},
   "source": [
    "<h1>Insight No. 4.1</h1>\n",
    "<h2>The correlation coefficient will tell us if there's a \n",
    "linear relationship between the latitude and the number of casualties. A high positive correlation suggests that accidents at higher latitudes tend to have more casualties, while a high negative correlation suggests the opposite.</h2>"
   ]
  },
  {
   "cell_type": "markdown",
   "id": "7734d02f-bc4b-4bef-8ba7-04281cedc2f3",
   "metadata": {},
   "source": [
    "<h1>Question 5</h1>\n",
    "<h2>What is the average Number of Casualties for accidents that occurred during Daylight vs Darkness?</h2>"
   ]
  },
  {
   "cell_type": "code",
   "execution_count": 62,
   "id": "dc769026-9366-4546-83e3-ec11663a47bf",
   "metadata": {},
   "outputs": [
    {
     "name": "stdout",
     "output_type": "stream",
     "text": [
      "Light_Conditions\n",
      "Darkness - lighting unknown    1.306447\n",
      "Darkness - lights lit          1.369374\n",
      "Darkness - lights unlit        1.331105\n",
      "Darkness - no lighting         1.541657\n",
      "Daylight                       1.340309\n",
      "Name: Number_of_Casualties, dtype: float64\n"
     ]
    }
   ],
   "source": [
    "mean_casualties_by_light_conditions = accident.groupby('Light_Conditions')['Number_of_Casualties'].mean()\n",
    "print(mean_casualties_by_light_conditions)"
   ]
  },
  {
   "cell_type": "markdown",
   "id": "316824c4-d51a-4ed9-b3e1-eea9eb146ff2",
   "metadata": {},
   "source": [
    "<h1>Insight No.5</h1>\n",
    "<h2>This will show the average number of casualties for accidents during Daylight versus Darkness, helping you understand if accidents at night tend to have more casualties than those during the day.</h2>"
   ]
  },
  {
   "cell_type": "markdown",
   "id": "234a399b-f995-4a91-87b5-7ae2a1494327",
   "metadata": {},
   "source": [
    "<h1>Insight No.5.1</h1>\n",
    "<h2>Accidents during low light conditions Darkness and Daylight tend to result in a higher average number of casualties, indicating a need for better street lighting and visibility improvements to enhance safety.</h2>"
   ]
  },
  {
   "cell_type": "markdown",
   "id": "d979e659-be5f-4348-9db4-ea408eee3b20",
   "metadata": {},
   "source": [
    "<h1>Question 6</h1>\n",
    "<h2>What is the mean Latitude and Longitude of accidents?</h2>"
   ]
  },
  {
   "cell_type": "code",
   "execution_count": 65,
   "id": "c0602c28-424f-45c0-80f4-35bf997d44eb",
   "metadata": {},
   "outputs": [
    {
     "name": "stdout",
     "output_type": "stream",
     "text": [
      "Latitude     52.553862\n",
      "Longitude    -1.431193\n",
      "dtype: float64\n"
     ]
    }
   ],
   "source": [
    "mean_lat_long = accident[['Latitude', 'Longitude']].mean()\n",
    "print(mean_lat_long)"
   ]
  },
  {
   "cell_type": "markdown",
   "id": "010c4721-c7ee-4923-9d6a-1d66d08c7416",
   "metadata": {},
   "source": [
    "<h1>Insight No.6</h1>\n",
    "<h2>This will give the average location (latitude and longitude) of accidents, helping identify areas where accidents commonly occur.</h2>"
   ]
  },
  {
   "cell_type": "markdown",
   "id": "f6418eb5-26a6-4e0d-a314-ba50b613a49c",
   "metadata": {},
   "source": [
    "<h1>Insight No.6.1</h1>\n",
    "<h2>By comparing these mean coordinates with actual accident locations, we can see if accidents cluster around specific regions or are spread out.</h2>"
   ]
  },
  {
   "cell_type": "markdown",
   "id": "09f3c60f-aba1-4833-aa33-163b4835847e",
   "metadata": {},
   "source": [
    "<h1>Insight No.6.2</h1>\n",
    "<h2>Use the mean coordinates as a reference for further analysis, like identifying accident hotspots or planning emergency responses</h2>"
   ]
  },
  {
   "cell_type": "markdown",
   "id": "3596230a-2e64-4825-9c80-c4a5a5c79aad",
   "metadata": {},
   "source": [
    "<h1>Question 7</h1>\n",
    "<h2>What is the total number of casualties for each Vehicle_Type?</h2>"
   ]
  },
  {
   "cell_type": "code",
   "execution_count": 66,
   "id": "56111527-c730-4052-bfe1-cd9bd8feee6e",
   "metadata": {},
   "outputs": [
    {
     "name": "stdout",
     "output_type": "stream",
     "text": [
      "Vehicle_Type\n",
      "Agricultural vehicle                       2613\n",
      "Bus or coach (17 or more pass seats)      34915\n",
      "Car                                      676692\n",
      "Data missing or out of range                  9\n",
      "Goods 7.5 tonnes mgw and over             23397\n",
      "Goods over 3.5t. and under 7.5t            8308\n",
      "Minibus (8 - 16 passenger seats)           2659\n",
      "Motorcycle 125cc and under                20348\n",
      "Motorcycle 50cc and under                 10167\n",
      "Motorcycle over 125cc and up to 500cc     10286\n",
      "Motorcycle over 500cc                     34879\n",
      "Other vehicle                              7554\n",
      "Pedal cycle                                 270\n",
      "Ridden horse                                  5\n",
      "Taxi/Private hire car                     18195\n",
      "Van / Goods 3.5 tonnes mgw or under       46271\n",
      "Name: Number_of_Casualties, dtype: int64\n"
     ]
    }
   ],
   "source": [
    "total_casualties_by_vehicle_type = accident.groupby('Vehicle_Type')['Number_of_Casualties'].sum()\n",
    "print(total_casualties_by_vehicle_type)"
   ]
  },
  {
   "cell_type": "markdown",
   "id": "60ff0730-fe98-4e57-8292-cb4297bcd3f0",
   "metadata": {},
   "source": [
    "<h1>Inisght No.7</h1>\n",
    "<h2>Cars are involved in the highest number of casualties, indicating a need for targeted safety measures, stricter regulations, and enhanced safety features for cars.</h2>"
   ]
  },
  {
   "cell_type": "markdown",
   "id": "1e149c51-460c-421b-a62c-d2c9cedcd5f2",
   "metadata": {},
   "source": [
    "<h1>Inisght No.7.1</h1>\n",
    "<h2>The analysis can inform policymakers and manufacturers about the need for improved safety features and regulations for vehicle types with higher casualties.</h2>"
   ]
  },
  {
   "cell_type": "markdown",
   "id": "120c6396-e3c7-475e-b04b-b85c55dd5d85",
   "metadata": {},
   "source": [
    "<h1>Inisght No.7.2</h1>\n",
    "<h2>Buses and motorcycles (especially those over 500cc) also have high casualty numbers, suggesting the importance of improving safety awareness and training for drivers of these vehicles.</h2>"
   ]
  },
  {
   "cell_type": "markdown",
   "id": "9c5da96f-db5e-4c30-a98f-c49818952633",
   "metadata": {},
   "source": [
    "<h1>Question 8</h1>\n",
    "<h2>What is the distribution of accidents based on Vehicle_Type and Road_Type?</h2>"
   ]
  },
  {
   "cell_type": "code",
   "execution_count": 31,
   "id": "87c6edcf-4ef1-4838-b367-0a1e5836dece",
   "metadata": {},
   "outputs": [
    {
     "data": {
      "text/html": [
       "<div>\n",
       "<style scoped>\n",
       "    .dataframe tbody tr th:only-of-type {\n",
       "        vertical-align: middle;\n",
       "    }\n",
       "\n",
       "    .dataframe tbody tr th {\n",
       "        vertical-align: top;\n",
       "    }\n",
       "\n",
       "    .dataframe thead th {\n",
       "        text-align: right;\n",
       "    }\n",
       "</style>\n",
       "<table border=\"1\" class=\"dataframe\">\n",
       "  <thead>\n",
       "    <tr style=\"text-align: right;\">\n",
       "      <th>Road_Type</th>\n",
       "      <th>Dual carriageway</th>\n",
       "      <th>One way street</th>\n",
       "      <th>Roundabout</th>\n",
       "      <th>Single carriageway</th>\n",
       "      <th>Slip road</th>\n",
       "    </tr>\n",
       "    <tr>\n",
       "      <th>Vehicle_Type</th>\n",
       "      <th></th>\n",
       "      <th></th>\n",
       "      <th></th>\n",
       "      <th></th>\n",
       "      <th></th>\n",
       "    </tr>\n",
       "  </thead>\n",
       "  <tbody>\n",
       "    <tr>\n",
       "      <th>Agricultural vehicle</th>\n",
       "      <td>293.0</td>\n",
       "      <td>49.0</td>\n",
       "      <td>129.0</td>\n",
       "      <td>1449.0</td>\n",
       "      <td>27.0</td>\n",
       "    </tr>\n",
       "    <tr>\n",
       "      <th>Bus or coach (17 or more pass seats)</th>\n",
       "      <td>4043.0</td>\n",
       "      <td>546.0</td>\n",
       "      <td>1704.0</td>\n",
       "      <td>19300.0</td>\n",
       "      <td>285.0</td>\n",
       "    </tr>\n",
       "    <tr>\n",
       "      <th>Car</th>\n",
       "      <td>74820.0</td>\n",
       "      <td>10223.0</td>\n",
       "      <td>33187.0</td>\n",
       "      <td>374464.0</td>\n",
       "      <td>5298.0</td>\n",
       "    </tr>\n",
       "    <tr>\n",
       "      <th>Data missing or out of range</th>\n",
       "      <td>1.0</td>\n",
       "      <td>NaN</td>\n",
       "      <td>NaN</td>\n",
       "      <td>5.0</td>\n",
       "      <td>NaN</td>\n",
       "    </tr>\n",
       "    <tr>\n",
       "      <th>Goods 7.5 tonnes mgw and over</th>\n",
       "      <td>2631.0</td>\n",
       "      <td>341.0</td>\n",
       "      <td>1110.0</td>\n",
       "      <td>13037.0</td>\n",
       "      <td>188.0</td>\n",
       "    </tr>\n",
       "    <tr>\n",
       "      <th>Goods over 3.5t. and under 7.5t</th>\n",
       "      <td>959.0</td>\n",
       "      <td>116.0</td>\n",
       "      <td>422.0</td>\n",
       "      <td>4541.0</td>\n",
       "      <td>58.0</td>\n",
       "    </tr>\n",
       "    <tr>\n",
       "      <th>Minibus (8 - 16 passenger seats)</th>\n",
       "      <td>275.0</td>\n",
       "      <td>40.0</td>\n",
       "      <td>138.0</td>\n",
       "      <td>1507.0</td>\n",
       "      <td>16.0</td>\n",
       "    </tr>\n",
       "    <tr>\n",
       "      <th>Motorcycle 125cc and under</th>\n",
       "      <td>2228.0</td>\n",
       "      <td>307.0</td>\n",
       "      <td>991.0</td>\n",
       "      <td>11596.0</td>\n",
       "      <td>147.0</td>\n",
       "    </tr>\n",
       "    <tr>\n",
       "      <th>Motorcycle 50cc and under</th>\n",
       "      <td>1085.0</td>\n",
       "      <td>133.0</td>\n",
       "      <td>512.0</td>\n",
       "      <td>5784.0</td>\n",
       "      <td>89.0</td>\n",
       "    </tr>\n",
       "    <tr>\n",
       "      <th>Motorcycle over 125cc and up to 500cc</th>\n",
       "      <td>1210.0</td>\n",
       "      <td>154.0</td>\n",
       "      <td>493.0</td>\n",
       "      <td>5701.0</td>\n",
       "      <td>98.0</td>\n",
       "    </tr>\n",
       "    <tr>\n",
       "      <th>Motorcycle over 500cc</th>\n",
       "      <td>3930.0</td>\n",
       "      <td>499.0</td>\n",
       "      <td>1737.0</td>\n",
       "      <td>19207.0</td>\n",
       "      <td>284.0</td>\n",
       "    </tr>\n",
       "    <tr>\n",
       "      <th>Other vehicle</th>\n",
       "      <td>835.0</td>\n",
       "      <td>130.0</td>\n",
       "      <td>386.0</td>\n",
       "      <td>4222.0</td>\n",
       "      <td>64.0</td>\n",
       "    </tr>\n",
       "    <tr>\n",
       "      <th>Pedal cycle</th>\n",
       "      <td>34.0</td>\n",
       "      <td>4.0</td>\n",
       "      <td>16.0</td>\n",
       "      <td>141.0</td>\n",
       "      <td>2.0</td>\n",
       "    </tr>\n",
       "    <tr>\n",
       "      <th>Ridden horse</th>\n",
       "      <td>NaN</td>\n",
       "      <td>NaN</td>\n",
       "      <td>NaN</td>\n",
       "      <td>4.0</td>\n",
       "      <td>NaN</td>\n",
       "    </tr>\n",
       "    <tr>\n",
       "      <th>Taxi/Private hire car</th>\n",
       "      <td>1973.0</td>\n",
       "      <td>294.0</td>\n",
       "      <td>873.0</td>\n",
       "      <td>10030.0</td>\n",
       "      <td>124.0</td>\n",
       "    </tr>\n",
       "    <tr>\n",
       "      <th>Van / Goods 3.5 tonnes mgw or under</th>\n",
       "      <td>5107.0</td>\n",
       "      <td>723.0</td>\n",
       "      <td>2294.0</td>\n",
       "      <td>25675.0</td>\n",
       "      <td>361.0</td>\n",
       "    </tr>\n",
       "  </tbody>\n",
       "</table>\n",
       "</div>"
      ],
      "text/plain": [
       "Road_Type                              Dual carriageway  One way street  \\\n",
       "Vehicle_Type                                                              \n",
       "Agricultural vehicle                              293.0            49.0   \n",
       "Bus or coach (17 or more pass seats)             4043.0           546.0   \n",
       "Car                                             74820.0         10223.0   \n",
       "Data missing or out of range                        1.0             NaN   \n",
       "Goods 7.5 tonnes mgw and over                    2631.0           341.0   \n",
       "Goods over 3.5t. and under 7.5t                   959.0           116.0   \n",
       "Minibus (8 - 16 passenger seats)                  275.0            40.0   \n",
       "Motorcycle 125cc and under                       2228.0           307.0   \n",
       "Motorcycle 50cc and under                        1085.0           133.0   \n",
       "Motorcycle over 125cc and up to 500cc            1210.0           154.0   \n",
       "Motorcycle over 500cc                            3930.0           499.0   \n",
       "Other vehicle                                     835.0           130.0   \n",
       "Pedal cycle                                        34.0             4.0   \n",
       "Ridden horse                                        NaN             NaN   \n",
       "Taxi/Private hire car                            1973.0           294.0   \n",
       "Van / Goods 3.5 tonnes mgw or under              5107.0           723.0   \n",
       "\n",
       "Road_Type                              Roundabout  Single carriageway  \\\n",
       "Vehicle_Type                                                            \n",
       "Agricultural vehicle                        129.0              1449.0   \n",
       "Bus or coach (17 or more pass seats)       1704.0             19300.0   \n",
       "Car                                       33187.0            374464.0   \n",
       "Data missing or out of range                  NaN                 5.0   \n",
       "Goods 7.5 tonnes mgw and over              1110.0             13037.0   \n",
       "Goods over 3.5t. and under 7.5t             422.0              4541.0   \n",
       "Minibus (8 - 16 passenger seats)            138.0              1507.0   \n",
       "Motorcycle 125cc and under                  991.0             11596.0   \n",
       "Motorcycle 50cc and under                   512.0              5784.0   \n",
       "Motorcycle over 125cc and up to 500cc       493.0              5701.0   \n",
       "Motorcycle over 500cc                      1737.0             19207.0   \n",
       "Other vehicle                               386.0              4222.0   \n",
       "Pedal cycle                                  16.0               141.0   \n",
       "Ridden horse                                  NaN                 4.0   \n",
       "Taxi/Private hire car                       873.0             10030.0   \n",
       "Van / Goods 3.5 tonnes mgw or under        2294.0             25675.0   \n",
       "\n",
       "Road_Type                              Slip road  \n",
       "Vehicle_Type                                      \n",
       "Agricultural vehicle                        27.0  \n",
       "Bus or coach (17 or more pass seats)       285.0  \n",
       "Car                                       5298.0  \n",
       "Data missing or out of range                 NaN  \n",
       "Goods 7.5 tonnes mgw and over              188.0  \n",
       "Goods over 3.5t. and under 7.5t             58.0  \n",
       "Minibus (8 - 16 passenger seats)            16.0  \n",
       "Motorcycle 125cc and under                 147.0  \n",
       "Motorcycle 50cc and under                   89.0  \n",
       "Motorcycle over 125cc and up to 500cc       98.0  \n",
       "Motorcycle over 500cc                      284.0  \n",
       "Other vehicle                               64.0  \n",
       "Pedal cycle                                  2.0  \n",
       "Ridden horse                                 NaN  \n",
       "Taxi/Private hire car                      124.0  \n",
       "Van / Goods 3.5 tonnes mgw or under        361.0  "
      ]
     },
     "execution_count": 31,
     "metadata": {},
     "output_type": "execute_result"
    }
   ],
   "source": [
    "accident.groupby(['Vehicle_Type', 'Road_Type']).size().unstack()"
   ]
  },
  {
   "cell_type": "markdown",
   "id": "0201a3d0-218c-4587-83bb-ee2de3177ba8",
   "metadata": {},
   "source": [
    "<h1>Insight No.8</h1>\n",
    "<h2>This helps visualize how different Vehicle Types are involved in accidents across various Road Types. For example, it might show that trucks are more involved in accidents on highways, while smaller vehicles like cars are more involved in accidents on city roads.</h2>"
   ]
  },
  {
   "cell_type": "markdown",
   "id": "ace31b17-97ae-4621-8999-f8c981d0c999",
   "metadata": {},
   "source": [
    "<h1>Insight No.8.1</h1>\n",
    "<h2>Cars have the highest number of accidents across all road types, especially on single carriageways.</h2>"
   ]
  },
  {
   "cell_type": "markdown",
   "id": "6d3c8810-0dec-4285-ac5e-6168882bf7ff",
   "metadata": {},
   "source": [
    "<h1>Question 9</h1>\n",
    "<h2>How many accidents occurred in each District Area?</h2>"
   ]
  },
  {
   "cell_type": "code",
   "execution_count": 32,
   "id": "b8536ca7-d521-410e-ae6d-f7701324b33f",
   "metadata": {},
   "outputs": [
    {
     "data": {
      "text/plain": [
       "District Area\n",
       "Aberdeen City    1323\n",
       "Aberdeenshire    1930\n",
       "Adur              619\n",
       "Allerdale        1128\n",
       "Alnwick           232\n",
       "                 ... \n",
       "Wychavon         1361\n",
       "Wycombe          1729\n",
       "Wyre             1238\n",
       "Wyre Forest       969\n",
       "York             1897\n",
       "Length: 422, dtype: int64"
      ]
     },
     "execution_count": 32,
     "metadata": {},
     "output_type": "execute_result"
    }
   ],
   "source": [
    "df = accident.groupby('District Area').size()\n",
    "df"
   ]
  },
  {
   "cell_type": "markdown",
   "id": "f47c70df-4b7c-4d56-a384-52d7b1ee55f9",
   "metadata": {},
   "source": [
    "<h1>Insight No.9</h1>\n",
    "<h2>This will show how many accidents occurred in each District Area, helping identify areas with higher accident rates.</h2>"
   ]
  },
  {
   "cell_type": "markdown",
   "id": "beac1174-c3ac-42fa-be7a-7617385b82d8",
   "metadata": {},
   "source": [
    "<h1>Question 10</h1>\n",
    "<h2>What is the total Number of Vehicles for each District Area and Road Type combination?</h2>"
   ]
  },
  {
   "cell_type": "code",
   "execution_count": 33,
   "id": "57abd96f-2c95-4ac4-910b-b847eab625ad",
   "metadata": {},
   "outputs": [
    {
     "data": {
      "text/plain": [
       "District Area  Road_Type         \n",
       "Aberdeen City  Dual carriageway       436\n",
       "               One way street          37\n",
       "               Roundabout             168\n",
       "               Single carriageway    1507\n",
       "               Slip road               18\n",
       "                                     ... \n",
       "York           Dual carriageway       229\n",
       "               One way street          98\n",
       "               Roundabout             338\n",
       "               Single carriageway    2846\n",
       "               Slip road               10\n",
       "Name: Number_of_Vehicles, Length: 2060, dtype: int64"
      ]
     },
     "execution_count": 33,
     "metadata": {},
     "output_type": "execute_result"
    }
   ],
   "source": [
    "accident.groupby(['District Area', 'Road_Type'])['Number_of_Vehicles'].sum()"
   ]
  },
  {
   "cell_type": "markdown",
   "id": "36cff584-c189-40b1-ae87-94f3bab2fb93",
   "metadata": {},
   "source": [
    "<h1>Insight No.10</h1>\n",
    "<h2>The total number of vehicles involved in accidents for each District Area and Road Type combination. It helps identify areas or road types with higher vehicle involvement, which could point to more congested areas or road types that need better traffic management or infrastructure improvements.</h2>"
   ]
  },
  {
   "cell_type": "markdown",
   "id": "e9eea697-c4e1-49d6-87d9-600462731779",
   "metadata": {},
   "source": [
    "<h1>Qeustion 11</h1>\n",
    "<h2>What is the median Number of Casualties for each Road Type?</h2>"
   ]
  },
  {
   "cell_type": "code",
   "execution_count": 34,
   "id": "d61ec727-a534-489f-aef2-05ce615e7c75",
   "metadata": {},
   "outputs": [
    {
     "data": {
      "text/plain": [
       "Road_Type\n",
       "Dual carriageway      1.0\n",
       "One way street        1.0\n",
       "Roundabout            1.0\n",
       "Single carriageway    1.0\n",
       "Slip road             1.0\n",
       "Name: Number_of_Casualties, dtype: float64"
      ]
     },
     "execution_count": 34,
     "metadata": {},
     "output_type": "execute_result"
    }
   ],
   "source": [
    "accident.groupby('Road_Type')['Number_of_Casualties'].median()"
   ]
  },
  {
   "cell_type": "markdown",
   "id": "715ceec6-8e14-4492-bf78-22080322b148",
   "metadata": {},
   "source": [
    "<h1>Insight No.11</h1>\n",
    "<h2>The median for number of casualties is 1.0 percent</h2>"
   ]
  },
  {
   "cell_type": "markdown",
   "id": "8490c511-c774-4718-a628-5bb38d7b7fa8",
   "metadata": {},
   "source": [
    "<h1>Question 12</h1>\n",
    "<h2>What is the most Accident Severity for total of number of accident?</h2>"
   ]
  },
  {
   "cell_type": "code",
   "execution_count": 35,
   "id": "69f25f3d-3487-44a5-a167-0916cb53db3e",
   "metadata": {},
   "outputs": [
    {
     "data": {
      "text/plain": [
       "Accident_Severity\n",
       "Fatal        8661\n",
       "Serious     88217\n",
       "Slight     563801\n",
       "dtype: int64"
      ]
     },
     "execution_count": 35,
     "metadata": {},
     "output_type": "execute_result"
    }
   ],
   "source": [
    "accident.groupby('Accident_Severity').size()"
   ]
  },
  {
   "cell_type": "code",
   "execution_count": 36,
   "id": "48784939-0ff9-42bb-aa58-dc640912f76d",
   "metadata": {},
   "outputs": [
    {
     "ename": "SyntaxError",
     "evalue": "invalid syntax (3375376522.py, line 1)",
     "output_type": "error",
     "traceback": [
      "\u001b[1;36m  Cell \u001b[1;32mIn[36], line 1\u001b[1;36m\u001b[0m\n\u001b[1;33m    accident[]\u001b[0m\n\u001b[1;37m             ^\u001b[0m\n\u001b[1;31mSyntaxError\u001b[0m\u001b[1;31m:\u001b[0m invalid syntax\n"
     ]
    }
   ],
   "source": [
    "accident[]"
   ]
  },
  {
   "cell_type": "markdown",
   "id": "e07bdb27-167e-4f94-bb17-cb4244a4fb5b",
   "metadata": {},
   "source": [
    "<h1>Insight No.12</h1>\n",
    "<h2>The Slight is the most accident severity base on number of accident</h2>"
   ]
  },
  {
   "cell_type": "markdown",
   "id": "7c068e16-961c-468e-8d48-26aa53f5a662",
   "metadata": {},
   "source": [
    "<h1>Question 13</h1>\n",
    "<h2>What is the maximum Number of Casualties for each Road Type?</h2>"
   ]
  },
  {
   "cell_type": "code",
   "execution_count": 37,
   "id": "9e55400f-8b65-450c-91b3-c521bdef04be",
   "metadata": {},
   "outputs": [
    {
     "data": {
      "text/plain": [
       "Road_Type\n",
       "Dual carriageway      47\n",
       "One way street        15\n",
       "Roundabout            19\n",
       "Single carriageway    62\n",
       "Slip road             68\n",
       "Name: Number_of_Casualties, dtype: int64"
      ]
     },
     "execution_count": 37,
     "metadata": {},
     "output_type": "execute_result"
    }
   ],
   "source": [
    "accident.groupby('Road_Type')['Number_of_Casualties'].max()"
   ]
  },
  {
   "cell_type": "markdown",
   "id": "4793c6a6-4aee-42b2-9048-c57738adf5da",
   "metadata": {},
   "source": [
    "<h1>Insight No.13</h1>\n",
    "<h2>The code will show the highest number of casualties for each road type. This helps identify which road types, like highways or rural roads, might need more safety measures to prevent severe accidents.</h2>"
   ]
  },
  {
   "cell_type": "markdown",
   "id": "c8e9f4ac-6a4a-4ed1-b5d5-5c4059a91911",
   "metadata": {},
   "source": [
    "<h1>Question 14</h1>\n",
    "<h2>What is the road type that most accident happened?</h2>"
   ]
  },
  {
   "cell_type": "code",
   "execution_count": 38,
   "id": "15ed1355-69ba-4d27-b92e-dffca4c3b95e",
   "metadata": {},
   "outputs": [
    {
     "data": {
      "text/plain": [
       "Road_Type\n",
       "Single carriageway    496663\n",
       "Dual carriageway       99424\n",
       "Roundabout             43992\n",
       "One way street         13559\n",
       "Slip road               7041\n",
       "Name: count, dtype: int64"
      ]
     },
     "execution_count": 38,
     "metadata": {},
     "output_type": "execute_result"
    }
   ],
   "source": [
    "accident['Road_Type'].value_counts()"
   ]
  },
  {
   "cell_type": "markdown",
   "id": "fb6f4739-1d9b-490f-918c-48c9c005950e",
   "metadata": {},
   "source": [
    "<h1>Inisght No. 14</h1>\n",
    "<h2>The most road type that accident mostly happen is Single Carriageway</h2>"
   ]
  },
  {
   "cell_type": "markdown",
   "id": "2bbd5ffa-c4e0-40ca-8dd5-b061926fd9e4",
   "metadata": {},
   "source": [
    "<h1>Question 15</h1>\n",
    "<h2>What is the mean Number of Vehicles by Weather Conditions for each Accident Severity?</h2>"
   ]
  },
  {
   "cell_type": "code",
   "execution_count": 39,
   "id": "5891ecf1-05b6-4dee-a09a-4eb8ba7e7b74",
   "metadata": {},
   "outputs": [
    {
     "data": {
      "text/plain": [
       "Weather_Conditions     Accident_Severity\n",
       "Fine + high winds      Fatal                1.725714\n",
       "                       Serious              1.600803\n",
       "                       Slight               1.811887\n",
       "Fine no high winds     Fatal                1.793662\n",
       "                       Serious              1.685451\n",
       "                       Slight               1.862188\n",
       "Fog or mist            Fatal                2.304878\n",
       "                       Serious              1.747412\n",
       "                       Slight               1.803915\n",
       "Other                  Fatal                1.715152\n",
       "                       Serious              1.622987\n",
       "                       Slight               1.796694\n",
       "Raining + high winds   Fatal                1.765517\n",
       "                       Serious              1.563838\n",
       "                       Slight               1.811061\n",
       "Raining no high winds  Fatal                1.737028\n",
       "                       Serious              1.672159\n",
       "                       Slight               1.854526\n",
       "Snowing + high winds   Fatal                1.000000\n",
       "                       Serious              1.770642\n",
       "                       Slight               1.736093\n",
       "Snowing no high winds  Fatal                1.777778\n",
       "                       Serious              1.578761\n",
       "                       Slight               1.772397\n",
       "unaccounted            Fatal                1.607477\n",
       "                       Serious              1.596449\n",
       "                       Slight               1.824284\n",
       "Name: Number_of_Vehicles, dtype: float64"
      ]
     },
     "execution_count": 39,
     "metadata": {},
     "output_type": "execute_result"
    }
   ],
   "source": [
    "accident.groupby(['Weather_Conditions', 'Accident_Severity'])['Number_of_Vehicles'].mean()"
   ]
  },
  {
   "cell_type": "markdown",
   "id": "0045a7bb-fd03-427f-bc2f-d4940c354687",
   "metadata": {},
   "source": [
    "<h1>Insight No.15</h1>\n",
    "<h2>In clear weather, accidents tend to involve fewer vehicles, while fog increases the number of vehicles in fatal accidents, and rain leads to more vehicles in minor accidents due to slippery roads and reduced visibility.</h2>"
   ]
  },
  {
   "cell_type": "markdown",
   "id": "4c033dad-33d6-4138-9e6b-3a68214a7f80",
   "metadata": {},
   "source": [
    "<h1>Question 16</h1>\n",
    "<h2>What are the top 5 District Area values by the number of accidents ?</h2>"
   ]
  },
  {
   "cell_type": "code",
   "execution_count": 40,
   "id": "a56580fe-d796-44c0-9bc9-1454115504fe",
   "metadata": {},
   "outputs": [
    {
     "data": {
      "text/plain": [
       "District Area\n",
       "Birmingham    13491\n",
       "Leeds          8898\n",
       "Manchester     6720\n",
       "Bradford       6212\n",
       "Sheffield      5710\n",
       "Name: count, dtype: int64"
      ]
     },
     "execution_count": 40,
     "metadata": {},
     "output_type": "execute_result"
    }
   ],
   "source": [
    "accident['District Area'].value_counts().head(5)"
   ]
  },
  {
   "cell_type": "markdown",
   "id": "d57da1bc-b49b-4f09-b1fe-4be5ebd320cf",
   "metadata": {},
   "source": [
    "<h1>Insight No.16</h1>\n",
    "<h2>The Top 5 District Area values by number of accident include Birmingham, Leeds, Manchester, Bradford, and Sheffield</h2>"
   ]
  },
  {
   "cell_type": "code",
   "execution_count": 41,
   "id": "0a400cf8-5cd8-411a-ae1c-e7cb2f50fbbc",
   "metadata": {},
   "outputs": [
    {
     "data": {
      "text/plain": [
       "Road_Type\n",
       "Single carriageway    496663\n",
       "Dual carriageway       99424\n",
       "Roundabout             43992\n",
       "One way street         13559\n",
       "Slip road               7041\n",
       "Name: count, dtype: int64"
      ]
     },
     "execution_count": 41,
     "metadata": {},
     "output_type": "execute_result"
    }
   ],
   "source": [
    "accident['Road_Type'].value_counts()"
   ]
  },
  {
   "cell_type": "code",
   "execution_count": 42,
   "id": "4d2eb4ae-c7b7-4bf7-8724-38322223ac31",
   "metadata": {},
   "outputs": [
    {
     "data": {
      "text/plain": [
       "Index                              object\n",
       "Accident_Severity                  object\n",
       "Accident Date              datetime64[ns]\n",
       "Latitude                          float64\n",
       "Light_Conditions                   object\n",
       "District Area                      object\n",
       "Longitude                         float64\n",
       "Number_of_Casualties                int64\n",
       "Number_of_Vehicles                  int64\n",
       "Road_Surface_Conditions            object\n",
       "Road_Type                          object\n",
       "Urban_or_Rural_Area               float64\n",
       "Weather_Conditions                 object\n",
       "Vehicle_Type                       object\n",
       "dtype: object"
      ]
     },
     "execution_count": 42,
     "metadata": {},
     "output_type": "execute_result"
    }
   ],
   "source": [
    "accident.dtypes"
   ]
  },
  {
   "cell_type": "code",
   "execution_count": 43,
   "id": "dd30b2b3-646e-4e32-836b-7ac79f0bcbce",
   "metadata": {},
   "outputs": [
    {
     "data": {
      "text/plain": [
       "Weather_Conditions\n",
       "Fine no high winds       520885\n",
       "Raining no high winds     79696\n",
       "Other                     17150\n",
       "unaccounted               14128\n",
       "Raining + high winds       9615\n",
       "Fine + high winds          8554\n",
       "Snowing no high winds      6238\n",
       "Fog or mist                3528\n",
       "Snowing + high winds        885\n",
       "Name: count, dtype: int64"
      ]
     },
     "execution_count": 43,
     "metadata": {},
     "output_type": "execute_result"
    }
   ],
   "source": [
    "accident['Weather_Conditions'].value_counts()"
   ]
  },
  {
   "cell_type": "markdown",
   "id": "16390d26-302e-4852-b259-c1f822f54301",
   "metadata": {},
   "source": [
    "<h1>Question 17</h1>\n",
    "<h2>What is the average number of casualties based on the accident severity?</h2>"
   ]
  },
  {
   "cell_type": "code",
   "execution_count": 44,
   "id": "c2c4338f-6cf3-466e-9c7c-4a149e26fb68",
   "metadata": {},
   "outputs": [
    {
     "data": {
      "text/plain": [
       "Accident_Severity\n",
       "Fatal      1.903129\n",
       "Serious    1.467280\n",
       "Slight     1.331402\n",
       "Name: Number_of_Casualties, dtype: float64"
      ]
     },
     "execution_count": 44,
     "metadata": {},
     "output_type": "execute_result"
    }
   ],
   "source": [
    "accident.groupby('Accident_Severity')['Number_of_Casualties'].mean()"
   ]
  },
  {
   "cell_type": "markdown",
   "id": "fd7bf787-d484-44b9-a50c-3a0334c6561e",
   "metadata": {},
   "source": [
    "<h1>Insight No.17</h1>\n",
    "<h2>Higher severity accidents will likely have more casualties on average. This helps in understanding the impact of accident severity on casualties and allows for more focused prevention efforts in severe accident types</h2>"
   ]
  },
  {
   "cell_type": "code",
   "execution_count": 45,
   "id": "dd50070d-a930-4681-98a0-88bf472ab9ed",
   "metadata": {},
   "outputs": [
    {
     "data": {
      "text/plain": [
       "np.int64(0)"
      ]
     },
     "execution_count": 45,
     "metadata": {},
     "output_type": "execute_result"
    }
   ],
   "source": [
    "accident['Number_of_Vehicles'].isnull().sum()"
   ]
  },
  {
   "cell_type": "markdown",
   "id": "0a9a0b35-99a2-42e2-95d5-fbaae833a026",
   "metadata": {},
   "source": [
    "<h1>Question 18</h1>\n",
    "<h2>Do urban or rural areas have more accidents based on the number of casualties?</h2>"
   ]
  },
  {
   "cell_type": "code",
   "execution_count": 46,
   "id": "a05c3bb6-cc2f-4596-b4f0-2a1af2e8c559",
   "metadata": {},
   "outputs": [
    {
     "data": {
      "text/plain": [
       "Urban_or_Rural_Area\n",
       "49.914430    1.0\n",
       "49.914488    1.0\n",
       "49.914949    1.0\n",
       "49.915159    1.0\n",
       "49.915730    1.0\n",
       "            ... \n",
       "60.648412    1.0\n",
       "60.665748    1.0\n",
       "60.668921    1.0\n",
       "60.714772    1.0\n",
       "60.757544    1.0\n",
       "Name: Number_of_Casualties, Length: 511618, dtype: float64"
      ]
     },
     "execution_count": 46,
     "metadata": {},
     "output_type": "execute_result"
    }
   ],
   "source": [
    "accident.groupby('Urban_or_Rural_Area')['Number_of_Casualties'].mean()"
   ]
  },
  {
   "cell_type": "markdown",
   "id": "4c66c108-00e2-471b-bf3c-8d119f2d28ca",
   "metadata": {},
   "source": [
    "<h1>Insight No.18</h1>\n",
    "<h2>Rural areas might have higher casualties due to higher speeds or fewer emergency services, while urban areas might have a larger number of accidents overall. This insight can help allocate resources to improve safety in both areas.</h2>"
   ]
  },
  {
   "cell_type": "code",
   "execution_count": 47,
   "id": "26c4b3da-c938-4da2-b57e-0ebf4cb2543f",
   "metadata": {},
   "outputs": [
    {
     "data": {
      "text/plain": [
       "Light_Conditions\n",
       "Daylight                       484880\n",
       "Darkness - lights lit          129335\n",
       "Darkness - no lighting          37437\n",
       "Darkness - lighting unknown      6484\n",
       "Darkness - lights unlit          2543\n",
       "Name: count, dtype: int64"
      ]
     },
     "execution_count": 47,
     "metadata": {},
     "output_type": "execute_result"
    }
   ],
   "source": [
    "accident['Light_Conditions'].value_counts()"
   ]
  },
  {
   "cell_type": "markdown",
   "id": "bcb009b9-92f1-47e8-abc9-4aeb29dec9ff",
   "metadata": {},
   "source": [
    "<h1>Question 19</h1>\n",
    "<h2>Do accident severities differ across different districts?</h2>"
   ]
  },
  {
   "cell_type": "code",
   "execution_count": 48,
   "id": "3aaa575e-9336-4fa7-9b9b-0debcd836686",
   "metadata": {},
   "outputs": [
    {
     "data": {
      "text/html": [
       "<div>\n",
       "<style scoped>\n",
       "    .dataframe tbody tr th:only-of-type {\n",
       "        vertical-align: middle;\n",
       "    }\n",
       "\n",
       "    .dataframe tbody tr th {\n",
       "        vertical-align: top;\n",
       "    }\n",
       "\n",
       "    .dataframe thead th {\n",
       "        text-align: right;\n",
       "    }\n",
       "</style>\n",
       "<table border=\"1\" class=\"dataframe\">\n",
       "  <thead>\n",
       "    <tr style=\"text-align: right;\">\n",
       "      <th>Accident_Severity</th>\n",
       "      <th>Fatal</th>\n",
       "      <th>Serious</th>\n",
       "      <th>Slight</th>\n",
       "    </tr>\n",
       "    <tr>\n",
       "      <th>District Area</th>\n",
       "      <th></th>\n",
       "      <th></th>\n",
       "      <th></th>\n",
       "    </tr>\n",
       "  </thead>\n",
       "  <tbody>\n",
       "    <tr>\n",
       "      <th>Aberdeen City</th>\n",
       "      <td>0.009070</td>\n",
       "      <td>0.180650</td>\n",
       "      <td>0.810280</td>\n",
       "    </tr>\n",
       "    <tr>\n",
       "      <th>Aberdeenshire</th>\n",
       "      <td>0.034197</td>\n",
       "      <td>0.239896</td>\n",
       "      <td>0.725907</td>\n",
       "    </tr>\n",
       "    <tr>\n",
       "      <th>Adur</th>\n",
       "      <td>0.012924</td>\n",
       "      <td>0.163166</td>\n",
       "      <td>0.823910</td>\n",
       "    </tr>\n",
       "    <tr>\n",
       "      <th>Allerdale</th>\n",
       "      <td>0.021277</td>\n",
       "      <td>0.126773</td>\n",
       "      <td>0.851950</td>\n",
       "    </tr>\n",
       "    <tr>\n",
       "      <th>Alnwick</th>\n",
       "      <td>0.025862</td>\n",
       "      <td>0.142241</td>\n",
       "      <td>0.831897</td>\n",
       "    </tr>\n",
       "    <tr>\n",
       "      <th>...</th>\n",
       "      <td>...</td>\n",
       "      <td>...</td>\n",
       "      <td>...</td>\n",
       "    </tr>\n",
       "    <tr>\n",
       "      <th>Wychavon</th>\n",
       "      <td>0.022043</td>\n",
       "      <td>0.141807</td>\n",
       "      <td>0.836150</td>\n",
       "    </tr>\n",
       "    <tr>\n",
       "      <th>Wycombe</th>\n",
       "      <td>0.011567</td>\n",
       "      <td>0.124928</td>\n",
       "      <td>0.863505</td>\n",
       "    </tr>\n",
       "    <tr>\n",
       "      <th>Wyre</th>\n",
       "      <td>0.012116</td>\n",
       "      <td>0.150242</td>\n",
       "      <td>0.837641</td>\n",
       "    </tr>\n",
       "    <tr>\n",
       "      <th>Wyre Forest</th>\n",
       "      <td>0.022704</td>\n",
       "      <td>0.136223</td>\n",
       "      <td>0.841073</td>\n",
       "    </tr>\n",
       "    <tr>\n",
       "      <th>York</th>\n",
       "      <td>0.011070</td>\n",
       "      <td>0.134423</td>\n",
       "      <td>0.854507</td>\n",
       "    </tr>\n",
       "  </tbody>\n",
       "</table>\n",
       "<p>422 rows × 3 columns</p>\n",
       "</div>"
      ],
      "text/plain": [
       "Accident_Severity     Fatal   Serious    Slight\n",
       "District Area                                  \n",
       "Aberdeen City      0.009070  0.180650  0.810280\n",
       "Aberdeenshire      0.034197  0.239896  0.725907\n",
       "Adur               0.012924  0.163166  0.823910\n",
       "Allerdale          0.021277  0.126773  0.851950\n",
       "Alnwick            0.025862  0.142241  0.831897\n",
       "...                     ...       ...       ...\n",
       "Wychavon           0.022043  0.141807  0.836150\n",
       "Wycombe            0.011567  0.124928  0.863505\n",
       "Wyre               0.012116  0.150242  0.837641\n",
       "Wyre Forest        0.022704  0.136223  0.841073\n",
       "York               0.011070  0.134423  0.854507\n",
       "\n",
       "[422 rows x 3 columns]"
      ]
     },
     "execution_count": 48,
     "metadata": {},
     "output_type": "execute_result"
    }
   ],
   "source": [
    "district_severity = accident.groupby('District Area')['Accident_Severity'].value_counts(normalize=True).unstack()\n",
    "district_severity"
   ]
  },
  {
   "cell_type": "markdown",
   "id": "7fc0ef02-b76e-43d1-bd02-efdb1e2dd0c1",
   "metadata": {},
   "source": [
    "<h1>Insight No.19</h1>\n",
    "<h2>By examining the distribution of accident severity across districts, you can identify areas that are disproportionately affected by severe accidents. This can inform targeted road safety interventions, such as better infrastructure or traffic management.</h2>"
   ]
  },
  {
   "cell_type": "markdown",
   "id": "351ac1a9-d924-4a31-91e0-cdf66deaeaef",
   "metadata": {},
   "source": [
    "<h1>Question 20</h1>\n",
    "<h2>Is there a significant difference in the Road Type across different Number of Casualties?</h2>"
   ]
  },
  {
   "cell_type": "code",
   "execution_count": 49,
   "id": "065cea82-9aa9-4090-8a60-fee7e2ffee33",
   "metadata": {},
   "outputs": [
    {
     "data": {
      "text/plain": [
       "np.float64(0.0)"
      ]
     },
     "execution_count": 49,
     "metadata": {},
     "output_type": "execute_result"
    }
   ],
   "source": [
    "f_stats, p_value = f_oneway(\n",
    "    accident[accident['Road_Type'] == 'Single carriageway']['Number_of_Casualties'],\n",
    "    accident[accident['Road_Type'] == 'Dual carriageway']['Number_of_Casualties'],\n",
    "    accident[accident['Road_Type'] == 'Roundabout']['Number_of_Casualties'],\n",
    "    accident[accident['Road_Type'] == 'One way street']['Number_of_Casualties'],\n",
    "    accident[accident['Road_Type'] == 'Slip road']['Number_of_Casualties']\n",
    ")\n",
    "p_value"
   ]
  },
  {
   "cell_type": "markdown",
   "id": "0f0b0ece-cd7b-4a52-8796-6ef13f4ec5a7",
   "metadata": {},
   "source": [
    "<h1>Insight No.20</h1>\n",
    "<h2>There is no significant difference between Road Type and Number of Casualties</h2>"
   ]
  },
  {
   "cell_type": "code",
   "execution_count": 50,
   "id": "39e7b78a-6abc-4f49-b7e0-3c95c63f3baf",
   "metadata": {},
   "outputs": [
    {
     "data": {
      "text/plain": [
       "Weather_Conditions\n",
       "Fine no high winds       520885\n",
       "Raining no high winds     79696\n",
       "Other                     17150\n",
       "unaccounted               14128\n",
       "Raining + high winds       9615\n",
       "Fine + high winds          8554\n",
       "Snowing no high winds      6238\n",
       "Fog or mist                3528\n",
       "Snowing + high winds        885\n",
       "Name: count, dtype: int64"
      ]
     },
     "execution_count": 50,
     "metadata": {},
     "output_type": "execute_result"
    }
   ],
   "source": [
    "accident['Weather_Conditions'].value_counts()"
   ]
  },
  {
   "cell_type": "code",
   "execution_count": 51,
   "id": "e44cfc57-052e-4a9c-a55a-3f6c6acbdfae",
   "metadata": {},
   "outputs": [
    {
     "data": {
      "text/plain": [
       "Index                              object\n",
       "Accident_Severity                  object\n",
       "Accident Date              datetime64[ns]\n",
       "Latitude                          float64\n",
       "Light_Conditions                   object\n",
       "District Area                      object\n",
       "Longitude                         float64\n",
       "Number_of_Casualties                int64\n",
       "Number_of_Vehicles                  int64\n",
       "Road_Surface_Conditions            object\n",
       "Road_Type                          object\n",
       "Urban_or_Rural_Area               float64\n",
       "Weather_Conditions                 object\n",
       "Vehicle_Type                       object\n",
       "dtype: object"
      ]
     },
     "execution_count": 51,
     "metadata": {},
     "output_type": "execute_result"
    }
   ],
   "source": [
    "accident.dtypes"
   ]
  },
  {
   "cell_type": "markdown",
   "id": "f4357f51-a5b2-4f3f-9314-d12acb6e659f",
   "metadata": {},
   "source": [
    "<h1>Question No.21</h1>\n",
    "<h2>Is there a significant difference in the number of casualties based on vehicle types?</h2>"
   ]
  },
  {
   "cell_type": "code",
   "execution_count": 52,
   "id": "7f8ac4af-b1f0-437f-87e2-ac957570bd30",
   "metadata": {},
   "outputs": [
    {
     "data": {
      "text/plain": [
       "(np.float64(nan), np.float64(nan))"
      ]
     },
     "execution_count": 52,
     "metadata": {},
     "output_type": "execute_result"
    }
   ],
   "source": [
    "f_stat_vehicle_type, p_value_vehicle_type = f_oneway(\n",
    "    accident[accident['Vehicle_Type'] == 'Car']['Number_of_Casualties'],\n",
    "    accident[accident['Vehicle_Type'] == 'Van / Goods 3.5 tonnes mgw or under']['Number_of_Casualties'],\n",
    "    accident[accident['Vehicle_Type'] == 'Motorcycle over 500cc']['Number_of_Casualties'],\n",
    "    accident[accident['Vehicle_Type'] == 'Goods 7.5 tonnes mgw and over']['Number_of_Casualties'],\n",
    "    accident[accident['Vehicle_Type'] == 'Taxi/Private hire car']['Number_of_Casualties'],\n",
    "    accident[accident['Vehicle_Type'] == 'Motorcycle over 125cc and up to 500cc']['Number_of_Casualties'],\n",
    "    accident[accident['Vehicle_Type'] == 'Motorcycle 50cc and under']['Number_of_Casualties'],\n",
    "    accident[accident['Vehicle_Type'] == 'Goods over 3.5t. and under 7.5t']['Number_of_Casualties'],\n",
    "    accident[accident['Vehicle_Type'] == 'Other vehicle ']['Number_of_Casualties'],\n",
    "    accident[accident['Vehicle_Type'] == 'Minibus (8 - 16 passenger seats)']['Number_of_Casualties'],\n",
    "    accident[accident['Vehicle_Type'] == 'Agricultural vehicle']['Number_of_Casualties'],\n",
    "    accident[accident['Vehicle_Type'] == 'Pedal cycle']['Number_of_Casualties'],\n",
    "    accident[accident['Vehicle_Type'] == 'Data missing or out of range ']['Number_of_Casualties'],\n",
    "    accident[accident['Vehicle_Type'] == 'Ridden horse']['Number_of_Casualties']\n",
    ")\n",
    "\n",
    "f_stat_vehicle_type, p_value_vehicle_type"
   ]
  },
  {
   "cell_type": "markdown",
   "id": "4e7eaf55-33a4-43cf-b957-e68c8ad4db7a",
   "metadata": {},
   "source": [
    "<h1>Insight No.21</h1>\n",
    "<h2>There is no significant difference in the number of casualties and Vehicle Type!</h2>"
   ]
  },
  {
   "cell_type": "code",
   "execution_count": 53,
   "id": "8c5d0cd7-f141-421f-a73f-e69f075596b2",
   "metadata": {},
   "outputs": [
    {
     "data": {
      "text/plain": [
       "np.int64(0)"
      ]
     },
     "execution_count": 53,
     "metadata": {},
     "output_type": "execute_result"
    }
   ],
   "source": [
    "accident['Vehicle_Type'].isnull().sum()"
   ]
  },
  {
   "cell_type": "code",
   "execution_count": 54,
   "id": "095c46ed-e27f-4aa2-80f2-dcc2048459a6",
   "metadata": {},
   "outputs": [
    {
     "data": {
      "text/plain": [
       "np.int64(0)"
      ]
     },
     "execution_count": 54,
     "metadata": {},
     "output_type": "execute_result"
    }
   ],
   "source": [
    "accident['Number_of_Casualties'].isnull().sum()"
   ]
  },
  {
   "cell_type": "code",
   "execution_count": 55,
   "id": "22881639-3ef9-4509-a961-5163e7de514c",
   "metadata": {},
   "outputs": [
    {
     "data": {
      "text/plain": [
       "Accident_Severity\n",
       "Slight     563801\n",
       "Serious     88217\n",
       "Fatal        8661\n",
       "Name: count, dtype: int64"
      ]
     },
     "execution_count": 55,
     "metadata": {},
     "output_type": "execute_result"
    }
   ],
   "source": [
    "accident['Accident_Severity'].value_counts()"
   ]
  },
  {
   "cell_type": "markdown",
   "id": "9e15d854-a5ce-4faf-b8e8-b1111a598217",
   "metadata": {},
   "source": [
    "<h1>Question 22</h1>\n",
    "<h1>Is there a significant difference in the number of casualties based on accident severity?</h1>"
   ]
  },
  {
   "cell_type": "code",
   "execution_count": 56,
   "id": "5d599b04-6846-475c-8bfa-91e70b7b7f31",
   "metadata": {},
   "outputs": [
    {
     "data": {
      "text/plain": [
       "(np.float64(2985.016431113979), np.float64(0.0))"
      ]
     },
     "execution_count": 56,
     "metadata": {},
     "output_type": "execute_result"
    }
   ],
   "source": [
    "f_stat, p_value = f_oneway(\n",
    "    accident[accident['Accident_Severity'] == 'Slight']['Number_of_Casualties'],\n",
    "    accident[accident['Accident_Severity'] == 'Serious']['Number_of_Casualties'],\n",
    "    accident[accident['Accident_Severity'] == 'Fatal']['Number_of_Casualties']\n",
    ")\n",
    "\n",
    "f_stat, p_value"
   ]
  },
  {
   "cell_type": "markdown",
   "id": "261b11ca-0769-4ffc-80dc-c74f291d7244",
   "metadata": {},
   "source": [
    "<h1>Insight No.22</h1>\n",
    "<h2>If the p-value is significant, it means that accidents of different severities involve different numbers of vehicles. For example, fatal accidents might involve more vehicles than slight accidents.</h2>"
   ]
  },
  {
   "cell_type": "markdown",
   "id": "0544b416-91ee-4dfc-baf6-feac124b6b41",
   "metadata": {},
   "source": [
    "<h1>Question No.23</h1>\n",
    "<h2>Does the road surface condition affect accident severity?</h2>"
   ]
  },
  {
   "cell_type": "code",
   "execution_count": 57,
   "id": "cb22a2e6-a598-4796-8536-4aacfd1f5612",
   "metadata": {},
   "outputs": [
    {
     "ename": "TypeError",
     "evalue": "unsupported operand type(s) for /: 'str' and 'int'",
     "output_type": "error",
     "traceback": [
      "\u001b[1;31m---------------------------------------------------------------------------\u001b[0m",
      "\u001b[1;31mTypeError\u001b[0m                                 Traceback (most recent call last)",
      "Cell \u001b[1;32mIn[57], line 1\u001b[0m\n\u001b[1;32m----> 1\u001b[0m f_stat, p_value \u001b[38;5;241m=\u001b[39m \u001b[43mf_oneway\u001b[49m\u001b[43m(\u001b[49m\n\u001b[0;32m      2\u001b[0m \u001b[43m    \u001b[49m\u001b[43maccident\u001b[49m\u001b[43m[\u001b[49m\u001b[43maccident\u001b[49m\u001b[43m[\u001b[49m\u001b[38;5;124;43m'\u001b[39;49m\u001b[38;5;124;43mRoad_Surface_Conditions\u001b[39;49m\u001b[38;5;124;43m'\u001b[39;49m\u001b[43m]\u001b[49m\u001b[43m \u001b[49m\u001b[38;5;241;43m==\u001b[39;49m\u001b[43m \u001b[49m\u001b[38;5;124;43m'\u001b[39;49m\u001b[38;5;124;43mDry\u001b[39;49m\u001b[38;5;124;43m'\u001b[39;49m\u001b[43m]\u001b[49m\u001b[43m[\u001b[49m\u001b[38;5;124;43m'\u001b[39;49m\u001b[38;5;124;43mAccident_Severity\u001b[39;49m\u001b[38;5;124;43m'\u001b[39;49m\u001b[43m]\u001b[49m\u001b[43m,\u001b[49m\n\u001b[0;32m      3\u001b[0m \u001b[43m    \u001b[49m\u001b[43maccident\u001b[49m\u001b[43m[\u001b[49m\u001b[43maccident\u001b[49m\u001b[43m[\u001b[49m\u001b[38;5;124;43m'\u001b[39;49m\u001b[38;5;124;43mRoad_Surface_Conditions\u001b[39;49m\u001b[38;5;124;43m'\u001b[39;49m\u001b[43m]\u001b[49m\u001b[43m \u001b[49m\u001b[38;5;241;43m==\u001b[39;49m\u001b[43m \u001b[49m\u001b[38;5;124;43m'\u001b[39;49m\u001b[38;5;124;43mWet or damp\u001b[39;49m\u001b[38;5;124;43m'\u001b[39;49m\u001b[43m]\u001b[49m\u001b[43m[\u001b[49m\u001b[38;5;124;43m'\u001b[39;49m\u001b[38;5;124;43mAccident_Severity\u001b[39;49m\u001b[38;5;124;43m'\u001b[39;49m\u001b[43m]\u001b[49m\u001b[43m,\u001b[49m\n\u001b[0;32m      4\u001b[0m \u001b[43m    \u001b[49m\u001b[43maccident\u001b[49m\u001b[43m[\u001b[49m\u001b[43maccident\u001b[49m\u001b[43m[\u001b[49m\u001b[38;5;124;43m'\u001b[39;49m\u001b[38;5;124;43mRoad_Surface_Conditions\u001b[39;49m\u001b[38;5;124;43m'\u001b[39;49m\u001b[43m]\u001b[49m\u001b[43m \u001b[49m\u001b[38;5;241;43m==\u001b[39;49m\u001b[43m \u001b[49m\u001b[38;5;124;43m'\u001b[39;49m\u001b[38;5;124;43mFrost or ice\u001b[39;49m\u001b[38;5;124;43m'\u001b[39;49m\u001b[43m]\u001b[49m\u001b[43m[\u001b[49m\u001b[38;5;124;43m'\u001b[39;49m\u001b[38;5;124;43mAccident_Severity\u001b[39;49m\u001b[38;5;124;43m'\u001b[39;49m\u001b[43m]\u001b[49m\u001b[43m,\u001b[49m\n\u001b[0;32m      5\u001b[0m \u001b[43m    \u001b[49m\u001b[43maccident\u001b[49m\u001b[43m[\u001b[49m\u001b[43maccident\u001b[49m\u001b[43m[\u001b[49m\u001b[38;5;124;43m'\u001b[39;49m\u001b[38;5;124;43mRoad_Surface_Conditions\u001b[39;49m\u001b[38;5;124;43m'\u001b[39;49m\u001b[43m]\u001b[49m\u001b[43m \u001b[49m\u001b[38;5;241;43m==\u001b[39;49m\u001b[43m \u001b[49m\u001b[38;5;124;43m'\u001b[39;49m\u001b[38;5;124;43mSnow\u001b[39;49m\u001b[38;5;124;43m'\u001b[39;49m\u001b[43m]\u001b[49m\u001b[43m[\u001b[49m\u001b[38;5;124;43m'\u001b[39;49m\u001b[38;5;124;43mAccident_Severity\u001b[39;49m\u001b[38;5;124;43m'\u001b[39;49m\u001b[43m]\u001b[49m\u001b[43m,\u001b[49m\n\u001b[0;32m      6\u001b[0m \u001b[43m    \u001b[49m\u001b[43maccident\u001b[49m\u001b[43m[\u001b[49m\u001b[43maccident\u001b[49m\u001b[43m[\u001b[49m\u001b[38;5;124;43m'\u001b[39;49m\u001b[38;5;124;43mRoad_Surface_Conditions\u001b[39;49m\u001b[38;5;124;43m'\u001b[39;49m\u001b[43m]\u001b[49m\u001b[43m \u001b[49m\u001b[38;5;241;43m==\u001b[39;49m\u001b[43m \u001b[49m\u001b[38;5;124;43m'\u001b[39;49m\u001b[38;5;124;43mFlood over 3cm. deep\u001b[39;49m\u001b[38;5;124;43m'\u001b[39;49m\u001b[43m]\u001b[49m\u001b[43m[\u001b[49m\u001b[38;5;124;43m'\u001b[39;49m\u001b[38;5;124;43mAccident_Severity\u001b[39;49m\u001b[38;5;124;43m'\u001b[39;49m\u001b[43m]\u001b[49m\n\u001b[0;32m      7\u001b[0m \u001b[43m)\u001b[49m\n\u001b[0;32m      9\u001b[0m p_value\n",
      "File \u001b[1;32m~\\AppData\\Local\\Packages\\PythonSoftwareFoundation.Python.3.13_qbz5n2kfra8p0\\LocalCache\\local-packages\\Python313\\site-packages\\scipy\\stats\\_axis_nan_policy.py:586\u001b[0m, in \u001b[0;36m_axis_nan_policy_factory.<locals>.axis_nan_policy_decorator.<locals>.axis_nan_policy_wrapper\u001b[1;34m(***failed resolving arguments***)\u001b[0m\n\u001b[0;32m    583\u001b[0m     res \u001b[38;5;241m=\u001b[39m _add_reduced_axes(res, reduced_axes, keepdims)\n\u001b[0;32m    584\u001b[0m     \u001b[38;5;28;01mreturn\u001b[39;00m tuple_to_result(\u001b[38;5;241m*\u001b[39mres)\n\u001b[1;32m--> 586\u001b[0m res \u001b[38;5;241m=\u001b[39m \u001b[43mhypotest_fun_out\u001b[49m\u001b[43m(\u001b[49m\u001b[38;5;241;43m*\u001b[39;49m\u001b[43msamples\u001b[49m\u001b[43m,\u001b[49m\u001b[43m \u001b[49m\u001b[38;5;241;43m*\u001b[39;49m\u001b[38;5;241;43m*\u001b[39;49m\u001b[43mkwds\u001b[49m\u001b[43m)\u001b[49m\n\u001b[0;32m    587\u001b[0m res \u001b[38;5;241m=\u001b[39m result_to_tuple(res, n_out)\n\u001b[0;32m    588\u001b[0m res \u001b[38;5;241m=\u001b[39m _add_reduced_axes(res, reduced_axes, keepdims)\n",
      "File \u001b[1;32m~\\AppData\\Local\\Packages\\PythonSoftwareFoundation.Python.3.13_qbz5n2kfra8p0\\LocalCache\\local-packages\\Python313\\site-packages\\scipy\\stats\\_stats_py.py:3903\u001b[0m, in \u001b[0;36mf_oneway\u001b[1;34m(axis, *samples)\u001b[0m\n\u001b[0;32m   3897\u001b[0m all_same_const \u001b[38;5;241m=\u001b[39m (_first(alldata, axis) \u001b[38;5;241m==\u001b[39m alldata)\u001b[38;5;241m.\u001b[39mall(axis\u001b[38;5;241m=\u001b[39maxis)\n\u001b[0;32m   3899\u001b[0m \u001b[38;5;66;03m# Determine the mean of the data, and subtract that from all inputs to a\u001b[39;00m\n\u001b[0;32m   3900\u001b[0m \u001b[38;5;66;03m# variance (via sum_of_sq / sq_of_sum) calculation.  Variance is invariant\u001b[39;00m\n\u001b[0;32m   3901\u001b[0m \u001b[38;5;66;03m# to a shift in location, and centering all data around zero vastly\u001b[39;00m\n\u001b[0;32m   3902\u001b[0m \u001b[38;5;66;03m# improves numerical stability.\u001b[39;00m\n\u001b[1;32m-> 3903\u001b[0m offset \u001b[38;5;241m=\u001b[39m \u001b[43malldata\u001b[49m\u001b[38;5;241;43m.\u001b[39;49m\u001b[43mmean\u001b[49m\u001b[43m(\u001b[49m\u001b[43maxis\u001b[49m\u001b[38;5;241;43m=\u001b[39;49m\u001b[43maxis\u001b[49m\u001b[43m,\u001b[49m\u001b[43m \u001b[49m\u001b[43mkeepdims\u001b[49m\u001b[38;5;241;43m=\u001b[39;49m\u001b[38;5;28;43;01mTrue\u001b[39;49;00m\u001b[43m)\u001b[49m\n\u001b[0;32m   3904\u001b[0m alldata \u001b[38;5;241m=\u001b[39m alldata \u001b[38;5;241m-\u001b[39m offset\n\u001b[0;32m   3906\u001b[0m normalized_ss \u001b[38;5;241m=\u001b[39m _square_of_sums(alldata, axis\u001b[38;5;241m=\u001b[39maxis) \u001b[38;5;241m/\u001b[39m bign\n",
      "File \u001b[1;32m~\\AppData\\Local\\Packages\\PythonSoftwareFoundation.Python.3.13_qbz5n2kfra8p0\\LocalCache\\local-packages\\Python313\\site-packages\\numpy\\_core\\_methods.py:137\u001b[0m, in \u001b[0;36m_mean\u001b[1;34m(a, axis, dtype, out, keepdims, where)\u001b[0m\n\u001b[0;32m    135\u001b[0m ret \u001b[38;5;241m=\u001b[39m umr_sum(arr, axis, dtype, out, keepdims, where\u001b[38;5;241m=\u001b[39mwhere)\n\u001b[0;32m    136\u001b[0m \u001b[38;5;28;01mif\u001b[39;00m \u001b[38;5;28misinstance\u001b[39m(ret, mu\u001b[38;5;241m.\u001b[39mndarray):\n\u001b[1;32m--> 137\u001b[0m     ret \u001b[38;5;241m=\u001b[39m \u001b[43mum\u001b[49m\u001b[38;5;241;43m.\u001b[39;49m\u001b[43mtrue_divide\u001b[49m\u001b[43m(\u001b[49m\n\u001b[0;32m    138\u001b[0m \u001b[43m            \u001b[49m\u001b[43mret\u001b[49m\u001b[43m,\u001b[49m\u001b[43m \u001b[49m\u001b[43mrcount\u001b[49m\u001b[43m,\u001b[49m\u001b[43m \u001b[49m\u001b[43mout\u001b[49m\u001b[38;5;241;43m=\u001b[39;49m\u001b[43mret\u001b[49m\u001b[43m,\u001b[49m\u001b[43m \u001b[49m\u001b[43mcasting\u001b[49m\u001b[38;5;241;43m=\u001b[39;49m\u001b[38;5;124;43m'\u001b[39;49m\u001b[38;5;124;43munsafe\u001b[39;49m\u001b[38;5;124;43m'\u001b[39;49m\u001b[43m,\u001b[49m\u001b[43m \u001b[49m\u001b[43msubok\u001b[49m\u001b[38;5;241;43m=\u001b[39;49m\u001b[38;5;28;43;01mFalse\u001b[39;49;00m\u001b[43m)\u001b[49m\n\u001b[0;32m    139\u001b[0m     \u001b[38;5;28;01mif\u001b[39;00m is_float16_result \u001b[38;5;129;01mand\u001b[39;00m out \u001b[38;5;129;01mis\u001b[39;00m \u001b[38;5;28;01mNone\u001b[39;00m:\n\u001b[0;32m    140\u001b[0m         ret \u001b[38;5;241m=\u001b[39m arr\u001b[38;5;241m.\u001b[39mdtype\u001b[38;5;241m.\u001b[39mtype(ret)\n",
      "\u001b[1;31mTypeError\u001b[0m: unsupported operand type(s) for /: 'str' and 'int'"
     ]
    }
   ],
   "source": [
    "f_stat, p_value = f_oneway(\n",
    "    accident[accident['Road_Surface_Conditions'] == 'Dry']['Accident_Severity'],\n",
    "    accident[accident['Road_Surface_Conditions'] == 'Wet or damp']['Accident_Severity'],\n",
    "    accident[accident['Road_Surface_Conditions'] == 'Frost or ice']['Accident_Severity'],\n",
    "    accident[accident['Road_Surface_Conditions'] == 'Snow']['Accident_Severity'],\n",
    "    accident[accident['Road_Surface_Conditions'] == 'Flood over 3cm. deep']['Accident_Severity']\n",
    ")\n",
    "\n",
    "p_value"
   ]
  },
  {
   "cell_type": "markdown",
   "id": "8ff91433-79a1-448d-a39a-12f7a656119c",
   "metadata": {},
   "source": [
    "<h1>Insight No.23</h1>\n",
    "<h2></h2>"
   ]
  },
  {
   "cell_type": "code",
   "execution_count": null,
   "id": "bafc755d-ca8f-44a5-a3df-f8abfa71744d",
   "metadata": {},
   "outputs": [],
   "source": [
    "accident['Road_Surface_Conditions'].value_counts()"
   ]
  },
  {
   "cell_type": "code",
   "execution_count": null,
   "id": "a3bf060e-a203-45f4-8b32-e04ac26c2560",
   "metadata": {},
   "outputs": [],
   "source": []
  }
 ],
 "metadata": {
  "kernelspec": {
   "display_name": "Python 3 (ipykernel)",
   "language": "python",
   "name": "python3"
  },
  "language_info": {
   "codemirror_mode": {
    "name": "ipython",
    "version": 3
   },
   "file_extension": ".py",
   "mimetype": "text/x-python",
   "name": "python",
   "nbconvert_exporter": "python",
   "pygments_lexer": "ipython3",
   "version": "3.13.2"
  }
 },
 "nbformat": 4,
 "nbformat_minor": 5
}
